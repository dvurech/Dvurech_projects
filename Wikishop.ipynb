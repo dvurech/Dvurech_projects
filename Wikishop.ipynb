{
 "cells": [
  {
   "cell_type": "markdown",
   "metadata": {},
   "source": [
    "# Проект «Викишоп»"
   ]
  },
  {
   "cell_type": "markdown",
   "metadata": {},
   "source": [
    "## Описание задачи"
   ]
  },
  {
   "cell_type": "markdown",
   "metadata": {},
   "source": [
    "Магазину необходим инструмент, который будет искать токсичные комментарии и отправлять их на модерацию. Для этого предполагается использование модели машинного обучения"
   ]
  },
  {
   "cell_type": "code",
   "execution_count": 1,
   "metadata": {},
   "outputs": [
    {
     "name": "stdout",
     "output_type": "stream",
     "text": [
      "Requirement already satisfied: spacy in ./anaconda3/lib/python3.11/site-packages (3.7.4)\n",
      "Requirement already satisfied: spacy-legacy<3.1.0,>=3.0.11 in ./anaconda3/lib/python3.11/site-packages (from spacy) (3.0.12)\n",
      "Requirement already satisfied: spacy-loggers<2.0.0,>=1.0.0 in ./anaconda3/lib/python3.11/site-packages (from spacy) (1.0.5)\n",
      "Requirement already satisfied: murmurhash<1.1.0,>=0.28.0 in ./anaconda3/lib/python3.11/site-packages (from spacy) (1.0.10)\n",
      "Requirement already satisfied: cymem<2.1.0,>=2.0.2 in ./anaconda3/lib/python3.11/site-packages (from spacy) (2.0.8)\n",
      "Requirement already satisfied: preshed<3.1.0,>=3.0.2 in ./anaconda3/lib/python3.11/site-packages (from spacy) (3.0.9)\n",
      "Requirement already satisfied: thinc<8.3.0,>=8.2.2 in ./anaconda3/lib/python3.11/site-packages (from spacy) (8.2.3)\n",
      "Requirement already satisfied: wasabi<1.2.0,>=0.9.1 in ./anaconda3/lib/python3.11/site-packages (from spacy) (1.1.2)\n",
      "Requirement already satisfied: srsly<3.0.0,>=2.4.3 in ./anaconda3/lib/python3.11/site-packages (from spacy) (2.4.8)\n",
      "Requirement already satisfied: catalogue<2.1.0,>=2.0.6 in ./anaconda3/lib/python3.11/site-packages (from spacy) (2.0.10)\n",
      "Requirement already satisfied: weasel<0.4.0,>=0.1.0 in ./anaconda3/lib/python3.11/site-packages (from spacy) (0.3.4)\n",
      "Requirement already satisfied: typer<0.10.0,>=0.3.0 in ./anaconda3/lib/python3.11/site-packages (from spacy) (0.9.4)\n",
      "Requirement already satisfied: smart-open<7.0.0,>=5.2.1 in ./anaconda3/lib/python3.11/site-packages (from spacy) (5.2.1)\n",
      "Requirement already satisfied: tqdm<5.0.0,>=4.38.0 in ./anaconda3/lib/python3.11/site-packages (from spacy) (4.65.0)\n",
      "Requirement already satisfied: requests<3.0.0,>=2.13.0 in ./anaconda3/lib/python3.11/site-packages (from spacy) (2.31.0)\n",
      "Requirement already satisfied: pydantic!=1.8,!=1.8.1,<3.0.0,>=1.7.4 in ./anaconda3/lib/python3.11/site-packages (from spacy) (1.10.8)\n",
      "Requirement already satisfied: jinja2 in ./anaconda3/lib/python3.11/site-packages (from spacy) (3.1.2)\n",
      "Requirement already satisfied: setuptools in ./anaconda3/lib/python3.11/site-packages (from spacy) (68.0.0)\n",
      "Requirement already satisfied: packaging>=20.0 in ./anaconda3/lib/python3.11/site-packages (from spacy) (23.1)\n",
      "Requirement already satisfied: langcodes<4.0.0,>=3.2.0 in ./anaconda3/lib/python3.11/site-packages (from spacy) (3.4.0)\n",
      "Requirement already satisfied: numpy>=1.19.0 in ./anaconda3/lib/python3.11/site-packages (from spacy) (1.24.3)\n",
      "Requirement already satisfied: language-data>=1.2 in ./anaconda3/lib/python3.11/site-packages (from langcodes<4.0.0,>=3.2.0->spacy) (1.2.0)\n",
      "Requirement already satisfied: typing-extensions>=4.2.0 in ./anaconda3/lib/python3.11/site-packages (from pydantic!=1.8,!=1.8.1,<3.0.0,>=1.7.4->spacy) (4.7.1)\n",
      "Requirement already satisfied: charset-normalizer<4,>=2 in ./anaconda3/lib/python3.11/site-packages (from requests<3.0.0,>=2.13.0->spacy) (2.0.4)\n",
      "Requirement already satisfied: idna<4,>=2.5 in ./anaconda3/lib/python3.11/site-packages (from requests<3.0.0,>=2.13.0->spacy) (3.4)\n",
      "Requirement already satisfied: urllib3<3,>=1.21.1 in ./anaconda3/lib/python3.11/site-packages (from requests<3.0.0,>=2.13.0->spacy) (1.26.16)\n",
      "Requirement already satisfied: certifi>=2017.4.17 in ./anaconda3/lib/python3.11/site-packages (from requests<3.0.0,>=2.13.0->spacy) (2023.11.17)\n",
      "Requirement already satisfied: blis<0.8.0,>=0.7.8 in ./anaconda3/lib/python3.11/site-packages (from thinc<8.3.0,>=8.2.2->spacy) (0.7.11)\n",
      "Requirement already satisfied: confection<1.0.0,>=0.0.1 in ./anaconda3/lib/python3.11/site-packages (from thinc<8.3.0,>=8.2.2->spacy) (0.1.4)\n",
      "Requirement already satisfied: click<9.0.0,>=7.1.1 in ./anaconda3/lib/python3.11/site-packages (from typer<0.10.0,>=0.3.0->spacy) (8.0.4)\n",
      "Requirement already satisfied: cloudpathlib<0.17.0,>=0.7.0 in ./anaconda3/lib/python3.11/site-packages (from weasel<0.4.0,>=0.1.0->spacy) (0.16.0)\n",
      "Requirement already satisfied: MarkupSafe>=2.0 in ./anaconda3/lib/python3.11/site-packages (from jinja2->spacy) (2.1.1)\n",
      "Requirement already satisfied: marisa-trie>=0.7.7 in ./anaconda3/lib/python3.11/site-packages (from language-data>=1.2->langcodes<4.0.0,>=3.2.0->spacy) (1.1.1)\n",
      "\u001b[38;5;3m⚠ As of spaCy v3.0, shortcuts like 'en' are deprecated. Please use the\n",
      "full pipeline package name 'en_core_web_sm' instead.\u001b[0m\n",
      "Collecting en-core-web-sm==3.7.1\n",
      "  Downloading https://github.com/explosion/spacy-models/releases/download/en_core_web_sm-3.7.1/en_core_web_sm-3.7.1-py3-none-any.whl (12.8 MB)\n",
      "\u001b[2K     \u001b[90m━━━━━━━━━━━━━━━━━━━━━━━━━━━━━━━━━━━━━━━━\u001b[0m \u001b[32m12.8/12.8 MB\u001b[0m \u001b[31m36.9 MB/s\u001b[0m eta \u001b[36m0:00:00\u001b[0m00:01\u001b[0m00:01\u001b[0m\n",
      "\u001b[?25hRequirement already satisfied: spacy<3.8.0,>=3.7.2 in ./anaconda3/lib/python3.11/site-packages (from en-core-web-sm==3.7.1) (3.7.4)\n",
      "Requirement already satisfied: spacy-legacy<3.1.0,>=3.0.11 in ./anaconda3/lib/python3.11/site-packages (from spacy<3.8.0,>=3.7.2->en-core-web-sm==3.7.1) (3.0.12)\n",
      "Requirement already satisfied: spacy-loggers<2.0.0,>=1.0.0 in ./anaconda3/lib/python3.11/site-packages (from spacy<3.8.0,>=3.7.2->en-core-web-sm==3.7.1) (1.0.5)\n",
      "Requirement already satisfied: murmurhash<1.1.0,>=0.28.0 in ./anaconda3/lib/python3.11/site-packages (from spacy<3.8.0,>=3.7.2->en-core-web-sm==3.7.1) (1.0.10)\n",
      "Requirement already satisfied: cymem<2.1.0,>=2.0.2 in ./anaconda3/lib/python3.11/site-packages (from spacy<3.8.0,>=3.7.2->en-core-web-sm==3.7.1) (2.0.8)\n",
      "Requirement already satisfied: preshed<3.1.0,>=3.0.2 in ./anaconda3/lib/python3.11/site-packages (from spacy<3.8.0,>=3.7.2->en-core-web-sm==3.7.1) (3.0.9)\n",
      "Requirement already satisfied: thinc<8.3.0,>=8.2.2 in ./anaconda3/lib/python3.11/site-packages (from spacy<3.8.0,>=3.7.2->en-core-web-sm==3.7.1) (8.2.3)\n",
      "Requirement already satisfied: wasabi<1.2.0,>=0.9.1 in ./anaconda3/lib/python3.11/site-packages (from spacy<3.8.0,>=3.7.2->en-core-web-sm==3.7.1) (1.1.2)\n",
      "Requirement already satisfied: srsly<3.0.0,>=2.4.3 in ./anaconda3/lib/python3.11/site-packages (from spacy<3.8.0,>=3.7.2->en-core-web-sm==3.7.1) (2.4.8)\n",
      "Requirement already satisfied: catalogue<2.1.0,>=2.0.6 in ./anaconda3/lib/python3.11/site-packages (from spacy<3.8.0,>=3.7.2->en-core-web-sm==3.7.1) (2.0.10)\n",
      "Requirement already satisfied: weasel<0.4.0,>=0.1.0 in ./anaconda3/lib/python3.11/site-packages (from spacy<3.8.0,>=3.7.2->en-core-web-sm==3.7.1) (0.3.4)\n",
      "Requirement already satisfied: typer<0.10.0,>=0.3.0 in ./anaconda3/lib/python3.11/site-packages (from spacy<3.8.0,>=3.7.2->en-core-web-sm==3.7.1) (0.9.4)\n",
      "Requirement already satisfied: smart-open<7.0.0,>=5.2.1 in ./anaconda3/lib/python3.11/site-packages (from spacy<3.8.0,>=3.7.2->en-core-web-sm==3.7.1) (5.2.1)\n",
      "Requirement already satisfied: tqdm<5.0.0,>=4.38.0 in ./anaconda3/lib/python3.11/site-packages (from spacy<3.8.0,>=3.7.2->en-core-web-sm==3.7.1) (4.65.0)\n",
      "Requirement already satisfied: requests<3.0.0,>=2.13.0 in ./anaconda3/lib/python3.11/site-packages (from spacy<3.8.0,>=3.7.2->en-core-web-sm==3.7.1) (2.31.0)\n",
      "Requirement already satisfied: pydantic!=1.8,!=1.8.1,<3.0.0,>=1.7.4 in ./anaconda3/lib/python3.11/site-packages (from spacy<3.8.0,>=3.7.2->en-core-web-sm==3.7.1) (1.10.8)\n",
      "Requirement already satisfied: jinja2 in ./anaconda3/lib/python3.11/site-packages (from spacy<3.8.0,>=3.7.2->en-core-web-sm==3.7.1) (3.1.2)\n",
      "Requirement already satisfied: setuptools in ./anaconda3/lib/python3.11/site-packages (from spacy<3.8.0,>=3.7.2->en-core-web-sm==3.7.1) (68.0.0)\n",
      "Requirement already satisfied: packaging>=20.0 in ./anaconda3/lib/python3.11/site-packages (from spacy<3.8.0,>=3.7.2->en-core-web-sm==3.7.1) (23.1)\n",
      "Requirement already satisfied: langcodes<4.0.0,>=3.2.0 in ./anaconda3/lib/python3.11/site-packages (from spacy<3.8.0,>=3.7.2->en-core-web-sm==3.7.1) (3.4.0)\n",
      "Requirement already satisfied: numpy>=1.19.0 in ./anaconda3/lib/python3.11/site-packages (from spacy<3.8.0,>=3.7.2->en-core-web-sm==3.7.1) (1.24.3)\n",
      "Requirement already satisfied: language-data>=1.2 in ./anaconda3/lib/python3.11/site-packages (from langcodes<4.0.0,>=3.2.0->spacy<3.8.0,>=3.7.2->en-core-web-sm==3.7.1) (1.2.0)\n",
      "Requirement already satisfied: typing-extensions>=4.2.0 in ./anaconda3/lib/python3.11/site-packages (from pydantic!=1.8,!=1.8.1,<3.0.0,>=1.7.4->spacy<3.8.0,>=3.7.2->en-core-web-sm==3.7.1) (4.7.1)\n",
      "Requirement already satisfied: charset-normalizer<4,>=2 in ./anaconda3/lib/python3.11/site-packages (from requests<3.0.0,>=2.13.0->spacy<3.8.0,>=3.7.2->en-core-web-sm==3.7.1) (2.0.4)\n",
      "Requirement already satisfied: idna<4,>=2.5 in ./anaconda3/lib/python3.11/site-packages (from requests<3.0.0,>=2.13.0->spacy<3.8.0,>=3.7.2->en-core-web-sm==3.7.1) (3.4)\n",
      "Requirement already satisfied: urllib3<3,>=1.21.1 in ./anaconda3/lib/python3.11/site-packages (from requests<3.0.0,>=2.13.0->spacy<3.8.0,>=3.7.2->en-core-web-sm==3.7.1) (1.26.16)\n",
      "Requirement already satisfied: certifi>=2017.4.17 in ./anaconda3/lib/python3.11/site-packages (from requests<3.0.0,>=2.13.0->spacy<3.8.0,>=3.7.2->en-core-web-sm==3.7.1) (2023.11.17)\n",
      "Requirement already satisfied: blis<0.8.0,>=0.7.8 in ./anaconda3/lib/python3.11/site-packages (from thinc<8.3.0,>=8.2.2->spacy<3.8.0,>=3.7.2->en-core-web-sm==3.7.1) (0.7.11)\n",
      "Requirement already satisfied: confection<1.0.0,>=0.0.1 in ./anaconda3/lib/python3.11/site-packages (from thinc<8.3.0,>=8.2.2->spacy<3.8.0,>=3.7.2->en-core-web-sm==3.7.1) (0.1.4)\n",
      "Requirement already satisfied: click<9.0.0,>=7.1.1 in ./anaconda3/lib/python3.11/site-packages (from typer<0.10.0,>=0.3.0->spacy<3.8.0,>=3.7.2->en-core-web-sm==3.7.1) (8.0.4)\n",
      "Requirement already satisfied: cloudpathlib<0.17.0,>=0.7.0 in ./anaconda3/lib/python3.11/site-packages (from weasel<0.4.0,>=0.1.0->spacy<3.8.0,>=3.7.2->en-core-web-sm==3.7.1) (0.16.0)\n",
      "Requirement already satisfied: MarkupSafe>=2.0 in ./anaconda3/lib/python3.11/site-packages (from jinja2->spacy<3.8.0,>=3.7.2->en-core-web-sm==3.7.1) (2.1.1)\n",
      "Requirement already satisfied: marisa-trie>=0.7.7 in ./anaconda3/lib/python3.11/site-packages (from language-data>=1.2->langcodes<4.0.0,>=3.2.0->spacy<3.8.0,>=3.7.2->en-core-web-sm==3.7.1) (1.1.1)\n",
      "\u001b[38;5;2m✔ Download and installation successful\u001b[0m\n",
      "You can now load the package via spacy.load('en_core_web_sm')\n"
     ]
    }
   ],
   "source": [
    "import sys\n",
    "!{sys.executable} -m pip install spacy\n",
    "\n",
    "!{sys.executable} -m spacy download en"
   ]
  },
  {
   "cell_type": "code",
   "execution_count": 2,
   "metadata": {},
   "outputs": [],
   "source": [
    "import pandas as pd\n",
    "import seaborn as sns \n",
    "import matplotlib.pyplot as plt\n",
    "import nltk\n",
    "import numpy as np\n",
    "import spacy\n",
    "import re\n",
    "import tqdm"
   ]
  },
  {
   "cell_type": "code",
   "execution_count": 3,
   "metadata": {},
   "outputs": [],
   "source": [
    "from nltk.corpus import stopwords\n",
    "from nltk.tokenize import word_tokenize\n",
    "\n",
    "from spacy.tokens import Doc\n",
    "\n",
    "from sklearn.feature_extraction.text import TfidfVectorizer\n",
    "from sklearn.model_selection import train_test_split\n",
    "from sklearn.linear_model import LogisticRegression\n",
    "from sklearn.metrics import f1_score\n",
    "\n",
    "from sklearn.neighbors import KNeighborsClassifier\n",
    "from sklearn.tree import DecisionTreeClassifier\n",
    "\n",
    "from sklearn.pipeline import Pipeline\n",
    "from sklearn.model_selection import RandomizedSearchCV"
   ]
  },
  {
   "cell_type": "markdown",
   "metadata": {},
   "source": [
    "## Подготовка"
   ]
  },
  {
   "cell_type": "code",
   "execution_count": 4,
   "metadata": {},
   "outputs": [],
   "source": [
    "try:\n",
    "    data = pd.read_csv('/datasets/toxic_comments.csv', index_col=[0])\n",
    "except:\n",
    "    data = pd.read_csv('https://code.s3.yandex.net/datasets/toxic_comments.csv', index_col=[0])"
   ]
  },
  {
   "cell_type": "code",
   "execution_count": 5,
   "metadata": {},
   "outputs": [
    {
     "name": "stdout",
     "output_type": "stream",
     "text": [
      "<class 'pandas.core.frame.DataFrame'>\n",
      "Index: 159292 entries, 0 to 159450\n",
      "Data columns (total 2 columns):\n",
      " #   Column  Non-Null Count   Dtype \n",
      "---  ------  --------------   ----- \n",
      " 0   text    159292 non-null  object\n",
      " 1   toxic   159292 non-null  int64 \n",
      "dtypes: int64(1), object(1)\n",
      "memory usage: 3.6+ MB\n"
     ]
    },
    {
     "data": {
      "text/html": [
       "<div>\n",
       "<style scoped>\n",
       "    .dataframe tbody tr th:only-of-type {\n",
       "        vertical-align: middle;\n",
       "    }\n",
       "\n",
       "    .dataframe tbody tr th {\n",
       "        vertical-align: top;\n",
       "    }\n",
       "\n",
       "    .dataframe thead th {\n",
       "        text-align: right;\n",
       "    }\n",
       "</style>\n",
       "<table border=\"1\" class=\"dataframe\">\n",
       "  <thead>\n",
       "    <tr style=\"text-align: right;\">\n",
       "      <th></th>\n",
       "      <th>text</th>\n",
       "      <th>toxic</th>\n",
       "    </tr>\n",
       "  </thead>\n",
       "  <tbody>\n",
       "    <tr>\n",
       "      <th>0</th>\n",
       "      <td>Explanation\\nWhy the edits made under my usern...</td>\n",
       "      <td>0</td>\n",
       "    </tr>\n",
       "    <tr>\n",
       "      <th>1</th>\n",
       "      <td>D'aww! He matches this background colour I'm s...</td>\n",
       "      <td>0</td>\n",
       "    </tr>\n",
       "    <tr>\n",
       "      <th>2</th>\n",
       "      <td>Hey man, I'm really not trying to edit war. It...</td>\n",
       "      <td>0</td>\n",
       "    </tr>\n",
       "    <tr>\n",
       "      <th>3</th>\n",
       "      <td>\"\\nMore\\nI can't make any real suggestions on ...</td>\n",
       "      <td>0</td>\n",
       "    </tr>\n",
       "    <tr>\n",
       "      <th>4</th>\n",
       "      <td>You, sir, are my hero. Any chance you remember...</td>\n",
       "      <td>0</td>\n",
       "    </tr>\n",
       "    <tr>\n",
       "      <th>5</th>\n",
       "      <td>\"\\n\\nCongratulations from me as well, use the ...</td>\n",
       "      <td>0</td>\n",
       "    </tr>\n",
       "    <tr>\n",
       "      <th>6</th>\n",
       "      <td>COCKSUCKER BEFORE YOU PISS AROUND ON MY WORK</td>\n",
       "      <td>1</td>\n",
       "    </tr>\n",
       "    <tr>\n",
       "      <th>7</th>\n",
       "      <td>Your vandalism to the Matt Shirvington article...</td>\n",
       "      <td>0</td>\n",
       "    </tr>\n",
       "    <tr>\n",
       "      <th>8</th>\n",
       "      <td>Sorry if the word 'nonsense' was offensive to ...</td>\n",
       "      <td>0</td>\n",
       "    </tr>\n",
       "    <tr>\n",
       "      <th>9</th>\n",
       "      <td>alignment on this subject and which are contra...</td>\n",
       "      <td>0</td>\n",
       "    </tr>\n",
       "    <tr>\n",
       "      <th>10</th>\n",
       "      <td>\"\\nFair use rationale for Image:Wonju.jpg\\n\\nT...</td>\n",
       "      <td>0</td>\n",
       "    </tr>\n",
       "    <tr>\n",
       "      <th>11</th>\n",
       "      <td>bbq \\n\\nbe a man and lets discuss it-maybe ove...</td>\n",
       "      <td>0</td>\n",
       "    </tr>\n",
       "    <tr>\n",
       "      <th>12</th>\n",
       "      <td>Hey... what is it..\\n@ | talk .\\nWhat is it......</td>\n",
       "      <td>1</td>\n",
       "    </tr>\n",
       "    <tr>\n",
       "      <th>13</th>\n",
       "      <td>Before you start throwing accusations and warn...</td>\n",
       "      <td>0</td>\n",
       "    </tr>\n",
       "    <tr>\n",
       "      <th>14</th>\n",
       "      <td>Oh, and the girl above started her arguments w...</td>\n",
       "      <td>0</td>\n",
       "    </tr>\n",
       "  </tbody>\n",
       "</table>\n",
       "</div>"
      ],
      "text/plain": [
       "                                                 text  toxic\n",
       "0   Explanation\\nWhy the edits made under my usern...      0\n",
       "1   D'aww! He matches this background colour I'm s...      0\n",
       "2   Hey man, I'm really not trying to edit war. It...      0\n",
       "3   \"\\nMore\\nI can't make any real suggestions on ...      0\n",
       "4   You, sir, are my hero. Any chance you remember...      0\n",
       "5   \"\\n\\nCongratulations from me as well, use the ...      0\n",
       "6        COCKSUCKER BEFORE YOU PISS AROUND ON MY WORK      1\n",
       "7   Your vandalism to the Matt Shirvington article...      0\n",
       "8   Sorry if the word 'nonsense' was offensive to ...      0\n",
       "9   alignment on this subject and which are contra...      0\n",
       "10  \"\\nFair use rationale for Image:Wonju.jpg\\n\\nT...      0\n",
       "11  bbq \\n\\nbe a man and lets discuss it-maybe ove...      0\n",
       "12  Hey... what is it..\\n@ | talk .\\nWhat is it......      1\n",
       "13  Before you start throwing accusations and warn...      0\n",
       "14  Oh, and the girl above started her arguments w...      0"
      ]
     },
     "metadata": {},
     "output_type": "display_data"
    },
    {
     "name": "stdout",
     "output_type": "stream",
     "text": [
      "Количество дубликатов - 0\n"
     ]
    }
   ],
   "source": [
    "data.info()\n",
    "\n",
    "display(data.head(15))\n",
    "\n",
    "print(f\"Количество дубликатов - {data.loc[data.duplicated(), 'text'].count()}\")"
   ]
  },
  {
   "cell_type": "code",
   "execution_count": 6,
   "metadata": {},
   "outputs": [
    {
     "data": {
      "image/png": "[encoded data removed]",
      "text/plain": [
       "<Figure size 640x480 with 1 Axes>"
      ]
     },
     "metadata": {},
     "output_type": "display_data"
    },
    {
     "name": "stdout",
     "output_type": "stream",
     "text": [
      "Количество токсичных комментариев - 16186, \n",
      "Количество нетоксичных комментариев - 143106\n"
     ]
    }
   ],
   "source": [
    "sns.countplot(\n",
    "    data = data,\n",
    "    x = data['toxic']\n",
    "    )\n",
    "plt.title('Распределение комментариев по токсичности')\n",
    "plt.xlabel('Токсичность')\n",
    "plt.ylabel('Количество комментариев')\n",
    "plt.show()\n",
    "\n",
    "print(f\"Количество токсичных комментариев - {data.loc[data['toxic']  == 1, 'toxic'].count()}, \\n\"\n",
    "     f\"Количество нетоксичных комментариев - {len(data) - data.loc[data['toxic'] == 1, 'toxic'].count()}\")"
   ]
  },
  {
   "cell_type": "markdown",
   "metadata": {},
   "source": [
    "Налицо явный дисбаланс комментариев, поэтому при разделении данных. Данных с целевым признаком = 0 почти в 9 раз больше, чем с toxic = 1. Модели может не хватить токсичных комментариев для корректного их определения. Рациональным будет искусственное расширение тренировочной выборки токсичных комментариев. "
   ]
  },
  {
   "cell_type": "markdown",
   "metadata": {},
   "source": [
    "Перехожу к форматированию текста "
   ]
  },
  {
   "cell_type": "code",
   "execution_count": 7,
   "metadata": {},
   "outputs": [
    {
     "name": "stderr",
     "output_type": "stream",
     "text": [
      "[nltk_data] Downloading package stopwords to\n",
      "[nltk_data]     /Users/sergejdvurecenskij/nltk_data...\n",
      "[nltk_data]   Package stopwords is already up-to-date!\n",
      "[nltk_data] Downloading package punkt to\n",
      "[nltk_data]     /Users/sergejdvurecenskij/nltk_data...\n",
      "[nltk_data]   Package punkt is already up-to-date!\n"
     ]
    },
    {
     "data": {
      "text/plain": [
       "True"
      ]
     },
     "execution_count": 7,
     "metadata": {},
     "output_type": "execute_result"
    }
   ],
   "source": [
    "nlp = spacy.load(\"en_core_web_sm\")\n",
    "\n",
    "nltk.download('stopwords')\n",
    "\n",
    "nltk.download('punkt')"
   ]
  },
  {
   "cell_type": "code",
   "execution_count": 8,
   "metadata": {},
   "outputs": [],
   "source": [
    "def text_preprocessing(texts):\n",
    "    re_text = re.compile('[^a-z A-Z]')\n",
    "    stopwords_set = set(stopwords.words('english')) \n",
    "    preprocess_texts = []\n",
    "\n",
    "    for text in tqdm.tqdm(texts):\n",
    "        if isinstance(text, str):  # проверка, что text является строкой\n",
    "            text = re_text.sub(' ', text)\n",
    "            text = text.lower()\n",
    "            w_tokens = word_tokenize(text)\n",
    "            filtered = [w for w in w_tokens if w not in stopwords_set]\n",
    "            preprocess_texts.append(' '.join(filtered))\n",
    "        else:\n",
    "            preprocess_texts.append('')  # добавляем пустую строку для нестроковых значений\n",
    "\n",
    "    return preprocess_texts"
   ]
  },
  {
   "cell_type": "code",
   "execution_count": 9,
   "metadata": {},
   "outputs": [
    {
     "name": "stderr",
     "output_type": "stream",
     "text": [
      "100%|█████████████████████████████████| 159292/159292 [00:16<00:00, 9397.64it/s]\n"
     ]
    }
   ],
   "source": [
    "data['preprocess_text'] = text_preprocessing(data['text'])"
   ]
  },
  {
   "cell_type": "code",
   "execution_count": 10,
   "metadata": {},
   "outputs": [],
   "source": [
    "nlp = spacy.load(\"en_core_web_sm\", disable=[\"parser\", \"ner\"])  # отключаем компоненты, которые не нужны для лемматизации"
   ]
  },
  {
   "cell_type": "code",
   "execution_count": 11,
   "metadata": {},
   "outputs": [],
   "source": [
    "def lemmatize_text(texts, batch_size=100):\n",
    "    lemmatized_texts = []\n",
    "    for doc in nlp.pipe(texts, batch_size=batch_size):\n",
    "        lemmatized_texts.append(' '.join([token.lemma_ for token in doc]))\n",
    "    return lemmatized_texts"
   ]
  },
  {
   "cell_type": "code",
   "execution_count": 12,
   "metadata": {},
   "outputs": [
    {
     "data": {
      "text/plain": [
       "0    Explanation\\nWhy the edits made under my usern...\n",
       "1    D'aww! He matches this background colour I'm s...\n",
       "2    Hey man, I'm really not trying to edit war. It...\n",
       "3    \"\\nMore\\nI can't make any real suggestions on ...\n",
       "4    You, sir, are my hero. Any chance you remember...\n",
       "5    \"\\n\\nCongratulations from me as well, use the ...\n",
       "6         COCKSUCKER BEFORE YOU PISS AROUND ON MY WORK\n",
       "7    Your vandalism to the Matt Shirvington article...\n",
       "8    Sorry if the word 'nonsense' was offensive to ...\n",
       "9    alignment on this subject and which are contra...\n",
       "Name: text, dtype: object"
      ]
     },
     "metadata": {},
     "output_type": "display_data"
    },
    {
     "data": {
      "text/plain": [
       "['Explanation \\n why the edit make under my username Hardcore Metallica Fan be revert ? they be not vandalism , just closure on some gas after I vote at New York Dolls FAC . and please do not remove the template from the talk page since I be retire now.89.205.38.27',\n",
       " \"D'aww ! he match this background colour I be seemingly stick with . thank .   ( talk ) 21:51 , January 11 , 2016 ( UTC )\",\n",
       " 'hey man , I be really not try to edit war . it be just that this guy be constantly remove relevant information and talk to I through edit instead of my talk page . he seem to care more about the formatting than the actual info .',\n",
       " '\" \\n More \\n I can not make any real suggestion on improvement - I wonder if the section statistic should be later on , or a subsection of \" \" type of accident \" \"   -I think the reference may need tidying so that they be all in the exact same format ie date format etc . I can do that later on , if no - one else do first - if you have any preference for format style on reference or want to do it yourself please let I know . \\n\\n there appear to be a backlog on article for review so I guess there may be a delay until a reviewer turn up . it be list in the relevant form eg Wikipedia : Good_article_nominations#Transport   \"',\n",
       " 'you , sir , be my hero . any chance you remember what page that be on ?',\n",
       " '\" \\n\\n congratulation from I as well , use the tool well . \\xa0 · talk \"',\n",
       " 'COCKSUCKER before you pis around on MY work',\n",
       " 'your vandalism to the Matt Shirvington article have be revert .   please do not do it again , or you will be ban .',\n",
       " \"sorry if the word ' nonsense ' be offensive to you . anyway , I be not intend to write anything in the article(wow they would jump on I for vandalism ) , I be merely request that it be more encyclopedic so one can use it for school as a reference . I have be to the selective breeding page but it be almost a stub . it point to ' animal breeding ' which be a short messy article that give you no info . there must be someone around with expertise in eugenic ? 93.161.107.169\",\n",
       " 'alignment on this subject and which be contrary to those of dulithgow']"
      ]
     },
     "metadata": {},
     "output_type": "display_data"
    }
   ],
   "source": [
    "display(data['text'].iloc[0:10])\n",
    "display(lemmatize_text(data['text'].iloc[0:10])) # проверка лемматизации"
   ]
  },
  {
   "cell_type": "code",
   "execution_count": 13,
   "metadata": {},
   "outputs": [],
   "source": [
    "# Применяем функцию к датафрейму\n",
    "data['lemmatized_text'] = lemmatize_text(data['preprocess_text'].tolist())"
   ]
  },
  {
   "cell_type": "code",
   "execution_count": 14,
   "metadata": {},
   "outputs": [],
   "source": [
    "data.dropna(subset=['lemmatized_text'], inplace = True)"
   ]
  },
  {
   "cell_type": "code",
   "execution_count": 15,
   "metadata": {},
   "outputs": [
    {
     "name": "stdout",
     "output_type": "stream",
     "text": [
      "<class 'pandas.core.frame.DataFrame'>\n",
      "RangeIndex: 159292 entries, 0 to 159291\n",
      "Data columns (total 4 columns):\n",
      " #   Column           Non-Null Count   Dtype \n",
      "---  ------           --------------   ----- \n",
      " 0   text             159292 non-null  object\n",
      " 1   toxic            159292 non-null  int64 \n",
      " 2   preprocess_text  159292 non-null  object\n",
      " 3   lemmatized_text  159292 non-null  object\n",
      "dtypes: int64(1), object(3)\n",
      "memory usage: 4.9+ MB\n"
     ]
    }
   ],
   "source": [
    "data.reset_index(drop = True, inplace = True)\n",
    "data.info()"
   ]
  },
  {
   "cell_type": "code",
   "execution_count": 16,
   "metadata": {},
   "outputs": [
    {
     "name": "stdout",
     "output_type": "stream",
     "text": [
      "{<class 'str'>}\n"
     ]
    }
   ],
   "source": [
    "# проверка типов значений в lemmatized_text\n",
    "values = []\n",
    "\n",
    "for row in data['lemmatized_text']:\n",
    "    values.append(type(row))\n",
    "    \n",
    "print(set(values))"
   ]
  },
  {
   "cell_type": "markdown",
   "metadata": {},
   "source": [
    "### Вывод"
   ]
  },
  {
   "cell_type": "markdown",
   "metadata": {},
   "source": [
    "В ходе предобработки данных были загружены датасеты в формат pandas DataFrame. Проверены дубликаты в данных. Проведена предобработка текста и его лемматизация. Также была проведена проверка форматов данных для корректной работы пайплайна. В процессе анализа данных было выявлено, что количество нетоксичных комментариев в 9 раз превосходит количество токсичных. Было принято решение размножить токсичные комментарии для более эффективного обучения модели."
   ]
  },
  {
   "cell_type": "markdown",
   "metadata": {},
   "source": [
    "## Обучение"
   ]
  },
  {
   "cell_type": "code",
   "execution_count": 17,
   "metadata": {},
   "outputs": [],
   "source": [
    "RANDOM_STATE = 48"
   ]
  },
  {
   "cell_type": "code",
   "execution_count": 18,
   "metadata": {},
   "outputs": [],
   "source": [
    "X_train, X_test, y_train, y_test = train_test_split(\n",
    "    data['lemmatized_text'],\n",
    "    data['toxic'],\n",
    "    random_state = RANDOM_STATE,\n",
    "    test_size = 0.2,\n",
    "    stratify = data['toxic']\n",
    "    )"
   ]
  },
  {
   "cell_type": "code",
   "execution_count": 19,
   "metadata": {},
   "outputs": [
    {
     "data": {
      "text/html": [
       "<div>\n",
       "<style scoped>\n",
       "    .dataframe tbody tr th:only-of-type {\n",
       "        vertical-align: middle;\n",
       "    }\n",
       "\n",
       "    .dataframe tbody tr th {\n",
       "        vertical-align: top;\n",
       "    }\n",
       "\n",
       "    .dataframe thead th {\n",
       "        text-align: right;\n",
       "    }\n",
       "</style>\n",
       "<table border=\"1\" class=\"dataframe\">\n",
       "  <thead>\n",
       "    <tr style=\"text-align: right;\">\n",
       "      <th></th>\n",
       "      <th>lemmatized_text</th>\n",
       "      <th>toxic</th>\n",
       "    </tr>\n",
       "  </thead>\n",
       "  <tbody>\n",
       "    <tr>\n",
       "      <th>91578</th>\n",
       "      <td>greg oliva mind business get start reference s...</td>\n",
       "      <td>0</td>\n",
       "    </tr>\n",
       "    <tr>\n",
       "      <th>64807</th>\n",
       "      <td>even right edit page delete statement show str...</td>\n",
       "      <td>0</td>\n",
       "    </tr>\n",
       "    <tr>\n",
       "      <th>103199</th>\n",
       "      <td>sure nominate article seem take time read entr...</td>\n",
       "      <td>0</td>\n",
       "    </tr>\n",
       "    <tr>\n",
       "      <th>119902</th>\n",
       "      <td>thank ever need common talk</td>\n",
       "      <td>0</td>\n",
       "    </tr>\n",
       "    <tr>\n",
       "      <th>80867</th>\n",
       "      <td>lie say</td>\n",
       "      <td>0</td>\n",
       "    </tr>\n",
       "    <tr>\n",
       "      <th>...</th>\n",
       "      <td>...</td>\n",
       "      <td>...</td>\n",
       "    </tr>\n",
       "    <tr>\n",
       "      <th>19911</th>\n",
       "      <td>ok sorry dunno britain english omg many fact t...</td>\n",
       "      <td>0</td>\n",
       "    </tr>\n",
       "    <tr>\n",
       "      <th>76096</th>\n",
       "      <td>grammy proof want</td>\n",
       "      <td>0</td>\n",
       "    </tr>\n",
       "    <tr>\n",
       "      <th>60049</th>\n",
       "      <td>oppose title article stay norton never emperor...</td>\n",
       "      <td>0</td>\n",
       "    </tr>\n",
       "    <tr>\n",
       "      <th>20055</th>\n",
       "      <td>bush jfk recent th anniversary upsurge kennedy...</td>\n",
       "      <td>0</td>\n",
       "    </tr>\n",
       "    <tr>\n",
       "      <th>110932</th>\n",
       "      <td>english language reference</td>\n",
       "      <td>0</td>\n",
       "    </tr>\n",
       "  </tbody>\n",
       "</table>\n",
       "<p>127433 rows × 2 columns</p>\n",
       "</div>"
      ],
      "text/plain": [
       "                                          lemmatized_text  toxic\n",
       "91578   greg oliva mind business get start reference s...      0\n",
       "64807   even right edit page delete statement show str...      0\n",
       "103199  sure nominate article seem take time read entr...      0\n",
       "119902                        thank ever need common talk      0\n",
       "80867                                             lie say      0\n",
       "...                                                   ...    ...\n",
       "19911   ok sorry dunno britain english omg many fact t...      0\n",
       "76096                                   grammy proof want      0\n",
       "60049   oppose title article stay norton never emperor...      0\n",
       "20055   bush jfk recent th anniversary upsurge kennedy...      0\n",
       "110932                         english language reference      0\n",
       "\n",
       "[127433 rows x 2 columns]"
      ]
     },
     "metadata": {},
     "output_type": "display_data"
    },
    {
     "name": "stdout",
     "output_type": "stream",
     "text": [
      "<class 'pandas.core.frame.DataFrame'>\n",
      "Index: 127433 entries, 91578 to 110932\n",
      "Data columns (total 2 columns):\n",
      " #   Column           Non-Null Count   Dtype \n",
      "---  ------           --------------   ----- \n",
      " 0   lemmatized_text  127433 non-null  object\n",
      " 1   toxic            127433 non-null  int64 \n",
      "dtypes: int64(1), object(1)\n",
      "memory usage: 2.9+ MB\n"
     ]
    }
   ],
   "source": [
    "train_sample = pd.concat([X_train, y_train], axis = 1)\n",
    "display(train_sample)\n",
    "train_sample.info()"
   ]
  },
  {
   "cell_type": "code",
   "execution_count": 20,
   "metadata": {
    "scrolled": false
   },
   "outputs": [
    {
     "data": {
      "image/png": "[encoded data removed]",
      "text/plain": [
       "<Figure size 640x480 with 1 Axes>"
      ]
     },
     "metadata": {},
     "output_type": "display_data"
    },
    {
     "name": "stdout",
     "output_type": "stream",
     "text": [
      "Количество токсичных комментариев - 12949, \n",
      "Количество нетоксичных комментариев - 114484\n"
     ]
    },
    {
     "data": {
      "text/html": [
       "<div>\n",
       "<style scoped>\n",
       "    .dataframe tbody tr th:only-of-type {\n",
       "        vertical-align: middle;\n",
       "    }\n",
       "\n",
       "    .dataframe tbody tr th {\n",
       "        vertical-align: top;\n",
       "    }\n",
       "\n",
       "    .dataframe thead th {\n",
       "        text-align: right;\n",
       "    }\n",
       "</style>\n",
       "<table border=\"1\" class=\"dataframe\">\n",
       "  <thead>\n",
       "    <tr style=\"text-align: right;\">\n",
       "      <th></th>\n",
       "      <th>lemmatized_text</th>\n",
       "      <th>toxic</th>\n",
       "    </tr>\n",
       "  </thead>\n",
       "  <tbody>\n",
       "    <tr>\n",
       "      <th>111225</th>\n",
       "      <td>march utc remove two unbalanced tag kleck lott...</td>\n",
       "      <td>0</td>\n",
       "    </tr>\n",
       "    <tr>\n",
       "      <th>82148</th>\n",
       "      <td>prison time cbs television report early week f...</td>\n",
       "      <td>0</td>\n",
       "    </tr>\n",
       "    <tr>\n",
       "      <th>47963</th>\n",
       "      <td>regard flower seem establish azalea question i...</td>\n",
       "      <td>0</td>\n",
       "    </tr>\n",
       "    <tr>\n",
       "      <th>61962</th>\n",
       "      <td>joe hazelton</td>\n",
       "      <td>0</td>\n",
       "    </tr>\n",
       "    <tr>\n",
       "      <th>53779</th>\n",
       "      <td>rule I m eat someone parent</td>\n",
       "      <td>0</td>\n",
       "    </tr>\n",
       "    <tr>\n",
       "      <th>...</th>\n",
       "      <td>...</td>\n",
       "      <td>...</td>\n",
       "    </tr>\n",
       "    <tr>\n",
       "      <th>106336</th>\n",
       "      <td>already dreamguy lie write talk page notify ed...</td>\n",
       "      <td>0</td>\n",
       "    </tr>\n",
       "    <tr>\n",
       "      <th>123251</th>\n",
       "      <td>vandal sockpuppet temporarily block edit vanda...</td>\n",
       "      <td>0</td>\n",
       "    </tr>\n",
       "    <tr>\n",
       "      <th>30176</th>\n",
       "      <td>yeah actually seven year old black australian ...</td>\n",
       "      <td>0</td>\n",
       "    </tr>\n",
       "    <tr>\n",
       "      <th>32432</th>\n",
       "      <td>hi hi mom bra size</td>\n",
       "      <td>1</td>\n",
       "    </tr>\n",
       "    <tr>\n",
       "      <th>106896</th>\n",
       "      <td>take grey sky way make sun shine bright doris ...</td>\n",
       "      <td>0</td>\n",
       "    </tr>\n",
       "  </tbody>\n",
       "</table>\n",
       "<p>100 rows × 2 columns</p>\n",
       "</div>"
      ],
      "text/plain": [
       "                                          lemmatized_text  toxic\n",
       "111225  march utc remove two unbalanced tag kleck lott...      0\n",
       "82148   prison time cbs television report early week f...      0\n",
       "47963   regard flower seem establish azalea question i...      0\n",
       "61962                                        joe hazelton      0\n",
       "53779                         rule I m eat someone parent      0\n",
       "...                                                   ...    ...\n",
       "106336  already dreamguy lie write talk page notify ed...      0\n",
       "123251  vandal sockpuppet temporarily block edit vanda...      0\n",
       "30176   yeah actually seven year old black australian ...      0\n",
       "32432                                  hi hi mom bra size      1\n",
       "106896  take grey sky way make sun shine bright doris ...      0\n",
       "\n",
       "[100 rows x 2 columns]"
      ]
     },
     "metadata": {},
     "output_type": "display_data"
    },
    {
     "name": "stdout",
     "output_type": "stream",
     "text": [
      "Размер выборки -  132433\n",
      "Количество токсичных комментариев после семплирования - 17949, \n",
      "Количество нетоксичных комментариев - 114484\n"
     ]
    }
   ],
   "source": [
    "sns.countplot(\n",
    "    data = train_sample,\n",
    "    x = train_sample['toxic']\n",
    "    )\n",
    "plt.title('Распределение комментариев по токсичности в тренировочной выборке')\n",
    "plt.xlabel('Токсичность')\n",
    "plt.ylabel('Количество комментариев')\n",
    "plt.show()\n",
    "\n",
    "print(f\"Количество токсичных комментариев - \"\n",
    "      f\"{train_sample.loc[train_sample['toxic'] == 1, 'toxic'].count()}, \\n\"\n",
    "      f\"Количество нетоксичных комментариев - \"\n",
    "      f\"{len(train_sample) - train_sample.loc[train_sample['toxic'] == 1, 'toxic'].count()}\")\n",
    "\n",
    "\n",
    "toxic_plus = train_sample.loc[train_sample['toxic'] == 1].sample(5000)\n",
    "train_sample = pd.concat([train_sample, toxic_plus])\n",
    "display(train_sample.sample(100))\n",
    "print('Размер выборки - ', len(train_sample))\n",
    "\n",
    "print(f\"Количество токсичных комментариев после семплирования - \" \n",
    "      f\"{train_sample.loc[train_sample['toxic'] == 1, 'toxic'].count()}, \\n\"\n",
    "      f\"Количество нетоксичных комментариев - \" \n",
    "      f\"{len(train_sample) - train_sample.loc[train_sample['toxic'] == 1, 'toxic'].count()}\")"
   ]
  },
  {
   "cell_type": "code",
   "execution_count": 21,
   "metadata": {},
   "outputs": [
    {
     "name": "stdout",
     "output_type": "stream",
     "text": [
      "<class 'pandas.core.frame.DataFrame'>\n",
      "Index: 132433 entries, 91578 to 19266\n",
      "Data columns (total 2 columns):\n",
      " #   Column           Non-Null Count   Dtype \n",
      "---  ------           --------------   ----- \n",
      " 0   lemmatized_text  132433 non-null  object\n",
      " 1   toxic            132433 non-null  int64 \n",
      "dtypes: int64(1), object(1)\n",
      "memory usage: 3.0+ MB\n"
     ]
    }
   ],
   "source": [
    "X_train = train_sample['lemmatized_text']\n",
    "y_train = train_sample['toxic']\n",
    "train_sample.info()"
   ]
  },
  {
   "cell_type": "code",
   "execution_count": 22,
   "metadata": {},
   "outputs": [
    {
     "name": "stdout",
     "output_type": "stream",
     "text": [
      "132433 - размер X_train, 132433 - размер y_train \n",
      "\n",
      "0 пустых значений в X_train \n",
      "\n",
      "0 пустых значений в y_train \n",
      "\n",
      "Уникальные значения в y_train -  [0 1] \n",
      "\n",
      "Количество бесконечных значений X_train - 0, y_train - 0\n",
      "\n",
      "132433 - размер X_train, 132433 - размер y_train\n",
      "\n",
      "Форма X_train - (132433,), форма y_train - (132433,)\n"
     ]
    }
   ],
   "source": [
    "# проверка размеров X_train, y_train\n",
    "print(len(X_train), '- размер X_train,', len(y_train), '- размер y_train \\n') \n",
    "\n",
    "# проверка наличия пустых значений\n",
    "print(X_train.isna().sum(), 'пустых значений в X_train \\n') \n",
    "print(y_train.isna().sum(), 'пустых значений в y_train \\n')\n",
    "\n",
    "# проверка пробелов в значениях toxic\n",
    "print('Уникальные значения в y_train - ', y_train.unique(),'\\n')\n",
    "\n",
    "# проверка бесконечных значений\n",
    "X_train = X_train.replace([np.inf, -np.inf], np.nan)\n",
    "y_train = y_train.replace([np.inf, -np.inf], np.nan)\n",
    "print(f'Количество бесконечных значений X_train - {X_train.isna().sum()}, y_train - {y_train.isna().sum()}\\n')\n",
    "\n",
    "# проверка размеров X_train и y_train\n",
    "print(len(X_train), '- размер X_train,', len(y_train), '- размер y_train\\n')\n",
    "print(f'Форма X_train - {X_train.shape}, форма y_train - {y_train.shape}')"
   ]
  },
  {
   "cell_type": "code",
   "execution_count": 23,
   "metadata": {},
   "outputs": [],
   "source": [
    "pipeline = Pipeline(\n",
    "    [\n",
    "        (\n",
    "            'vect', TfidfVectorizer()\n",
    "        ),\n",
    "        (\n",
    "            'clf', LogisticRegression()\n",
    "        )\n",
    "])"
   ]
  },
  {
   "cell_type": "code",
   "execution_count": 24,
   "metadata": {},
   "outputs": [],
   "source": [
    "param_grid = [\n",
    "    {\n",
    "        'vect__max_df': (0.5, 0.75, 1.0),\n",
    "        'vect__ngram_range': [(1, 1), (1, 2)],\n",
    "        'clf': [DecisionTreeClassifier(random_state=RANDOM_STATE)],\n",
    "        'clf__max_depth': (2, 3, 4),\n",
    "        'clf__max_features': (2, 3, 4)\n",
    "    },\n",
    "    {\n",
    "        'vect__max_df': (0.5, 0.75, 1.0),\n",
    "        'vect__ngram_range': [(1, 1), (1, 2)],\n",
    "        'clf': [LogisticRegression(random_state=RANDOM_STATE)],\n",
    "        'clf__max_iter': [200, 300],\n",
    "        'clf__C': [0.1, 1, 10]   \n",
    "    }\n",
    "]        "
   ]
  },
  {
   "cell_type": "code",
   "execution_count": 25,
   "metadata": {},
   "outputs": [
    {
     "name": "stderr",
     "output_type": "stream",
     "text": [
      "/Users/sergejdvurecenskij/anaconda3/lib/python3.11/site-packages/sklearn/linear_model/_logistic.py:460: ConvergenceWarning: lbfgs failed to converge (status=1):\n",
      "STOP: TOTAL NO. of ITERATIONS REACHED LIMIT.\n",
      "\n",
      "Increase the number of iterations (max_iter) or scale the data as shown in:\n",
      "    https://scikit-learn.org/stable/modules/preprocessing.html\n",
      "Please also refer to the documentation for alternative solver options:\n",
      "    https://scikit-learn.org/stable/modules/linear_model.html#logistic-regression\n",
      "  n_iter_i = _check_optimize_result(\n",
      "/Users/sergejdvurecenskij/anaconda3/lib/python3.11/site-packages/sklearn/linear_model/_logistic.py:460: ConvergenceWarning: lbfgs failed to converge (status=1):\n",
      "STOP: TOTAL NO. of ITERATIONS REACHED LIMIT.\n",
      "\n",
      "Increase the number of iterations (max_iter) or scale the data as shown in:\n",
      "    https://scikit-learn.org/stable/modules/preprocessing.html\n",
      "Please also refer to the documentation for alternative solver options:\n",
      "    https://scikit-learn.org/stable/modules/linear_model.html#logistic-regression\n",
      "  n_iter_i = _check_optimize_result(\n",
      "/Users/sergejdvurecenskij/anaconda3/lib/python3.11/site-packages/sklearn/linear_model/_logistic.py:460: ConvergenceWarning: lbfgs failed to converge (status=1):\n",
      "STOP: TOTAL NO. of ITERATIONS REACHED LIMIT.\n",
      "\n",
      "Increase the number of iterations (max_iter) or scale the data as shown in:\n",
      "    https://scikit-learn.org/stable/modules/preprocessing.html\n",
      "Please also refer to the documentation for alternative solver options:\n",
      "    https://scikit-learn.org/stable/modules/linear_model.html#logistic-regression\n",
      "  n_iter_i = _check_optimize_result(\n"
     ]
    },
    {
     "name": "stdout",
     "output_type": "stream",
     "text": [
      "Pipeline(steps=[('vect', TfidfVectorizer(max_df=0.5, ngram_range=(1, 2))),\n",
      "                ('clf',\n",
      "                 LogisticRegression(C=10, max_iter=200, random_state=48))]) - лучшая модель\n",
      "0.8851429495076305 - результат кросс-валидации на тренировочной выборке\n"
     ]
    },
    {
     "name": "stderr",
     "output_type": "stream",
     "text": [
      "/Users/sergejdvurecenskij/anaconda3/lib/python3.11/site-packages/sklearn/linear_model/_logistic.py:460: ConvergenceWarning: lbfgs failed to converge (status=1):\n",
      "STOP: TOTAL NO. of ITERATIONS REACHED LIMIT.\n",
      "\n",
      "Increase the number of iterations (max_iter) or scale the data as shown in:\n",
      "    https://scikit-learn.org/stable/modules/preprocessing.html\n",
      "Please also refer to the documentation for alternative solver options:\n",
      "    https://scikit-learn.org/stable/modules/linear_model.html#logistic-regression\n",
      "  n_iter_i = _check_optimize_result(\n"
     ]
    }
   ],
   "source": [
    "rand_search = RandomizedSearchCV(\n",
    "    pipeline, \n",
    "    param_grid, \n",
    "    cv=5,\n",
    "    scoring='f1',\n",
    "    n_iter=10,\n",
    "    n_jobs=-1,\n",
    "    random_state=RANDOM_STATE\n",
    "    )\n",
    "\n",
    "rand_search.fit(X_train, y_train)\n",
    "\n",
    "# вывод результатов на экран\n",
    "print(rand_search.best_estimator_, '- лучшая модель')\n",
    "print(rand_search.best_score_, '- результат кросс-валидации на тренировочной выборке')"
   ]
  },
  {
   "cell_type": "code",
   "execution_count": 26,
   "metadata": {},
   "outputs": [
    {
     "name": "stdout",
     "output_type": "stream",
     "text": [
      "Метрика f1 на тестовых данных для лучшей модели = 0.7800646368430006\n"
     ]
    }
   ],
   "source": [
    "preds = rand_search.best_estimator_.predict(X_test)\n",
    "\n",
    "f1_test = f1_score(y_test, preds)\n",
    "print(f'Метрика f1 на тестовых данных для лучшей модели = {f1_test}')"
   ]
  },
  {
   "cell_type": "markdown",
   "metadata": {},
   "source": [
    "### Вывод"
   ]
  },
  {
   "cell_type": "markdown",
   "metadata": {},
   "source": [
    "Лучшей моделью по результатам кросс-валидации по метрике f1 была признана модель Линейной регрессии с гиперпараметрами C=10, max_iter=200. На тестовых данных выборка показала результат метрики f1 0.78"
   ]
  },
  {
   "cell_type": "markdown",
   "metadata": {},
   "source": [
    "## Общий вывод"
   ]
  },
  {
   "cell_type": "markdown",
   "metadata": {},
   "source": [
    "В ходе работ над проектом был проведен анализ исходных данных: датасета с комментариями и целевым признаком - токсичностью комментариев. \n",
    "\n",
    "В процессе подготовки данных была проведена предобработка и лемматизация text. \n",
    "\n",
    "В результате анализа данных в разбивке по целевому признаку было выявлено, что количество строк со значением признака toxic = 0 сильно превышает количество строк со значением toxic = 1. Было принято решение о сэпмлировании данных: добавлении в тренировочную выборки из еще 5000 строк со значением признака toxic = 1. \n",
    "\n",
    "В процессе работы над проектом был создан пайплайн с использованием tfdfvecotrizer и подбором гиперпараметров для линейной регрессии. Была проведена оценка по кросс-валидации, за скоринг взята метрика f1. \n",
    "\n",
    "Лучшей моделью по результатам кросс-валидации по метрике f1 была признана модель Линейной регрессии с гиперпараметрами C=10, max_iter=200. На тестовых данных выборка показала результат метрики f1 0.78"
   ]
  }
 ],
 "metadata": {
  "ExecuteTimeLog": [
   {
    "duration": 385,
    "start_time": "2024-05-04T14:01:21.303Z"
   },
   {
    "duration": 3418,
    "start_time": "2024-05-04T14:04:35.177Z"
   },
   {
    "duration": 33,
    "start_time": "2024-05-04T14:04:48.563Z"
   },
   {
    "duration": 16,
    "start_time": "2024-05-04T14:06:40.014Z"
   },
   {
    "duration": 3,
    "start_time": "2024-05-04T14:07:31.862Z"
   },
   {
    "duration": 72,
    "start_time": "2024-05-04T14:07:39.094Z"
   },
   {
    "duration": 7,
    "start_time": "2024-05-04T14:07:44.980Z"
   },
   {
    "duration": 4,
    "start_time": "2024-05-04T14:08:07.499Z"
   },
   {
    "duration": 74,
    "start_time": "2024-05-04T14:08:25.959Z"
   },
   {
    "duration": 20,
    "start_time": "2024-05-04T14:08:40.526Z"
   },
   {
    "duration": 1033,
    "start_time": "2024-05-04T14:09:19.227Z"
   },
   {
    "duration": 31,
    "start_time": "2024-05-04T14:09:21.452Z"
   },
   {
    "duration": 9,
    "start_time": "2024-05-04T14:09:22.158Z"
   },
   {
    "duration": 70,
    "start_time": "2024-05-04T14:10:03.529Z"
   },
   {
    "duration": 14,
    "start_time": "2024-05-04T14:10:09.143Z"
   },
   {
    "duration": 10,
    "start_time": "2024-05-04T14:11:56.268Z"
   },
   {
    "duration": 14,
    "start_time": "2024-05-04T14:14:37.629Z"
   },
   {
    "duration": 5,
    "start_time": "2024-05-04T14:15:03.166Z"
   },
   {
    "duration": 5,
    "start_time": "2024-05-04T14:15:35.428Z"
   },
   {
    "duration": 5,
    "start_time": "2024-05-04T14:15:54.422Z"
   },
   {
    "duration": 7,
    "start_time": "2024-05-04T14:15:58.978Z"
   },
   {
    "duration": 7,
    "start_time": "2024-05-04T14:16:54.585Z"
   },
   {
    "duration": 82,
    "start_time": "2024-05-04T14:18:22.702Z"
   },
   {
    "duration": 895,
    "start_time": "2024-05-04T14:18:33.841Z"
   },
   {
    "duration": 1369,
    "start_time": "2024-05-04T14:19:32.218Z"
   },
   {
    "duration": 1277,
    "start_time": "2024-05-04T14:19:46.377Z"
   },
   {
    "duration": 157,
    "start_time": "2024-05-04T14:20:10.461Z"
   },
   {
    "duration": 257,
    "start_time": "2024-05-04T14:20:34.374Z"
   },
   {
    "duration": 3,
    "start_time": "2024-05-04T14:21:06.940Z"
   },
   {
    "duration": 181,
    "start_time": "2024-05-04T14:21:09.060Z"
   },
   {
    "duration": 181,
    "start_time": "2024-05-04T14:21:47.308Z"
   },
   {
    "duration": 265,
    "start_time": "2024-05-04T14:24:11.710Z"
   },
   {
    "duration": 225,
    "start_time": "2024-05-04T14:24:22.003Z"
   },
   {
    "duration": 212,
    "start_time": "2024-05-04T14:24:33.432Z"
   },
   {
    "duration": 221,
    "start_time": "2024-05-04T14:24:41.968Z"
   },
   {
    "duration": 202,
    "start_time": "2024-05-04T14:24:57.349Z"
   },
   {
    "duration": 554,
    "start_time": "2024-05-04T14:29:55.735Z"
   },
   {
    "duration": 3,
    "start_time": "2024-05-04T14:30:20.545Z"
   },
   {
    "duration": 10,
    "start_time": "2024-05-04T14:31:01.077Z"
   },
   {
    "duration": 2,
    "start_time": "2024-05-04T14:31:04.604Z"
   },
   {
    "duration": 214,
    "start_time": "2024-05-04T14:31:07.443Z"
   },
   {
    "duration": 79,
    "start_time": "2024-05-04T14:33:20.550Z"
   },
   {
    "duration": 24,
    "start_time": "2024-05-04T14:33:24.493Z"
   },
   {
    "duration": 72,
    "start_time": "2024-05-04T14:33:49.811Z"
   },
   {
    "duration": 1573,
    "start_time": "2024-05-04T14:34:35.928Z"
   },
   {
    "duration": 3,
    "start_time": "2024-05-04T14:34:37.503Z"
   },
   {
    "duration": 956,
    "start_time": "2024-05-04T14:34:37.508Z"
   },
   {
    "duration": 37,
    "start_time": "2024-05-04T14:34:38.466Z"
   },
   {
    "duration": 11,
    "start_time": "2024-05-04T14:34:38.505Z"
   },
   {
    "duration": 256,
    "start_time": "2024-05-04T14:34:38.518Z"
   },
   {
    "duration": 196,
    "start_time": "2024-05-04T14:34:38.776Z"
   },
   {
    "duration": 10,
    "start_time": "2024-05-04T14:34:38.974Z"
   },
   {
    "duration": 288,
    "start_time": "2024-05-04T14:34:38.986Z"
   },
   {
    "duration": 69,
    "start_time": "2024-05-04T14:34:39.276Z"
   },
   {
    "duration": 139,
    "start_time": "2024-05-04T14:36:31.249Z"
   },
   {
    "duration": 1611,
    "start_time": "2024-05-04T14:36:54.281Z"
   },
   {
    "duration": 3,
    "start_time": "2024-05-04T14:36:55.894Z"
   },
   {
    "duration": 996,
    "start_time": "2024-05-04T14:36:55.898Z"
   },
   {
    "duration": 34,
    "start_time": "2024-05-04T14:36:56.896Z"
   },
   {
    "duration": 15,
    "start_time": "2024-05-04T14:36:56.932Z"
   },
   {
    "duration": 274,
    "start_time": "2024-05-04T14:36:56.949Z"
   },
   {
    "duration": 175,
    "start_time": "2024-05-04T14:36:57.225Z"
   },
   {
    "duration": 7,
    "start_time": "2024-05-04T14:36:57.402Z"
   },
   {
    "duration": 308,
    "start_time": "2024-05-04T14:36:57.411Z"
   },
   {
    "duration": 3,
    "start_time": "2024-05-04T14:36:57.721Z"
   },
   {
    "duration": 80,
    "start_time": "2024-05-04T14:36:57.725Z"
   },
   {
    "duration": 164,
    "start_time": "2024-05-04T14:40:40.674Z"
   },
   {
    "duration": 1707,
    "start_time": "2024-05-04T14:40:47.865Z"
   },
   {
    "duration": 3,
    "start_time": "2024-05-04T14:40:49.574Z"
   },
   {
    "duration": 1013,
    "start_time": "2024-05-04T14:40:49.578Z"
   },
   {
    "duration": 32,
    "start_time": "2024-05-04T14:40:50.593Z"
   },
   {
    "duration": 25,
    "start_time": "2024-05-04T14:40:50.628Z"
   },
   {
    "duration": 293,
    "start_time": "2024-05-04T14:40:50.655Z"
   },
   {
    "duration": 192,
    "start_time": "2024-05-04T14:40:50.950Z"
   },
   {
    "duration": 8,
    "start_time": "2024-05-04T14:40:51.143Z"
   },
   {
    "duration": 243,
    "start_time": "2024-05-04T14:40:51.153Z"
   },
   {
    "duration": 3,
    "start_time": "2024-05-04T14:40:51.397Z"
   },
   {
    "duration": 86,
    "start_time": "2024-05-04T14:40:51.401Z"
   },
   {
    "duration": 129,
    "start_time": "2024-05-04T14:40:51.488Z"
   },
   {
    "duration": 6540,
    "start_time": "2024-05-04T14:41:10.237Z"
   },
   {
    "duration": 6540,
    "start_time": "2024-05-04T14:41:22.300Z"
   },
   {
    "duration": 8703,
    "start_time": "2024-05-04T14:41:41.526Z"
   },
   {
    "duration": 3,
    "start_time": "2024-05-04T14:42:27.574Z"
   },
   {
    "duration": 44650,
    "start_time": "2024-05-04T14:43:14.246Z"
   },
   {
    "duration": 1673,
    "start_time": "2024-05-04T14:49:06.886Z"
   },
   {
    "duration": 3,
    "start_time": "2024-05-04T14:49:08.561Z"
   },
   {
    "duration": 949,
    "start_time": "2024-05-04T14:49:08.566Z"
   },
   {
    "duration": 30,
    "start_time": "2024-05-04T14:49:09.516Z"
   },
   {
    "duration": 17,
    "start_time": "2024-05-04T14:49:09.547Z"
   },
   {
    "duration": 239,
    "start_time": "2024-05-04T14:49:09.565Z"
   },
   {
    "duration": 192,
    "start_time": "2024-05-04T14:49:09.806Z"
   },
   {
    "duration": 9,
    "start_time": "2024-05-04T14:49:09.999Z"
   },
   {
    "duration": 325,
    "start_time": "2024-05-04T14:49:10.010Z"
   },
   {
    "duration": 3,
    "start_time": "2024-05-04T14:49:10.338Z"
   },
   {
    "duration": 94,
    "start_time": "2024-05-04T14:49:10.342Z"
   },
   {
    "duration": 8296,
    "start_time": "2024-05-04T14:49:10.438Z"
   },
   {
    "duration": 47145,
    "start_time": "2024-05-04T14:49:18.736Z"
   },
   {
    "duration": 102,
    "start_time": "2024-05-04T14:50:05.883Z"
   },
   {
    "duration": 1653,
    "start_time": "2024-05-04T14:51:03.715Z"
   },
   {
    "duration": 3,
    "start_time": "2024-05-04T14:51:05.370Z"
   },
   {
    "duration": 986,
    "start_time": "2024-05-04T14:51:05.375Z"
   },
   {
    "duration": 40,
    "start_time": "2024-05-04T14:51:06.363Z"
   },
   {
    "duration": 11,
    "start_time": "2024-05-04T14:51:06.405Z"
   },
   {
    "duration": 255,
    "start_time": "2024-05-04T14:51:06.418Z"
   },
   {
    "duration": 212,
    "start_time": "2024-05-04T14:51:06.675Z"
   },
   {
    "duration": 7,
    "start_time": "2024-05-04T14:51:06.889Z"
   },
   {
    "duration": 273,
    "start_time": "2024-05-04T14:51:06.898Z"
   },
   {
    "duration": 3,
    "start_time": "2024-05-04T14:51:07.175Z"
   },
   {
    "duration": 134,
    "start_time": "2024-05-04T14:51:07.180Z"
   },
   {
    "duration": 8452,
    "start_time": "2024-05-04T14:51:07.316Z"
   },
   {
    "duration": 54822,
    "start_time": "2024-05-04T14:51:15.770Z"
   },
   {
    "duration": 16,
    "start_time": "2024-05-04T14:52:10.674Z"
   },
   {
    "duration": 134,
    "start_time": "2024-05-04T15:02:57.812Z"
   },
   {
    "duration": 3,
    "start_time": "2024-05-04T15:04:21.453Z"
   },
   {
    "duration": 20,
    "start_time": "2024-05-04T15:04:22.253Z"
   },
   {
    "duration": 3,
    "start_time": "2024-05-04T15:04:28.434Z"
   },
   {
    "duration": 14,
    "start_time": "2024-05-04T15:04:30.143Z"
   },
   {
    "duration": 10,
    "start_time": "2024-05-04T15:04:40.508Z"
   },
   {
    "duration": 11,
    "start_time": "2024-05-04T15:04:59.183Z"
   },
   {
    "duration": 9,
    "start_time": "2024-05-04T15:05:35.966Z"
   },
   {
    "duration": 11,
    "start_time": "2024-05-04T15:05:40.894Z"
   },
   {
    "duration": 3,
    "start_time": "2024-05-04T15:05:48.632Z"
   },
   {
    "duration": 1574,
    "start_time": "2024-05-04T15:06:35.301Z"
   },
   {
    "duration": 25,
    "start_time": "2024-05-04T15:06:36.877Z"
   },
   {
    "duration": 981,
    "start_time": "2024-05-04T15:06:36.904Z"
   },
   {
    "duration": 33,
    "start_time": "2024-05-04T15:06:37.887Z"
   },
   {
    "duration": 11,
    "start_time": "2024-05-04T15:06:37.922Z"
   },
   {
    "duration": 264,
    "start_time": "2024-05-04T15:06:37.935Z"
   },
   {
    "duration": 279,
    "start_time": "2024-05-04T15:06:38.201Z"
   },
   {
    "duration": 10,
    "start_time": "2024-05-04T15:06:38.482Z"
   },
   {
    "duration": 240,
    "start_time": "2024-05-04T15:06:38.494Z"
   },
   {
    "duration": 3,
    "start_time": "2024-05-04T15:06:38.736Z"
   },
   {
    "duration": 100,
    "start_time": "2024-05-04T15:06:38.741Z"
   },
   {
    "duration": 8486,
    "start_time": "2024-05-04T15:06:38.843Z"
   },
   {
    "duration": 3,
    "start_time": "2024-05-04T15:06:47.331Z"
   },
   {
    "duration": 5,
    "start_time": "2024-05-04T15:06:47.337Z"
   },
   {
    "duration": 1674,
    "start_time": "2024-05-04T15:09:39.892Z"
   },
   {
    "duration": 25,
    "start_time": "2024-05-04T15:09:41.568Z"
   },
   {
    "duration": 943,
    "start_time": "2024-05-04T15:09:41.595Z"
   },
   {
    "duration": 40,
    "start_time": "2024-05-04T15:09:42.542Z"
   },
   {
    "duration": 14,
    "start_time": "2024-05-04T15:09:42.584Z"
   },
   {
    "duration": 250,
    "start_time": "2024-05-04T15:09:42.599Z"
   },
   {
    "duration": 277,
    "start_time": "2024-05-04T15:09:42.851Z"
   },
   {
    "duration": 8,
    "start_time": "2024-05-04T15:09:43.130Z"
   },
   {
    "duration": 248,
    "start_time": "2024-05-04T15:09:43.139Z"
   },
   {
    "duration": 3,
    "start_time": "2024-05-04T15:09:43.390Z"
   },
   {
    "duration": 86,
    "start_time": "2024-05-04T15:09:43.395Z"
   },
   {
    "duration": 8488,
    "start_time": "2024-05-04T15:09:43.483Z"
   },
   {
    "duration": 3,
    "start_time": "2024-05-04T15:09:51.973Z"
   },
   {
    "duration": 24,
    "start_time": "2024-05-04T15:09:51.977Z"
   },
   {
    "duration": 1649,
    "start_time": "2024-05-04T15:16:41.382Z"
   },
   {
    "duration": 25,
    "start_time": "2024-05-04T15:16:43.033Z"
   },
   {
    "duration": 964,
    "start_time": "2024-05-04T15:16:43.060Z"
   },
   {
    "duration": 32,
    "start_time": "2024-05-04T15:16:44.026Z"
   },
   {
    "duration": 35,
    "start_time": "2024-05-04T15:16:44.060Z"
   },
   {
    "duration": 268,
    "start_time": "2024-05-04T15:16:44.096Z"
   },
   {
    "duration": 260,
    "start_time": "2024-05-04T15:16:44.365Z"
   },
   {
    "duration": 8,
    "start_time": "2024-05-04T15:16:44.626Z"
   },
   {
    "duration": 231,
    "start_time": "2024-05-04T15:16:44.635Z"
   },
   {
    "duration": 3,
    "start_time": "2024-05-04T15:16:44.868Z"
   },
   {
    "duration": 71,
    "start_time": "2024-05-04T15:16:44.873Z"
   },
   {
    "duration": 8478,
    "start_time": "2024-05-04T15:16:44.946Z"
   },
   {
    "duration": 3,
    "start_time": "2024-05-04T15:16:53.426Z"
   },
   {
    "duration": 427338,
    "start_time": "2024-05-04T15:16:53.432Z"
   },
   {
    "duration": 73,
    "start_time": "2024-05-04T15:24:00.772Z"
   },
   {
    "duration": 0,
    "start_time": "2024-05-04T15:24:00.846Z"
   },
   {
    "duration": 0,
    "start_time": "2024-05-04T15:24:00.847Z"
   },
   {
    "duration": 0,
    "start_time": "2024-05-04T15:24:00.848Z"
   },
   {
    "duration": 1611,
    "start_time": "2024-05-04T15:29:34.237Z"
   },
   {
    "duration": 26,
    "start_time": "2024-05-04T15:29:35.849Z"
   },
   {
    "duration": 963,
    "start_time": "2024-05-04T15:29:35.876Z"
   },
   {
    "duration": 36,
    "start_time": "2024-05-04T15:29:36.841Z"
   },
   {
    "duration": 12,
    "start_time": "2024-05-04T15:29:36.879Z"
   },
   {
    "duration": 253,
    "start_time": "2024-05-04T15:29:36.893Z"
   },
   {
    "duration": 254,
    "start_time": "2024-05-04T15:29:37.148Z"
   },
   {
    "duration": 8,
    "start_time": "2024-05-04T15:29:37.403Z"
   },
   {
    "duration": 160,
    "start_time": "2024-05-04T15:29:37.412Z"
   },
   {
    "duration": 3,
    "start_time": "2024-05-04T15:29:37.574Z"
   },
   {
    "duration": 95,
    "start_time": "2024-05-04T15:29:37.578Z"
   },
   {
    "duration": 8213,
    "start_time": "2024-05-04T15:29:37.675Z"
   },
   {
    "duration": 3,
    "start_time": "2024-05-04T15:29:45.890Z"
   },
   {
    "duration": 430880,
    "start_time": "2024-05-04T15:29:45.894Z"
   },
   {
    "duration": 139,
    "start_time": "2024-05-04T15:36:56.775Z"
   },
   {
    "duration": 0,
    "start_time": "2024-05-04T15:36:56.915Z"
   },
   {
    "duration": 0,
    "start_time": "2024-05-04T15:36:56.917Z"
   },
   {
    "duration": 0,
    "start_time": "2024-05-04T15:36:56.918Z"
   },
   {
    "duration": 1638,
    "start_time": "2024-05-05T14:54:35.588Z"
   },
   {
    "duration": 24,
    "start_time": "2024-05-05T14:54:37.228Z"
   },
   {
    "duration": 2293,
    "start_time": "2024-05-05T14:54:37.253Z"
   },
   {
    "duration": 28,
    "start_time": "2024-05-05T14:54:39.548Z"
   },
   {
    "duration": 11,
    "start_time": "2024-05-05T14:54:39.577Z"
   },
   {
    "duration": 218,
    "start_time": "2024-05-05T14:54:39.591Z"
   },
   {
    "duration": 233,
    "start_time": "2024-05-05T14:54:39.811Z"
   },
   {
    "duration": 6,
    "start_time": "2024-05-05T14:54:40.045Z"
   },
   {
    "duration": 146,
    "start_time": "2024-05-05T14:54:40.052Z"
   },
   {
    "duration": 3,
    "start_time": "2024-05-05T14:54:40.200Z"
   },
   {
    "duration": 4,
    "start_time": "2024-05-05T14:54:40.204Z"
   },
   {
    "duration": 64,
    "start_time": "2024-05-05T14:54:40.209Z"
   },
   {
    "duration": 6845,
    "start_time": "2024-05-05T14:54:40.274Z"
   },
   {
    "duration": 2,
    "start_time": "2024-05-05T14:54:47.121Z"
   },
   {
    "duration": 352496,
    "start_time": "2024-05-05T14:54:47.125Z"
   },
   {
    "duration": 5,
    "start_time": "2024-05-05T15:00:39.625Z"
   },
   {
    "duration": 171,
    "start_time": "2024-05-05T15:00:39.631Z"
   },
   {
    "duration": 0,
    "start_time": "2024-05-05T15:00:39.803Z"
   },
   {
    "duration": 0,
    "start_time": "2024-05-05T15:00:39.804Z"
   },
   {
    "duration": 38,
    "start_time": "2024-05-05T15:05:47.396Z"
   },
   {
    "duration": 79,
    "start_time": "2024-05-05T15:05:53.436Z"
   },
   {
    "duration": 5,
    "start_time": "2024-05-05T15:06:11.680Z"
   },
   {
    "duration": 32,
    "start_time": "2024-05-05T15:06:12.494Z"
   },
   {
    "duration": 3,
    "start_time": "2024-05-05T15:06:30.435Z"
   },
   {
    "duration": 33,
    "start_time": "2024-05-05T15:06:31.281Z"
   },
   {
    "duration": 8,
    "start_time": "2024-05-05T15:06:45.893Z"
   },
   {
    "duration": 35,
    "start_time": "2024-05-05T15:06:46.143Z"
   },
   {
    "duration": 7016,
    "start_time": "2024-05-05T15:07:46.411Z"
   },
   {
    "duration": 49161,
    "start_time": "2024-05-05T15:07:53.428Z"
   },
   {
    "duration": 0,
    "start_time": "2024-05-05T15:08:42.591Z"
   },
   {
    "duration": 1398,
    "start_time": "2024-05-05T15:09:53.103Z"
   },
   {
    "duration": 22,
    "start_time": "2024-05-05T15:09:54.505Z"
   },
   {
    "duration": 804,
    "start_time": "2024-05-05T15:09:54.528Z"
   },
   {
    "duration": 21,
    "start_time": "2024-05-05T15:09:55.334Z"
   },
   {
    "duration": 21,
    "start_time": "2024-05-05T15:09:55.356Z"
   },
   {
    "duration": 222,
    "start_time": "2024-05-05T15:09:55.379Z"
   },
   {
    "duration": 248,
    "start_time": "2024-05-05T15:09:55.603Z"
   },
   {
    "duration": 13,
    "start_time": "2024-05-05T15:09:55.852Z"
   },
   {
    "duration": 154,
    "start_time": "2024-05-05T15:09:55.866Z"
   },
   {
    "duration": 2,
    "start_time": "2024-05-05T15:09:56.022Z"
   },
   {
    "duration": 23,
    "start_time": "2024-05-05T15:09:56.025Z"
   },
   {
    "duration": 79,
    "start_time": "2024-05-05T15:09:56.050Z"
   },
   {
    "duration": 6921,
    "start_time": "2024-05-05T15:09:56.132Z"
   },
   {
    "duration": 49621,
    "start_time": "2024-05-05T15:10:03.054Z"
   },
   {
    "duration": 0,
    "start_time": "2024-05-05T15:10:52.676Z"
   },
   {
    "duration": 0,
    "start_time": "2024-05-05T15:10:52.677Z"
   },
   {
    "duration": 0,
    "start_time": "2024-05-05T15:10:52.677Z"
   },
   {
    "duration": 0,
    "start_time": "2024-05-05T15:10:52.679Z"
   },
   {
    "duration": 0,
    "start_time": "2024-05-05T15:10:52.679Z"
   },
   {
    "duration": 49097,
    "start_time": "2024-05-05T15:11:10.874Z"
   },
   {
    "duration": 97,
    "start_time": "2024-05-05T15:11:59.974Z"
   },
   {
    "duration": 147028,
    "start_time": "2024-05-05T15:12:00.072Z"
   },
   {
    "duration": 12,
    "start_time": "2024-05-05T15:14:27.102Z"
   },
   {
    "duration": 346170,
    "start_time": "2024-05-05T15:14:27.115Z"
   },
   {
    "duration": 12,
    "start_time": "2024-05-05T15:20:13.286Z"
   },
   {
    "duration": 4,
    "start_time": "2024-05-05T16:18:40.528Z"
   },
   {
    "duration": 3,
    "start_time": "2024-05-05T16:18:50.309Z"
   },
   {
    "duration": 29,
    "start_time": "2024-05-05T16:18:53.886Z"
   },
   {
    "duration": 14,
    "start_time": "2024-05-05T16:18:59.436Z"
   },
   {
    "duration": 15,
    "start_time": "2024-05-05T16:19:31.906Z"
   },
   {
    "duration": 14,
    "start_time": "2024-05-05T16:20:24.289Z"
   },
   {
    "duration": 842,
    "start_time": "2024-05-05T16:20:37.975Z"
   },
   {
    "duration": 32,
    "start_time": "2024-05-05T16:20:40.396Z"
   },
   {
    "duration": 7,
    "start_time": "2024-05-05T16:20:41.676Z"
   },
   {
    "duration": 194,
    "start_time": "2024-05-05T16:20:42.247Z"
   },
   {
    "duration": 163,
    "start_time": "2024-05-05T16:20:43.154Z"
   },
   {
    "duration": 6,
    "start_time": "2024-05-05T16:20:44.038Z"
   },
   {
    "duration": 14,
    "start_time": "2024-05-05T16:20:45.315Z"
   },
   {
    "duration": 12,
    "start_time": "2024-05-05T16:21:50.746Z"
   },
   {
    "duration": 14,
    "start_time": "2024-05-05T16:21:57.435Z"
   },
   {
    "duration": 11,
    "start_time": "2024-05-05T16:22:22.071Z"
   },
   {
    "duration": 14,
    "start_time": "2024-05-05T16:22:39.942Z"
   },
   {
    "duration": 1452,
    "start_time": "2024-05-05T16:23:17.092Z"
   },
   {
    "duration": 29,
    "start_time": "2024-05-05T16:23:18.546Z"
   },
   {
    "duration": 828,
    "start_time": "2024-05-05T16:23:18.577Z"
   },
   {
    "duration": 24,
    "start_time": "2024-05-05T16:23:19.407Z"
   },
   {
    "duration": 10,
    "start_time": "2024-05-05T16:23:19.433Z"
   },
   {
    "duration": 233,
    "start_time": "2024-05-05T16:23:19.444Z"
   },
   {
    "duration": 266,
    "start_time": "2024-05-05T16:23:19.678Z"
   },
   {
    "duration": 8,
    "start_time": "2024-05-05T16:23:19.945Z"
   },
   {
    "duration": 25,
    "start_time": "2024-05-05T16:23:19.954Z"
   },
   {
    "duration": 129,
    "start_time": "2024-05-05T16:23:19.981Z"
   },
   {
    "duration": 2,
    "start_time": "2024-05-05T16:23:20.112Z"
   },
   {
    "duration": 4,
    "start_time": "2024-05-05T16:23:20.115Z"
   },
   {
    "duration": 135,
    "start_time": "2024-05-05T16:23:20.120Z"
   },
   {
    "duration": 0,
    "start_time": "2024-05-05T16:23:20.256Z"
   },
   {
    "duration": 0,
    "start_time": "2024-05-05T16:23:20.257Z"
   },
   {
    "duration": 0,
    "start_time": "2024-05-05T16:23:20.258Z"
   },
   {
    "duration": 0,
    "start_time": "2024-05-05T16:23:20.265Z"
   },
   {
    "duration": 0,
    "start_time": "2024-05-05T16:23:20.266Z"
   },
   {
    "duration": 0,
    "start_time": "2024-05-05T16:23:20.267Z"
   },
   {
    "duration": 0,
    "start_time": "2024-05-05T16:23:20.268Z"
   },
   {
    "duration": 73,
    "start_time": "2024-05-05T16:24:56.309Z"
   },
   {
    "duration": 7033,
    "start_time": "2024-05-05T16:24:56.959Z"
   },
   {
    "duration": 34580,
    "start_time": "2024-05-05T16:25:03.994Z"
   },
   {
    "duration": 11,
    "start_time": "2024-05-05T16:25:38.666Z"
   },
   {
    "duration": 140590,
    "start_time": "2024-05-05T16:25:38.679Z"
   },
   {
    "duration": 13,
    "start_time": "2024-05-05T16:27:59.271Z"
   },
   {
    "duration": 1463,
    "start_time": "2024-05-05T16:32:18.260Z"
   },
   {
    "duration": 22,
    "start_time": "2024-05-05T16:32:19.725Z"
   },
   {
    "duration": 841,
    "start_time": "2024-05-05T16:32:19.748Z"
   },
   {
    "duration": 22,
    "start_time": "2024-05-05T16:32:20.591Z"
   },
   {
    "duration": 12,
    "start_time": "2024-05-05T16:32:20.614Z"
   },
   {
    "duration": 209,
    "start_time": "2024-05-05T16:32:20.627Z"
   },
   {
    "duration": 211,
    "start_time": "2024-05-05T16:32:20.837Z"
   },
   {
    "duration": 7,
    "start_time": "2024-05-05T16:32:21.049Z"
   },
   {
    "duration": 16,
    "start_time": "2024-05-05T16:32:21.065Z"
   },
   {
    "duration": 142,
    "start_time": "2024-05-05T16:32:21.083Z"
   },
   {
    "duration": 3,
    "start_time": "2024-05-05T16:32:21.226Z"
   },
   {
    "duration": 16,
    "start_time": "2024-05-05T16:32:21.230Z"
   },
   {
    "duration": 78,
    "start_time": "2024-05-05T16:32:21.248Z"
   },
   {
    "duration": 7045,
    "start_time": "2024-05-05T16:32:21.328Z"
   },
   {
    "duration": 50398,
    "start_time": "2024-05-05T16:32:28.374Z"
   },
   {
    "duration": 96,
    "start_time": "2024-05-05T16:33:18.774Z"
   },
   {
    "duration": 321221,
    "start_time": "2024-05-05T16:33:18.872Z"
   },
   {
    "duration": 12,
    "start_time": "2024-05-05T16:38:40.095Z"
   },
   {
    "duration": 146,
    "start_time": "2024-05-05T16:56:26.389Z"
   },
   {
    "duration": 131,
    "start_time": "2024-05-05T16:59:49.041Z"
   },
   {
    "duration": 11,
    "start_time": "2024-05-05T17:00:11.362Z"
   },
   {
    "duration": 4,
    "start_time": "2024-05-05T17:00:37.035Z"
   },
   {
    "duration": 14,
    "start_time": "2024-05-05T17:00:41.872Z"
   },
   {
    "duration": 125231,
    "start_time": "2024-05-05T17:01:35.042Z"
   },
   {
    "duration": 1445,
    "start_time": "2024-05-05T17:04:10.732Z"
   },
   {
    "duration": 18,
    "start_time": "2024-05-05T17:04:12.179Z"
   },
   {
    "duration": 831,
    "start_time": "2024-05-05T17:04:12.198Z"
   },
   {
    "duration": 25,
    "start_time": "2024-05-05T17:04:13.031Z"
   },
   {
    "duration": 11,
    "start_time": "2024-05-05T17:04:13.065Z"
   },
   {
    "duration": 220,
    "start_time": "2024-05-05T17:04:13.078Z"
   },
   {
    "duration": 144,
    "start_time": "2024-05-05T17:04:13.300Z"
   },
   {
    "duration": 8,
    "start_time": "2024-05-05T17:04:13.446Z"
   },
   {
    "duration": 27,
    "start_time": "2024-05-05T17:04:13.455Z"
   },
   {
    "duration": 217,
    "start_time": "2024-05-05T17:04:13.485Z"
   },
   {
    "duration": 134,
    "start_time": "2024-05-05T17:04:13.704Z"
   },
   {
    "duration": 3,
    "start_time": "2024-05-05T17:04:13.840Z"
   },
   {
    "duration": 7,
    "start_time": "2024-05-05T17:04:13.845Z"
   },
   {
    "duration": 73,
    "start_time": "2024-05-05T17:04:13.853Z"
   },
   {
    "duration": 7111,
    "start_time": "2024-05-05T17:04:13.928Z"
   },
   {
    "duration": 49542,
    "start_time": "2024-05-05T17:04:21.041Z"
   },
   {
    "duration": 113,
    "start_time": "2024-05-05T17:05:10.666Z"
   },
   {
    "duration": 113787,
    "start_time": "2024-05-05T17:05:10.781Z"
   },
   {
    "duration": 324636,
    "start_time": "2024-05-05T17:07:04.569Z"
   },
   {
    "duration": 12,
    "start_time": "2024-05-05T17:12:29.207Z"
   },
   {
    "duration": 177204,
    "start_time": "2024-05-05T17:12:29.220Z"
   },
   {
    "duration": 6,
    "start_time": "2024-05-05T17:21:38.570Z"
   },
   {
    "duration": 1388,
    "start_time": "2024-05-05T17:26:21.303Z"
   },
   {
    "duration": 20,
    "start_time": "2024-05-05T17:26:22.692Z"
   },
   {
    "duration": 823,
    "start_time": "2024-05-05T17:26:22.713Z"
   },
   {
    "duration": 30,
    "start_time": "2024-05-05T17:26:23.538Z"
   },
   {
    "duration": 9,
    "start_time": "2024-05-05T17:26:23.570Z"
   },
   {
    "duration": 239,
    "start_time": "2024-05-05T17:26:23.581Z"
   },
   {
    "duration": 159,
    "start_time": "2024-05-05T17:26:23.821Z"
   },
   {
    "duration": 6,
    "start_time": "2024-05-05T17:26:23.982Z"
   },
   {
    "duration": 16,
    "start_time": "2024-05-05T17:26:23.990Z"
   },
   {
    "duration": 244,
    "start_time": "2024-05-05T17:26:24.008Z"
   },
   {
    "duration": 12,
    "start_time": "2024-05-05T17:26:24.253Z"
   },
   {
    "duration": 130,
    "start_time": "2024-05-05T17:26:24.266Z"
   },
   {
    "duration": 3,
    "start_time": "2024-05-05T17:26:24.397Z"
   },
   {
    "duration": 7,
    "start_time": "2024-05-05T17:26:24.402Z"
   },
   {
    "duration": 71,
    "start_time": "2024-05-05T17:26:24.411Z"
   },
   {
    "duration": 7092,
    "start_time": "2024-05-05T17:26:24.483Z"
   },
   {
    "duration": 34590,
    "start_time": "2024-05-05T17:26:31.576Z"
   },
   {
    "duration": 223804,
    "start_time": "2024-05-05T17:27:06.169Z"
   },
   {
    "duration": 313350,
    "start_time": "2024-05-05T17:30:49.975Z"
   },
   {
    "duration": 1204206,
    "start_time": "2024-05-05T17:36:03.326Z"
   },
   {
    "duration": 12,
    "start_time": "2024-05-05T17:56:07.534Z"
   },
   {
    "duration": 1760,
    "start_time": "2024-05-06T16:08:48.356Z"
   },
   {
    "duration": 22,
    "start_time": "2024-05-06T16:08:50.118Z"
   },
   {
    "duration": 2387,
    "start_time": "2024-05-06T16:08:50.141Z"
   },
   {
    "duration": 35,
    "start_time": "2024-05-06T16:08:52.530Z"
   },
   {
    "duration": 43,
    "start_time": "2024-05-06T16:08:52.567Z"
   },
   {
    "duration": 229,
    "start_time": "2024-05-06T16:08:52.612Z"
   },
   {
    "duration": 184,
    "start_time": "2024-05-06T16:08:52.843Z"
   },
   {
    "duration": 7,
    "start_time": "2024-05-06T16:08:53.028Z"
   },
   {
    "duration": 17,
    "start_time": "2024-05-06T16:08:53.036Z"
   },
   {
    "duration": 272,
    "start_time": "2024-05-06T16:08:53.055Z"
   },
   {
    "duration": 6,
    "start_time": "2024-05-06T16:08:53.329Z"
   },
   {
    "duration": 216,
    "start_time": "2024-05-06T16:08:53.336Z"
   },
   {
    "duration": 3,
    "start_time": "2024-05-06T16:08:53.554Z"
   },
   {
    "duration": 5,
    "start_time": "2024-05-06T16:08:53.559Z"
   },
   {
    "duration": 91,
    "start_time": "2024-05-06T16:08:53.565Z"
   },
   {
    "duration": 8246,
    "start_time": "2024-05-06T16:08:53.658Z"
   },
   {
    "duration": 47685,
    "start_time": "2024-05-06T16:09:01.905Z"
   },
   {
    "duration": 221298,
    "start_time": "2024-05-06T16:09:49.594Z"
   },
   {
    "duration": 379698,
    "start_time": "2024-05-06T16:13:30.893Z"
   },
   {
    "duration": 2555,
    "start_time": "2024-05-07T16:20:14.942Z"
   },
   {
    "duration": 10310,
    "start_time": "2024-05-07T16:20:17.499Z"
   },
   {
    "duration": 4118,
    "start_time": "2024-05-07T16:20:33.787Z"
   },
   {
    "duration": 45,
    "start_time": "2024-05-07T16:30:45.704Z"
   },
   {
    "duration": 2275,
    "start_time": "2024-05-07T16:30:46.639Z"
   },
   {
    "duration": 31,
    "start_time": "2024-05-07T16:30:48.916Z"
   },
   {
    "duration": 13,
    "start_time": "2024-05-07T16:30:48.949Z"
   },
   {
    "duration": 217,
    "start_time": "2024-05-07T16:30:48.964Z"
   },
   {
    "duration": 176,
    "start_time": "2024-05-07T16:30:49.183Z"
   },
   {
    "duration": 7,
    "start_time": "2024-05-07T16:30:49.870Z"
   },
   {
    "duration": 485,
    "start_time": "2024-05-07T16:30:52.285Z"
   },
   {
    "duration": 385,
    "start_time": "2024-05-07T17:04:41.289Z"
   },
   {
    "duration": 53,
    "start_time": "2024-05-07T17:04:58.086Z"
   },
   {
    "duration": 2371,
    "start_time": "2024-05-07T17:05:07.738Z"
   },
   {
    "duration": 10321,
    "start_time": "2024-05-07T17:05:10.112Z"
   },
   {
    "duration": 3,
    "start_time": "2024-05-07T17:05:20.435Z"
   },
   {
    "duration": 20,
    "start_time": "2024-05-07T17:05:20.440Z"
   },
   {
    "duration": 942,
    "start_time": "2024-05-07T17:05:20.462Z"
   },
   {
    "duration": 35,
    "start_time": "2024-05-07T17:05:21.406Z"
   },
   {
    "duration": 8,
    "start_time": "2024-05-07T17:05:21.443Z"
   },
   {
    "duration": 221,
    "start_time": "2024-05-07T17:05:21.452Z"
   },
   {
    "duration": 194,
    "start_time": "2024-05-07T17:05:21.674Z"
   },
   {
    "duration": 6,
    "start_time": "2024-05-07T17:05:21.869Z"
   },
   {
    "duration": 70,
    "start_time": "2024-05-07T17:05:21.877Z"
   },
   {
    "duration": 632,
    "start_time": "2024-05-07T17:05:33.722Z"
   },
   {
    "duration": 3,
    "start_time": "2024-05-07T17:10:16.122Z"
   },
   {
    "duration": 241,
    "start_time": "2024-05-07T17:11:26.912Z"
   },
   {
    "duration": 21,
    "start_time": "2024-05-07T17:11:35.778Z"
   },
   {
    "duration": 208,
    "start_time": "2024-05-07T17:13:36.795Z"
   },
   {
    "duration": 23,
    "start_time": "2024-05-07T17:24:51.806Z"
   },
   {
    "duration": 27,
    "start_time": "2024-05-07T17:25:13.720Z"
   },
   {
    "duration": 41,
    "start_time": "2024-05-07T17:25:32.907Z"
   },
   {
    "duration": 25,
    "start_time": "2024-05-07T17:25:36.512Z"
   },
   {
    "duration": 18,
    "start_time": "2024-05-07T17:29:19.347Z"
   },
   {
    "duration": 37043,
    "start_time": "2024-05-07T17:30:01.868Z"
   },
   {
    "duration": 165007,
    "start_time": "2024-05-07T17:32:16.256Z"
   },
   {
    "duration": 865992,
    "start_time": "2024-05-07T17:35:24.975Z"
   },
   {
    "duration": 4,
    "start_time": "2024-05-07T17:50:33.672Z"
   },
   {
    "duration": 3,
    "start_time": "2024-05-07T17:51:10.071Z"
   },
   {
    "duration": 242,
    "start_time": "2024-05-07T17:52:42.072Z"
   },
   {
    "duration": 47,
    "start_time": "2024-05-07T18:03:22.405Z"
   },
   {
    "duration": 3,
    "start_time": "2024-05-07T18:03:36.106Z"
   },
   {
    "duration": 20,
    "start_time": "2024-05-07T18:04:16.098Z"
   },
   {
    "duration": 29,
    "start_time": "2024-05-07T18:04:22.833Z"
   },
   {
    "duration": 3,
    "start_time": "2024-05-07T18:04:44.163Z"
   },
   {
    "duration": 36,
    "start_time": "2024-05-07T18:04:45.139Z"
   },
   {
    "duration": 6,
    "start_time": "2024-05-07T18:05:16.788Z"
   },
   {
    "duration": 26,
    "start_time": "2024-05-07T18:05:17.628Z"
   },
   {
    "duration": 3,
    "start_time": "2024-05-07T18:05:37.749Z"
   },
   {
    "duration": 25,
    "start_time": "2024-05-07T18:05:38.459Z"
   },
   {
    "duration": 4,
    "start_time": "2024-05-07T18:05:51.544Z"
   },
   {
    "duration": 3261,
    "start_time": "2024-05-07T18:05:52.008Z"
   },
   {
    "duration": 3,
    "start_time": "2024-05-07T18:08:31.448Z"
   },
   {
    "duration": 3,
    "start_time": "2024-05-07T18:08:32.411Z"
   },
   {
    "duration": 841,
    "start_time": "2024-05-07T18:08:33.536Z"
   },
   {
    "duration": 39,
    "start_time": "2024-05-07T18:08:34.379Z"
   },
   {
    "duration": 7,
    "start_time": "2024-05-07T18:08:34.535Z"
   },
   {
    "duration": 204,
    "start_time": "2024-05-07T18:08:35.126Z"
   },
   {
    "duration": 171,
    "start_time": "2024-05-07T18:08:35.704Z"
   },
   {
    "duration": 6,
    "start_time": "2024-05-07T18:08:36.569Z"
   },
   {
    "duration": 474,
    "start_time": "2024-05-07T18:08:38.248Z"
   },
   {
    "duration": 5,
    "start_time": "2024-05-07T18:08:40.961Z"
   },
   {
    "duration": 4,
    "start_time": "2024-05-07T18:08:42.054Z"
   },
   {
    "duration": 3817,
    "start_time": "2024-05-07T18:08:42.863Z"
   },
   {
    "duration": 729,
    "start_time": "2024-05-07T18:09:35.293Z"
   },
   {
    "duration": 680,
    "start_time": "2024-05-07T18:09:45.780Z"
   },
   {
    "duration": 672,
    "start_time": "2024-05-07T18:09:58.869Z"
   },
   {
    "duration": 22,
    "start_time": "2024-05-07T18:10:38.585Z"
   },
   {
    "duration": 6,
    "start_time": "2024-05-07T18:10:53.774Z"
   },
   {
    "duration": 4,
    "start_time": "2024-05-07T18:11:11.146Z"
   },
   {
    "duration": 3,
    "start_time": "2024-05-07T18:11:40.554Z"
   },
   {
    "duration": 3374,
    "start_time": "2024-05-07T18:11:42.119Z"
   },
   {
    "duration": 5,
    "start_time": "2024-05-07T18:12:52.398Z"
   },
   {
    "duration": 25,
    "start_time": "2024-05-07T18:12:53.013Z"
   },
   {
    "duration": 4,
    "start_time": "2024-05-07T18:13:34.547Z"
   },
   {
    "duration": 3376,
    "start_time": "2024-05-07T18:13:35.390Z"
   },
   {
    "duration": 3432,
    "start_time": "2024-05-07T18:16:05.828Z"
   },
   {
    "duration": 2332,
    "start_time": "2024-05-07T18:17:07.657Z"
   },
   {
    "duration": 10229,
    "start_time": "2024-05-07T18:17:09.991Z"
   },
   {
    "duration": 3,
    "start_time": "2024-05-07T18:17:20.223Z"
   },
   {
    "duration": 26,
    "start_time": "2024-05-07T18:17:20.227Z"
   },
   {
    "duration": 830,
    "start_time": "2024-05-07T18:17:20.255Z"
   },
   {
    "duration": 38,
    "start_time": "2024-05-07T18:17:21.087Z"
   },
   {
    "duration": 10,
    "start_time": "2024-05-07T18:17:21.126Z"
   },
   {
    "duration": 209,
    "start_time": "2024-05-07T18:17:21.137Z"
   },
   {
    "duration": 179,
    "start_time": "2024-05-07T18:17:21.348Z"
   },
   {
    "duration": 5,
    "start_time": "2024-05-07T18:17:21.529Z"
   },
   {
    "duration": 442,
    "start_time": "2024-05-07T18:17:21.536Z"
   },
   {
    "duration": 5,
    "start_time": "2024-05-07T18:17:25.606Z"
   },
   {
    "duration": 4,
    "start_time": "2024-05-07T18:17:26.647Z"
   },
   {
    "duration": 3327,
    "start_time": "2024-05-07T18:17:27.398Z"
   },
   {
    "duration": 42,
    "start_time": "2024-05-07T18:23:04.636Z"
   },
   {
    "duration": 3,
    "start_time": "2024-05-07T18:23:11.386Z"
   },
   {
    "duration": 458,
    "start_time": "2024-05-07T18:23:37.103Z"
   },
   {
    "duration": 3,
    "start_time": "2024-05-07T18:24:34.270Z"
   },
   {
    "duration": 1160,
    "start_time": "2024-05-07T18:24:36.112Z"
   },
   {
    "duration": 4,
    "start_time": "2024-05-07T18:25:01.072Z"
   },
   {
    "duration": 492,
    "start_time": "2024-05-07T18:25:01.897Z"
   },
   {
    "duration": 3,
    "start_time": "2024-05-07T18:32:22.650Z"
   },
   {
    "duration": 457,
    "start_time": "2024-05-07T18:32:23.577Z"
   },
   {
    "duration": 4,
    "start_time": "2024-05-07T18:33:50.347Z"
   },
   {
    "duration": 469,
    "start_time": "2024-05-07T18:33:52.276Z"
   },
   {
    "duration": 8,
    "start_time": "2024-05-07T18:36:21.630Z"
   },
   {
    "duration": 623,
    "start_time": "2024-05-07T18:36:21.828Z"
   },
   {
    "duration": 600,
    "start_time": "2024-05-07T18:37:36.556Z"
   },
   {
    "duration": 458,
    "start_time": "2024-05-07T18:37:49.597Z"
   },
   {
    "duration": 436,
    "start_time": "2024-05-07T18:38:11.093Z"
   },
   {
    "duration": 429,
    "start_time": "2024-05-07T18:38:24.023Z"
   },
   {
    "duration": 456,
    "start_time": "2024-05-07T18:38:35.298Z"
   },
   {
    "duration": 2,
    "start_time": "2024-05-07T18:40:00.598Z"
   },
   {
    "duration": 48,
    "start_time": "2024-05-07T18:41:07.010Z"
   },
   {
    "duration": 3,
    "start_time": "2024-05-07T18:43:02.328Z"
   },
   {
    "duration": 6178,
    "start_time": "2024-05-07T18:43:29.704Z"
   },
   {
    "duration": 499364,
    "start_time": "2024-05-07T18:43:41.309Z"
   },
   {
    "duration": 2,
    "start_time": "2024-05-07T18:53:57.752Z"
   },
   {
    "duration": 2,
    "start_time": "2024-05-07T18:53:58.364Z"
   },
   {
    "duration": 3,
    "start_time": "2024-05-07T18:54:06.355Z"
   },
   {
    "duration": 5,
    "start_time": "2024-05-07T18:56:45.668Z"
   },
   {
    "duration": 4,
    "start_time": "2024-05-07T18:59:37.658Z"
   },
   {
    "duration": 19,
    "start_time": "2024-05-07T19:02:40.800Z"
   },
   {
    "duration": 17,
    "start_time": "2024-05-07T19:03:06.075Z"
   },
   {
    "duration": 2341,
    "start_time": "2024-05-07T19:03:14.316Z"
   },
   {
    "duration": 9911,
    "start_time": "2024-05-07T19:03:16.660Z"
   },
   {
    "duration": 4,
    "start_time": "2024-05-07T19:03:26.573Z"
   },
   {
    "duration": 14,
    "start_time": "2024-05-07T19:03:26.579Z"
   },
   {
    "duration": 879,
    "start_time": "2024-05-07T19:03:26.594Z"
   },
   {
    "duration": 30,
    "start_time": "2024-05-07T19:03:27.475Z"
   },
   {
    "duration": 8,
    "start_time": "2024-05-07T19:03:27.518Z"
   },
   {
    "duration": 222,
    "start_time": "2024-05-07T19:03:27.527Z"
   },
   {
    "duration": 177,
    "start_time": "2024-05-07T19:03:27.751Z"
   },
   {
    "duration": 6,
    "start_time": "2024-05-07T19:03:27.932Z"
   },
   {
    "duration": 423,
    "start_time": "2024-05-07T19:03:27.940Z"
   },
   {
    "duration": 162,
    "start_time": "2024-05-07T19:03:28.365Z"
   },
   {
    "duration": 4,
    "start_time": "2024-05-07T19:03:28.529Z"
   },
   {
    "duration": 3,
    "start_time": "2024-05-07T19:03:40.072Z"
   },
   {
    "duration": 41,
    "start_time": "2024-05-07T19:03:41.257Z"
   },
   {
    "duration": 66,
    "start_time": "2024-05-07T19:03:51.437Z"
   },
   {
    "duration": 29,
    "start_time": "2024-05-07T19:03:52.776Z"
   },
   {
    "duration": 180,
    "start_time": "2024-05-07T19:03:54.748Z"
   },
   {
    "duration": 29,
    "start_time": "2024-05-07T19:03:59.772Z"
   },
   {
    "duration": 3,
    "start_time": "2024-05-07T19:04:54.127Z"
   },
   {
    "duration": 4,
    "start_time": "2024-05-07T19:04:58.662Z"
   },
   {
    "duration": 16,
    "start_time": "2024-05-07T19:05:33.100Z"
   },
   {
    "duration": 1876,
    "start_time": "2024-05-07T19:05:57.813Z"
   },
   {
    "duration": 24,
    "start_time": "2024-05-07T19:06:20.168Z"
   },
   {
    "duration": 4,
    "start_time": "2024-05-07T19:07:04.903Z"
   },
   {
    "duration": 5,
    "start_time": "2024-05-07T19:07:09.190Z"
   },
   {
    "duration": 24,
    "start_time": "2024-05-07T19:08:31.541Z"
   },
   {
    "duration": 24,
    "start_time": "2024-05-07T19:11:15.797Z"
   },
   {
    "duration": 3,
    "start_time": "2024-05-07T19:12:26.325Z"
   },
   {
    "duration": 4,
    "start_time": "2024-05-07T19:12:30.252Z"
   },
   {
    "duration": 3,
    "start_time": "2024-05-07T19:14:29.135Z"
   },
   {
    "duration": 1934,
    "start_time": "2024-05-07T19:14:47.972Z"
   },
   {
    "duration": 23,
    "start_time": "2024-05-07T19:25:24.698Z"
   },
   {
    "duration": 6,
    "start_time": "2024-05-07T19:26:21.506Z"
   },
   {
    "duration": 5,
    "start_time": "2024-05-07T19:26:41.698Z"
   },
   {
    "duration": 2,
    "start_time": "2024-05-07T19:29:13.311Z"
   },
   {
    "duration": 2449,
    "start_time": "2024-05-07T19:30:58.591Z"
   },
   {
    "duration": 10645,
    "start_time": "2024-05-07T19:31:01.044Z"
   },
   {
    "duration": 3924,
    "start_time": "2024-05-07T19:31:11.694Z"
   },
   {
    "duration": 42,
    "start_time": "2024-05-07T19:31:15.619Z"
   },
   {
    "duration": 947,
    "start_time": "2024-05-07T19:31:15.662Z"
   },
   {
    "duration": 41,
    "start_time": "2024-05-07T19:31:16.611Z"
   },
   {
    "duration": 12,
    "start_time": "2024-05-07T19:31:16.653Z"
   },
   {
    "duration": 238,
    "start_time": "2024-05-07T19:31:16.666Z"
   },
   {
    "duration": 169,
    "start_time": "2024-05-07T19:31:16.907Z"
   },
   {
    "duration": 7,
    "start_time": "2024-05-07T19:31:17.077Z"
   },
   {
    "duration": 491,
    "start_time": "2024-05-07T19:31:17.085Z"
   },
   {
    "duration": 226,
    "start_time": "2024-05-07T19:31:17.577Z"
   },
   {
    "duration": 2,
    "start_time": "2024-05-07T19:31:17.805Z"
   },
   {
    "duration": 6,
    "start_time": "2024-05-07T19:31:17.809Z"
   },
   {
    "duration": 11,
    "start_time": "2024-05-07T19:31:17.816Z"
   },
   {
    "duration": 604,
    "start_time": "2024-05-07T19:31:17.828Z"
   },
   {
    "duration": 5866687,
    "start_time": "2024-05-07T19:31:18.434Z"
   },
   {
    "duration": 0,
    "start_time": "2024-05-07T21:09:05.123Z"
   },
   {
    "duration": 0,
    "start_time": "2024-05-07T21:09:05.125Z"
   },
   {
    "duration": 0,
    "start_time": "2024-05-07T21:09:05.126Z"
   },
   {
    "duration": 0,
    "start_time": "2024-05-07T21:09:05.127Z"
   },
   {
    "duration": 0,
    "start_time": "2024-05-07T21:09:05.129Z"
   },
   {
    "duration": 0,
    "start_time": "2024-05-07T21:09:05.130Z"
   },
   {
    "duration": 0,
    "start_time": "2024-05-07T21:09:05.132Z"
   },
   {
    "duration": 0,
    "start_time": "2024-05-07T21:09:05.133Z"
   },
   {
    "duration": 0,
    "start_time": "2024-05-07T21:09:05.135Z"
   },
   {
    "duration": 0,
    "start_time": "2024-05-07T21:09:05.136Z"
   },
   {
    "duration": 0,
    "start_time": "2024-05-07T21:09:05.138Z"
   },
   {
    "duration": 0,
    "start_time": "2024-05-07T21:09:05.139Z"
   },
   {
    "duration": 0,
    "start_time": "2024-05-07T21:09:05.140Z"
   },
   {
    "duration": 0,
    "start_time": "2024-05-07T21:09:05.141Z"
   },
   {
    "duration": 0,
    "start_time": "2024-05-07T21:09:05.143Z"
   },
   {
    "duration": 0,
    "start_time": "2024-05-07T21:09:05.144Z"
   },
   {
    "duration": 42,
    "start_time": "2024-05-11T08:52:20.695Z"
   },
   {
    "duration": 2486,
    "start_time": "2024-05-11T08:52:25.303Z"
   },
   {
    "duration": 2874,
    "start_time": "2024-05-11T08:52:27.791Z"
   },
   {
    "duration": 0,
    "start_time": "2024-05-11T08:52:30.670Z"
   },
   {
    "duration": 0,
    "start_time": "2024-05-11T08:52:30.671Z"
   },
   {
    "duration": 0,
    "start_time": "2024-05-11T08:52:30.672Z"
   },
   {
    "duration": 0,
    "start_time": "2024-05-11T08:52:30.673Z"
   },
   {
    "duration": 0,
    "start_time": "2024-05-11T08:52:30.674Z"
   },
   {
    "duration": 0,
    "start_time": "2024-05-11T08:52:30.675Z"
   },
   {
    "duration": 0,
    "start_time": "2024-05-11T08:52:30.676Z"
   },
   {
    "duration": 0,
    "start_time": "2024-05-11T08:52:30.677Z"
   },
   {
    "duration": 0,
    "start_time": "2024-05-11T08:52:30.679Z"
   },
   {
    "duration": 0,
    "start_time": "2024-05-11T08:52:30.680Z"
   },
   {
    "duration": 0,
    "start_time": "2024-05-11T08:52:30.681Z"
   },
   {
    "duration": 0,
    "start_time": "2024-05-11T08:52:30.745Z"
   },
   {
    "duration": 0,
    "start_time": "2024-05-11T08:52:30.747Z"
   },
   {
    "duration": 0,
    "start_time": "2024-05-11T08:52:30.748Z"
   },
   {
    "duration": 0,
    "start_time": "2024-05-11T08:52:30.749Z"
   },
   {
    "duration": 0,
    "start_time": "2024-05-11T08:52:30.751Z"
   },
   {
    "duration": 0,
    "start_time": "2024-05-11T08:52:30.752Z"
   },
   {
    "duration": 0,
    "start_time": "2024-05-11T08:52:30.753Z"
   },
   {
    "duration": 0,
    "start_time": "2024-05-11T08:52:30.754Z"
   },
   {
    "duration": 0,
    "start_time": "2024-05-11T08:52:30.755Z"
   },
   {
    "duration": 0,
    "start_time": "2024-05-11T08:52:30.756Z"
   },
   {
    "duration": 1,
    "start_time": "2024-05-11T08:52:30.757Z"
   },
   {
    "duration": 0,
    "start_time": "2024-05-11T08:52:30.758Z"
   },
   {
    "duration": 0,
    "start_time": "2024-05-11T08:52:30.759Z"
   },
   {
    "duration": 0,
    "start_time": "2024-05-11T08:52:30.760Z"
   },
   {
    "duration": 0,
    "start_time": "2024-05-11T08:52:30.761Z"
   },
   {
    "duration": 0,
    "start_time": "2024-05-11T08:52:30.762Z"
   },
   {
    "duration": 0,
    "start_time": "2024-05-11T08:52:30.763Z"
   },
   {
    "duration": 0,
    "start_time": "2024-05-11T08:52:30.765Z"
   },
   {
    "duration": 0,
    "start_time": "2024-05-11T08:52:30.765Z"
   },
   {
    "duration": 0,
    "start_time": "2024-05-11T08:52:30.766Z"
   },
   {
    "duration": 0,
    "start_time": "2024-05-11T08:52:30.767Z"
   },
   {
    "duration": 0,
    "start_time": "2024-05-11T08:52:30.769Z"
   },
   {
    "duration": 0,
    "start_time": "2024-05-11T08:52:30.770Z"
   },
   {
    "duration": 0,
    "start_time": "2024-05-11T08:52:30.771Z"
   },
   {
    "duration": 0,
    "start_time": "2024-05-11T08:52:30.772Z"
   },
   {
    "duration": 0,
    "start_time": "2024-05-11T08:52:30.772Z"
   },
   {
    "duration": 0,
    "start_time": "2024-05-11T08:52:30.845Z"
   },
   {
    "duration": 0,
    "start_time": "2024-05-11T08:52:30.847Z"
   },
   {
    "duration": 0,
    "start_time": "2024-05-11T08:52:30.848Z"
   },
   {
    "duration": 0,
    "start_time": "2024-05-11T08:52:30.849Z"
   },
   {
    "duration": 0,
    "start_time": "2024-05-11T08:52:30.853Z"
   },
   {
    "duration": 2184,
    "start_time": "2024-05-11T08:53:15.144Z"
   },
   {
    "duration": 9292,
    "start_time": "2024-05-11T08:53:17.330Z"
   },
   {
    "duration": 3949,
    "start_time": "2024-05-11T08:53:26.624Z"
   },
   {
    "duration": 42,
    "start_time": "2024-05-11T08:53:30.575Z"
   },
   {
    "duration": 2154,
    "start_time": "2024-05-11T08:53:30.619Z"
   },
   {
    "duration": 26,
    "start_time": "2024-05-11T08:53:32.774Z"
   },
   {
    "duration": 43,
    "start_time": "2024-05-11T08:53:32.801Z"
   },
   {
    "duration": 228,
    "start_time": "2024-05-11T08:53:32.846Z"
   },
   {
    "duration": 149,
    "start_time": "2024-05-11T08:53:33.076Z"
   },
   {
    "duration": 7,
    "start_time": "2024-05-11T08:53:33.227Z"
   },
   {
    "duration": 669,
    "start_time": "2024-05-11T08:53:33.244Z"
   },
   {
    "duration": 3,
    "start_time": "2024-05-11T08:53:33.915Z"
   },
   {
    "duration": 5,
    "start_time": "2024-05-11T08:53:33.919Z"
   },
   {
    "duration": 3,
    "start_time": "2024-05-11T08:53:33.927Z"
   },
   {
    "duration": 48359,
    "start_time": "2024-05-11T08:53:33.932Z"
   },
   {
    "duration": 401,
    "start_time": "2024-05-11T08:54:22.293Z"
   },
   {
    "duration": 3,
    "start_time": "2024-05-11T08:54:22.695Z"
   },
   {
    "duration": 52,
    "start_time": "2024-05-11T08:54:22.699Z"
   },
   {
    "duration": 270659,
    "start_time": "2024-05-11T08:54:22.753Z"
   },
   {
    "duration": 69,
    "start_time": "2024-05-11T08:58:53.413Z"
   },
   {
    "duration": 74,
    "start_time": "2024-05-11T08:58:53.489Z"
   },
   {
    "duration": 3,
    "start_time": "2024-05-11T08:58:53.565Z"
   },
   {
    "duration": 76,
    "start_time": "2024-05-11T08:58:53.569Z"
   },
   {
    "duration": 5,
    "start_time": "2024-05-11T08:58:53.647Z"
   },
   {
    "duration": 77,
    "start_time": "2024-05-11T08:58:53.653Z"
   },
   {
    "duration": 58,
    "start_time": "2024-05-11T08:58:53.732Z"
   },
   {
    "duration": 5,
    "start_time": "2024-05-11T08:58:53.792Z"
   },
   {
    "duration": 264,
    "start_time": "2024-05-11T08:58:53.799Z"
   },
   {
    "duration": 2,
    "start_time": "2024-05-11T08:58:54.064Z"
   },
   {
    "duration": 3,
    "start_time": "2024-05-11T08:58:54.068Z"
   },
   {
    "duration": 129,
    "start_time": "2024-05-11T08:58:54.073Z"
   },
   {
    "duration": 14,
    "start_time": "2024-05-11T08:58:54.204Z"
   },
   {
    "duration": 314,
    "start_time": "2024-05-11T08:58:54.220Z"
   },
   {
    "duration": 13,
    "start_time": "2024-05-11T08:58:54.535Z"
   },
   {
    "duration": 1174,
    "start_time": "2024-05-11T08:58:54.549Z"
   },
   {
    "duration": 0,
    "start_time": "2024-05-11T08:58:55.725Z"
   },
   {
    "duration": 0,
    "start_time": "2024-05-11T08:58:55.726Z"
   },
   {
    "duration": 0,
    "start_time": "2024-05-11T08:58:55.727Z"
   },
   {
    "duration": 0,
    "start_time": "2024-05-11T08:58:55.728Z"
   },
   {
    "duration": 0,
    "start_time": "2024-05-11T08:58:55.729Z"
   },
   {
    "duration": 0,
    "start_time": "2024-05-11T08:58:55.730Z"
   },
   {
    "duration": 0,
    "start_time": "2024-05-11T08:58:55.731Z"
   },
   {
    "duration": 0,
    "start_time": "2024-05-11T08:58:55.732Z"
   },
   {
    "duration": 0,
    "start_time": "2024-05-11T08:58:55.733Z"
   },
   {
    "duration": 30,
    "start_time": "2024-05-11T09:02:02.286Z"
   },
   {
    "duration": 8,
    "start_time": "2024-05-11T09:02:08.689Z"
   },
   {
    "duration": 116,
    "start_time": "2024-05-11T09:02:10.206Z"
   },
   {
    "duration": 3,
    "start_time": "2024-05-11T09:02:12.566Z"
   },
   {
    "duration": 2,
    "start_time": "2024-05-11T09:02:17.087Z"
   },
   {
    "duration": 3,
    "start_time": "2024-05-11T09:02:50.753Z"
   },
   {
    "duration": 595873,
    "start_time": "2024-05-11T09:02:51.400Z"
   },
   {
    "duration": 0,
    "start_time": "2024-05-11T09:12:47.275Z"
   },
   {
    "duration": 2235,
    "start_time": "2024-05-11T09:12:53.770Z"
   },
   {
    "duration": 9749,
    "start_time": "2024-05-11T09:12:56.007Z"
   },
   {
    "duration": 3840,
    "start_time": "2024-05-11T09:13:05.760Z"
   },
   {
    "duration": 44,
    "start_time": "2024-05-11T09:13:09.601Z"
   },
   {
    "duration": 829,
    "start_time": "2024-05-11T09:13:09.646Z"
   },
   {
    "duration": 25,
    "start_time": "2024-05-11T09:13:10.476Z"
   },
   {
    "duration": 10,
    "start_time": "2024-05-11T09:13:10.503Z"
   },
   {
    "duration": 220,
    "start_time": "2024-05-11T09:13:10.514Z"
   },
   {
    "duration": 163,
    "start_time": "2024-05-11T09:13:10.736Z"
   },
   {
    "duration": 13,
    "start_time": "2024-05-11T09:13:10.900Z"
   },
   {
    "duration": 638,
    "start_time": "2024-05-11T09:13:10.914Z"
   },
   {
    "duration": 2,
    "start_time": "2024-05-11T09:13:11.554Z"
   },
   {
    "duration": 7,
    "start_time": "2024-05-11T09:13:11.557Z"
   },
   {
    "duration": 3,
    "start_time": "2024-05-11T09:13:11.565Z"
   },
   {
    "duration": 50438,
    "start_time": "2024-05-11T09:13:11.569Z"
   },
   {
    "duration": 424,
    "start_time": "2024-05-11T09:14:02.008Z"
   },
   {
    "duration": 11,
    "start_time": "2024-05-11T09:14:02.434Z"
   },
   {
    "duration": 68,
    "start_time": "2024-05-11T09:14:02.446Z"
   },
   {
    "duration": 281409,
    "start_time": "2024-05-11T09:14:02.516Z"
   },
   {
    "duration": 79,
    "start_time": "2024-05-11T09:18:43.926Z"
   },
   {
    "duration": 72,
    "start_time": "2024-05-11T09:18:44.007Z"
   },
   {
    "duration": 2,
    "start_time": "2024-05-11T09:18:44.081Z"
   },
   {
    "duration": 81,
    "start_time": "2024-05-11T09:18:44.085Z"
   },
   {
    "duration": 7,
    "start_time": "2024-05-11T09:18:44.168Z"
   },
   {
    "duration": 86,
    "start_time": "2024-05-11T09:18:44.176Z"
   },
   {
    "duration": 53,
    "start_time": "2024-05-11T09:18:44.264Z"
   },
   {
    "duration": 4,
    "start_time": "2024-05-11T09:18:44.320Z"
   },
   {
    "duration": 305,
    "start_time": "2024-05-11T09:18:44.325Z"
   },
   {
    "duration": 2,
    "start_time": "2024-05-11T09:18:44.631Z"
   },
   {
    "duration": 10,
    "start_time": "2024-05-11T09:18:44.635Z"
   },
   {
    "duration": 132,
    "start_time": "2024-05-11T09:18:44.647Z"
   },
   {
    "duration": 14,
    "start_time": "2024-05-11T09:18:44.780Z"
   },
   {
    "duration": 303,
    "start_time": "2024-05-11T09:18:44.795Z"
   },
   {
    "duration": 6,
    "start_time": "2024-05-11T09:18:45.099Z"
   },
   {
    "duration": 63,
    "start_time": "2024-05-11T09:18:45.106Z"
   },
   {
    "duration": 28,
    "start_time": "2024-05-11T09:18:45.171Z"
   },
   {
    "duration": 150,
    "start_time": "2024-05-11T09:18:45.201Z"
   },
   {
    "duration": 3,
    "start_time": "2024-05-11T09:18:45.352Z"
   },
   {
    "duration": 23,
    "start_time": "2024-05-11T09:18:45.356Z"
   },
   {
    "duration": 33,
    "start_time": "2024-05-11T09:18:45.380Z"
   },
   {
    "duration": 1482587,
    "start_time": "2024-05-11T09:18:45.414Z"
   },
   {
    "duration": 1,
    "start_time": "2024-05-11T09:43:28.002Z"
   },
   {
    "duration": 0,
    "start_time": "2024-05-11T09:43:28.004Z"
   },
   {
    "duration": 0,
    "start_time": "2024-05-11T09:43:28.004Z"
   }
  ],
  "kernelspec": {
   "display_name": "Python 3 (ipykernel)",
   "language": "python",
   "name": "python3"
  },
  "language_info": {
   "codemirror_mode": {
    "name": "ipython",
    "version": 3
   },
   "file_extension": ".py",
   "mimetype": "text/x-python",
   "name": "python",
   "nbconvert_exporter": "python",
   "pygments_lexer": "ipython3",
   "version": "3.11.5"
  },
  "toc": {
   "base_numbering": 1,
   "nav_menu": {},
   "number_sections": true,
   "sideBar": true,
   "skip_h1_title": true,
   "title_cell": "Содержание",
   "title_sidebar": "Contents",
   "toc_cell": true,
   "toc_position": {
    "height": "calc(100% - 180px)",
    "left": "10px",
    "top": "150px",
    "width": "181.391px"
   },
   "toc_section_display": true,
   "toc_window_display": true
  }
 },
 "nbformat": 4,
 "nbformat_minor": 2
}
