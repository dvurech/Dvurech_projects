{
 "cells": [
  {
   "cell_type": "markdown",
   "metadata": {},
   "source": [
    "# Определение стоимости автомобилей"
   ]
  },
  {
   "cell_type": "markdown",
   "metadata": {},
   "source": [
    "## Описание задачи"
   ]
  },
  {
   "cell_type": "markdown",
   "metadata": {},
   "source": [
    "Необходимо построить модель по определению рыночной стоимости автомобиля. Даны исторические данные: технические характеристики, комплектации и цены автомобилей.\n",
    "\n",
    "Важные параметры модели:\n",
    "\n",
    "- качество предсказания;\n",
    "- скорость предсказания;\n",
    "- время обучения."
   ]
  },
  {
   "cell_type": "markdown",
   "metadata": {},
   "source": [
    "Импорт библиотек"
   ]
  },
  {
   "cell_type": "code",
   "execution_count": 1,
   "metadata": {},
   "outputs": [
    {
     "name": "stdout",
     "output_type": "stream",
     "text": [
      "Requirement already satisfied: lightgbm in /opt/conda/lib/python3.9/site-packages (3.3.1)\n",
      "Requirement already satisfied: scipy in /opt/conda/lib/python3.9/site-packages (from lightgbm) (1.9.1)\n",
      "Requirement already satisfied: wheel in /opt/conda/lib/python3.9/site-packages (from lightgbm) (0.36.2)\n",
      "Requirement already satisfied: scikit-learn!=0.22.0 in /opt/conda/lib/python3.9/site-packages (from lightgbm) (0.24.1)\n",
      "Requirement already satisfied: numpy in /opt/conda/lib/python3.9/site-packages (from lightgbm) (1.21.1)\n",
      "Requirement already satisfied: joblib>=0.11 in /opt/conda/lib/python3.9/site-packages (from scikit-learn!=0.22.0->lightgbm) (1.1.0)\n",
      "Requirement already satisfied: threadpoolctl>=2.0.0 in /opt/conda/lib/python3.9/site-packages (from scikit-learn!=0.22.0->lightgbm) (3.1.0)\n"
     ]
    }
   ],
   "source": [
    "!pip install phik -q \n",
    "!pip install lightgbm"
   ]
  },
  {
   "cell_type": "code",
   "execution_count": 2,
   "metadata": {},
   "outputs": [],
   "source": [
    "import pandas as pd\n",
    "import seaborn as sns\n",
    "import matplotlib.pyplot as plt\n",
    "import phik\n",
    "import lightgbm\n",
    "import numpy as np \n",
    "import time"
   ]
  },
  {
   "cell_type": "code",
   "execution_count": 3,
   "metadata": {},
   "outputs": [],
   "source": [
    "from phik.report import plot_correlation_matrix\n",
    "from phik import phik_matrix\n",
    "from sklearn.pipeline import Pipeline\n",
    "from sklearn.metrics import make_scorer, mean_squared_error\n",
    "from sklearn.model_selection import train_test_split, GridSearchCV\n",
    "from sklearn.compose import ColumnTransformer\n",
    "from sklearn.impute import SimpleImputer\n",
    "from sklearn.preprocessing import (\n",
    "    OneHotEncoder, \n",
    "    OrdinalEncoder, \n",
    "    StandardScaler, \n",
    "    MinMaxScaler,\n",
    "    RobustScaler\n",
    "    )\n",
    "from sklearn.tree import DecisionTreeRegressor\n",
    "from lightgbm import LGBMRegressor\n",
    "from sklearn.linear_model import LinearRegression"
   ]
  },
  {
   "cell_type": "code",
   "execution_count": 4,
   "metadata": {},
   "outputs": [],
   "source": [
    "# константы\n",
    "TEST_SIZE = 0.25\n",
    "RANDOM_STATE = 36"
   ]
  },
  {
   "cell_type": "markdown",
   "metadata": {},
   "source": [
    "## Подготовка данных"
   ]
  },
  {
   "cell_type": "code",
   "execution_count": 5,
   "metadata": {},
   "outputs": [],
   "source": [
    "df = pd.read_csv('/datasets/autos.csv')"
   ]
  },
  {
   "cell_type": "code",
   "execution_count": 6,
   "metadata": {},
   "outputs": [],
   "source": [
    "def watch_df(df):\n",
    "    display(df.info())\n",
    "    display(df.sample(15))"
   ]
  },
  {
   "cell_type": "code",
   "execution_count": 7,
   "metadata": {
    "scrolled": true
   },
   "outputs": [
    {
     "data": {
      "text/html": [
       "<div>\n",
       "<style scoped>\n",
       "    .dataframe tbody tr th:only-of-type {\n",
       "        vertical-align: middle;\n",
       "    }\n",
       "\n",
       "    .dataframe tbody tr th {\n",
       "        vertical-align: top;\n",
       "    }\n",
       "\n",
       "    .dataframe thead th {\n",
       "        text-align: right;\n",
       "    }\n",
       "</style>\n",
       "<table border=\"1\" class=\"dataframe\">\n",
       "  <thead>\n",
       "    <tr style=\"text-align: right;\">\n",
       "      <th></th>\n",
       "      <th>DateCrawled</th>\n",
       "      <th>Price</th>\n",
       "      <th>VehicleType</th>\n",
       "      <th>RegistrationYear</th>\n",
       "      <th>Gearbox</th>\n",
       "      <th>Power</th>\n",
       "      <th>Model</th>\n",
       "      <th>Kilometer</th>\n",
       "      <th>RegistrationMonth</th>\n",
       "      <th>FuelType</th>\n",
       "      <th>Brand</th>\n",
       "      <th>Repaired</th>\n",
       "      <th>DateCreated</th>\n",
       "      <th>NumberOfPictures</th>\n",
       "      <th>PostalCode</th>\n",
       "      <th>LastSeen</th>\n",
       "    </tr>\n",
       "  </thead>\n",
       "  <tbody>\n",
       "    <tr>\n",
       "      <th>41529</th>\n",
       "      <td>2016-03-18 18:46:15</td>\n",
       "      <td>1999</td>\n",
       "      <td>wagon</td>\n",
       "      <td>2001</td>\n",
       "      <td>manual</td>\n",
       "      <td>131</td>\n",
       "      <td>passat</td>\n",
       "      <td>150000</td>\n",
       "      <td>7</td>\n",
       "      <td>gasoline</td>\n",
       "      <td>volkswagen</td>\n",
       "      <td>no</td>\n",
       "      <td>2016-03-18 00:00:00</td>\n",
       "      <td>0</td>\n",
       "      <td>36391</td>\n",
       "      <td>2016-03-18 18:46:15</td>\n",
       "    </tr>\n",
       "    <tr>\n",
       "      <th>88087</th>\n",
       "      <td>2016-03-08 18:42:48</td>\n",
       "      <td>1799</td>\n",
       "      <td>coupe</td>\n",
       "      <td>1999</td>\n",
       "      <td>auto</td>\n",
       "      <td>193</td>\n",
       "      <td>clk</td>\n",
       "      <td>20000</td>\n",
       "      <td>7</td>\n",
       "      <td>petrol</td>\n",
       "      <td>mercedes_benz</td>\n",
       "      <td>no</td>\n",
       "      <td>2016-03-08 00:00:00</td>\n",
       "      <td>0</td>\n",
       "      <td>89518</td>\n",
       "      <td>2016-03-09 09:46:57</td>\n",
       "    </tr>\n",
       "    <tr>\n",
       "      <th>90964</th>\n",
       "      <td>2016-03-28 00:56:10</td>\n",
       "      <td>1000</td>\n",
       "      <td>small</td>\n",
       "      <td>2002</td>\n",
       "      <td>manual</td>\n",
       "      <td>83</td>\n",
       "      <td>other</td>\n",
       "      <td>150000</td>\n",
       "      <td>1</td>\n",
       "      <td>petrol</td>\n",
       "      <td>suzuki</td>\n",
       "      <td>no</td>\n",
       "      <td>2016-03-28 00:00:00</td>\n",
       "      <td>0</td>\n",
       "      <td>66589</td>\n",
       "      <td>2016-03-28 08:46:21</td>\n",
       "    </tr>\n",
       "    <tr>\n",
       "      <th>171088</th>\n",
       "      <td>2016-03-08 18:42:48</td>\n",
       "      <td>1799</td>\n",
       "      <td>coupe</td>\n",
       "      <td>1999</td>\n",
       "      <td>auto</td>\n",
       "      <td>193</td>\n",
       "      <td>clk</td>\n",
       "      <td>20000</td>\n",
       "      <td>7</td>\n",
       "      <td>petrol</td>\n",
       "      <td>mercedes_benz</td>\n",
       "      <td>no</td>\n",
       "      <td>2016-03-08 00:00:00</td>\n",
       "      <td>0</td>\n",
       "      <td>89518</td>\n",
       "      <td>2016-03-09 09:46:57</td>\n",
       "    </tr>\n",
       "    <tr>\n",
       "      <th>187735</th>\n",
       "      <td>2016-04-03 09:01:15</td>\n",
       "      <td>4699</td>\n",
       "      <td>coupe</td>\n",
       "      <td>2003</td>\n",
       "      <td>auto</td>\n",
       "      <td>218</td>\n",
       "      <td>clk</td>\n",
       "      <td>125000</td>\n",
       "      <td>6</td>\n",
       "      <td>petrol</td>\n",
       "      <td>mercedes_benz</td>\n",
       "      <td>yes</td>\n",
       "      <td>2016-04-03 00:00:00</td>\n",
       "      <td>0</td>\n",
       "      <td>75196</td>\n",
       "      <td>2016-04-07 09:44:54</td>\n",
       "    </tr>\n",
       "    <tr>\n",
       "      <th>231258</th>\n",
       "      <td>2016-03-28 00:56:10</td>\n",
       "      <td>1000</td>\n",
       "      <td>small</td>\n",
       "      <td>2002</td>\n",
       "      <td>manual</td>\n",
       "      <td>83</td>\n",
       "      <td>other</td>\n",
       "      <td>150000</td>\n",
       "      <td>1</td>\n",
       "      <td>petrol</td>\n",
       "      <td>suzuki</td>\n",
       "      <td>no</td>\n",
       "      <td>2016-03-28 00:00:00</td>\n",
       "      <td>0</td>\n",
       "      <td>66589</td>\n",
       "      <td>2016-03-28 08:46:21</td>\n",
       "    </tr>\n",
       "    <tr>\n",
       "      <th>258109</th>\n",
       "      <td>2016-04-03 09:01:15</td>\n",
       "      <td>4699</td>\n",
       "      <td>coupe</td>\n",
       "      <td>2003</td>\n",
       "      <td>auto</td>\n",
       "      <td>218</td>\n",
       "      <td>clk</td>\n",
       "      <td>125000</td>\n",
       "      <td>6</td>\n",
       "      <td>petrol</td>\n",
       "      <td>mercedes_benz</td>\n",
       "      <td>yes</td>\n",
       "      <td>2016-04-03 00:00:00</td>\n",
       "      <td>0</td>\n",
       "      <td>75196</td>\n",
       "      <td>2016-04-07 09:44:54</td>\n",
       "    </tr>\n",
       "    <tr>\n",
       "      <th>325651</th>\n",
       "      <td>2016-03-18 18:46:15</td>\n",
       "      <td>1999</td>\n",
       "      <td>wagon</td>\n",
       "      <td>2001</td>\n",
       "      <td>manual</td>\n",
       "      <td>131</td>\n",
       "      <td>passat</td>\n",
       "      <td>150000</td>\n",
       "      <td>7</td>\n",
       "      <td>gasoline</td>\n",
       "      <td>volkswagen</td>\n",
       "      <td>no</td>\n",
       "      <td>2016-03-18 00:00:00</td>\n",
       "      <td>0</td>\n",
       "      <td>36391</td>\n",
       "      <td>2016-03-18 18:46:15</td>\n",
       "    </tr>\n",
       "  </tbody>\n",
       "</table>\n",
       "</div>"
      ],
      "text/plain": [
       "                DateCrawled  Price VehicleType  RegistrationYear Gearbox  \\\n",
       "41529   2016-03-18 18:46:15   1999       wagon              2001  manual   \n",
       "88087   2016-03-08 18:42:48   1799       coupe              1999    auto   \n",
       "90964   2016-03-28 00:56:10   1000       small              2002  manual   \n",
       "171088  2016-03-08 18:42:48   1799       coupe              1999    auto   \n",
       "187735  2016-04-03 09:01:15   4699       coupe              2003    auto   \n",
       "231258  2016-03-28 00:56:10   1000       small              2002  manual   \n",
       "258109  2016-04-03 09:01:15   4699       coupe              2003    auto   \n",
       "325651  2016-03-18 18:46:15   1999       wagon              2001  manual   \n",
       "\n",
       "        Power   Model  Kilometer  RegistrationMonth  FuelType          Brand  \\\n",
       "41529     131  passat     150000                  7  gasoline     volkswagen   \n",
       "88087     193     clk      20000                  7    petrol  mercedes_benz   \n",
       "90964      83   other     150000                  1    petrol         suzuki   \n",
       "171088    193     clk      20000                  7    petrol  mercedes_benz   \n",
       "187735    218     clk     125000                  6    petrol  mercedes_benz   \n",
       "231258     83   other     150000                  1    petrol         suzuki   \n",
       "258109    218     clk     125000                  6    petrol  mercedes_benz   \n",
       "325651    131  passat     150000                  7  gasoline     volkswagen   \n",
       "\n",
       "       Repaired          DateCreated  NumberOfPictures  PostalCode  \\\n",
       "41529        no  2016-03-18 00:00:00                 0       36391   \n",
       "88087        no  2016-03-08 00:00:00                 0       89518   \n",
       "90964        no  2016-03-28 00:00:00                 0       66589   \n",
       "171088       no  2016-03-08 00:00:00                 0       89518   \n",
       "187735      yes  2016-04-03 00:00:00                 0       75196   \n",
       "231258       no  2016-03-28 00:00:00                 0       66589   \n",
       "258109      yes  2016-04-03 00:00:00                 0       75196   \n",
       "325651       no  2016-03-18 00:00:00                 0       36391   \n",
       "\n",
       "                   LastSeen  \n",
       "41529   2016-03-18 18:46:15  \n",
       "88087   2016-03-09 09:46:57  \n",
       "90964   2016-03-28 08:46:21  \n",
       "171088  2016-03-09 09:46:57  \n",
       "187735  2016-04-07 09:44:54  \n",
       "231258  2016-03-28 08:46:21  \n",
       "258109  2016-04-07 09:44:54  \n",
       "325651  2016-03-18 18:46:15  "
      ]
     },
     "metadata": {},
     "output_type": "display_data"
    }
   ],
   "source": [
    "display(df.loc[df.duplicated(keep=False)]) #проверка полных дубликатов"
   ]
  },
  {
   "cell_type": "code",
   "execution_count": 8,
   "metadata": {},
   "outputs": [],
   "source": [
    "df = df.drop_duplicates()"
   ]
  },
  {
   "cell_type": "code",
   "execution_count": 9,
   "metadata": {},
   "outputs": [
    {
     "name": "stdout",
     "output_type": "stream",
     "text": [
      "<class 'pandas.core.frame.DataFrame'>\n",
      "Int64Index: 354365 entries, 0 to 354368\n",
      "Data columns (total 16 columns):\n",
      " #   Column             Non-Null Count   Dtype \n",
      "---  ------             --------------   ----- \n",
      " 0   DateCrawled        354365 non-null  object\n",
      " 1   Price              354365 non-null  int64 \n",
      " 2   VehicleType        316875 non-null  object\n",
      " 3   RegistrationYear   354365 non-null  int64 \n",
      " 4   Gearbox            334532 non-null  object\n",
      " 5   Power              354365 non-null  int64 \n",
      " 6   Model              334660 non-null  object\n",
      " 7   Kilometer          354365 non-null  int64 \n",
      " 8   RegistrationMonth  354365 non-null  int64 \n",
      " 9   FuelType           321470 non-null  object\n",
      " 10  Brand              354365 non-null  object\n",
      " 11  Repaired           283211 non-null  object\n",
      " 12  DateCreated        354365 non-null  object\n",
      " 13  NumberOfPictures   354365 non-null  int64 \n",
      " 14  PostalCode         354365 non-null  int64 \n",
      " 15  LastSeen           354365 non-null  object\n",
      "dtypes: int64(7), object(9)\n",
      "memory usage: 46.0+ MB\n"
     ]
    },
    {
     "data": {
      "text/plain": [
       "None"
      ]
     },
     "metadata": {},
     "output_type": "display_data"
    },
    {
     "data": {
      "text/html": [
       "<div>\n",
       "<style scoped>\n",
       "    .dataframe tbody tr th:only-of-type {\n",
       "        vertical-align: middle;\n",
       "    }\n",
       "\n",
       "    .dataframe tbody tr th {\n",
       "        vertical-align: top;\n",
       "    }\n",
       "\n",
       "    .dataframe thead th {\n",
       "        text-align: right;\n",
       "    }\n",
       "</style>\n",
       "<table border=\"1\" class=\"dataframe\">\n",
       "  <thead>\n",
       "    <tr style=\"text-align: right;\">\n",
       "      <th></th>\n",
       "      <th>DateCrawled</th>\n",
       "      <th>Price</th>\n",
       "      <th>VehicleType</th>\n",
       "      <th>RegistrationYear</th>\n",
       "      <th>Gearbox</th>\n",
       "      <th>Power</th>\n",
       "      <th>Model</th>\n",
       "      <th>Kilometer</th>\n",
       "      <th>RegistrationMonth</th>\n",
       "      <th>FuelType</th>\n",
       "      <th>Brand</th>\n",
       "      <th>Repaired</th>\n",
       "      <th>DateCreated</th>\n",
       "      <th>NumberOfPictures</th>\n",
       "      <th>PostalCode</th>\n",
       "      <th>LastSeen</th>\n",
       "    </tr>\n",
       "  </thead>\n",
       "  <tbody>\n",
       "    <tr>\n",
       "      <th>310243</th>\n",
       "      <td>2016-04-01 15:42:40</td>\n",
       "      <td>1000</td>\n",
       "      <td>bus</td>\n",
       "      <td>2000</td>\n",
       "      <td>manual</td>\n",
       "      <td>0</td>\n",
       "      <td>galaxy</td>\n",
       "      <td>150000</td>\n",
       "      <td>6</td>\n",
       "      <td>petrol</td>\n",
       "      <td>ford</td>\n",
       "      <td>NaN</td>\n",
       "      <td>2016-04-01 00:00:00</td>\n",
       "      <td>0</td>\n",
       "      <td>53175</td>\n",
       "      <td>2016-04-07 12:46:30</td>\n",
       "    </tr>\n",
       "    <tr>\n",
       "      <th>180316</th>\n",
       "      <td>2016-03-05 19:50:00</td>\n",
       "      <td>13999</td>\n",
       "      <td>wagon</td>\n",
       "      <td>1969</td>\n",
       "      <td>manual</td>\n",
       "      <td>19</td>\n",
       "      <td>500</td>\n",
       "      <td>60000</td>\n",
       "      <td>7</td>\n",
       "      <td>petrol</td>\n",
       "      <td>fiat</td>\n",
       "      <td>no</td>\n",
       "      <td>2016-03-05 00:00:00</td>\n",
       "      <td>0</td>\n",
       "      <td>79291</td>\n",
       "      <td>2016-04-07 14:32:46</td>\n",
       "    </tr>\n",
       "    <tr>\n",
       "      <th>6323</th>\n",
       "      <td>2016-03-19 14:46:11</td>\n",
       "      <td>1200</td>\n",
       "      <td>NaN</td>\n",
       "      <td>2017</td>\n",
       "      <td>manual</td>\n",
       "      <td>114</td>\n",
       "      <td>NaN</td>\n",
       "      <td>150000</td>\n",
       "      <td>1</td>\n",
       "      <td>petrol</td>\n",
       "      <td>renault</td>\n",
       "      <td>no</td>\n",
       "      <td>2016-03-19 00:00:00</td>\n",
       "      <td>0</td>\n",
       "      <td>66773</td>\n",
       "      <td>2016-03-30 07:47:22</td>\n",
       "    </tr>\n",
       "    <tr>\n",
       "      <th>305464</th>\n",
       "      <td>2016-03-14 19:45:48</td>\n",
       "      <td>4899</td>\n",
       "      <td>sedan</td>\n",
       "      <td>2006</td>\n",
       "      <td>manual</td>\n",
       "      <td>110</td>\n",
       "      <td>corolla</td>\n",
       "      <td>90000</td>\n",
       "      <td>4</td>\n",
       "      <td>petrol</td>\n",
       "      <td>toyota</td>\n",
       "      <td>no</td>\n",
       "      <td>2016-03-14 00:00:00</td>\n",
       "      <td>0</td>\n",
       "      <td>57319</td>\n",
       "      <td>2016-03-28 05:17:27</td>\n",
       "    </tr>\n",
       "    <tr>\n",
       "      <th>274617</th>\n",
       "      <td>2016-03-25 13:43:53</td>\n",
       "      <td>3600</td>\n",
       "      <td>wagon</td>\n",
       "      <td>2003</td>\n",
       "      <td>manual</td>\n",
       "      <td>131</td>\n",
       "      <td>mondeo</td>\n",
       "      <td>150000</td>\n",
       "      <td>3</td>\n",
       "      <td>gasoline</td>\n",
       "      <td>ford</td>\n",
       "      <td>no</td>\n",
       "      <td>2016-03-25 00:00:00</td>\n",
       "      <td>0</td>\n",
       "      <td>90765</td>\n",
       "      <td>2016-04-06 15:44:49</td>\n",
       "    </tr>\n",
       "    <tr>\n",
       "      <th>285377</th>\n",
       "      <td>2016-04-01 06:37:08</td>\n",
       "      <td>890</td>\n",
       "      <td>bus</td>\n",
       "      <td>2003</td>\n",
       "      <td>manual</td>\n",
       "      <td>116</td>\n",
       "      <td>other</td>\n",
       "      <td>150000</td>\n",
       "      <td>4</td>\n",
       "      <td>petrol</td>\n",
       "      <td>citroen</td>\n",
       "      <td>no</td>\n",
       "      <td>2016-04-01 00:00:00</td>\n",
       "      <td>0</td>\n",
       "      <td>57072</td>\n",
       "      <td>2016-04-07 06:15:41</td>\n",
       "    </tr>\n",
       "    <tr>\n",
       "      <th>68179</th>\n",
       "      <td>2016-03-20 10:47:50</td>\n",
       "      <td>250</td>\n",
       "      <td>sedan</td>\n",
       "      <td>1998</td>\n",
       "      <td>auto</td>\n",
       "      <td>101</td>\n",
       "      <td>vectra</td>\n",
       "      <td>150000</td>\n",
       "      <td>2</td>\n",
       "      <td>petrol</td>\n",
       "      <td>opel</td>\n",
       "      <td>NaN</td>\n",
       "      <td>2016-03-20 00:00:00</td>\n",
       "      <td>0</td>\n",
       "      <td>89257</td>\n",
       "      <td>2016-04-06 07:16:51</td>\n",
       "    </tr>\n",
       "    <tr>\n",
       "      <th>183121</th>\n",
       "      <td>2016-03-08 09:52:37</td>\n",
       "      <td>1700</td>\n",
       "      <td>NaN</td>\n",
       "      <td>2016</td>\n",
       "      <td>manual</td>\n",
       "      <td>150</td>\n",
       "      <td>golf</td>\n",
       "      <td>150000</td>\n",
       "      <td>0</td>\n",
       "      <td>NaN</td>\n",
       "      <td>volkswagen</td>\n",
       "      <td>yes</td>\n",
       "      <td>2016-03-08 00:00:00</td>\n",
       "      <td>0</td>\n",
       "      <td>23568</td>\n",
       "      <td>2016-04-06 20:19:28</td>\n",
       "    </tr>\n",
       "    <tr>\n",
       "      <th>58087</th>\n",
       "      <td>2016-03-05 23:47:38</td>\n",
       "      <td>20000</td>\n",
       "      <td>sedan</td>\n",
       "      <td>2012</td>\n",
       "      <td>auto</td>\n",
       "      <td>143</td>\n",
       "      <td>1er</td>\n",
       "      <td>60000</td>\n",
       "      <td>6</td>\n",
       "      <td>gasoline</td>\n",
       "      <td>bmw</td>\n",
       "      <td>no</td>\n",
       "      <td>2016-03-05 00:00:00</td>\n",
       "      <td>0</td>\n",
       "      <td>49808</td>\n",
       "      <td>2016-04-07 13:16:01</td>\n",
       "    </tr>\n",
       "    <tr>\n",
       "      <th>84910</th>\n",
       "      <td>2016-03-28 15:45:43</td>\n",
       "      <td>1999</td>\n",
       "      <td>sedan</td>\n",
       "      <td>1989</td>\n",
       "      <td>manual</td>\n",
       "      <td>116</td>\n",
       "      <td>golf</td>\n",
       "      <td>125000</td>\n",
       "      <td>3</td>\n",
       "      <td>petrol</td>\n",
       "      <td>volkswagen</td>\n",
       "      <td>no</td>\n",
       "      <td>2016-03-28 00:00:00</td>\n",
       "      <td>0</td>\n",
       "      <td>41539</td>\n",
       "      <td>2016-04-01 00:15:21</td>\n",
       "    </tr>\n",
       "    <tr>\n",
       "      <th>285217</th>\n",
       "      <td>2016-03-27 21:55:53</td>\n",
       "      <td>8500</td>\n",
       "      <td>suv</td>\n",
       "      <td>2005</td>\n",
       "      <td>manual</td>\n",
       "      <td>150</td>\n",
       "      <td>x_reihe</td>\n",
       "      <td>5000</td>\n",
       "      <td>2</td>\n",
       "      <td>gasoline</td>\n",
       "      <td>bmw</td>\n",
       "      <td>no</td>\n",
       "      <td>2016-03-27 00:00:00</td>\n",
       "      <td>0</td>\n",
       "      <td>59077</td>\n",
       "      <td>2016-03-29 12:18:32</td>\n",
       "    </tr>\n",
       "    <tr>\n",
       "      <th>144488</th>\n",
       "      <td>2016-03-23 10:48:40</td>\n",
       "      <td>8500</td>\n",
       "      <td>small</td>\n",
       "      <td>2010</td>\n",
       "      <td>manual</td>\n",
       "      <td>120</td>\n",
       "      <td>other</td>\n",
       "      <td>80000</td>\n",
       "      <td>11</td>\n",
       "      <td>gasoline</td>\n",
       "      <td>alfa_romeo</td>\n",
       "      <td>no</td>\n",
       "      <td>2016-03-23 00:00:00</td>\n",
       "      <td>0</td>\n",
       "      <td>72574</td>\n",
       "      <td>2016-04-07 11:15:56</td>\n",
       "    </tr>\n",
       "    <tr>\n",
       "      <th>37533</th>\n",
       "      <td>2016-03-07 22:57:31</td>\n",
       "      <td>950</td>\n",
       "      <td>small</td>\n",
       "      <td>1998</td>\n",
       "      <td>auto</td>\n",
       "      <td>58</td>\n",
       "      <td>twingo</td>\n",
       "      <td>125000</td>\n",
       "      <td>8</td>\n",
       "      <td>petrol</td>\n",
       "      <td>renault</td>\n",
       "      <td>no</td>\n",
       "      <td>2016-03-07 00:00:00</td>\n",
       "      <td>0</td>\n",
       "      <td>66564</td>\n",
       "      <td>2016-03-31 02:44:47</td>\n",
       "    </tr>\n",
       "    <tr>\n",
       "      <th>334251</th>\n",
       "      <td>2016-03-27 16:58:31</td>\n",
       "      <td>600</td>\n",
       "      <td>small</td>\n",
       "      <td>2002</td>\n",
       "      <td>manual</td>\n",
       "      <td>58</td>\n",
       "      <td>twingo</td>\n",
       "      <td>150000</td>\n",
       "      <td>2</td>\n",
       "      <td>petrol</td>\n",
       "      <td>renault</td>\n",
       "      <td>no</td>\n",
       "      <td>2016-03-27 00:00:00</td>\n",
       "      <td>0</td>\n",
       "      <td>42929</td>\n",
       "      <td>2016-03-30 22:45:52</td>\n",
       "    </tr>\n",
       "    <tr>\n",
       "      <th>344141</th>\n",
       "      <td>2016-03-07 02:51:42</td>\n",
       "      <td>0</td>\n",
       "      <td>NaN</td>\n",
       "      <td>1990</td>\n",
       "      <td>NaN</td>\n",
       "      <td>0</td>\n",
       "      <td>601</td>\n",
       "      <td>40000</td>\n",
       "      <td>0</td>\n",
       "      <td>NaN</td>\n",
       "      <td>trabant</td>\n",
       "      <td>NaN</td>\n",
       "      <td>2016-03-07 00:00:00</td>\n",
       "      <td>0</td>\n",
       "      <td>37308</td>\n",
       "      <td>2016-03-08 13:17:48</td>\n",
       "    </tr>\n",
       "  </tbody>\n",
       "</table>\n",
       "</div>"
      ],
      "text/plain": [
       "                DateCrawled  Price VehicleType  RegistrationYear Gearbox  \\\n",
       "310243  2016-04-01 15:42:40   1000         bus              2000  manual   \n",
       "180316  2016-03-05 19:50:00  13999       wagon              1969  manual   \n",
       "6323    2016-03-19 14:46:11   1200         NaN              2017  manual   \n",
       "305464  2016-03-14 19:45:48   4899       sedan              2006  manual   \n",
       "274617  2016-03-25 13:43:53   3600       wagon              2003  manual   \n",
       "285377  2016-04-01 06:37:08    890         bus              2003  manual   \n",
       "68179   2016-03-20 10:47:50    250       sedan              1998    auto   \n",
       "183121  2016-03-08 09:52:37   1700         NaN              2016  manual   \n",
       "58087   2016-03-05 23:47:38  20000       sedan              2012    auto   \n",
       "84910   2016-03-28 15:45:43   1999       sedan              1989  manual   \n",
       "285217  2016-03-27 21:55:53   8500         suv              2005  manual   \n",
       "144488  2016-03-23 10:48:40   8500       small              2010  manual   \n",
       "37533   2016-03-07 22:57:31    950       small              1998    auto   \n",
       "334251  2016-03-27 16:58:31    600       small              2002  manual   \n",
       "344141  2016-03-07 02:51:42      0         NaN              1990     NaN   \n",
       "\n",
       "        Power    Model  Kilometer  RegistrationMonth  FuelType       Brand  \\\n",
       "310243      0   galaxy     150000                  6    petrol        ford   \n",
       "180316     19      500      60000                  7    petrol        fiat   \n",
       "6323      114      NaN     150000                  1    petrol     renault   \n",
       "305464    110  corolla      90000                  4    petrol      toyota   \n",
       "274617    131   mondeo     150000                  3  gasoline        ford   \n",
       "285377    116    other     150000                  4    petrol     citroen   \n",
       "68179     101   vectra     150000                  2    petrol        opel   \n",
       "183121    150     golf     150000                  0       NaN  volkswagen   \n",
       "58087     143      1er      60000                  6  gasoline         bmw   \n",
       "84910     116     golf     125000                  3    petrol  volkswagen   \n",
       "285217    150  x_reihe       5000                  2  gasoline         bmw   \n",
       "144488    120    other      80000                 11  gasoline  alfa_romeo   \n",
       "37533      58   twingo     125000                  8    petrol     renault   \n",
       "334251     58   twingo     150000                  2    petrol     renault   \n",
       "344141      0      601      40000                  0       NaN     trabant   \n",
       "\n",
       "       Repaired          DateCreated  NumberOfPictures  PostalCode  \\\n",
       "310243      NaN  2016-04-01 00:00:00                 0       53175   \n",
       "180316       no  2016-03-05 00:00:00                 0       79291   \n",
       "6323         no  2016-03-19 00:00:00                 0       66773   \n",
       "305464       no  2016-03-14 00:00:00                 0       57319   \n",
       "274617       no  2016-03-25 00:00:00                 0       90765   \n",
       "285377       no  2016-04-01 00:00:00                 0       57072   \n",
       "68179       NaN  2016-03-20 00:00:00                 0       89257   \n",
       "183121      yes  2016-03-08 00:00:00                 0       23568   \n",
       "58087        no  2016-03-05 00:00:00                 0       49808   \n",
       "84910        no  2016-03-28 00:00:00                 0       41539   \n",
       "285217       no  2016-03-27 00:00:00                 0       59077   \n",
       "144488       no  2016-03-23 00:00:00                 0       72574   \n",
       "37533        no  2016-03-07 00:00:00                 0       66564   \n",
       "334251       no  2016-03-27 00:00:00                 0       42929   \n",
       "344141      NaN  2016-03-07 00:00:00                 0       37308   \n",
       "\n",
       "                   LastSeen  \n",
       "310243  2016-04-07 12:46:30  \n",
       "180316  2016-04-07 14:32:46  \n",
       "6323    2016-03-30 07:47:22  \n",
       "305464  2016-03-28 05:17:27  \n",
       "274617  2016-04-06 15:44:49  \n",
       "285377  2016-04-07 06:15:41  \n",
       "68179   2016-04-06 07:16:51  \n",
       "183121  2016-04-06 20:19:28  \n",
       "58087   2016-04-07 13:16:01  \n",
       "84910   2016-04-01 00:15:21  \n",
       "285217  2016-03-29 12:18:32  \n",
       "144488  2016-04-07 11:15:56  \n",
       "37533   2016-03-31 02:44:47  \n",
       "334251  2016-03-30 22:45:52  \n",
       "344141  2016-03-08 13:17:48  "
      ]
     },
     "metadata": {},
     "output_type": "display_data"
    }
   ],
   "source": [
    "watch_df(df)"
   ]
  },
  {
   "cell_type": "markdown",
   "metadata": {},
   "source": [
    "Удаляю столбцы, не нужные для определения стоимости: DateCrawled, DateCreated, PostalCode, LastSeen, NumberOfPictures, RegistrationMonth"
   ]
  },
  {
   "cell_type": "code",
   "execution_count": 10,
   "metadata": {},
   "outputs": [
    {
     "name": "stdout",
     "output_type": "stream",
     "text": [
      "2016-04-07 14:36:58\n",
      "<class 'pandas.core.frame.DataFrame'>\n",
      "Int64Index: 354365 entries, 0 to 354368\n",
      "Data columns (total 16 columns):\n",
      " #   Column             Non-Null Count   Dtype         \n",
      "---  ------             --------------   -----         \n",
      " 0   DateCrawled        354365 non-null  datetime64[ns]\n",
      " 1   Price              354365 non-null  int64         \n",
      " 2   VehicleType        316875 non-null  object        \n",
      " 3   RegistrationYear   354365 non-null  int64         \n",
      " 4   Gearbox            334532 non-null  object        \n",
      " 5   Power              354365 non-null  int64         \n",
      " 6   Model              334660 non-null  object        \n",
      " 7   Kilometer          354365 non-null  int64         \n",
      " 8   RegistrationMonth  354365 non-null  int64         \n",
      " 9   FuelType           321470 non-null  object        \n",
      " 10  Brand              354365 non-null  object        \n",
      " 11  Repaired           283211 non-null  object        \n",
      " 12  DateCreated        354365 non-null  object        \n",
      " 13  NumberOfPictures   354365 non-null  int64         \n",
      " 14  PostalCode         354365 non-null  int64         \n",
      " 15  LastSeen           354365 non-null  object        \n",
      "dtypes: datetime64[ns](1), int64(7), object(8)\n",
      "memory usage: 46.0+ MB\n",
      "None\n"
     ]
    }
   ],
   "source": [
    "df['DateCrawled'] = pd.to_datetime(df['DateCrawled'])\n",
    "print(df['DateCrawled'].max())\n",
    "\n",
    "print(df.info())"
   ]
  },
  {
   "cell_type": "code",
   "execution_count": 11,
   "metadata": {},
   "outputs": [],
   "source": [
    "future_cars = df.loc[(df['RegistrationYear'] >= 2016) & (df['RegistrationMonth'] > 5)].index # автомобили из будущего\n",
    "\n",
    "df.drop(index = future_cars, inplace = True)"
   ]
  },
  {
   "cell_type": "code",
   "execution_count": 12,
   "metadata": {
    "scrolled": true
   },
   "outputs": [
    {
     "name": "stdout",
     "output_type": "stream",
     "text": [
      "<class 'pandas.core.frame.DataFrame'>\n",
      "Int64Index: 344286 entries, 0 to 354368\n",
      "Data columns (total 10 columns):\n",
      " #   Column            Non-Null Count   Dtype \n",
      "---  ------            --------------   ----- \n",
      " 0   Price             344286 non-null  int64 \n",
      " 1   VehicleType       316857 non-null  object\n",
      " 2   RegistrationYear  344286 non-null  int64 \n",
      " 3   Gearbox           325317 non-null  object\n",
      " 4   Power             344286 non-null  int64 \n",
      " 5   Model             325824 non-null  object\n",
      " 6   Kilometer         344286 non-null  int64 \n",
      " 7   FuelType          315402 non-null  object\n",
      " 8   Brand             344286 non-null  object\n",
      " 9   Repaired          277130 non-null  object\n",
      "dtypes: int64(4), object(6)\n",
      "memory usage: 28.9+ MB\n"
     ]
    },
    {
     "data": {
      "text/plain": [
       "None"
      ]
     },
     "metadata": {},
     "output_type": "display_data"
    },
    {
     "data": {
      "text/html": [
       "<div>\n",
       "<style scoped>\n",
       "    .dataframe tbody tr th:only-of-type {\n",
       "        vertical-align: middle;\n",
       "    }\n",
       "\n",
       "    .dataframe tbody tr th {\n",
       "        vertical-align: top;\n",
       "    }\n",
       "\n",
       "    .dataframe thead th {\n",
       "        text-align: right;\n",
       "    }\n",
       "</style>\n",
       "<table border=\"1\" class=\"dataframe\">\n",
       "  <thead>\n",
       "    <tr style=\"text-align: right;\">\n",
       "      <th></th>\n",
       "      <th>Price</th>\n",
       "      <th>VehicleType</th>\n",
       "      <th>RegistrationYear</th>\n",
       "      <th>Gearbox</th>\n",
       "      <th>Power</th>\n",
       "      <th>Model</th>\n",
       "      <th>Kilometer</th>\n",
       "      <th>FuelType</th>\n",
       "      <th>Brand</th>\n",
       "      <th>Repaired</th>\n",
       "    </tr>\n",
       "  </thead>\n",
       "  <tbody>\n",
       "    <tr>\n",
       "      <th>207018</th>\n",
       "      <td>1700</td>\n",
       "      <td>wagon</td>\n",
       "      <td>1998</td>\n",
       "      <td>manual</td>\n",
       "      <td>110</td>\n",
       "      <td>a4</td>\n",
       "      <td>150000</td>\n",
       "      <td>gasoline</td>\n",
       "      <td>audi</td>\n",
       "      <td>no</td>\n",
       "    </tr>\n",
       "    <tr>\n",
       "      <th>18017</th>\n",
       "      <td>16900</td>\n",
       "      <td>convertible</td>\n",
       "      <td>1980</td>\n",
       "      <td>manual</td>\n",
       "      <td>63</td>\n",
       "      <td>NaN</td>\n",
       "      <td>100000</td>\n",
       "      <td>petrol</td>\n",
       "      <td>sonstige_autos</td>\n",
       "      <td>no</td>\n",
       "    </tr>\n",
       "    <tr>\n",
       "      <th>106704</th>\n",
       "      <td>1999</td>\n",
       "      <td>convertible</td>\n",
       "      <td>2002</td>\n",
       "      <td>auto</td>\n",
       "      <td>54</td>\n",
       "      <td>fortwo</td>\n",
       "      <td>125000</td>\n",
       "      <td>petrol</td>\n",
       "      <td>smart</td>\n",
       "      <td>no</td>\n",
       "    </tr>\n",
       "    <tr>\n",
       "      <th>224816</th>\n",
       "      <td>3499</td>\n",
       "      <td>wagon</td>\n",
       "      <td>2004</td>\n",
       "      <td>manual</td>\n",
       "      <td>101</td>\n",
       "      <td>a4</td>\n",
       "      <td>150000</td>\n",
       "      <td>NaN</td>\n",
       "      <td>audi</td>\n",
       "      <td>NaN</td>\n",
       "    </tr>\n",
       "    <tr>\n",
       "      <th>15716</th>\n",
       "      <td>3100</td>\n",
       "      <td>wagon</td>\n",
       "      <td>2002</td>\n",
       "      <td>manual</td>\n",
       "      <td>116</td>\n",
       "      <td>3er</td>\n",
       "      <td>150000</td>\n",
       "      <td>gasoline</td>\n",
       "      <td>bmw</td>\n",
       "      <td>yes</td>\n",
       "    </tr>\n",
       "    <tr>\n",
       "      <th>126226</th>\n",
       "      <td>735</td>\n",
       "      <td>small</td>\n",
       "      <td>2000</td>\n",
       "      <td>manual</td>\n",
       "      <td>54</td>\n",
       "      <td>corsa</td>\n",
       "      <td>150000</td>\n",
       "      <td>petrol</td>\n",
       "      <td>opel</td>\n",
       "      <td>no</td>\n",
       "    </tr>\n",
       "    <tr>\n",
       "      <th>5354</th>\n",
       "      <td>1400</td>\n",
       "      <td>sedan</td>\n",
       "      <td>1993</td>\n",
       "      <td>manual</td>\n",
       "      <td>116</td>\n",
       "      <td>80</td>\n",
       "      <td>150000</td>\n",
       "      <td>petrol</td>\n",
       "      <td>audi</td>\n",
       "      <td>no</td>\n",
       "    </tr>\n",
       "    <tr>\n",
       "      <th>44604</th>\n",
       "      <td>4250</td>\n",
       "      <td>wagon</td>\n",
       "      <td>2003</td>\n",
       "      <td>auto</td>\n",
       "      <td>220</td>\n",
       "      <td>a4</td>\n",
       "      <td>150000</td>\n",
       "      <td>petrol</td>\n",
       "      <td>audi</td>\n",
       "      <td>no</td>\n",
       "    </tr>\n",
       "    <tr>\n",
       "      <th>332392</th>\n",
       "      <td>850</td>\n",
       "      <td>small</td>\n",
       "      <td>2001</td>\n",
       "      <td>manual</td>\n",
       "      <td>0</td>\n",
       "      <td>corsa</td>\n",
       "      <td>150000</td>\n",
       "      <td>petrol</td>\n",
       "      <td>opel</td>\n",
       "      <td>no</td>\n",
       "    </tr>\n",
       "    <tr>\n",
       "      <th>9303</th>\n",
       "      <td>6900</td>\n",
       "      <td>coupe</td>\n",
       "      <td>2001</td>\n",
       "      <td>manual</td>\n",
       "      <td>231</td>\n",
       "      <td>3er</td>\n",
       "      <td>150000</td>\n",
       "      <td>petrol</td>\n",
       "      <td>bmw</td>\n",
       "      <td>no</td>\n",
       "    </tr>\n",
       "    <tr>\n",
       "      <th>266368</th>\n",
       "      <td>10400</td>\n",
       "      <td>small</td>\n",
       "      <td>2008</td>\n",
       "      <td>manual</td>\n",
       "      <td>192</td>\n",
       "      <td>corsa</td>\n",
       "      <td>150000</td>\n",
       "      <td>lpg</td>\n",
       "      <td>opel</td>\n",
       "      <td>no</td>\n",
       "    </tr>\n",
       "    <tr>\n",
       "      <th>256373</th>\n",
       "      <td>16400</td>\n",
       "      <td>convertible</td>\n",
       "      <td>2013</td>\n",
       "      <td>manual</td>\n",
       "      <td>126</td>\n",
       "      <td>mx_reihe</td>\n",
       "      <td>40000</td>\n",
       "      <td>petrol</td>\n",
       "      <td>mazda</td>\n",
       "      <td>no</td>\n",
       "    </tr>\n",
       "    <tr>\n",
       "      <th>181439</th>\n",
       "      <td>1800</td>\n",
       "      <td>bus</td>\n",
       "      <td>2005</td>\n",
       "      <td>manual</td>\n",
       "      <td>95</td>\n",
       "      <td>musa</td>\n",
       "      <td>150000</td>\n",
       "      <td>petrol</td>\n",
       "      <td>lancia</td>\n",
       "      <td>no</td>\n",
       "    </tr>\n",
       "    <tr>\n",
       "      <th>50733</th>\n",
       "      <td>13900</td>\n",
       "      <td>bus</td>\n",
       "      <td>2011</td>\n",
       "      <td>manual</td>\n",
       "      <td>140</td>\n",
       "      <td>c_max</td>\n",
       "      <td>150000</td>\n",
       "      <td>gasoline</td>\n",
       "      <td>ford</td>\n",
       "      <td>no</td>\n",
       "    </tr>\n",
       "    <tr>\n",
       "      <th>110477</th>\n",
       "      <td>999</td>\n",
       "      <td>wagon</td>\n",
       "      <td>2001</td>\n",
       "      <td>manual</td>\n",
       "      <td>90</td>\n",
       "      <td>mondeo</td>\n",
       "      <td>150000</td>\n",
       "      <td>gasoline</td>\n",
       "      <td>ford</td>\n",
       "      <td>yes</td>\n",
       "    </tr>\n",
       "  </tbody>\n",
       "</table>\n",
       "</div>"
      ],
      "text/plain": [
       "        Price  VehicleType  RegistrationYear Gearbox  Power     Model  \\\n",
       "207018   1700        wagon              1998  manual    110        a4   \n",
       "18017   16900  convertible              1980  manual     63       NaN   \n",
       "106704   1999  convertible              2002    auto     54    fortwo   \n",
       "224816   3499        wagon              2004  manual    101        a4   \n",
       "15716    3100        wagon              2002  manual    116       3er   \n",
       "126226    735        small              2000  manual     54     corsa   \n",
       "5354     1400        sedan              1993  manual    116        80   \n",
       "44604    4250        wagon              2003    auto    220        a4   \n",
       "332392    850        small              2001  manual      0     corsa   \n",
       "9303     6900        coupe              2001  manual    231       3er   \n",
       "266368  10400        small              2008  manual    192     corsa   \n",
       "256373  16400  convertible              2013  manual    126  mx_reihe   \n",
       "181439   1800          bus              2005  manual     95      musa   \n",
       "50733   13900          bus              2011  manual    140     c_max   \n",
       "110477    999        wagon              2001  manual     90    mondeo   \n",
       "\n",
       "        Kilometer  FuelType           Brand Repaired  \n",
       "207018     150000  gasoline            audi       no  \n",
       "18017      100000    petrol  sonstige_autos       no  \n",
       "106704     125000    petrol           smart       no  \n",
       "224816     150000       NaN            audi      NaN  \n",
       "15716      150000  gasoline             bmw      yes  \n",
       "126226     150000    petrol            opel       no  \n",
       "5354       150000    petrol            audi       no  \n",
       "44604      150000    petrol            audi       no  \n",
       "332392     150000    petrol            opel       no  \n",
       "9303       150000    petrol             bmw       no  \n",
       "266368     150000       lpg            opel       no  \n",
       "256373      40000    petrol           mazda       no  \n",
       "181439     150000    petrol          lancia       no  \n",
       "50733      150000  gasoline            ford       no  \n",
       "110477     150000  gasoline            ford      yes  "
      ]
     },
     "metadata": {},
     "output_type": "display_data"
    }
   ],
   "source": [
    "data = df.drop(\n",
    "    [\n",
    "        'DateCrawled', \n",
    "        'DateCreated', \n",
    "        'PostalCode', \n",
    "        'LastSeen', \n",
    "        'NumberOfPictures',\n",
    "        'RegistrationMonth'\n",
    "    ], \n",
    "    axis = 1\n",
    ")\n",
    "watch_df(data)"
   ]
  },
  {
   "cell_type": "code",
   "execution_count": 13,
   "metadata": {},
   "outputs": [
    {
     "data": {
      "text/plain": [
       "Price                   0\n",
       "VehicleType         27429\n",
       "RegistrationYear        0\n",
       "Gearbox             18969\n",
       "Power                   0\n",
       "Model               18462\n",
       "Kilometer               0\n",
       "FuelType            28884\n",
       "Brand                   0\n",
       "Repaired            67156\n",
       "dtype: int64"
      ]
     },
     "execution_count": 13,
     "metadata": {},
     "output_type": "execute_result"
    }
   ],
   "source": [
    "data.isna().sum()"
   ]
  },
  {
   "cell_type": "markdown",
   "metadata": {},
   "source": [
    "### Вывод:"
   ]
  },
  {
   "cell_type": "markdown",
   "metadata": {},
   "source": [
    "В датасете существует несколько аномалий:\n",
    "1) пропуски столбца VehicleType - можно заполнить модальным значением в зависимости от Model,\n",
    "\n",
    "2) пропуски столбца Gearbox - восстановить значения невозможно, строки с пропусками лучше удалить,\n",
    "\n",
    "3) пропуски столбца Model - восстановить значения невозможно, строки с пропусками лучше удалить,\n",
    "\n",
    "4) пропуски столбца FuelType - восстановить значения невозможно, строки с пропусками лучше удалить,\n",
    "\n",
    "5) пропуски столбца Repaired - пустые значения можно принять за 'no',\n",
    "\n",
    "6) значения '0' в столбце Power - можно заполнить модальным значением. "
   ]
  },
  {
   "cell_type": "code",
   "execution_count": 14,
   "metadata": {
    "scrolled": true
   },
   "outputs": [],
   "source": [
    "data['Gearbox'].fillna('unknown', inplace = True)\n",
    "data['Model'].fillna('unknown', inplace = True)\n",
    "data['FuelType'].fillna('unknown', inplace = True)"
   ]
  },
  {
   "cell_type": "code",
   "execution_count": 15,
   "metadata": {},
   "outputs": [],
   "source": [
    "data.Repaired.value_counts() \n",
    "# подавляющее большинство машин не было в ремонте. Поэтому могу заполнить пропуски значением no\n",
    "\n",
    "data.Repaired.fillna('no', inplace = True)"
   ]
  },
  {
   "cell_type": "code",
   "execution_count": 16,
   "metadata": {},
   "outputs": [],
   "source": [
    "num_features = ['RegistrationYear', 'Price', 'Power', 'Kilometer']\n",
    "cat_features = ['VehicleType', 'Gearbox', 'Model', 'FuelType', 'Brand', 'Repaired']"
   ]
  },
  {
   "cell_type": "code",
   "execution_count": 17,
   "metadata": {
    "scrolled": true
   },
   "outputs": [
    {
     "name": "stdout",
     "output_type": "stream",
     "text": [
      "VehicleType [nan 'coupe' 'suv' 'small' 'sedan' 'convertible' 'bus' 'wagon' 'other']\n",
      "Gearbox ['manual' 'auto' 'unknown']\n",
      "Model ['golf' 'unknown' 'grand' 'fabia' '3er' '2_reihe' 'other' 'c_max'\n",
      " '3_reihe' 'passat' 'navara' 'ka' 'polo' 'twingo' 'a_klasse' 'scirocco'\n",
      " '5er' 'meriva' 'arosa' 'c4' 'civic' 'transporter' 'punto' 'e_klasse'\n",
      " 'kadett' 'kangoo' 'corsa' 'one' 'fortwo' 'clio' '1er' 'b_klasse' 'signum'\n",
      " 'astra' 'a8' 'jetta' 'fiesta' 'c_klasse' 'micra' 'vito' 'sprinter' '156'\n",
      " 'escort' 'forester' 'xc_reihe' 'scenic' 'a4' 'a1' 'insignia' 'combo'\n",
      " 'focus' 'tt' 'a6' 'jazz' 'omega' 'slk' '7er' '80' '147' '100' 'z_reihe'\n",
      " 'sportage' 'sorento' 'v40' 'ibiza' 'mustang' 'eos' 'touran' 'getz' 'a3'\n",
      " 'megane' 'lupo' 'r19' 'caddy' 'mondeo' 'cordoba' 'colt' 'impreza'\n",
      " 'vectra' 'berlingo' 'tiguan' 'i_reihe' 'sharan' '6_reihe' 'panda' 'up'\n",
      " 'seicento' 'ceed' '5_reihe' 'yeti' 'octavia' 'zafira' 'mii' 'rx_reihe'\n",
      " '6er' 'modus' 'fox' 'matiz' 'beetle' 'c1' 'rio' 'touareg' 'logan'\n",
      " 'spider' 'cuore' 's_max' 'a2' 'galaxy' 'c3' 'viano' 's_klasse' '1_reihe'\n",
      " 'avensis' 'roomster' 'sl' 'kaefer' 'santa' 'cooper' 'leon' '4_reihe' 'a5'\n",
      " 'laguna' 'ptcruiser' 'clk' 'primera' 'espace' 'x_reihe' 'exeo' '159'\n",
      " 'transit' 'juke' 'qashqai' 'carisma' 'accord' 'corolla' 'lanos' 'phaeton'\n",
      " 'verso' 'swift' 'rav' 'picanto' 'boxster' 'kalos' 'superb' 'stilo'\n",
      " 'alhambra' 'mx_reihe' 'roadster' 'ypsilon' 'cayenne' 'galant' 'justy'\n",
      " '90' 'sirion' 'crossfire' 'agila' 'duster' 'v50' '500' 'c_reihe'\n",
      " 'v_klasse' 'm_klasse' 'yaris' 'c5' 'aygo' 'almera' 'cc' 'fusion' '911'\n",
      " 'bora' 'forfour' 'm_reihe' 'cl' 'tigra' '300c' 'cr_reihe' 'spark' 'v70'\n",
      " 'kuga' 'x_type' 'ducato' 's_type' 'x_trail' 'toledo' 'altea' 'voyager'\n",
      " 'calibra' 'carnival' 'bravo' 'antara' 'tucson' 'citigo' 'jimny'\n",
      " 'wrangler' 'lybra' 'q7' 'lancer' 'captiva' 'discovery' 'freelander'\n",
      " 'sandero' 'note' '900' 'cherokee' 'clubman' 'samara' 'defender' '601'\n",
      " 'cx_reihe' 'legacy' 'pajero' 'auris' 'c2' 'niva' 's60' 'nubira' 'vivaro'\n",
      " 'g_klasse' 'lodgy' '850' 'range_rover' 'q3' 'serie_2' 'glk' 'charade'\n",
      " 'croma' 'outlander' 'doblo' 'musa' 'move' '9000' 'v60' '145' '200'\n",
      " 'b_max' 'range_rover_sport' 'aveo' 'terios' 'rangerover' 'q5'\n",
      " 'range_rover_evoque' 'materia' 'delta' 'gl' 'kalina' 'elefantino' 'i3'\n",
      " 'amarok' 'kappa' 'serie_3' 'serie_1']\n",
      "FuelType ['petrol' 'gasoline' 'unknown' 'lpg' 'other' 'hybrid' 'cng' 'electric']\n",
      "Brand ['volkswagen' 'audi' 'jeep' 'skoda' 'bmw' 'peugeot' 'ford' 'mazda'\n",
      " 'nissan' 'renault' 'mercedes_benz' 'opel' 'seat' 'citroen' 'honda' 'fiat'\n",
      " 'mini' 'smart' 'hyundai' 'sonstige_autos' 'alfa_romeo' 'subaru' 'volvo'\n",
      " 'mitsubishi' 'kia' 'suzuki' 'lancia' 'toyota' 'chevrolet' 'dacia'\n",
      " 'daihatsu' 'trabant' 'saab' 'chrysler' 'jaguar' 'daewoo' 'porsche'\n",
      " 'rover' 'land_rover' 'lada']\n",
      "Repaired ['no' 'yes']\n"
     ]
    }
   ],
   "source": [
    "# проверка на наличие неявных дубликатов\n",
    "for column in cat_features:\n",
    "    print(column, data[column].unique())"
   ]
  },
  {
   "cell_type": "markdown",
   "metadata": {},
   "source": [
    "Обнаружен неявный дубликат rangerover и range_rover. Произвожу замену rangerover на range_rover"
   ]
  },
  {
   "cell_type": "code",
   "execution_count": 18,
   "metadata": {},
   "outputs": [],
   "source": [
    "data['Model'] = data['Model'].replace('rangerover', 'range_rover')"
   ]
  },
  {
   "cell_type": "markdown",
   "metadata": {},
   "source": [
    "## Анализ данных"
   ]
  },
  {
   "cell_type": "markdown",
   "metadata": {},
   "source": [
    "Провожу анализ категориальных признаков"
   ]
  },
  {
   "cell_type": "code",
   "execution_count": 19,
   "metadata": {},
   "outputs": [],
   "source": [
    "# задаю размеры будущих графиков\n",
    "sns.set(rc={'figure.figsize':(8,6)})"
   ]
  },
  {
   "cell_type": "code",
   "execution_count": 20,
   "metadata": {
    "scrolled": true
   },
   "outputs": [
    {
     "data": {
      "image/png": "[encoded data removed]",
      "text/plain": [
       "<Figure size 576x432 with 1 Axes>"
      ]
     },
     "metadata": {},
     "output_type": "display_data"
    },
    {
     "data": {
      "image/png": "[encoded data removed]",
      "text/plain": [
       "<Figure size 576x432 with 1 Axes>"
      ]
     },
     "metadata": {},
     "output_type": "display_data"
    },
    {
     "data": {
      "image/png": "[encoded data removed]",
      "text/plain": [
       "<Figure size 576x432 with 1 Axes>"
      ]
     },
     "metadata": {},
     "output_type": "display_data"
    },
    {
     "data": {
      "image/png": "[encoded data removed]",
      "text/plain": [
       "<Figure size 576x432 with 1 Axes>"
      ]
     },
     "metadata": {},
     "output_type": "display_data"
    }
   ],
   "source": [
    "for cat_feature in ['VehicleType', 'Gearbox', 'FuelType', 'Repaired']:\n",
    "    sns.countplot(\n",
    "        data = df,\n",
    "        y = cat_feature,\n",
    "        palette = 'pastel',  \n",
    "        ).set_title(f'Распределение признака {cat_feature}')\n",
    "    \n",
    "    plt.show()"
   ]
  },
  {
   "cell_type": "markdown",
   "metadata": {},
   "source": [
    "Так как в датасете большое количество брендов и моделей авто, их исследование при помощи столбцовых диаграмм не будет информативным."
   ]
  },
  {
   "cell_type": "code",
   "execution_count": 21,
   "metadata": {},
   "outputs": [],
   "source": [
    "#Перед анализом признака RegistrationYear привожу его к нормальным границам\n",
    "data = data.loc[(data['RegistrationYear'] > 1900) & (data['RegistrationYear'] < 2024)]"
   ]
  },
  {
   "cell_type": "code",
   "execution_count": 22,
   "metadata": {},
   "outputs": [
    {
     "data": {
      "image/png": "[encoded data removed]",
      "text/plain": [
       "<Figure size 576x432 with 1 Axes>"
      ]
     },
     "metadata": {},
     "output_type": "display_data"
    },
    {
     "data": {
      "image/png": "[encoded data removed]",
      "text/plain": [
       "<Figure size 576x432 with 1 Axes>"
      ]
     },
     "metadata": {},
     "output_type": "display_data"
    }
   ],
   "source": [
    "sns.histplot(\n",
    "        data = data['RegistrationYear'],\n",
    "        palette = 'pastel'\n",
    "        ).set_title(f' Распределение признака Год регистрации')\n",
    "    \n",
    "plt.show()\n",
    "    \n",
    "sns.boxplot(\n",
    "        data = data,\n",
    "        palette = 'pastel',\n",
    "        y = data['RegistrationYear']\n",
    "        )\n",
    "    \n",
    "plt.show()"
   ]
  },
  {
   "cell_type": "markdown",
   "metadata": {},
   "source": [
    "Все ретро-автомобили являются выбросами. Однако, от аномалий, связанных с некорректным вводом года избавились. "
   ]
  },
  {
   "cell_type": "markdown",
   "metadata": {},
   "source": [
    "Наиболее редко выстречаются авто старше 1920 года, поэтому убираю их из итогового датасета"
   ]
  },
  {
   "cell_type": "code",
   "execution_count": 23,
   "metadata": {},
   "outputs": [],
   "source": [
    "data = data.loc[data['RegistrationYear'] > 1920]"
   ]
  },
  {
   "cell_type": "markdown",
   "metadata": {},
   "source": [
    "Проверка распределения целевого признака."
   ]
  },
  {
   "cell_type": "code",
   "execution_count": 24,
   "metadata": {},
   "outputs": [
    {
     "data": {
      "image/png": "[encoded data removed]",
      "text/plain": [
       "<Figure size 576x432 with 1 Axes>"
      ]
     },
     "metadata": {},
     "output_type": "display_data"
    },
    {
     "data": {
      "image/png": "[encoded data removed]",
      "text/plain": [
       "<Figure size 576x432 with 1 Axes>"
      ]
     },
     "metadata": {},
     "output_type": "display_data"
    }
   ],
   "source": [
    "sns.histplot(\n",
    "        data = data['Price'],\n",
    "        palette = 'pastel'\n",
    "        ).set_title(f' Распределение признака Цена')\n",
    "    \n",
    "plt.show()\n",
    "    \n",
    "sns.boxplot(\n",
    "        data = data,\n",
    "        palette = 'pastel',\n",
    "        y = data['Price']\n",
    "        )\n",
    "    \n",
    "plt.show()"
   ]
  },
  {
   "cell_type": "code",
   "execution_count": 25,
   "metadata": {},
   "outputs": [
    {
     "data": {
      "image/png": "[encoded data removed]",
      "text/plain": [
       "<Figure size 576x432 with 1 Axes>"
      ]
     },
     "metadata": {},
     "output_type": "display_data"
    }
   ],
   "source": [
    "sns.histplot(\n",
    "        data = (data.loc[data['Price'] < 1000, 'Price']),\n",
    "        palette = 'pastel'\n",
    "        ).set_title(f' Распределение признака Цена')\n",
    "    \n",
    "plt.show()"
   ]
  },
  {
   "cell_type": "markdown",
   "metadata": {},
   "source": [
    "Значения, равные 0, однозначно являются аномалиями, которые следует удалить. "
   ]
  },
  {
   "cell_type": "code",
   "execution_count": 26,
   "metadata": {},
   "outputs": [],
   "source": [
    "data = data.loc[data['Price'] > 0]"
   ]
  },
  {
   "cell_type": "code",
   "execution_count": 27,
   "metadata": {},
   "outputs": [
    {
     "data": {
      "image/png": "[encoded data removed]",
      "text/plain": [
       "<Figure size 576x432 with 1 Axes>"
      ]
     },
     "metadata": {},
     "output_type": "display_data"
    },
    {
     "data": {
      "image/png": "[encoded data removed]",
      "text/plain": [
       "<Figure size 576x432 with 1 Axes>"
      ]
     },
     "metadata": {},
     "output_type": "display_data"
    }
   ],
   "source": [
    "# проверка признака Power\n",
    "# сначала удаляю аномалии значения Power, которые выше 1000 л.с\n",
    "data = data.loc[data['Power'] < 1000]\n",
    "sns.histplot(\n",
    "        data = data['Power'],\n",
    "        palette = 'pastel'\n",
    "        ).set_title(f' Распределение признака Мощность')\n",
    "    \n",
    "plt.show()\n",
    "    \n",
    "sns.boxplot(\n",
    "        data = data,\n",
    "        palette = 'pastel',\n",
    "        y = data['Power']\n",
    "        )\n",
    "    \n",
    "plt.show()"
   ]
  },
  {
   "cell_type": "markdown",
   "metadata": {},
   "source": [
    "Чтобы проверить реалистичность указанных данных, проверим объявления с мощностью авто более 500. Данные по автомобилям с мощностью 0 можно заполнить медианными значениями по моделям."
   ]
  },
  {
   "cell_type": "code",
   "execution_count": 28,
   "metadata": {},
   "outputs": [
    {
     "data": {
      "text/html": [
       "<div>\n",
       "<style scoped>\n",
       "    .dataframe tbody tr th:only-of-type {\n",
       "        vertical-align: middle;\n",
       "    }\n",
       "\n",
       "    .dataframe tbody tr th {\n",
       "        vertical-align: top;\n",
       "    }\n",
       "\n",
       "    .dataframe thead th {\n",
       "        text-align: right;\n",
       "    }\n",
       "</style>\n",
       "<table border=\"1\" class=\"dataframe\">\n",
       "  <thead>\n",
       "    <tr style=\"text-align: right;\">\n",
       "      <th></th>\n",
       "      <th>Price</th>\n",
       "      <th>VehicleType</th>\n",
       "      <th>RegistrationYear</th>\n",
       "      <th>Gearbox</th>\n",
       "      <th>Power</th>\n",
       "      <th>Model</th>\n",
       "      <th>Kilometer</th>\n",
       "      <th>FuelType</th>\n",
       "      <th>Brand</th>\n",
       "      <th>Repaired</th>\n",
       "    </tr>\n",
       "  </thead>\n",
       "  <tbody>\n",
       "    <tr>\n",
       "      <th>301843</th>\n",
       "      <td>230</td>\n",
       "      <td>small</td>\n",
       "      <td>1993</td>\n",
       "      <td>manual</td>\n",
       "      <td>998</td>\n",
       "      <td>micra</td>\n",
       "      <td>150000</td>\n",
       "      <td>petrol</td>\n",
       "      <td>nissan</td>\n",
       "      <td>no</td>\n",
       "    </tr>\n",
       "    <tr>\n",
       "      <th>73749</th>\n",
       "      <td>18500</td>\n",
       "      <td>sedan</td>\n",
       "      <td>2012</td>\n",
       "      <td>auto</td>\n",
       "      <td>520</td>\n",
       "      <td>other</td>\n",
       "      <td>50000</td>\n",
       "      <td>petrol</td>\n",
       "      <td>audi</td>\n",
       "      <td>yes</td>\n",
       "    </tr>\n",
       "    <tr>\n",
       "      <th>32693</th>\n",
       "      <td>16999</td>\n",
       "      <td>sedan</td>\n",
       "      <td>2006</td>\n",
       "      <td>auto</td>\n",
       "      <td>515</td>\n",
       "      <td>a8</td>\n",
       "      <td>150000</td>\n",
       "      <td>petrol</td>\n",
       "      <td>audi</td>\n",
       "      <td>no</td>\n",
       "    </tr>\n",
       "    <tr>\n",
       "      <th>96747</th>\n",
       "      <td>13500</td>\n",
       "      <td>NaN</td>\n",
       "      <td>2006</td>\n",
       "      <td>auto</td>\n",
       "      <td>521</td>\n",
       "      <td>cayenne</td>\n",
       "      <td>150000</td>\n",
       "      <td>petrol</td>\n",
       "      <td>porsche</td>\n",
       "      <td>yes</td>\n",
       "    </tr>\n",
       "    <tr>\n",
       "      <th>212083</th>\n",
       "      <td>4900</td>\n",
       "      <td>other</td>\n",
       "      <td>1999</td>\n",
       "      <td>manual</td>\n",
       "      <td>650</td>\n",
       "      <td>unknown</td>\n",
       "      <td>150000</td>\n",
       "      <td>petrol</td>\n",
       "      <td>sonstige_autos</td>\n",
       "      <td>no</td>\n",
       "    </tr>\n",
       "    <tr>\n",
       "      <th>75230</th>\n",
       "      <td>17999</td>\n",
       "      <td>sedan</td>\n",
       "      <td>2012</td>\n",
       "      <td>auto</td>\n",
       "      <td>560</td>\n",
       "      <td>m_reihe</td>\n",
       "      <td>40000</td>\n",
       "      <td>petrol</td>\n",
       "      <td>bmw</td>\n",
       "      <td>no</td>\n",
       "    </tr>\n",
       "    <tr>\n",
       "      <th>43556</th>\n",
       "      <td>2850</td>\n",
       "      <td>sedan</td>\n",
       "      <td>2005</td>\n",
       "      <td>manual</td>\n",
       "      <td>900</td>\n",
       "      <td>c4</td>\n",
       "      <td>100000</td>\n",
       "      <td>gasoline</td>\n",
       "      <td>citroen</td>\n",
       "      <td>no</td>\n",
       "    </tr>\n",
       "    <tr>\n",
       "      <th>208144</th>\n",
       "      <td>19999</td>\n",
       "      <td>coupe</td>\n",
       "      <td>2007</td>\n",
       "      <td>auto</td>\n",
       "      <td>514</td>\n",
       "      <td>other</td>\n",
       "      <td>150000</td>\n",
       "      <td>petrol</td>\n",
       "      <td>mercedes_benz</td>\n",
       "      <td>no</td>\n",
       "    </tr>\n",
       "    <tr>\n",
       "      <th>107164</th>\n",
       "      <td>250</td>\n",
       "      <td>small</td>\n",
       "      <td>2001</td>\n",
       "      <td>manual</td>\n",
       "      <td>580</td>\n",
       "      <td>twingo</td>\n",
       "      <td>150000</td>\n",
       "      <td>petrol</td>\n",
       "      <td>renault</td>\n",
       "      <td>no</td>\n",
       "    </tr>\n",
       "    <tr>\n",
       "      <th>14555</th>\n",
       "      <td>599</td>\n",
       "      <td>NaN</td>\n",
       "      <td>2018</td>\n",
       "      <td>manual</td>\n",
       "      <td>599</td>\n",
       "      <td>twingo</td>\n",
       "      <td>150000</td>\n",
       "      <td>unknown</td>\n",
       "      <td>renault</td>\n",
       "      <td>no</td>\n",
       "    </tr>\n",
       "    <tr>\n",
       "      <th>120559</th>\n",
       "      <td>9999</td>\n",
       "      <td>coupe</td>\n",
       "      <td>1999</td>\n",
       "      <td>manual</td>\n",
       "      <td>550</td>\n",
       "      <td>golf</td>\n",
       "      <td>150000</td>\n",
       "      <td>petrol</td>\n",
       "      <td>volkswagen</td>\n",
       "      <td>no</td>\n",
       "    </tr>\n",
       "    <tr>\n",
       "      <th>156234</th>\n",
       "      <td>19500</td>\n",
       "      <td>coupe</td>\n",
       "      <td>2015</td>\n",
       "      <td>manual</td>\n",
       "      <td>525</td>\n",
       "      <td>mustang</td>\n",
       "      <td>10000</td>\n",
       "      <td>petrol</td>\n",
       "      <td>ford</td>\n",
       "      <td>yes</td>\n",
       "    </tr>\n",
       "    <tr>\n",
       "      <th>328668</th>\n",
       "      <td>599</td>\n",
       "      <td>small</td>\n",
       "      <td>2002</td>\n",
       "      <td>manual</td>\n",
       "      <td>603</td>\n",
       "      <td>matiz</td>\n",
       "      <td>5000</td>\n",
       "      <td>petrol</td>\n",
       "      <td>chevrolet</td>\n",
       "      <td>yes</td>\n",
       "    </tr>\n",
       "    <tr>\n",
       "      <th>311474</th>\n",
       "      <td>10500</td>\n",
       "      <td>coupe</td>\n",
       "      <td>1995</td>\n",
       "      <td>manual</td>\n",
       "      <td>551</td>\n",
       "      <td>other</td>\n",
       "      <td>90000</td>\n",
       "      <td>petrol</td>\n",
       "      <td>nissan</td>\n",
       "      <td>yes</td>\n",
       "    </tr>\n",
       "    <tr>\n",
       "      <th>8057</th>\n",
       "      <td>500</td>\n",
       "      <td>small</td>\n",
       "      <td>2002</td>\n",
       "      <td>manual</td>\n",
       "      <td>620</td>\n",
       "      <td>ypsilon</td>\n",
       "      <td>150000</td>\n",
       "      <td>petrol</td>\n",
       "      <td>lancia</td>\n",
       "      <td>no</td>\n",
       "    </tr>\n",
       "    <tr>\n",
       "      <th>56240</th>\n",
       "      <td>490</td>\n",
       "      <td>small</td>\n",
       "      <td>1997</td>\n",
       "      <td>manual</td>\n",
       "      <td>750</td>\n",
       "      <td>fiesta</td>\n",
       "      <td>125000</td>\n",
       "      <td>unknown</td>\n",
       "      <td>ford</td>\n",
       "      <td>no</td>\n",
       "    </tr>\n",
       "    <tr>\n",
       "      <th>174244</th>\n",
       "      <td>1850</td>\n",
       "      <td>other</td>\n",
       "      <td>2003</td>\n",
       "      <td>manual</td>\n",
       "      <td>651</td>\n",
       "      <td>berlingo</td>\n",
       "      <td>150000</td>\n",
       "      <td>petrol</td>\n",
       "      <td>citroen</td>\n",
       "      <td>no</td>\n",
       "    </tr>\n",
       "    <tr>\n",
       "      <th>313123</th>\n",
       "      <td>15700</td>\n",
       "      <td>sedan</td>\n",
       "      <td>2009</td>\n",
       "      <td>auto</td>\n",
       "      <td>514</td>\n",
       "      <td>e_klasse</td>\n",
       "      <td>150000</td>\n",
       "      <td>petrol</td>\n",
       "      <td>mercedes_benz</td>\n",
       "      <td>no</td>\n",
       "    </tr>\n",
       "    <tr>\n",
       "      <th>122890</th>\n",
       "      <td>11000</td>\n",
       "      <td>coupe</td>\n",
       "      <td>2002</td>\n",
       "      <td>manual</td>\n",
       "      <td>800</td>\n",
       "      <td>unknown</td>\n",
       "      <td>150000</td>\n",
       "      <td>unknown</td>\n",
       "      <td>opel</td>\n",
       "      <td>no</td>\n",
       "    </tr>\n",
       "    <tr>\n",
       "      <th>23188</th>\n",
       "      <td>11999</td>\n",
       "      <td>wagon</td>\n",
       "      <td>2002</td>\n",
       "      <td>auto</td>\n",
       "      <td>504</td>\n",
       "      <td>other</td>\n",
       "      <td>150000</td>\n",
       "      <td>petrol</td>\n",
       "      <td>audi</td>\n",
       "      <td>no</td>\n",
       "    </tr>\n",
       "  </tbody>\n",
       "</table>\n",
       "</div>"
      ],
      "text/plain": [
       "        Price VehicleType  RegistrationYear Gearbox  Power     Model  \\\n",
       "301843    230       small              1993  manual    998     micra   \n",
       "73749   18500       sedan              2012    auto    520     other   \n",
       "32693   16999       sedan              2006    auto    515        a8   \n",
       "96747   13500         NaN              2006    auto    521   cayenne   \n",
       "212083   4900       other              1999  manual    650   unknown   \n",
       "75230   17999       sedan              2012    auto    560   m_reihe   \n",
       "43556    2850       sedan              2005  manual    900        c4   \n",
       "208144  19999       coupe              2007    auto    514     other   \n",
       "107164    250       small              2001  manual    580    twingo   \n",
       "14555     599         NaN              2018  manual    599    twingo   \n",
       "120559   9999       coupe              1999  manual    550      golf   \n",
       "156234  19500       coupe              2015  manual    525   mustang   \n",
       "328668    599       small              2002  manual    603     matiz   \n",
       "311474  10500       coupe              1995  manual    551     other   \n",
       "8057      500       small              2002  manual    620   ypsilon   \n",
       "56240     490       small              1997  manual    750    fiesta   \n",
       "174244   1850       other              2003  manual    651  berlingo   \n",
       "313123  15700       sedan              2009    auto    514  e_klasse   \n",
       "122890  11000       coupe              2002  manual    800   unknown   \n",
       "23188   11999       wagon              2002    auto    504     other   \n",
       "\n",
       "        Kilometer  FuelType           Brand Repaired  \n",
       "301843     150000    petrol          nissan       no  \n",
       "73749       50000    petrol            audi      yes  \n",
       "32693      150000    petrol            audi       no  \n",
       "96747      150000    petrol         porsche      yes  \n",
       "212083     150000    petrol  sonstige_autos       no  \n",
       "75230       40000    petrol             bmw       no  \n",
       "43556      100000  gasoline         citroen       no  \n",
       "208144     150000    petrol   mercedes_benz       no  \n",
       "107164     150000    petrol         renault       no  \n",
       "14555      150000   unknown         renault       no  \n",
       "120559     150000    petrol      volkswagen       no  \n",
       "156234      10000    petrol            ford      yes  \n",
       "328668       5000    petrol       chevrolet      yes  \n",
       "311474      90000    petrol          nissan      yes  \n",
       "8057       150000    petrol          lancia       no  \n",
       "56240      125000   unknown            ford       no  \n",
       "174244     150000    petrol         citroen       no  \n",
       "313123     150000    petrol   mercedes_benz       no  \n",
       "122890     150000   unknown            opel       no  \n",
       "23188      150000    petrol            audi       no  "
      ]
     },
     "metadata": {},
     "output_type": "display_data"
    },
    {
     "name": "stdout",
     "output_type": "stream",
     "text": [
      "audi              18\n",
      "mercedes_benz     17\n",
      "bmw               13\n",
      "volkswagen        11\n",
      "opel               8\n",
      "porsche            6\n",
      "citroen            6\n",
      "ford               6\n",
      "renault            6\n",
      "chevrolet          5\n",
      "fiat               5\n",
      "sonstige_autos     4\n",
      "seat               3\n",
      "jaguar             3\n",
      "lancia             2\n",
      "peugeot            2\n",
      "nissan             2\n",
      "smart              2\n",
      "honda              2\n",
      "skoda              1\n",
      "mitsubishi         1\n",
      "suzuki             1\n",
      "hyundai            1\n",
      "toyota             1\n",
      "Name: Brand, dtype: int64\n"
     ]
    }
   ],
   "source": [
    "high_power_auto = data.loc[data['Power'] > 500]\n",
    "display(high_power_auto.sample(20))\n",
    "print(high_power_auto['Brand'].value_counts())"
   ]
  },
  {
   "cell_type": "markdown",
   "metadata": {},
   "source": [
    "Присутствует небольшое количество автомобилей, в записи которых присутствует ошибка в мощности. Уберу из датасета совершенно нереалистичные варианты или крайне редко встречающиеся, более 700 лс."
   ]
  },
  {
   "cell_type": "code",
   "execution_count": 29,
   "metadata": {},
   "outputs": [],
   "source": [
    "# замена нулевых значений мощности на медианные для модели\n",
    "for i in data['Model'].unique():\n",
    "    data.loc[(data['Model'] == i) & (data['Power'] == 0), 'Power'] = \\\n",
    "    data.loc[(data['Model'] == i), 'Power'].median()"
   ]
  },
  {
   "cell_type": "code",
   "execution_count": 30,
   "metadata": {},
   "outputs": [],
   "source": [
    "data = data.loc[data['Power'] < 700]"
   ]
  },
  {
   "cell_type": "markdown",
   "metadata": {},
   "source": [
    "Проверка признака Kilometer"
   ]
  },
  {
   "cell_type": "code",
   "execution_count": 31,
   "metadata": {},
   "outputs": [
    {
     "data": {
      "image/png": "[encoded data removed]",
      "text/plain": [
       "<Figure size 576x432 with 1 Axes>"
      ]
     },
     "metadata": {},
     "output_type": "display_data"
    },
    {
     "data": {
      "image/png": "[encoded data removed]",
      "text/plain": [
       "<Figure size 576x432 with 1 Axes>"
      ]
     },
     "metadata": {},
     "output_type": "display_data"
    }
   ],
   "source": [
    "sns.histplot(\n",
    "        data = data['Kilometer'],\n",
    "        palette = 'pastel'\n",
    "        ).set_title(f' Распределение признака Пробег авто')\n",
    "    \n",
    "plt.show()\n",
    "    \n",
    "sns.boxplot(\n",
    "        data = data,\n",
    "        palette = 'pastel',\n",
    "        y = data['Kilometer']\n",
    "        )\n",
    "    \n",
    "plt.show()"
   ]
  },
  {
   "cell_type": "markdown",
   "metadata": {},
   "source": [
    "В данном признаке не наблюдается аномалий: большие пробеги являются нормой для объявлений, а низкие являются выбросами. "
   ]
  },
  {
   "cell_type": "code",
   "execution_count": 32,
   "metadata": {
    "scrolled": true
   },
   "outputs": [
    {
     "name": "stdout",
     "output_type": "stream",
     "text": [
      "<class 'pandas.core.frame.DataFrame'>\n",
      "Int64Index: 333469 entries, 0 to 354368\n",
      "Data columns (total 10 columns):\n",
      " #   Column            Non-Null Count   Dtype  \n",
      "---  ------            --------------   -----  \n",
      " 0   Price             333469 non-null  int64  \n",
      " 1   VehicleType       309533 non-null  object \n",
      " 2   RegistrationYear  333469 non-null  int64  \n",
      " 3   Gearbox           333469 non-null  object \n",
      " 4   Power             333469 non-null  float64\n",
      " 5   Model             333469 non-null  object \n",
      " 6   Kilometer         333469 non-null  int64  \n",
      " 7   FuelType          333469 non-null  object \n",
      " 8   Brand             333469 non-null  object \n",
      " 9   Repaired          333469 non-null  object \n",
      "dtypes: float64(1), int64(3), object(6)\n",
      "memory usage: 28.0+ MB\n"
     ]
    },
    {
     "data": {
      "text/plain": [
       "None"
      ]
     },
     "metadata": {},
     "output_type": "display_data"
    },
    {
     "data": {
      "text/html": [
       "<div>\n",
       "<style scoped>\n",
       "    .dataframe tbody tr th:only-of-type {\n",
       "        vertical-align: middle;\n",
       "    }\n",
       "\n",
       "    .dataframe tbody tr th {\n",
       "        vertical-align: top;\n",
       "    }\n",
       "\n",
       "    .dataframe thead th {\n",
       "        text-align: right;\n",
       "    }\n",
       "</style>\n",
       "<table border=\"1\" class=\"dataframe\">\n",
       "  <thead>\n",
       "    <tr style=\"text-align: right;\">\n",
       "      <th></th>\n",
       "      <th>Price</th>\n",
       "      <th>VehicleType</th>\n",
       "      <th>RegistrationYear</th>\n",
       "      <th>Gearbox</th>\n",
       "      <th>Power</th>\n",
       "      <th>Model</th>\n",
       "      <th>Kilometer</th>\n",
       "      <th>FuelType</th>\n",
       "      <th>Brand</th>\n",
       "      <th>Repaired</th>\n",
       "    </tr>\n",
       "  </thead>\n",
       "  <tbody>\n",
       "    <tr>\n",
       "      <th>288153</th>\n",
       "      <td>1700</td>\n",
       "      <td>sedan</td>\n",
       "      <td>1999</td>\n",
       "      <td>manual</td>\n",
       "      <td>179.0</td>\n",
       "      <td>a6</td>\n",
       "      <td>150000</td>\n",
       "      <td>unknown</td>\n",
       "      <td>audi</td>\n",
       "      <td>no</td>\n",
       "    </tr>\n",
       "    <tr>\n",
       "      <th>134808</th>\n",
       "      <td>2500</td>\n",
       "      <td>NaN</td>\n",
       "      <td>2005</td>\n",
       "      <td>unknown</td>\n",
       "      <td>75.0</td>\n",
       "      <td>unknown</td>\n",
       "      <td>150000</td>\n",
       "      <td>unknown</td>\n",
       "      <td>audi</td>\n",
       "      <td>no</td>\n",
       "    </tr>\n",
       "    <tr>\n",
       "      <th>165839</th>\n",
       "      <td>800</td>\n",
       "      <td>sedan</td>\n",
       "      <td>2002</td>\n",
       "      <td>manual</td>\n",
       "      <td>75.0</td>\n",
       "      <td>golf</td>\n",
       "      <td>150000</td>\n",
       "      <td>petrol</td>\n",
       "      <td>volkswagen</td>\n",
       "      <td>no</td>\n",
       "    </tr>\n",
       "    <tr>\n",
       "      <th>222266</th>\n",
       "      <td>2950</td>\n",
       "      <td>sedan</td>\n",
       "      <td>1979</td>\n",
       "      <td>manual</td>\n",
       "      <td>90.0</td>\n",
       "      <td>3er</td>\n",
       "      <td>125000</td>\n",
       "      <td>petrol</td>\n",
       "      <td>bmw</td>\n",
       "      <td>no</td>\n",
       "    </tr>\n",
       "    <tr>\n",
       "      <th>336977</th>\n",
       "      <td>5000</td>\n",
       "      <td>wagon</td>\n",
       "      <td>2006</td>\n",
       "      <td>manual</td>\n",
       "      <td>140.0</td>\n",
       "      <td>a4</td>\n",
       "      <td>150000</td>\n",
       "      <td>gasoline</td>\n",
       "      <td>audi</td>\n",
       "      <td>no</td>\n",
       "    </tr>\n",
       "    <tr>\n",
       "      <th>95758</th>\n",
       "      <td>8700</td>\n",
       "      <td>wagon</td>\n",
       "      <td>2008</td>\n",
       "      <td>manual</td>\n",
       "      <td>143.0</td>\n",
       "      <td>3er</td>\n",
       "      <td>125000</td>\n",
       "      <td>petrol</td>\n",
       "      <td>bmw</td>\n",
       "      <td>no</td>\n",
       "    </tr>\n",
       "    <tr>\n",
       "      <th>3233</th>\n",
       "      <td>19999</td>\n",
       "      <td>suv</td>\n",
       "      <td>2014</td>\n",
       "      <td>auto</td>\n",
       "      <td>163.0</td>\n",
       "      <td>kuga</td>\n",
       "      <td>90000</td>\n",
       "      <td>gasoline</td>\n",
       "      <td>ford</td>\n",
       "      <td>no</td>\n",
       "    </tr>\n",
       "    <tr>\n",
       "      <th>203074</th>\n",
       "      <td>2950</td>\n",
       "      <td>bus</td>\n",
       "      <td>2004</td>\n",
       "      <td>manual</td>\n",
       "      <td>140.0</td>\n",
       "      <td>touran</td>\n",
       "      <td>150000</td>\n",
       "      <td>gasoline</td>\n",
       "      <td>volkswagen</td>\n",
       "      <td>yes</td>\n",
       "    </tr>\n",
       "    <tr>\n",
       "      <th>247810</th>\n",
       "      <td>2590</td>\n",
       "      <td>small</td>\n",
       "      <td>2004</td>\n",
       "      <td>manual</td>\n",
       "      <td>54.0</td>\n",
       "      <td>polo</td>\n",
       "      <td>125000</td>\n",
       "      <td>petrol</td>\n",
       "      <td>volkswagen</td>\n",
       "      <td>no</td>\n",
       "    </tr>\n",
       "    <tr>\n",
       "      <th>23768</th>\n",
       "      <td>1099</td>\n",
       "      <td>NaN</td>\n",
       "      <td>2017</td>\n",
       "      <td>manual</td>\n",
       "      <td>75.0</td>\n",
       "      <td>lanos</td>\n",
       "      <td>125000</td>\n",
       "      <td>unknown</td>\n",
       "      <td>daewoo</td>\n",
       "      <td>no</td>\n",
       "    </tr>\n",
       "    <tr>\n",
       "      <th>232320</th>\n",
       "      <td>7500</td>\n",
       "      <td>wagon</td>\n",
       "      <td>2004</td>\n",
       "      <td>manual</td>\n",
       "      <td>136.0</td>\n",
       "      <td>a4</td>\n",
       "      <td>150000</td>\n",
       "      <td>gasoline</td>\n",
       "      <td>audi</td>\n",
       "      <td>no</td>\n",
       "    </tr>\n",
       "    <tr>\n",
       "      <th>77130</th>\n",
       "      <td>5555</td>\n",
       "      <td>wagon</td>\n",
       "      <td>2004</td>\n",
       "      <td>auto</td>\n",
       "      <td>196.0</td>\n",
       "      <td>x_type</td>\n",
       "      <td>150000</td>\n",
       "      <td>petrol</td>\n",
       "      <td>jaguar</td>\n",
       "      <td>no</td>\n",
       "    </tr>\n",
       "    <tr>\n",
       "      <th>282933</th>\n",
       "      <td>1000</td>\n",
       "      <td>bus</td>\n",
       "      <td>2001</td>\n",
       "      <td>manual</td>\n",
       "      <td>136.0</td>\n",
       "      <td>other</td>\n",
       "      <td>150000</td>\n",
       "      <td>petrol</td>\n",
       "      <td>fiat</td>\n",
       "      <td>no</td>\n",
       "    </tr>\n",
       "    <tr>\n",
       "      <th>260525</th>\n",
       "      <td>3500</td>\n",
       "      <td>other</td>\n",
       "      <td>2003</td>\n",
       "      <td>manual</td>\n",
       "      <td>105.0</td>\n",
       "      <td>a_klasse</td>\n",
       "      <td>125000</td>\n",
       "      <td>petrol</td>\n",
       "      <td>mercedes_benz</td>\n",
       "      <td>no</td>\n",
       "    </tr>\n",
       "    <tr>\n",
       "      <th>336232</th>\n",
       "      <td>3500</td>\n",
       "      <td>bus</td>\n",
       "      <td>2006</td>\n",
       "      <td>manual</td>\n",
       "      <td>75.0</td>\n",
       "      <td>modus</td>\n",
       "      <td>125000</td>\n",
       "      <td>petrol</td>\n",
       "      <td>renault</td>\n",
       "      <td>no</td>\n",
       "    </tr>\n",
       "  </tbody>\n",
       "</table>\n",
       "</div>"
      ],
      "text/plain": [
       "        Price VehicleType  RegistrationYear  Gearbox  Power     Model  \\\n",
       "288153   1700       sedan              1999   manual  179.0        a6   \n",
       "134808   2500         NaN              2005  unknown   75.0   unknown   \n",
       "165839    800       sedan              2002   manual   75.0      golf   \n",
       "222266   2950       sedan              1979   manual   90.0       3er   \n",
       "336977   5000       wagon              2006   manual  140.0        a4   \n",
       "95758    8700       wagon              2008   manual  143.0       3er   \n",
       "3233    19999         suv              2014     auto  163.0      kuga   \n",
       "203074   2950         bus              2004   manual  140.0    touran   \n",
       "247810   2590       small              2004   manual   54.0      polo   \n",
       "23768    1099         NaN              2017   manual   75.0     lanos   \n",
       "232320   7500       wagon              2004   manual  136.0        a4   \n",
       "77130    5555       wagon              2004     auto  196.0    x_type   \n",
       "282933   1000         bus              2001   manual  136.0     other   \n",
       "260525   3500       other              2003   manual  105.0  a_klasse   \n",
       "336232   3500         bus              2006   manual   75.0     modus   \n",
       "\n",
       "        Kilometer  FuelType          Brand Repaired  \n",
       "288153     150000   unknown           audi       no  \n",
       "134808     150000   unknown           audi       no  \n",
       "165839     150000    petrol     volkswagen       no  \n",
       "222266     125000    petrol            bmw       no  \n",
       "336977     150000  gasoline           audi       no  \n",
       "95758      125000    petrol            bmw       no  \n",
       "3233        90000  gasoline           ford       no  \n",
       "203074     150000  gasoline     volkswagen      yes  \n",
       "247810     125000    petrol     volkswagen       no  \n",
       "23768      125000   unknown         daewoo       no  \n",
       "232320     150000  gasoline           audi       no  \n",
       "77130      150000    petrol         jaguar       no  \n",
       "282933     150000    petrol           fiat       no  \n",
       "260525     125000    petrol  mercedes_benz       no  \n",
       "336232     125000    petrol        renault       no  "
      ]
     },
     "metadata": {},
     "output_type": "display_data"
    },
    {
     "data": {
      "text/plain": [
       "Price                   0\n",
       "VehicleType         23936\n",
       "RegistrationYear        0\n",
       "Gearbox                 0\n",
       "Power                   0\n",
       "Model                   0\n",
       "Kilometer               0\n",
       "FuelType                0\n",
       "Brand                   0\n",
       "Repaired                0\n",
       "dtype: int64"
      ]
     },
     "metadata": {},
     "output_type": "display_data"
    }
   ],
   "source": [
    "watch_df(data)\n",
    "display(data.isna().sum())"
   ]
  },
  {
   "cell_type": "code",
   "execution_count": 33,
   "metadata": {},
   "outputs": [],
   "source": [
    "#for i in data['Model'].unique():\n",
    "#    data.loc[(data['Model'] == i) & (data['VehicleType'].isna()), 'VehicleType'] = data.loc[(data['Model'] == i), 'VehicleType'].mode()\n",
    "\n",
    "# тут возникла проблема с выполнением кода: пропуски не заполнялись медианными значениями, \n",
    "# а оставались без изменений. \n",
    "\n",
    "# Не нашел другого варианта, как удалить эти строки.\n",
    "data['VehicleType'].fillna('unknown', inplace = True)"
   ]
  },
  {
   "cell_type": "code",
   "execution_count": 34,
   "metadata": {
    "scrolled": true
   },
   "outputs": [
    {
     "name": "stdout",
     "output_type": "stream",
     "text": [
      "<class 'pandas.core.frame.DataFrame'>\n",
      "Int64Index: 333469 entries, 0 to 354368\n",
      "Data columns (total 10 columns):\n",
      " #   Column            Non-Null Count   Dtype  \n",
      "---  ------            --------------   -----  \n",
      " 0   Price             333469 non-null  int64  \n",
      " 1   VehicleType       333469 non-null  object \n",
      " 2   RegistrationYear  333469 non-null  int64  \n",
      " 3   Gearbox           333469 non-null  object \n",
      " 4   Power             333469 non-null  float64\n",
      " 5   Model             333469 non-null  object \n",
      " 6   Kilometer         333469 non-null  int64  \n",
      " 7   FuelType          333469 non-null  object \n",
      " 8   Brand             333469 non-null  object \n",
      " 9   Repaired          333469 non-null  object \n",
      "dtypes: float64(1), int64(3), object(6)\n",
      "memory usage: 28.0+ MB\n"
     ]
    },
    {
     "data": {
      "text/plain": [
       "None"
      ]
     },
     "metadata": {},
     "output_type": "display_data"
    },
    {
     "data": {
      "text/html": [
       "<div>\n",
       "<style scoped>\n",
       "    .dataframe tbody tr th:only-of-type {\n",
       "        vertical-align: middle;\n",
       "    }\n",
       "\n",
       "    .dataframe tbody tr th {\n",
       "        vertical-align: top;\n",
       "    }\n",
       "\n",
       "    .dataframe thead th {\n",
       "        text-align: right;\n",
       "    }\n",
       "</style>\n",
       "<table border=\"1\" class=\"dataframe\">\n",
       "  <thead>\n",
       "    <tr style=\"text-align: right;\">\n",
       "      <th></th>\n",
       "      <th>Price</th>\n",
       "      <th>VehicleType</th>\n",
       "      <th>RegistrationYear</th>\n",
       "      <th>Gearbox</th>\n",
       "      <th>Power</th>\n",
       "      <th>Model</th>\n",
       "      <th>Kilometer</th>\n",
       "      <th>FuelType</th>\n",
       "      <th>Brand</th>\n",
       "      <th>Repaired</th>\n",
       "    </tr>\n",
       "  </thead>\n",
       "  <tbody>\n",
       "    <tr>\n",
       "      <th>328073</th>\n",
       "      <td>4900</td>\n",
       "      <td>small</td>\n",
       "      <td>2012</td>\n",
       "      <td>manual</td>\n",
       "      <td>68.0</td>\n",
       "      <td>unknown</td>\n",
       "      <td>60000</td>\n",
       "      <td>petrol</td>\n",
       "      <td>peugeot</td>\n",
       "      <td>no</td>\n",
       "    </tr>\n",
       "    <tr>\n",
       "      <th>224432</th>\n",
       "      <td>10480</td>\n",
       "      <td>sedan</td>\n",
       "      <td>2005</td>\n",
       "      <td>auto</td>\n",
       "      <td>272.0</td>\n",
       "      <td>e_klasse</td>\n",
       "      <td>125000</td>\n",
       "      <td>lpg</td>\n",
       "      <td>mercedes_benz</td>\n",
       "      <td>no</td>\n",
       "    </tr>\n",
       "    <tr>\n",
       "      <th>211076</th>\n",
       "      <td>9699</td>\n",
       "      <td>sedan</td>\n",
       "      <td>2011</td>\n",
       "      <td>manual</td>\n",
       "      <td>116.0</td>\n",
       "      <td>astra</td>\n",
       "      <td>50000</td>\n",
       "      <td>petrol</td>\n",
       "      <td>opel</td>\n",
       "      <td>no</td>\n",
       "    </tr>\n",
       "    <tr>\n",
       "      <th>3780</th>\n",
       "      <td>6100</td>\n",
       "      <td>wagon</td>\n",
       "      <td>2007</td>\n",
       "      <td>manual</td>\n",
       "      <td>163.0</td>\n",
       "      <td>3er</td>\n",
       "      <td>150000</td>\n",
       "      <td>gasoline</td>\n",
       "      <td>bmw</td>\n",
       "      <td>yes</td>\n",
       "    </tr>\n",
       "    <tr>\n",
       "      <th>57044</th>\n",
       "      <td>950</td>\n",
       "      <td>wagon</td>\n",
       "      <td>1999</td>\n",
       "      <td>manual</td>\n",
       "      <td>101.0</td>\n",
       "      <td>focus</td>\n",
       "      <td>5000</td>\n",
       "      <td>petrol</td>\n",
       "      <td>ford</td>\n",
       "      <td>no</td>\n",
       "    </tr>\n",
       "    <tr>\n",
       "      <th>260469</th>\n",
       "      <td>600</td>\n",
       "      <td>sedan</td>\n",
       "      <td>1997</td>\n",
       "      <td>manual</td>\n",
       "      <td>90.0</td>\n",
       "      <td>escort</td>\n",
       "      <td>150000</td>\n",
       "      <td>petrol</td>\n",
       "      <td>ford</td>\n",
       "      <td>no</td>\n",
       "    </tr>\n",
       "    <tr>\n",
       "      <th>230928</th>\n",
       "      <td>3200</td>\n",
       "      <td>convertible</td>\n",
       "      <td>2008</td>\n",
       "      <td>manual</td>\n",
       "      <td>140.0</td>\n",
       "      <td>astra</td>\n",
       "      <td>125000</td>\n",
       "      <td>petrol</td>\n",
       "      <td>opel</td>\n",
       "      <td>no</td>\n",
       "    </tr>\n",
       "    <tr>\n",
       "      <th>23519</th>\n",
       "      <td>2200</td>\n",
       "      <td>sedan</td>\n",
       "      <td>1994</td>\n",
       "      <td>auto</td>\n",
       "      <td>193.0</td>\n",
       "      <td>c_klasse</td>\n",
       "      <td>150000</td>\n",
       "      <td>lpg</td>\n",
       "      <td>mercedes_benz</td>\n",
       "      <td>no</td>\n",
       "    </tr>\n",
       "    <tr>\n",
       "      <th>143643</th>\n",
       "      <td>13500</td>\n",
       "      <td>sedan</td>\n",
       "      <td>2011</td>\n",
       "      <td>auto</td>\n",
       "      <td>204.0</td>\n",
       "      <td>c_klasse</td>\n",
       "      <td>150000</td>\n",
       "      <td>gasoline</td>\n",
       "      <td>mercedes_benz</td>\n",
       "      <td>no</td>\n",
       "    </tr>\n",
       "    <tr>\n",
       "      <th>278222</th>\n",
       "      <td>2000</td>\n",
       "      <td>small</td>\n",
       "      <td>2005</td>\n",
       "      <td>manual</td>\n",
       "      <td>75.0</td>\n",
       "      <td>golf</td>\n",
       "      <td>150000</td>\n",
       "      <td>petrol</td>\n",
       "      <td>volkswagen</td>\n",
       "      <td>no</td>\n",
       "    </tr>\n",
       "    <tr>\n",
       "      <th>96925</th>\n",
       "      <td>5800</td>\n",
       "      <td>sedan</td>\n",
       "      <td>2006</td>\n",
       "      <td>auto</td>\n",
       "      <td>140.0</td>\n",
       "      <td>unknown</td>\n",
       "      <td>150000</td>\n",
       "      <td>unknown</td>\n",
       "      <td>audi</td>\n",
       "      <td>no</td>\n",
       "    </tr>\n",
       "    <tr>\n",
       "      <th>198897</th>\n",
       "      <td>350</td>\n",
       "      <td>unknown</td>\n",
       "      <td>1995</td>\n",
       "      <td>manual</td>\n",
       "      <td>75.0</td>\n",
       "      <td>golf</td>\n",
       "      <td>150000</td>\n",
       "      <td>petrol</td>\n",
       "      <td>volkswagen</td>\n",
       "      <td>no</td>\n",
       "    </tr>\n",
       "    <tr>\n",
       "      <th>66214</th>\n",
       "      <td>3100</td>\n",
       "      <td>wagon</td>\n",
       "      <td>2006</td>\n",
       "      <td>manual</td>\n",
       "      <td>110.0</td>\n",
       "      <td>3_reihe</td>\n",
       "      <td>150000</td>\n",
       "      <td>gasoline</td>\n",
       "      <td>peugeot</td>\n",
       "      <td>no</td>\n",
       "    </tr>\n",
       "    <tr>\n",
       "      <th>91450</th>\n",
       "      <td>1200</td>\n",
       "      <td>convertible</td>\n",
       "      <td>2000</td>\n",
       "      <td>manual</td>\n",
       "      <td>75.0</td>\n",
       "      <td>golf</td>\n",
       "      <td>150000</td>\n",
       "      <td>petrol</td>\n",
       "      <td>volkswagen</td>\n",
       "      <td>no</td>\n",
       "    </tr>\n",
       "    <tr>\n",
       "      <th>52677</th>\n",
       "      <td>150</td>\n",
       "      <td>small</td>\n",
       "      <td>1998</td>\n",
       "      <td>manual</td>\n",
       "      <td>50.0</td>\n",
       "      <td>twingo</td>\n",
       "      <td>150000</td>\n",
       "      <td>petrol</td>\n",
       "      <td>renault</td>\n",
       "      <td>no</td>\n",
       "    </tr>\n",
       "  </tbody>\n",
       "</table>\n",
       "</div>"
      ],
      "text/plain": [
       "        Price  VehicleType  RegistrationYear Gearbox  Power     Model  \\\n",
       "328073   4900        small              2012  manual   68.0   unknown   \n",
       "224432  10480        sedan              2005    auto  272.0  e_klasse   \n",
       "211076   9699        sedan              2011  manual  116.0     astra   \n",
       "3780     6100        wagon              2007  manual  163.0       3er   \n",
       "57044     950        wagon              1999  manual  101.0     focus   \n",
       "260469    600        sedan              1997  manual   90.0    escort   \n",
       "230928   3200  convertible              2008  manual  140.0     astra   \n",
       "23519    2200        sedan              1994    auto  193.0  c_klasse   \n",
       "143643  13500        sedan              2011    auto  204.0  c_klasse   \n",
       "278222   2000        small              2005  manual   75.0      golf   \n",
       "96925    5800        sedan              2006    auto  140.0   unknown   \n",
       "198897    350      unknown              1995  manual   75.0      golf   \n",
       "66214    3100        wagon              2006  manual  110.0   3_reihe   \n",
       "91450    1200  convertible              2000  manual   75.0      golf   \n",
       "52677     150        small              1998  manual   50.0    twingo   \n",
       "\n",
       "        Kilometer  FuelType          Brand Repaired  \n",
       "328073      60000    petrol        peugeot       no  \n",
       "224432     125000       lpg  mercedes_benz       no  \n",
       "211076      50000    petrol           opel       no  \n",
       "3780       150000  gasoline            bmw      yes  \n",
       "57044        5000    petrol           ford       no  \n",
       "260469     150000    petrol           ford       no  \n",
       "230928     125000    petrol           opel       no  \n",
       "23519      150000       lpg  mercedes_benz       no  \n",
       "143643     150000  gasoline  mercedes_benz       no  \n",
       "278222     150000    petrol     volkswagen       no  \n",
       "96925      150000   unknown           audi       no  \n",
       "198897     150000    petrol     volkswagen       no  \n",
       "66214      150000  gasoline        peugeot       no  \n",
       "91450      150000    petrol     volkswagen       no  \n",
       "52677      150000    petrol        renault       no  "
      ]
     },
     "metadata": {},
     "output_type": "display_data"
    }
   ],
   "source": [
    "watch_df(data)"
   ]
  },
  {
   "cell_type": "markdown",
   "metadata": {},
   "source": [
    "### Вывод"
   ]
  },
  {
   "cell_type": "markdown",
   "metadata": {},
   "source": [
    "Благодаря анализу признаков были выявлены и устранены аномалии: некорректный год регистрации авто, нереалистичная мощность. Также, были удалены объявления с отсутствующими ценами (price = 0). \n",
    "\n",
    "\n",
    "После предобработки признаков можно проводить корреляционный анализ. "
   ]
  },
  {
   "cell_type": "markdown",
   "metadata": {},
   "source": [
    "## Корреляционный анализ"
   ]
  },
  {
   "cell_type": "markdown",
   "metadata": {},
   "source": [
    "Для корреляционного анализа выбрал фи-матрицу, учитывающую категориальные, количественные и интервальные признаки"
   ]
  },
  {
   "cell_type": "code",
   "execution_count": 35,
   "metadata": {},
   "outputs": [],
   "source": [
    "interval_features = [     # записываю интервальные признаки в переменную\n",
    "    'Power',\n",
    "    'Price'\n",
    "    ]"
   ]
  },
  {
   "cell_type": "code",
   "execution_count": 36,
   "metadata": {},
   "outputs": [
    {
     "data": {
      "image/png": "[encoded data removed]",
      "text/plain": [
       "<Figure size 1080x864 with 2 Axes>"
      ]
     },
     "metadata": {},
     "output_type": "display_data"
    }
   ],
   "source": [
    "phik_overview = data.phik_matrix(interval_cols=interval_features)\n",
    "\n",
    "plot_correlation_matrix(\n",
    "    phik_overview.values, \n",
    "    x_labels=phik_overview.columns, \n",
    "    y_labels=phik_overview.index, \n",
    "    title=r\"correlation $\\phi_K$\", \n",
    "    fontsize_factor=1.5,\n",
    "    vmin=0, vmax=1,\n",
    "    color_map='Blues',\n",
    "    figsize=(15, 12)\n",
    "    )"
   ]
  },
  {
   "cell_type": "markdown",
   "metadata": {},
   "source": [
    "### Вывод"
   ]
  },
  {
   "cell_type": "markdown",
   "metadata": {},
   "source": [
    "Матрица корреляции показывает, что у признаков Model и Brand присутствуе мультиколленираность. Таким образом, для устойчивой работы модели удаляю признак Brand. Model оставляю, так как она отражает более узкую и, следовательно, более точную кластеризацию объявлений. "
   ]
  },
  {
   "cell_type": "code",
   "execution_count": 37,
   "metadata": {},
   "outputs": [],
   "source": [
    "data = data.drop(['Brand'], axis = 1)"
   ]
  },
  {
   "cell_type": "code",
   "execution_count": 38,
   "metadata": {
    "scrolled": true
   },
   "outputs": [
    {
     "name": "stdout",
     "output_type": "stream",
     "text": [
      "<class 'pandas.core.frame.DataFrame'>\n",
      "Int64Index: 333469 entries, 0 to 354368\n",
      "Data columns (total 9 columns):\n",
      " #   Column            Non-Null Count   Dtype  \n",
      "---  ------            --------------   -----  \n",
      " 0   Price             333469 non-null  int64  \n",
      " 1   VehicleType       333469 non-null  object \n",
      " 2   RegistrationYear  333469 non-null  int64  \n",
      " 3   Gearbox           333469 non-null  object \n",
      " 4   Power             333469 non-null  float64\n",
      " 5   Model             333469 non-null  object \n",
      " 6   Kilometer         333469 non-null  int64  \n",
      " 7   FuelType          333469 non-null  object \n",
      " 8   Repaired          333469 non-null  object \n",
      "dtypes: float64(1), int64(3), object(5)\n",
      "memory usage: 25.4+ MB\n"
     ]
    },
    {
     "data": {
      "text/plain": [
       "None"
      ]
     },
     "metadata": {},
     "output_type": "display_data"
    },
    {
     "data": {
      "text/html": [
       "<div>\n",
       "<style scoped>\n",
       "    .dataframe tbody tr th:only-of-type {\n",
       "        vertical-align: middle;\n",
       "    }\n",
       "\n",
       "    .dataframe tbody tr th {\n",
       "        vertical-align: top;\n",
       "    }\n",
       "\n",
       "    .dataframe thead th {\n",
       "        text-align: right;\n",
       "    }\n",
       "</style>\n",
       "<table border=\"1\" class=\"dataframe\">\n",
       "  <thead>\n",
       "    <tr style=\"text-align: right;\">\n",
       "      <th></th>\n",
       "      <th>Price</th>\n",
       "      <th>VehicleType</th>\n",
       "      <th>RegistrationYear</th>\n",
       "      <th>Gearbox</th>\n",
       "      <th>Power</th>\n",
       "      <th>Model</th>\n",
       "      <th>Kilometer</th>\n",
       "      <th>FuelType</th>\n",
       "      <th>Repaired</th>\n",
       "    </tr>\n",
       "  </thead>\n",
       "  <tbody>\n",
       "    <tr>\n",
       "      <th>259065</th>\n",
       "      <td>3200</td>\n",
       "      <td>convertible</td>\n",
       "      <td>2004</td>\n",
       "      <td>manual</td>\n",
       "      <td>90.0</td>\n",
       "      <td>tigra</td>\n",
       "      <td>150000</td>\n",
       "      <td>petrol</td>\n",
       "      <td>no</td>\n",
       "    </tr>\n",
       "    <tr>\n",
       "      <th>256603</th>\n",
       "      <td>2000</td>\n",
       "      <td>unknown</td>\n",
       "      <td>2005</td>\n",
       "      <td>manual</td>\n",
       "      <td>75.0</td>\n",
       "      <td>golf</td>\n",
       "      <td>150000</td>\n",
       "      <td>unknown</td>\n",
       "      <td>yes</td>\n",
       "    </tr>\n",
       "    <tr>\n",
       "      <th>333125</th>\n",
       "      <td>3500</td>\n",
       "      <td>wagon</td>\n",
       "      <td>2009</td>\n",
       "      <td>manual</td>\n",
       "      <td>75.0</td>\n",
       "      <td>logan</td>\n",
       "      <td>100000</td>\n",
       "      <td>petrol</td>\n",
       "      <td>no</td>\n",
       "    </tr>\n",
       "    <tr>\n",
       "      <th>123608</th>\n",
       "      <td>2500</td>\n",
       "      <td>small</td>\n",
       "      <td>2002</td>\n",
       "      <td>manual</td>\n",
       "      <td>90.0</td>\n",
       "      <td>one</td>\n",
       "      <td>150000</td>\n",
       "      <td>lpg</td>\n",
       "      <td>yes</td>\n",
       "    </tr>\n",
       "    <tr>\n",
       "      <th>231799</th>\n",
       "      <td>8400</td>\n",
       "      <td>sedan</td>\n",
       "      <td>2003</td>\n",
       "      <td>auto</td>\n",
       "      <td>231.0</td>\n",
       "      <td>5er</td>\n",
       "      <td>150000</td>\n",
       "      <td>petrol</td>\n",
       "      <td>no</td>\n",
       "    </tr>\n",
       "    <tr>\n",
       "      <th>248338</th>\n",
       "      <td>999</td>\n",
       "      <td>sedan</td>\n",
       "      <td>1998</td>\n",
       "      <td>manual</td>\n",
       "      <td>101.0</td>\n",
       "      <td>passat</td>\n",
       "      <td>150000</td>\n",
       "      <td>petrol</td>\n",
       "      <td>no</td>\n",
       "    </tr>\n",
       "    <tr>\n",
       "      <th>289047</th>\n",
       "      <td>5300</td>\n",
       "      <td>sedan</td>\n",
       "      <td>1986</td>\n",
       "      <td>manual</td>\n",
       "      <td>171.0</td>\n",
       "      <td>3er</td>\n",
       "      <td>150000</td>\n",
       "      <td>petrol</td>\n",
       "      <td>no</td>\n",
       "    </tr>\n",
       "    <tr>\n",
       "      <th>135234</th>\n",
       "      <td>1300</td>\n",
       "      <td>small</td>\n",
       "      <td>1997</td>\n",
       "      <td>manual</td>\n",
       "      <td>60.0</td>\n",
       "      <td>polo</td>\n",
       "      <td>90000</td>\n",
       "      <td>petrol</td>\n",
       "      <td>no</td>\n",
       "    </tr>\n",
       "    <tr>\n",
       "      <th>312187</th>\n",
       "      <td>2500</td>\n",
       "      <td>wagon</td>\n",
       "      <td>2001</td>\n",
       "      <td>manual</td>\n",
       "      <td>140.0</td>\n",
       "      <td>ptcruiser</td>\n",
       "      <td>150000</td>\n",
       "      <td>petrol</td>\n",
       "      <td>no</td>\n",
       "    </tr>\n",
       "    <tr>\n",
       "      <th>17759</th>\n",
       "      <td>18500</td>\n",
       "      <td>small</td>\n",
       "      <td>2013</td>\n",
       "      <td>manual</td>\n",
       "      <td>184.0</td>\n",
       "      <td>cooper</td>\n",
       "      <td>30000</td>\n",
       "      <td>petrol</td>\n",
       "      <td>no</td>\n",
       "    </tr>\n",
       "    <tr>\n",
       "      <th>310235</th>\n",
       "      <td>2000</td>\n",
       "      <td>wagon</td>\n",
       "      <td>1996</td>\n",
       "      <td>manual</td>\n",
       "      <td>150.0</td>\n",
       "      <td>a4</td>\n",
       "      <td>150000</td>\n",
       "      <td>petrol</td>\n",
       "      <td>no</td>\n",
       "    </tr>\n",
       "    <tr>\n",
       "      <th>192456</th>\n",
       "      <td>2700</td>\n",
       "      <td>wagon</td>\n",
       "      <td>2007</td>\n",
       "      <td>manual</td>\n",
       "      <td>116.0</td>\n",
       "      <td>octavia</td>\n",
       "      <td>150000</td>\n",
       "      <td>gasoline</td>\n",
       "      <td>no</td>\n",
       "    </tr>\n",
       "    <tr>\n",
       "      <th>57972</th>\n",
       "      <td>18800</td>\n",
       "      <td>sedan</td>\n",
       "      <td>2012</td>\n",
       "      <td>manual</td>\n",
       "      <td>131.0</td>\n",
       "      <td>qashqai</td>\n",
       "      <td>20000</td>\n",
       "      <td>gasoline</td>\n",
       "      <td>no</td>\n",
       "    </tr>\n",
       "    <tr>\n",
       "      <th>326230</th>\n",
       "      <td>6400</td>\n",
       "      <td>bus</td>\n",
       "      <td>2009</td>\n",
       "      <td>manual</td>\n",
       "      <td>90.0</td>\n",
       "      <td>berlingo</td>\n",
       "      <td>70000</td>\n",
       "      <td>petrol</td>\n",
       "      <td>no</td>\n",
       "    </tr>\n",
       "    <tr>\n",
       "      <th>313760</th>\n",
       "      <td>450</td>\n",
       "      <td>sedan</td>\n",
       "      <td>1996</td>\n",
       "      <td>manual</td>\n",
       "      <td>75.0</td>\n",
       "      <td>astra</td>\n",
       "      <td>125000</td>\n",
       "      <td>petrol</td>\n",
       "      <td>no</td>\n",
       "    </tr>\n",
       "  </tbody>\n",
       "</table>\n",
       "</div>"
      ],
      "text/plain": [
       "        Price  VehicleType  RegistrationYear Gearbox  Power      Model  \\\n",
       "259065   3200  convertible              2004  manual   90.0      tigra   \n",
       "256603   2000      unknown              2005  manual   75.0       golf   \n",
       "333125   3500        wagon              2009  manual   75.0      logan   \n",
       "123608   2500        small              2002  manual   90.0        one   \n",
       "231799   8400        sedan              2003    auto  231.0        5er   \n",
       "248338    999        sedan              1998  manual  101.0     passat   \n",
       "289047   5300        sedan              1986  manual  171.0        3er   \n",
       "135234   1300        small              1997  manual   60.0       polo   \n",
       "312187   2500        wagon              2001  manual  140.0  ptcruiser   \n",
       "17759   18500        small              2013  manual  184.0     cooper   \n",
       "310235   2000        wagon              1996  manual  150.0         a4   \n",
       "192456   2700        wagon              2007  manual  116.0    octavia   \n",
       "57972   18800        sedan              2012  manual  131.0    qashqai   \n",
       "326230   6400          bus              2009  manual   90.0   berlingo   \n",
       "313760    450        sedan              1996  manual   75.0      astra   \n",
       "\n",
       "        Kilometer  FuelType Repaired  \n",
       "259065     150000    petrol       no  \n",
       "256603     150000   unknown      yes  \n",
       "333125     100000    petrol       no  \n",
       "123608     150000       lpg      yes  \n",
       "231799     150000    petrol       no  \n",
       "248338     150000    petrol       no  \n",
       "289047     150000    petrol       no  \n",
       "135234      90000    petrol       no  \n",
       "312187     150000    petrol       no  \n",
       "17759       30000    petrol       no  \n",
       "310235     150000    petrol       no  \n",
       "192456     150000  gasoline       no  \n",
       "57972       20000  gasoline       no  \n",
       "326230      70000    petrol       no  \n",
       "313760     125000    petrol       no  "
      ]
     },
     "metadata": {},
     "output_type": "display_data"
    }
   ],
   "source": [
    "watch_df(data)"
   ]
  },
  {
   "cell_type": "markdown",
   "metadata": {},
   "source": [
    "Удаляю полные дубликаты строк после удаления признаков, которые не будут использоваться в моделировании"
   ]
  },
  {
   "cell_type": "code",
   "execution_count": 39,
   "metadata": {},
   "outputs": [
    {
     "name": "stdout",
     "output_type": "stream",
     "text": [
      "Удалено строк-дубликатов: 51279\n"
     ]
    }
   ],
   "source": [
    "count_1 = len(data)\n",
    "\n",
    "data = data.drop_duplicates()\n",
    "\n",
    "count_2 = len(data)\n",
    "res = count_1 - count_2\n",
    "\n",
    "print('Удалено строк-дубликатов:', res)"
   ]
  },
  {
   "cell_type": "markdown",
   "metadata": {},
   "source": [
    "## Обучение моделей"
   ]
  },
  {
   "cell_type": "code",
   "execution_count": 40,
   "metadata": {},
   "outputs": [],
   "source": [
    "# деление на тренировочную и тестовую выборки\n",
    "X_train, X_test, y_train, y_test = train_test_split(\n",
    "    data.drop(['Price'], axis = 1),\n",
    "    data['Price'],\n",
    "    test_size = TEST_SIZE,\n",
    "    random_state = RANDOM_STATE\n",
    "    )"
   ]
  },
  {
   "cell_type": "code",
   "execution_count": 42,
   "metadata": {},
   "outputs": [],
   "source": [
    "num_columns = ['RegistrationYear', 'Power', 'Kilometer']\n",
    "cat_columns = ['VehicleType', 'Gearbox', 'FuelType', 'Model', 'Repaired']"
   ]
  },
  {
   "cell_type": "code",
   "execution_count": 43,
   "metadata": {},
   "outputs": [],
   "source": [
    "ohe_pipe = Pipeline(\n",
    "    [\n",
    "        (\n",
    "            'simpleImputer_ohe',\n",
    "            SimpleImputer(missing_values='unknown', strategy='most_frequent')\n",
    "        ),\n",
    "        (\n",
    "            'ohe', OneHotEncoder(handle_unknown='ignore', sparse=False)\n",
    "        )\n",
    "    ]\n",
    ")\n",
    "\n",
    "\n",
    "data_preprocessor = ColumnTransformer(\n",
    "    [\n",
    "        ('ohe', ohe_pipe, cat_columns),\n",
    "        ('num', MinMaxScaler(), num_columns)\n",
    "    ], \n",
    "    remainder='passthrough'\n",
    ")\n",
    "\n",
    "pipe_final = Pipeline(\n",
    "    [\n",
    "        (\n",
    "            'preprocessor', data_preprocessor\n",
    "        ),\n",
    "        (\n",
    "            'models', DecisionTreeRegressor(random_state=RANDOM_STATE)\n",
    "        )\n",
    "    ]\n",
    ")"
   ]
  },
  {
   "cell_type": "code",
   "execution_count": 44,
   "metadata": {},
   "outputs": [
    {
     "data": {
      "text/plain": [
       "Pipeline(steps=[('preprocessor',\n",
       "                 ColumnTransformer(remainder='passthrough',\n",
       "                                   transformers=[('ohe',\n",
       "                                                  Pipeline(steps=[('simpleImputer_ohe',\n",
       "                                                                   SimpleImputer(missing_values='unknown',\n",
       "                                                                                 strategy='most_frequent')),\n",
       "                                                                  ('ohe',\n",
       "                                                                   OneHotEncoder(handle_unknown='ignore',\n",
       "                                                                                 sparse=False))]),\n",
       "                                                  ['VehicleType', 'Gearbox',\n",
       "                                                   'FuelType', 'Model',\n",
       "                                                   'Repaired']),\n",
       "                                                 ('num', MinMaxScaler(),\n",
       "                                                  ['RegistrationYear', 'Power',\n",
       "                                                   'Kilometer'])])),\n",
       "                ('models', DecisionTreeRegressor(random_state=36))])"
      ]
     },
     "execution_count": 44,
     "metadata": {},
     "output_type": "execute_result"
    }
   ],
   "source": [
    "pipe_final.fit(X_train, y_train)"
   ]
  },
  {
   "cell_type": "code",
   "execution_count": 45,
   "metadata": {},
   "outputs": [],
   "source": [
    "param_grid_1 = [\n",
    "    {\n",
    "        'models': [LinearRegression()],\n",
    "        'preprocessor__num': [StandardScaler(), MinMaxScaler(), RobustScaler(), 'passthrough']  \n",
    "    }\n",
    "]"
   ]
  },
  {
   "cell_type": "code",
   "execution_count": 46,
   "metadata": {},
   "outputs": [],
   "source": [
    "grid_search_1 = GridSearchCV(\n",
    "    pipe_final, \n",
    "    param_grid_1, \n",
    "    cv=5,\n",
    "    scoring='neg_root_mean_squared_error',\n",
    "    n_jobs=-1\n",
    "    )"
   ]
  },
  {
   "cell_type": "code",
   "execution_count": 47,
   "metadata": {
    "scrolled": true
   },
   "outputs": [
    {
     "name": "stdout",
     "output_type": "stream",
     "text": [
      "Время выполнения кода -  211.99218606948853\n"
     ]
    }
   ],
   "source": [
    "start = time.time()\n",
    "grid_search_1.fit(X_train, y_train)\n",
    "\n",
    "finish = time.time()\n",
    "res = finish - start\n",
    "print('Время выполнения кода - ', res)"
   ]
  },
  {
   "cell_type": "code",
   "execution_count": 48,
   "metadata": {
    "scrolled": false
   },
   "outputs": [
    {
     "name": "stdout",
     "output_type": "stream",
     "text": [
      "Метрика модели LinearRegression при кросс-валидации: 68657.80727296673\n",
      "Время обучения модели LinearRegression 12.302168369293213\n"
     ]
    }
   ],
   "source": [
    "print('Метрика модели LinearRegression при кросс-валидации:', ((grid_search_1.best_score_)*-1))\n",
    "print('Время обучения модели LinearRegression', ((grid_search_1.refit_time_)))"
   ]
  },
  {
   "cell_type": "code",
   "execution_count": 49,
   "metadata": {},
   "outputs": [],
   "source": [
    "ord_pipe = Pipeline(\n",
    "    [\n",
    "        ('simpleImputer_ord_one', SimpleImputer(missing_values=np.nan, strategy='most_frequent')),\n",
    "        ('simpleImputer_ord_two', SimpleImputer(missing_values=' ', strategy='most_frequent')),\n",
    "        ('ord', OrdinalEncoder(\n",
    "                categories=[\n",
    "                    data['VehicleType'].unique(),\n",
    "                    data['Gearbox'].unique(),\n",
    "                    data['FuelType'].unique(),\n",
    "                    data['Model'].unique(),\n",
    "                    data['Repaired'].unique()\n",
    "                ], \n",
    "                handle_unknown='use_encoded_value',\n",
    "                unknown_value=np.nan\n",
    "                ))\n",
    "    ]\n",
    ")\n",
    "\n",
    "data_preprocessor_2 = ColumnTransformer(\n",
    "    [\n",
    "        ('ord', ord_pipe, cat_columns),\n",
    "        ('num', MinMaxScaler(), num_columns)\n",
    "    ], \n",
    "    remainder='passthrough'\n",
    ")\n",
    "\n",
    "pipe_final_2 = Pipeline(\n",
    "    [\n",
    "        (\n",
    "            'preprocessor', data_preprocessor_2\n",
    "        ),\n",
    "        (\n",
    "            'models', DecisionTreeRegressor(random_state=RANDOM_STATE)\n",
    "        )\n",
    "    ]\n",
    ")"
   ]
  },
  {
   "cell_type": "code",
   "execution_count": 50,
   "metadata": {},
   "outputs": [
    {
     "data": {
      "text/plain": [
       "Pipeline(steps=[('preprocessor',\n",
       "                 ColumnTransformer(remainder='passthrough',\n",
       "                                   transformers=[('ord',\n",
       "                                                  Pipeline(steps=[('simpleImputer_ord_one',\n",
       "                                                                   SimpleImputer(strategy='most_frequent')),\n",
       "                                                                  ('simpleImputer_ord_two',\n",
       "                                                                   SimpleImputer(missing_values=' ',\n",
       "                                                                                 strategy='most_frequent')),\n",
       "                                                                  ('ord',\n",
       "                                                                   OrdinalEncoder(categories=[array(['unknown', 'coupe', 'suv', 'small', 'sedan', 'convert...\n",
       "       'range_rover_evoque', 'materia', 'delta', 'gl', 'kalina',\n",
       "       'elefantino', 'i3', 'amarok', 'kappa', 'serie_3', 'serie_1'],\n",
       "      dtype=object),\n",
       "                                                                                              array(['no', 'yes'], dtype=object)],\n",
       "                                                                                  handle_unknown='use_encoded_value',\n",
       "                                                                                  unknown_value=nan))]),\n",
       "                                                  ['VehicleType', 'Gearbox',\n",
       "                                                   'FuelType', 'Model',\n",
       "                                                   'Repaired']),\n",
       "                                                 ('num', MinMaxScaler(),\n",
       "                                                  ['RegistrationYear', 'Power',\n",
       "                                                   'Kilometer'])])),\n",
       "                ('models', DecisionTreeRegressor(random_state=36))])"
      ]
     },
     "execution_count": 50,
     "metadata": {},
     "output_type": "execute_result"
    }
   ],
   "source": [
    "pipe_final_2.fit(X_train, y_train)"
   ]
  },
  {
   "cell_type": "code",
   "execution_count": 51,
   "metadata": {},
   "outputs": [],
   "source": [
    "param_grid_2 = [\n",
    "    {\n",
    "        'models': [LGBMRegressor(random_state=RANDOM_STATE)],\n",
    "        'preprocessor__num': [StandardScaler(), MinMaxScaler(), RobustScaler(), 'passthrough']  \n",
    "    }\n",
    "]"
   ]
  },
  {
   "cell_type": "code",
   "execution_count": 52,
   "metadata": {},
   "outputs": [],
   "source": [
    "grid_search_2 = GridSearchCV(\n",
    "    pipe_final_2, \n",
    "    param_grid_2, \n",
    "    cv=5,\n",
    "    scoring='neg_root_mean_squared_error',\n",
    "    n_jobs=-1\n",
    "    )"
   ]
  },
  {
   "cell_type": "code",
   "execution_count": 53,
   "metadata": {},
   "outputs": [
    {
     "name": "stdout",
     "output_type": "stream",
     "text": [
      "Время выполнения кода -  105.69170069694519\n"
     ]
    }
   ],
   "source": [
    "start = time.time()\n",
    "grid_search_2.fit(X_train, y_train)\n",
    "\n",
    "finish = time.time()\n",
    "res = finish - start\n",
    "print('Время выполнения кода - ', res)"
   ]
  },
  {
   "cell_type": "code",
   "execution_count": 54,
   "metadata": {},
   "outputs": [
    {
     "name": "stdout",
     "output_type": "stream",
     "text": [
      "Метрика модели LGBMRegressor при кросс-валидации: 1855.7021426371084\n",
      "Время обучения модели LGBMRegressor 5.602081298828125\n"
     ]
    }
   ],
   "source": [
    "print('Метрика модели LGBMRegressor при кросс-валидации:', ((grid_search_2.best_score_)*-1))\n",
    "print('Время обучения модели LGBMRegressor', ((grid_search_2.refit_time_)))"
   ]
  },
  {
   "cell_type": "code",
   "execution_count": 55,
   "metadata": {},
   "outputs": [],
   "source": [
    "param_grid_3 = [\n",
    "    {\n",
    "        'models': [DecisionTreeRegressor(random_state=RANDOM_STATE)],\n",
    "        'models__max_depth': range(7,10),\n",
    "        'models__min_samples_leaf': range(4,6),\n",
    "        'preprocessor__num': [StandardScaler(), MinMaxScaler(), RobustScaler(), 'passthrough'] \n",
    "    }\n",
    "]"
   ]
  },
  {
   "cell_type": "code",
   "execution_count": 56,
   "metadata": {},
   "outputs": [],
   "source": [
    "grid_search_3 = GridSearchCV(\n",
    "    pipe_final_2, \n",
    "    param_grid_3, \n",
    "    cv=5,\n",
    "    scoring='neg_root_mean_squared_error',\n",
    "    n_jobs=-1\n",
    "    )"
   ]
  },
  {
   "cell_type": "code",
   "execution_count": 57,
   "metadata": {},
   "outputs": [
    {
     "name": "stdout",
     "output_type": "stream",
     "text": [
      "Время выполнения кода -  72.91792559623718\n"
     ]
    }
   ],
   "source": [
    "start = time.time()\n",
    "grid_search_3.fit(X_train, y_train)\n",
    "\n",
    "finish = time.time()\n",
    "res = finish - start\n",
    "print('Время выполнения кода - ', res)"
   ]
  },
  {
   "cell_type": "code",
   "execution_count": 58,
   "metadata": {},
   "outputs": [
    {
     "name": "stdout",
     "output_type": "stream",
     "text": [
      "Метрика модели DecisionTreeRegressor при кросс-валидации: 2183.517972594406\n",
      "Время обучения модели DecisionTreeRegressor 0.699094295501709\n"
     ]
    }
   ],
   "source": [
    "print('Метрика модели DecisionTreeRegressor при кросс-валидации:', ((grid_search_3.best_score_)*-1))\n",
    "print('Время обучения модели DecisionTreeRegressor', ((grid_search_3.refit_time_)))"
   ]
  },
  {
   "cell_type": "markdown",
   "metadata": {},
   "source": [
    "### Вывод"
   ]
  },
  {
   "cell_type": "markdown",
   "metadata": {},
   "source": [
    "Лучшую метрику rmse при кросс-валидации показала модель LGBMRegressor (~1855). Скорость обучения на втором месте среди моделей: 5.1 секунды. \n",
    "\n",
    "\n",
    "Второе место среди моделей заняла модель DecisionTreeRegressor с метрикой при кросс-валидации (~ 2183.52), при этом время обучения модели наименьшее из трех - 0,75 секунды. \n",
    "\n",
    "\n",
    "Третье место среди моделей принадлежит LinearRegression. Метрика rmse при кросс-валидации крайне высока, поэтому модель нежизнеспособна. "
   ]
  },
  {
   "cell_type": "markdown",
   "metadata": {},
   "source": [
    "## Анализ моделей"
   ]
  },
  {
   "cell_type": "markdown",
   "metadata": {},
   "source": [
    "### Измерение скорости предсказаний"
   ]
  },
  {
   "cell_type": "code",
   "execution_count": 59,
   "metadata": {},
   "outputs": [
    {
     "name": "stdout",
     "output_type": "stream",
     "text": [
      "Время предсказания LinearRegression -  0.29213809967041016\n",
      "Время предсказания LGBM -  0.6855413913726807\n",
      "Время предсказания DecisionTreeRegressor -  0.1889786720275879\n"
     ]
    }
   ],
   "source": [
    "# Получение предсказаний первой модели - LinearRegression\n",
    "start = time.time()\n",
    "\n",
    "grid_search_1.predict(X_test)\n",
    "\n",
    "finish = time.time()\n",
    "res_lin = finish - start\n",
    "print('Время предсказания LinearRegression - ', res_lin)\n",
    "\n",
    "\n",
    "# Получение предсказаний второй модели - LGBM\n",
    "start = time.time()\n",
    "\n",
    "grid_search_2.predict(X_test)\n",
    "\n",
    "finish = time.time()\n",
    "res_lgbm = finish - start\n",
    "print('Время предсказания LGBM - ', res_lgbm)\n",
    "\n",
    "# Получение предсказаний второй модели - DecisionTreeRegressor\n",
    "start = time.time()\n",
    "\n",
    "grid_search_3.predict(X_test)\n",
    "\n",
    "finish = time.time()\n",
    "res_tree = finish - start\n",
    "print('Время предсказания DecisionTreeRegressor - ', res_tree)"
   ]
  },
  {
   "cell_type": "markdown",
   "metadata": {},
   "source": [
    "### Вывод"
   ]
  },
  {
   "cell_type": "markdown",
   "metadata": {},
   "source": [
    "При получении предсказаний модели лучшую скорость показала LinearRegression, второе место у DecisionTreeRegressor, третье место - LGBM"
   ]
  },
  {
   "cell_type": "markdown",
   "metadata": {},
   "source": [
    "### Проверка  лучшей модели на тестовых данных"
   ]
  },
  {
   "cell_type": "code",
   "execution_count": 60,
   "metadata": {},
   "outputs": [
    {
     "name": "stdout",
     "output_type": "stream",
     "text": [
      "Метрика RMSE модели LGBM на тестовых данных:  1863.8595358695597\n"
     ]
    }
   ],
   "source": [
    "preds_lgbm = grid_search_2.predict(X_test)\n",
    "score = mean_squared_error(y_test, preds_lgbm, squared=False)\n",
    "print('Метрика RMSE модели LGBM на тестовых данных: ', score)\n",
    "\n",
    "# preds_tree = grid_search_3.predict(X_test)\n",
    "# score = mean_squared_error(y_test, preds_tree, squared=False)\n",
    "# print('Метрика RMSE модели DecisionTreeRegressor на тестовых данных: ', score)\n",
    "\n",
    "# Переобучение отсутствует в обоих моделях"
   ]
  },
  {
   "cell_type": "markdown",
   "metadata": {},
   "source": [
    "Переобучение модели отсутствует, LGBM показывает отличный результат как на кросс-валидации, так и на тестовых данных. "
   ]
  },
  {
   "cell_type": "markdown",
   "metadata": {},
   "source": [
    "# Общий вывод"
   ]
  },
  {
   "cell_type": "markdown",
   "metadata": {},
   "source": [
    "В процессе работы над датасетом был проведен анализ и предобработка данных. Были удалены полные дубликаты строк, устранены неявные дубликаты.\n",
    "\n",
    "\n",
    "После проведения анализа данных были удалены или скорректированы значения числовых признаков: исправлены значения года регистрации автомобиля, мощности, цены. Отсутствующие значения были заменены заглушкой unknown.  \n",
    "\n",
    "\n",
    "На основе датасета были обучены 3 модели: линейная регрессия, регрессия дерева решений и модель градиентного бустинга LightGBM. Лучшей моделью оказалсь LightGBM, которая обучилась быстрее всего и показала наивысшую точность по RMSE. \n",
    "\n",
    "Также была замерена скорость получения предсказаний модели. Самое большое время обучения у модели LGBM, однако, речь идет о полутора секундах против половины секунды для модели, занимающей второе место по скорости предсказания, точность которой заметно ниже. \n",
    "\n",
    "Итог: для получения предсказания цены автомобиля рекомендую использовать модель LGBM."
   ]
  }
 ],
 "metadata": {
  "ExecuteTimeLog": [
   {
    "duration": 96,
    "start_time": "2024-04-12T20:48:58.907Z"
   },
   {
    "duration": 43,
    "start_time": "2024-04-12T20:49:13.854Z"
   },
   {
    "duration": 419,
    "start_time": "2024-04-12T20:49:18.162Z"
   },
   {
    "duration": 1247,
    "start_time": "2024-04-12T20:49:19.110Z"
   },
   {
    "duration": 91,
    "start_time": "2024-04-12T20:53:48.076Z"
   },
   {
    "duration": 3,
    "start_time": "2024-04-12T20:53:55.182Z"
   },
   {
    "duration": 3,
    "start_time": "2024-04-12T20:54:11.715Z"
   },
   {
    "duration": 191,
    "start_time": "2024-04-12T20:54:15.894Z"
   },
   {
    "duration": 121,
    "start_time": "2024-04-12T21:24:45.718Z"
   },
   {
    "duration": 146,
    "start_time": "2024-04-12T21:25:00.292Z"
   },
   {
    "duration": 37,
    "start_time": "2024-04-12T21:28:10.612Z"
   },
   {
    "duration": 43,
    "start_time": "2024-04-12T21:29:25.059Z"
   },
   {
    "duration": 52,
    "start_time": "2024-04-12T21:30:49.495Z"
   },
   {
    "duration": 59,
    "start_time": "2024-04-12T21:30:59.440Z"
   },
   {
    "duration": 246,
    "start_time": "2024-04-12T21:31:07.685Z"
   },
   {
    "duration": 166,
    "start_time": "2024-04-12T21:31:55.676Z"
   },
   {
    "duration": 143,
    "start_time": "2024-04-12T21:31:57.263Z"
   },
   {
    "duration": 49,
    "start_time": "2024-04-12T21:32:35.460Z"
   },
   {
    "duration": 6,
    "start_time": "2024-04-12T21:32:35.912Z"
   },
   {
    "duration": 438,
    "start_time": "2024-04-12T21:32:48.601Z"
   },
   {
    "duration": 952,
    "start_time": "2024-04-12T21:32:49.041Z"
   },
   {
    "duration": 3,
    "start_time": "2024-04-12T21:32:49.995Z"
   },
   {
    "duration": 199,
    "start_time": "2024-04-12T21:32:50.000Z"
   },
   {
    "duration": 119,
    "start_time": "2024-04-12T21:32:50.200Z"
   },
   {
    "duration": 153,
    "start_time": "2024-04-12T21:32:50.321Z"
   },
   {
    "duration": 65,
    "start_time": "2024-04-12T21:32:50.475Z"
   },
   {
    "duration": 177,
    "start_time": "2024-04-12T21:32:50.541Z"
   },
   {
    "duration": 44,
    "start_time": "2024-04-12T21:33:29.995Z"
   },
   {
    "duration": 157,
    "start_time": "2024-04-12T21:33:30.423Z"
   },
   {
    "duration": 41,
    "start_time": "2024-04-12T21:33:43.210Z"
   },
   {
    "duration": 148,
    "start_time": "2024-04-12T21:33:44.218Z"
   },
   {
    "duration": 394,
    "start_time": "2024-04-12T21:33:56.124Z"
   },
   {
    "duration": 924,
    "start_time": "2024-04-12T21:33:56.520Z"
   },
   {
    "duration": 3,
    "start_time": "2024-04-12T21:33:57.446Z"
   },
   {
    "duration": 208,
    "start_time": "2024-04-12T21:33:57.451Z"
   },
   {
    "duration": 125,
    "start_time": "2024-04-12T21:33:57.661Z"
   },
   {
    "duration": 167,
    "start_time": "2024-04-12T21:33:57.788Z"
   },
   {
    "duration": 57,
    "start_time": "2024-04-12T21:33:57.956Z"
   },
   {
    "duration": 163,
    "start_time": "2024-04-12T21:33:58.015Z"
   },
   {
    "duration": 17,
    "start_time": "2024-04-12T21:34:33.189Z"
   },
   {
    "duration": 165,
    "start_time": "2024-04-12T21:34:33.863Z"
   },
   {
    "duration": 18,
    "start_time": "2024-04-12T21:37:49.010Z"
   },
   {
    "duration": 144,
    "start_time": "2024-04-12T21:37:49.540Z"
   },
   {
    "duration": 395,
    "start_time": "2024-04-12T21:37:58.512Z"
   },
   {
    "duration": 899,
    "start_time": "2024-04-12T21:37:58.908Z"
   },
   {
    "duration": 3,
    "start_time": "2024-04-12T21:37:59.809Z"
   },
   {
    "duration": 198,
    "start_time": "2024-04-12T21:37:59.814Z"
   },
   {
    "duration": 120,
    "start_time": "2024-04-12T21:38:00.013Z"
   },
   {
    "duration": 272,
    "start_time": "2024-04-12T21:38:00.135Z"
   },
   {
    "duration": 39,
    "start_time": "2024-04-12T21:38:00.409Z"
   },
   {
    "duration": 202,
    "start_time": "2024-04-12T21:38:00.450Z"
   },
   {
    "duration": 97,
    "start_time": "2024-04-12T21:38:32.990Z"
   },
   {
    "duration": 150,
    "start_time": "2024-04-12T21:38:33.494Z"
   },
   {
    "duration": 92,
    "start_time": "2024-04-12T21:41:10.037Z"
   },
   {
    "duration": 155,
    "start_time": "2024-04-12T21:41:10.401Z"
   },
   {
    "duration": 144,
    "start_time": "2024-04-12T21:47:10.772Z"
   },
   {
    "duration": 380,
    "start_time": "2024-04-12T21:47:29.050Z"
   },
   {
    "duration": 968,
    "start_time": "2024-04-12T21:47:29.431Z"
   },
   {
    "duration": 4,
    "start_time": "2024-04-12T21:47:30.400Z"
   },
   {
    "duration": 288,
    "start_time": "2024-04-12T21:47:30.406Z"
   },
   {
    "duration": 137,
    "start_time": "2024-04-12T21:47:30.696Z"
   },
   {
    "duration": 160,
    "start_time": "2024-04-12T21:47:30.835Z"
   },
   {
    "duration": 146,
    "start_time": "2024-04-12T21:47:30.997Z"
   },
   {
    "duration": 0,
    "start_time": "2024-04-12T21:47:31.144Z"
   },
   {
    "duration": 4,
    "start_time": "2024-04-12T21:48:36.092Z"
   },
   {
    "duration": 12581,
    "start_time": "2024-04-12T21:48:40.802Z"
   },
   {
    "duration": 366,
    "start_time": "2024-04-12T21:48:56.942Z"
   },
   {
    "duration": 952,
    "start_time": "2024-04-12T21:48:57.310Z"
   },
   {
    "duration": 3,
    "start_time": "2024-04-12T21:48:58.265Z"
   },
   {
    "duration": 196,
    "start_time": "2024-04-12T21:48:58.270Z"
   },
   {
    "duration": 128,
    "start_time": "2024-04-12T21:48:58.468Z"
   },
   {
    "duration": 149,
    "start_time": "2024-04-12T21:48:58.598Z"
   },
   {
    "duration": 12608,
    "start_time": "2024-04-12T21:48:58.749Z"
   },
   {
    "duration": 149,
    "start_time": "2024-04-12T21:49:11.359Z"
   },
   {
    "duration": 12283,
    "start_time": "2024-04-12T21:52:26.032Z"
   },
   {
    "duration": 146,
    "start_time": "2024-04-12T21:52:38.317Z"
   },
   {
    "duration": 113,
    "start_time": "2024-04-12T21:54:00.125Z"
   },
   {
    "duration": 158,
    "start_time": "2024-04-12T21:54:00.734Z"
   },
   {
    "duration": 12372,
    "start_time": "2024-04-12T21:54:10.889Z"
   },
   {
    "duration": 156,
    "start_time": "2024-04-12T21:54:25.766Z"
   },
   {
    "duration": 412,
    "start_time": "2024-04-14T09:18:22.741Z"
   },
   {
    "duration": 2836,
    "start_time": "2024-04-14T09:18:23.155Z"
   },
   {
    "duration": 3,
    "start_time": "2024-04-14T09:18:25.992Z"
   },
   {
    "duration": 173,
    "start_time": "2024-04-14T09:18:25.996Z"
   },
   {
    "duration": 116,
    "start_time": "2024-04-14T09:18:26.171Z"
   },
   {
    "duration": 139,
    "start_time": "2024-04-14T09:18:26.288Z"
   },
   {
    "duration": 11312,
    "start_time": "2024-04-14T09:18:26.429Z"
   },
   {
    "duration": 158,
    "start_time": "2024-04-14T09:18:37.743Z"
   },
   {
    "duration": 8,
    "start_time": "2024-04-14T09:24:56.755Z"
   },
   {
    "duration": 7,
    "start_time": "2024-04-14T09:25:23.339Z"
   },
   {
    "duration": 9,
    "start_time": "2024-04-14T09:25:27.600Z"
   },
   {
    "duration": 17,
    "start_time": "2024-04-14T09:25:42.151Z"
   },
   {
    "duration": 25,
    "start_time": "2024-04-14T09:25:47.396Z"
   },
   {
    "duration": 67,
    "start_time": "2024-04-14T09:26:22.692Z"
   },
   {
    "duration": 66,
    "start_time": "2024-04-14T09:27:42.066Z"
   },
   {
    "duration": 9,
    "start_time": "2024-04-14T09:27:45.641Z"
   },
   {
    "duration": 138,
    "start_time": "2024-04-14T09:27:52.493Z"
   },
   {
    "duration": 69,
    "start_time": "2024-04-14T09:30:22.171Z"
   },
   {
    "duration": 227,
    "start_time": "2024-04-14T09:30:25.749Z"
   },
   {
    "duration": 401,
    "start_time": "2024-04-14T09:34:35.332Z"
   },
   {
    "duration": 864,
    "start_time": "2024-04-14T09:34:35.735Z"
   },
   {
    "duration": 2,
    "start_time": "2024-04-14T09:34:36.601Z"
   },
   {
    "duration": 180,
    "start_time": "2024-04-14T09:34:36.604Z"
   },
   {
    "duration": 164,
    "start_time": "2024-04-14T09:34:36.786Z"
   },
   {
    "duration": 13597,
    "start_time": "2024-04-14T09:34:36.952Z"
   },
   {
    "duration": 158,
    "start_time": "2024-04-14T09:34:50.551Z"
   },
   {
    "duration": 382,
    "start_time": "2024-04-14T10:18:17.029Z"
   },
   {
    "duration": 863,
    "start_time": "2024-04-14T10:18:17.413Z"
   },
   {
    "duration": 2,
    "start_time": "2024-04-14T10:18:18.278Z"
   },
   {
    "duration": 184,
    "start_time": "2024-04-14T10:18:18.282Z"
   },
   {
    "duration": 13437,
    "start_time": "2024-04-14T10:18:18.468Z"
   },
   {
    "duration": 174,
    "start_time": "2024-04-14T10:18:31.907Z"
   },
   {
    "duration": 19,
    "start_time": "2024-04-14T10:20:20.404Z"
   },
   {
    "duration": 13104,
    "start_time": "2024-04-14T10:22:24.521Z"
   },
   {
    "duration": 174,
    "start_time": "2024-04-14T10:22:37.627Z"
   },
   {
    "duration": 25470,
    "start_time": "2024-04-14T10:23:05.496Z"
   },
   {
    "duration": 0,
    "start_time": "2024-04-14T10:23:30.968Z"
   },
   {
    "duration": 140,
    "start_time": "2024-04-14T10:24:02.795Z"
   },
   {
    "duration": 13,
    "start_time": "2024-04-14T10:25:26.119Z"
   },
   {
    "duration": 139,
    "start_time": "2024-04-14T10:25:27.431Z"
   },
   {
    "duration": 12,
    "start_time": "2024-04-14T10:25:36.981Z"
   },
   {
    "duration": 10,
    "start_time": "2024-04-14T10:25:48.042Z"
   },
   {
    "duration": 13,
    "start_time": "2024-04-14T10:26:44.481Z"
   },
   {
    "duration": 10,
    "start_time": "2024-04-14T10:26:55.301Z"
   },
   {
    "duration": 11,
    "start_time": "2024-04-14T10:26:59.572Z"
   },
   {
    "duration": 85,
    "start_time": "2024-04-14T10:27:11.699Z"
   },
   {
    "duration": 126,
    "start_time": "2024-04-14T10:27:20.081Z"
   },
   {
    "duration": 70,
    "start_time": "2024-04-14T10:27:30.888Z"
   },
   {
    "duration": 122,
    "start_time": "2024-04-14T10:27:31.411Z"
   },
   {
    "duration": 12761,
    "start_time": "2024-04-14T10:27:35.223Z"
   },
   {
    "duration": 149,
    "start_time": "2024-04-14T10:27:47.986Z"
   },
   {
    "duration": 382,
    "start_time": "2024-04-14T16:49:30.594Z"
   },
   {
    "duration": 1192,
    "start_time": "2024-04-14T16:49:30.978Z"
   },
   {
    "duration": 3,
    "start_time": "2024-04-14T16:49:32.171Z"
   },
   {
    "duration": 240,
    "start_time": "2024-04-14T16:49:32.175Z"
   },
   {
    "duration": 153,
    "start_time": "2024-04-14T16:49:32.418Z"
   },
   {
    "duration": 92,
    "start_time": "2024-04-14T16:49:32.572Z"
   },
   {
    "duration": 137,
    "start_time": "2024-04-14T16:49:32.665Z"
   },
   {
    "duration": 14034,
    "start_time": "2024-04-14T16:49:32.803Z"
   },
   {
    "duration": 186,
    "start_time": "2024-04-14T16:49:46.838Z"
   },
   {
    "duration": 3,
    "start_time": "2024-04-14T16:52:41.082Z"
   },
   {
    "duration": 166,
    "start_time": "2024-04-14T16:52:41.939Z"
   },
   {
    "duration": 5561,
    "start_time": "2024-04-14T16:53:34.562Z"
   },
   {
    "duration": 0,
    "start_time": "2024-04-14T16:53:40.125Z"
   },
   {
    "duration": 10067,
    "start_time": "2024-04-14T16:58:36.794Z"
   },
   {
    "duration": 169,
    "start_time": "2024-04-14T16:59:14.219Z"
   },
   {
    "duration": 412,
    "start_time": "2024-04-14T16:59:36.722Z"
   },
   {
    "duration": 906,
    "start_time": "2024-04-14T16:59:37.136Z"
   },
   {
    "duration": 3,
    "start_time": "2024-04-14T16:59:38.044Z"
   },
   {
    "duration": 192,
    "start_time": "2024-04-14T16:59:38.048Z"
   },
   {
    "duration": 156,
    "start_time": "2024-04-14T16:59:38.241Z"
   },
   {
    "duration": 84,
    "start_time": "2024-04-14T16:59:38.398Z"
   },
   {
    "duration": 143,
    "start_time": "2024-04-14T16:59:38.483Z"
   },
   {
    "duration": 6,
    "start_time": "2024-04-14T16:59:38.628Z"
   },
   {
    "duration": 10298,
    "start_time": "2024-04-14T16:59:38.635Z"
   },
   {
    "duration": 150,
    "start_time": "2024-04-14T16:59:48.936Z"
   },
   {
    "duration": 278,
    "start_time": "2024-04-14T17:00:14.587Z"
   },
   {
    "duration": 5584,
    "start_time": "2024-04-14T17:01:11.076Z"
   },
   {
    "duration": 0,
    "start_time": "2024-04-14T17:01:16.662Z"
   },
   {
    "duration": 355,
    "start_time": "2024-04-14T17:01:50.513Z"
   },
   {
    "duration": 886,
    "start_time": "2024-04-14T17:01:50.871Z"
   },
   {
    "duration": 3,
    "start_time": "2024-04-14T17:01:51.758Z"
   },
   {
    "duration": 183,
    "start_time": "2024-04-14T17:01:51.762Z"
   },
   {
    "duration": 150,
    "start_time": "2024-04-14T17:01:51.955Z"
   },
   {
    "duration": 84,
    "start_time": "2024-04-14T17:01:52.107Z"
   },
   {
    "duration": 149,
    "start_time": "2024-04-14T17:01:52.192Z"
   },
   {
    "duration": 13,
    "start_time": "2024-04-14T17:01:52.343Z"
   },
   {
    "duration": 277,
    "start_time": "2024-04-14T17:01:52.357Z"
   },
   {
    "duration": 69,
    "start_time": "2024-04-14T17:07:37.109Z"
   },
   {
    "duration": 71,
    "start_time": "2024-04-14T17:07:44.869Z"
   },
   {
    "duration": 127,
    "start_time": "2024-04-14T17:07:46.085Z"
   },
   {
    "duration": 97,
    "start_time": "2024-04-14T17:08:06.885Z"
   },
   {
    "duration": 126,
    "start_time": "2024-04-14T17:08:07.589Z"
   },
   {
    "duration": 10,
    "start_time": "2024-04-14T17:08:54.825Z"
   },
   {
    "duration": 20,
    "start_time": "2024-04-14T17:09:01.667Z"
   },
   {
    "duration": 36,
    "start_time": "2024-04-14T17:09:13.749Z"
   },
   {
    "duration": 49,
    "start_time": "2024-04-14T17:10:36.019Z"
   },
   {
    "duration": 45,
    "start_time": "2024-04-14T17:10:49.892Z"
   },
   {
    "duration": 121,
    "start_time": "2024-04-14T17:10:52.105Z"
   },
   {
    "duration": 42,
    "start_time": "2024-04-14T19:28:30.173Z"
   },
   {
    "duration": 15,
    "start_time": "2024-04-14T19:28:38.162Z"
   },
   {
    "duration": 131,
    "start_time": "2024-04-14T19:28:47.058Z"
   },
   {
    "duration": 117,
    "start_time": "2024-04-14T19:29:04.913Z"
   },
   {
    "duration": 403,
    "start_time": "2024-04-14T19:30:13.589Z"
   },
   {
    "duration": 924,
    "start_time": "2024-04-14T19:30:13.993Z"
   },
   {
    "duration": 2,
    "start_time": "2024-04-14T19:30:14.919Z"
   },
   {
    "duration": 206,
    "start_time": "2024-04-14T19:30:14.923Z"
   },
   {
    "duration": 191,
    "start_time": "2024-04-14T19:30:15.131Z"
   },
   {
    "duration": 108,
    "start_time": "2024-04-14T19:30:15.324Z"
   },
   {
    "duration": 133,
    "start_time": "2024-04-14T19:30:15.434Z"
   },
   {
    "duration": 46,
    "start_time": "2024-04-14T19:30:15.568Z"
   },
   {
    "duration": 149,
    "start_time": "2024-04-14T19:30:15.615Z"
   },
   {
    "duration": 24,
    "start_time": "2024-04-14T19:30:15.766Z"
   },
   {
    "duration": 12555,
    "start_time": "2024-04-14T19:31:22.871Z"
   },
   {
    "duration": 80,
    "start_time": "2024-04-14T19:31:35.428Z"
   },
   {
    "duration": 424,
    "start_time": "2024-04-14T19:32:21.443Z"
   },
   {
    "duration": 905,
    "start_time": "2024-04-14T19:32:21.869Z"
   },
   {
    "duration": 3,
    "start_time": "2024-04-14T19:32:22.776Z"
   },
   {
    "duration": 229,
    "start_time": "2024-04-14T19:32:22.782Z"
   },
   {
    "duration": 159,
    "start_time": "2024-04-14T19:32:23.013Z"
   },
   {
    "duration": 106,
    "start_time": "2024-04-14T19:32:23.173Z"
   },
   {
    "duration": 104,
    "start_time": "2024-04-14T19:32:23.280Z"
   },
   {
    "duration": 45,
    "start_time": "2024-04-14T19:32:23.385Z"
   },
   {
    "duration": 108,
    "start_time": "2024-04-14T19:32:23.431Z"
   },
   {
    "duration": 26,
    "start_time": "2024-04-14T19:32:23.541Z"
   },
   {
    "duration": 94,
    "start_time": "2024-04-14T19:32:23.568Z"
   },
   {
    "duration": 69,
    "start_time": "2024-04-14T19:33:05.666Z"
   },
   {
    "duration": 19,
    "start_time": "2024-04-14T19:33:14.396Z"
   },
   {
    "duration": 110,
    "start_time": "2024-04-14T19:33:22.224Z"
   },
   {
    "duration": 109,
    "start_time": "2024-04-14T19:33:33.509Z"
   },
   {
    "duration": 930,
    "start_time": "2024-04-14T19:39:31.678Z"
   },
   {
    "duration": 3,
    "start_time": "2024-04-14T19:44:17.405Z"
   },
   {
    "duration": 4,
    "start_time": "2024-04-14T19:46:13.275Z"
   },
   {
    "duration": 3,
    "start_time": "2024-04-14T19:46:17.187Z"
   },
   {
    "duration": 4,
    "start_time": "2024-04-14T19:46:17.712Z"
   },
   {
    "duration": 44,
    "start_time": "2024-04-14T19:46:37.140Z"
   },
   {
    "duration": 5320,
    "start_time": "2024-04-14T19:46:52.891Z"
   },
   {
    "duration": 4,
    "start_time": "2024-04-14T19:47:04.331Z"
   },
   {
    "duration": 5132,
    "start_time": "2024-04-14T19:47:06.100Z"
   },
   {
    "duration": 1272,
    "start_time": "2024-04-14T19:47:55.565Z"
   },
   {
    "duration": 97,
    "start_time": "2024-04-14T19:48:50.976Z"
   },
   {
    "duration": 2,
    "start_time": "2024-04-14T19:52:05.256Z"
   },
   {
    "duration": 11,
    "start_time": "2024-04-14T19:52:05.260Z"
   },
   {
    "duration": 1198,
    "start_time": "2024-04-14T19:52:11.629Z"
   },
   {
    "duration": 871,
    "start_time": "2024-04-14T19:52:12.828Z"
   },
   {
    "duration": 2,
    "start_time": "2024-04-14T19:52:13.701Z"
   },
   {
    "duration": 181,
    "start_time": "2024-04-14T19:52:13.705Z"
   },
   {
    "duration": 156,
    "start_time": "2024-04-14T19:52:13.887Z"
   },
   {
    "duration": 113,
    "start_time": "2024-04-14T19:52:14.045Z"
   },
   {
    "duration": 99,
    "start_time": "2024-04-14T19:52:14.160Z"
   },
   {
    "duration": 45,
    "start_time": "2024-04-14T19:52:14.261Z"
   },
   {
    "duration": 112,
    "start_time": "2024-04-14T19:52:14.307Z"
   },
   {
    "duration": 4,
    "start_time": "2024-04-14T19:52:14.422Z"
   },
   {
    "duration": 91,
    "start_time": "2024-04-14T19:52:14.429Z"
   },
   {
    "duration": 3,
    "start_time": "2024-04-14T19:52:14.522Z"
   },
   {
    "duration": 11,
    "start_time": "2024-04-14T19:52:14.526Z"
   },
   {
    "duration": 1150,
    "start_time": "2024-04-14T19:52:14.539Z"
   },
   {
    "duration": 69569,
    "start_time": "2024-04-14T19:52:15.691Z"
   },
   {
    "duration": 111,
    "start_time": "2024-04-14T19:53:25.262Z"
   },
   {
    "duration": 1178,
    "start_time": "2024-04-14T20:18:53.364Z"
   },
   {
    "duration": 886,
    "start_time": "2024-04-14T20:18:54.544Z"
   },
   {
    "duration": 4,
    "start_time": "2024-04-14T20:18:55.432Z"
   },
   {
    "duration": 210,
    "start_time": "2024-04-14T20:18:55.437Z"
   },
   {
    "duration": 153,
    "start_time": "2024-04-14T20:18:55.655Z"
   },
   {
    "duration": 103,
    "start_time": "2024-04-14T20:18:55.809Z"
   },
   {
    "duration": 97,
    "start_time": "2024-04-14T20:18:55.914Z"
   },
   {
    "duration": 55,
    "start_time": "2024-04-14T20:18:56.013Z"
   },
   {
    "duration": 91,
    "start_time": "2024-04-14T20:18:56.070Z"
   },
   {
    "duration": 2,
    "start_time": "2024-04-14T20:18:56.163Z"
   },
   {
    "duration": 96,
    "start_time": "2024-04-14T20:18:56.167Z"
   },
   {
    "duration": 3,
    "start_time": "2024-04-14T20:18:56.264Z"
   },
   {
    "duration": 1239,
    "start_time": "2024-04-14T20:18:56.269Z"
   },
   {
    "duration": 93,
    "start_time": "2024-04-14T20:18:57.510Z"
   },
   {
    "duration": 0,
    "start_time": "2024-04-14T20:18:57.604Z"
   },
   {
    "duration": 0,
    "start_time": "2024-04-14T20:18:57.605Z"
   },
   {
    "duration": 28,
    "start_time": "2024-04-14T20:19:06.538Z"
   },
   {
    "duration": 3,
    "start_time": "2024-04-14T20:19:47.512Z"
   },
   {
    "duration": 32,
    "start_time": "2024-04-14T20:20:00.797Z"
   },
   {
    "duration": 107,
    "start_time": "2024-04-14T20:20:28.521Z"
   },
   {
    "duration": 980,
    "start_time": "2024-04-14T20:20:46.155Z"
   },
   {
    "duration": 986,
    "start_time": "2024-04-14T20:21:08.400Z"
   },
   {
    "duration": 601,
    "start_time": "2024-04-14T20:22:04.482Z"
   },
   {
    "duration": 692,
    "start_time": "2024-04-14T20:22:11.822Z"
   },
   {
    "duration": 3,
    "start_time": "2024-04-14T20:24:11.175Z"
   },
   {
    "duration": 1387,
    "start_time": "2024-04-14T20:24:13.022Z"
   },
   {
    "duration": 27,
    "start_time": "2024-04-14T20:24:16.320Z"
   },
   {
    "duration": 1105,
    "start_time": "2024-04-14T20:24:16.797Z"
   },
   {
    "duration": 681,
    "start_time": "2024-04-14T20:24:22.174Z"
   },
   {
    "duration": 320,
    "start_time": "2024-04-14T20:30:06.353Z"
   },
   {
    "duration": 1142,
    "start_time": "2024-04-14T20:30:42.554Z"
   },
   {
    "duration": 914,
    "start_time": "2024-04-14T20:30:43.698Z"
   },
   {
    "duration": 2,
    "start_time": "2024-04-14T20:30:44.614Z"
   },
   {
    "duration": 208,
    "start_time": "2024-04-14T20:30:44.617Z"
   },
   {
    "duration": 153,
    "start_time": "2024-04-14T20:30:44.827Z"
   },
   {
    "duration": 102,
    "start_time": "2024-04-14T20:30:44.982Z"
   },
   {
    "duration": 115,
    "start_time": "2024-04-14T20:30:45.085Z"
   },
   {
    "duration": 47,
    "start_time": "2024-04-14T20:30:45.202Z"
   },
   {
    "duration": 116,
    "start_time": "2024-04-14T20:30:45.256Z"
   },
   {
    "duration": 30,
    "start_time": "2024-04-14T20:30:45.374Z"
   },
   {
    "duration": 93,
    "start_time": "2024-04-14T20:30:45.405Z"
   },
   {
    "duration": 11,
    "start_time": "2024-04-14T20:30:45.500Z"
   },
   {
    "duration": 8,
    "start_time": "2024-04-14T20:30:45.513Z"
   },
   {
    "duration": 1344,
    "start_time": "2024-04-14T20:30:45.524Z"
   },
   {
    "duration": 28,
    "start_time": "2024-04-14T20:30:46.870Z"
   },
   {
    "duration": 1167,
    "start_time": "2024-04-14T20:30:46.900Z"
   },
   {
    "duration": 708,
    "start_time": "2024-04-14T20:30:48.069Z"
   },
   {
    "duration": 26081,
    "start_time": "2024-04-14T20:30:48.779Z"
   },
   {
    "duration": 109,
    "start_time": "2024-04-14T20:31:14.862Z"
   },
   {
    "duration": 239,
    "start_time": "2024-04-14T20:32:14.477Z"
   },
   {
    "duration": 617,
    "start_time": "2024-04-14T20:34:24.353Z"
   },
   {
    "duration": 254,
    "start_time": "2024-04-14T20:34:47.829Z"
   },
   {
    "duration": 1805,
    "start_time": "2024-04-14T20:35:37.183Z"
   },
   {
    "duration": 1449,
    "start_time": "2024-04-14T20:35:54.072Z"
   },
   {
    "duration": 1610,
    "start_time": "2024-04-14T20:37:20.158Z"
   },
   {
    "duration": 257,
    "start_time": "2024-04-14T20:38:15.573Z"
   },
   {
    "duration": 1026,
    "start_time": "2024-04-14T20:38:33.022Z"
   },
   {
    "duration": 2948,
    "start_time": "2024-04-14T20:39:16.673Z"
   },
   {
    "duration": 17761,
    "start_time": "2024-04-14T20:40:03.292Z"
   },
   {
    "duration": 6,
    "start_time": "2024-04-14T20:45:55.175Z"
   },
   {
    "duration": 1030,
    "start_time": "2024-04-14T20:46:10.436Z"
   },
   {
    "duration": 1174,
    "start_time": "2024-04-14T20:46:20.140Z"
   },
   {
    "duration": 873,
    "start_time": "2024-04-14T20:46:21.316Z"
   },
   {
    "duration": 4,
    "start_time": "2024-04-14T20:46:22.191Z"
   },
   {
    "duration": 186,
    "start_time": "2024-04-14T20:46:22.197Z"
   },
   {
    "duration": 158,
    "start_time": "2024-04-14T20:46:22.385Z"
   },
   {
    "duration": 128,
    "start_time": "2024-04-14T20:46:22.545Z"
   },
   {
    "duration": 97,
    "start_time": "2024-04-14T20:46:22.675Z"
   },
   {
    "duration": 46,
    "start_time": "2024-04-14T20:46:22.774Z"
   },
   {
    "duration": 93,
    "start_time": "2024-04-14T20:46:22.822Z"
   },
   {
    "duration": 2,
    "start_time": "2024-04-14T20:46:22.917Z"
   },
   {
    "duration": 94,
    "start_time": "2024-04-14T20:46:22.920Z"
   },
   {
    "duration": 10,
    "start_time": "2024-04-14T20:46:23.015Z"
   },
   {
    "duration": 4,
    "start_time": "2024-04-14T20:46:23.027Z"
   },
   {
    "duration": 1382,
    "start_time": "2024-04-14T20:46:23.033Z"
   },
   {
    "duration": 39,
    "start_time": "2024-04-14T20:46:24.418Z"
   },
   {
    "duration": 1155,
    "start_time": "2024-04-14T20:46:24.459Z"
   },
   {
    "duration": 697,
    "start_time": "2024-04-14T20:46:25.616Z"
   },
   {
    "duration": 242,
    "start_time": "2024-04-14T20:46:26.315Z"
   },
   {
    "duration": 28,
    "start_time": "2024-04-14T20:46:26.559Z"
   },
   {
    "duration": 116,
    "start_time": "2024-04-14T20:46:26.589Z"
   },
   {
    "duration": 13899,
    "start_time": "2024-04-14T20:48:12.259Z"
   },
   {
    "duration": 96,
    "start_time": "2024-04-14T20:49:53.323Z"
   },
   {
    "duration": 1104,
    "start_time": "2024-04-14T20:49:58.900Z"
   },
   {
    "duration": 910,
    "start_time": "2024-04-14T20:50:00.006Z"
   },
   {
    "duration": 2,
    "start_time": "2024-04-14T20:50:00.918Z"
   },
   {
    "duration": 213,
    "start_time": "2024-04-14T20:50:00.922Z"
   },
   {
    "duration": 162,
    "start_time": "2024-04-14T20:50:01.137Z"
   },
   {
    "duration": 101,
    "start_time": "2024-04-14T20:50:01.300Z"
   },
   {
    "duration": 153,
    "start_time": "2024-04-14T20:50:01.403Z"
   },
   {
    "duration": 52,
    "start_time": "2024-04-14T20:50:01.558Z"
   },
   {
    "duration": 155,
    "start_time": "2024-04-14T20:50:01.612Z"
   },
   {
    "duration": 29,
    "start_time": "2024-04-14T20:50:01.768Z"
   },
   {
    "duration": 170,
    "start_time": "2024-04-14T20:50:01.798Z"
   },
   {
    "duration": 62,
    "start_time": "2024-04-14T20:50:01.970Z"
   },
   {
    "duration": 53,
    "start_time": "2024-04-14T20:50:02.034Z"
   },
   {
    "duration": 1505,
    "start_time": "2024-04-14T20:50:02.089Z"
   },
   {
    "duration": 110,
    "start_time": "2024-04-14T20:50:03.595Z"
   },
   {
    "duration": 29,
    "start_time": "2024-04-14T20:50:03.707Z"
   },
   {
    "duration": 1164,
    "start_time": "2024-04-14T20:50:03.738Z"
   },
   {
    "duration": 680,
    "start_time": "2024-04-14T20:50:04.903Z"
   },
   {
    "duration": 247,
    "start_time": "2024-04-14T20:50:05.585Z"
   },
   {
    "duration": 36,
    "start_time": "2024-04-14T20:50:05.833Z"
   },
   {
    "duration": 13438,
    "start_time": "2024-04-14T20:50:05.871Z"
   },
   {
    "duration": 1911,
    "start_time": "2024-04-14T20:51:12.246Z"
   },
   {
    "duration": 94,
    "start_time": "2024-04-14T20:52:03.364Z"
   },
   {
    "duration": 100,
    "start_time": "2024-04-14T20:53:05.031Z"
   },
   {
    "duration": 19,
    "start_time": "2024-04-14T20:53:12.645Z"
   },
   {
    "duration": 19,
    "start_time": "2024-04-14T20:54:21.757Z"
   },
   {
    "duration": 19,
    "start_time": "2024-04-14T20:55:40.816Z"
   },
   {
    "duration": 27,
    "start_time": "2024-04-14T20:58:00.179Z"
   },
   {
    "duration": 22,
    "start_time": "2024-04-14T20:59:03.301Z"
   },
   {
    "duration": 1149,
    "start_time": "2024-04-14T20:59:06.859Z"
   },
   {
    "duration": 886,
    "start_time": "2024-04-14T20:59:08.010Z"
   },
   {
    "duration": 3,
    "start_time": "2024-04-14T20:59:08.897Z"
   },
   {
    "duration": 191,
    "start_time": "2024-04-14T20:59:08.902Z"
   },
   {
    "duration": 170,
    "start_time": "2024-04-14T20:59:09.096Z"
   },
   {
    "duration": 104,
    "start_time": "2024-04-14T20:59:09.268Z"
   },
   {
    "duration": 98,
    "start_time": "2024-04-14T20:59:09.373Z"
   },
   {
    "duration": 54,
    "start_time": "2024-04-14T20:59:09.473Z"
   },
   {
    "duration": 89,
    "start_time": "2024-04-14T20:59:09.528Z"
   },
   {
    "duration": 3,
    "start_time": "2024-04-14T20:59:09.618Z"
   },
   {
    "duration": 99,
    "start_time": "2024-04-14T20:59:09.622Z"
   },
   {
    "duration": 2,
    "start_time": "2024-04-14T20:59:09.723Z"
   },
   {
    "duration": 4,
    "start_time": "2024-04-14T20:59:09.727Z"
   },
   {
    "duration": 1326,
    "start_time": "2024-04-14T20:59:09.734Z"
   },
   {
    "duration": 112,
    "start_time": "2024-04-14T20:59:11.061Z"
   },
   {
    "duration": 30,
    "start_time": "2024-04-14T20:59:11.175Z"
   },
   {
    "duration": 1117,
    "start_time": "2024-04-14T20:59:11.207Z"
   },
   {
    "duration": 93,
    "start_time": "2024-04-14T20:59:12.326Z"
   },
   {
    "duration": 0,
    "start_time": "2024-04-14T20:59:12.420Z"
   },
   {
    "duration": 0,
    "start_time": "2024-04-14T20:59:12.422Z"
   },
   {
    "duration": 0,
    "start_time": "2024-04-14T20:59:12.423Z"
   },
   {
    "duration": 0,
    "start_time": "2024-04-14T20:59:12.424Z"
   },
   {
    "duration": 0,
    "start_time": "2024-04-14T20:59:12.425Z"
   },
   {
    "duration": 0,
    "start_time": "2024-04-14T20:59:12.426Z"
   },
   {
    "duration": 0,
    "start_time": "2024-04-14T20:59:12.427Z"
   },
   {
    "duration": 30,
    "start_time": "2024-04-14T20:59:28.285Z"
   },
   {
    "duration": 672,
    "start_time": "2024-04-14T20:59:28.484Z"
   },
   {
    "duration": 254,
    "start_time": "2024-04-14T20:59:29.158Z"
   },
   {
    "duration": 25,
    "start_time": "2024-04-14T20:59:29.414Z"
   },
   {
    "duration": 1171,
    "start_time": "2024-04-14T20:59:29.441Z"
   },
   {
    "duration": 21,
    "start_time": "2024-04-14T20:59:30.614Z"
   },
   {
    "duration": 23,
    "start_time": "2024-04-14T20:59:30.750Z"
   },
   {
    "duration": 816,
    "start_time": "2024-04-14T21:00:36.255Z"
   },
   {
    "duration": 111,
    "start_time": "2024-04-14T21:02:20.614Z"
   },
   {
    "duration": 3,
    "start_time": "2024-04-14T21:04:28.680Z"
   },
   {
    "duration": 8818,
    "start_time": "2024-04-14T21:05:23.207Z"
   },
   {
    "duration": 103,
    "start_time": "2024-04-14T21:05:48.219Z"
   },
   {
    "duration": 880,
    "start_time": "2024-04-14T21:06:29.097Z"
   },
   {
    "duration": 99,
    "start_time": "2024-04-14T21:09:37.336Z"
   },
   {
    "duration": 87,
    "start_time": "2024-04-14T21:10:19.321Z"
   },
   {
    "duration": 151,
    "start_time": "2024-04-14T21:10:33.869Z"
   },
   {
    "duration": 60,
    "start_time": "2024-04-14T21:10:38.435Z"
   },
   {
    "duration": 3,
    "start_time": "2024-04-14T21:12:25.324Z"
   },
   {
    "duration": 1109,
    "start_time": "2024-04-14T21:13:03.110Z"
   },
   {
    "duration": 908,
    "start_time": "2024-04-14T21:13:04.221Z"
   },
   {
    "duration": 3,
    "start_time": "2024-04-14T21:13:05.130Z"
   },
   {
    "duration": 212,
    "start_time": "2024-04-14T21:13:05.135Z"
   },
   {
    "duration": 150,
    "start_time": "2024-04-14T21:13:05.349Z"
   },
   {
    "duration": 102,
    "start_time": "2024-04-14T21:13:05.501Z"
   },
   {
    "duration": 99,
    "start_time": "2024-04-14T21:13:05.604Z"
   },
   {
    "duration": 52,
    "start_time": "2024-04-14T21:13:05.705Z"
   },
   {
    "duration": 81,
    "start_time": "2024-04-14T21:13:05.758Z"
   },
   {
    "duration": 2,
    "start_time": "2024-04-14T21:13:05.841Z"
   },
   {
    "duration": 3,
    "start_time": "2024-04-14T21:13:05.855Z"
   },
   {
    "duration": 1331,
    "start_time": "2024-04-14T21:13:05.860Z"
   },
   {
    "duration": 113,
    "start_time": "2024-04-14T21:13:07.193Z"
   },
   {
    "duration": 30,
    "start_time": "2024-04-14T21:13:07.309Z"
   },
   {
    "duration": 1154,
    "start_time": "2024-04-14T21:13:07.341Z"
   },
   {
    "duration": 29,
    "start_time": "2024-04-14T21:13:08.497Z"
   },
   {
    "duration": 704,
    "start_time": "2024-04-14T21:13:08.528Z"
   },
   {
    "duration": 253,
    "start_time": "2024-04-14T21:13:09.234Z"
   },
   {
    "duration": 27,
    "start_time": "2024-04-14T21:13:09.489Z"
   },
   {
    "duration": 1188,
    "start_time": "2024-04-14T21:13:09.517Z"
   },
   {
    "duration": 17,
    "start_time": "2024-04-14T21:13:10.707Z"
   },
   {
    "duration": 8866,
    "start_time": "2024-04-14T21:13:10.726Z"
   },
   {
    "duration": 2,
    "start_time": "2024-04-14T21:13:19.593Z"
   },
   {
    "duration": 23,
    "start_time": "2024-04-14T21:13:19.597Z"
   },
   {
    "duration": 747,
    "start_time": "2024-04-14T21:13:19.622Z"
   },
   {
    "duration": 187,
    "start_time": "2024-04-14T21:13:20.371Z"
   },
   {
    "duration": 2,
    "start_time": "2024-04-14T21:14:08.719Z"
   },
   {
    "duration": 109,
    "start_time": "2024-04-14T21:15:45.763Z"
   },
   {
    "duration": 13,
    "start_time": "2024-04-14T21:15:54.075Z"
   },
   {
    "duration": 38,
    "start_time": "2024-04-14T21:16:05.855Z"
   },
   {
    "duration": 41,
    "start_time": "2024-04-14T21:16:13.208Z"
   },
   {
    "duration": 119,
    "start_time": "2024-04-14T21:16:24.371Z"
   },
   {
    "duration": 98,
    "start_time": "2024-04-14T21:16:34.662Z"
   },
   {
    "duration": 5,
    "start_time": "2024-04-14T21:17:25.463Z"
   },
   {
    "duration": 554,
    "start_time": "2024-04-14T21:18:03.973Z"
   },
   {
    "duration": 8,
    "start_time": "2024-04-14T21:19:30.867Z"
   },
   {
    "duration": 1182,
    "start_time": "2024-04-14T21:21:25.036Z"
   },
   {
    "duration": 883,
    "start_time": "2024-04-14T21:21:26.220Z"
   },
   {
    "duration": 2,
    "start_time": "2024-04-14T21:21:27.105Z"
   },
   {
    "duration": 216,
    "start_time": "2024-04-14T21:21:27.108Z"
   },
   {
    "duration": 166,
    "start_time": "2024-04-14T21:21:27.326Z"
   },
   {
    "duration": 101,
    "start_time": "2024-04-14T21:21:27.493Z"
   },
   {
    "duration": 97,
    "start_time": "2024-04-14T21:21:27.595Z"
   },
   {
    "duration": 45,
    "start_time": "2024-04-14T21:21:27.694Z"
   },
   {
    "duration": 91,
    "start_time": "2024-04-14T21:21:27.740Z"
   },
   {
    "duration": 14,
    "start_time": "2024-04-14T21:21:27.832Z"
   },
   {
    "duration": 22,
    "start_time": "2024-04-14T21:21:27.847Z"
   },
   {
    "duration": 1355,
    "start_time": "2024-04-14T21:21:27.871Z"
   },
   {
    "duration": 107,
    "start_time": "2024-04-14T21:21:29.228Z"
   },
   {
    "duration": 37,
    "start_time": "2024-04-14T21:21:29.339Z"
   },
   {
    "duration": 1118,
    "start_time": "2024-04-14T21:21:29.378Z"
   },
   {
    "duration": 27,
    "start_time": "2024-04-14T21:21:30.498Z"
   },
   {
    "duration": 1589,
    "start_time": "2024-04-14T21:21:30.527Z"
   },
   {
    "duration": 0,
    "start_time": "2024-04-14T21:21:32.118Z"
   },
   {
    "duration": 0,
    "start_time": "2024-04-14T21:21:32.119Z"
   },
   {
    "duration": 0,
    "start_time": "2024-04-14T21:21:32.120Z"
   },
   {
    "duration": 0,
    "start_time": "2024-04-14T21:21:32.121Z"
   },
   {
    "duration": 0,
    "start_time": "2024-04-14T21:21:32.122Z"
   },
   {
    "duration": 0,
    "start_time": "2024-04-14T21:21:32.123Z"
   },
   {
    "duration": 0,
    "start_time": "2024-04-14T21:21:32.124Z"
   },
   {
    "duration": 0,
    "start_time": "2024-04-14T21:21:32.125Z"
   },
   {
    "duration": 0,
    "start_time": "2024-04-14T21:21:32.126Z"
   },
   {
    "duration": 0,
    "start_time": "2024-04-14T21:21:32.127Z"
   },
   {
    "duration": 0,
    "start_time": "2024-04-14T21:21:32.128Z"
   },
   {
    "duration": 0,
    "start_time": "2024-04-14T21:21:32.129Z"
   },
   {
    "duration": 90,
    "start_time": "2024-04-14T21:21:59.436Z"
   },
   {
    "duration": 1157,
    "start_time": "2024-04-14T21:22:05.651Z"
   },
   {
    "duration": 857,
    "start_time": "2024-04-14T21:22:06.810Z"
   },
   {
    "duration": 3,
    "start_time": "2024-04-14T21:22:07.669Z"
   },
   {
    "duration": 190,
    "start_time": "2024-04-14T21:22:07.674Z"
   },
   {
    "duration": 148,
    "start_time": "2024-04-14T21:22:07.867Z"
   },
   {
    "duration": 108,
    "start_time": "2024-04-14T21:22:08.017Z"
   },
   {
    "duration": 97,
    "start_time": "2024-04-14T21:22:08.126Z"
   },
   {
    "duration": 49,
    "start_time": "2024-04-14T21:22:08.224Z"
   },
   {
    "duration": 90,
    "start_time": "2024-04-14T21:22:08.274Z"
   },
   {
    "duration": 11,
    "start_time": "2024-04-14T21:22:08.366Z"
   },
   {
    "duration": 14,
    "start_time": "2024-04-14T21:22:08.378Z"
   },
   {
    "duration": 1390,
    "start_time": "2024-04-14T21:22:08.394Z"
   },
   {
    "duration": 111,
    "start_time": "2024-04-14T21:22:09.785Z"
   },
   {
    "duration": 29,
    "start_time": "2024-04-14T21:22:09.898Z"
   },
   {
    "duration": 1128,
    "start_time": "2024-04-14T21:22:09.929Z"
   },
   {
    "duration": 27,
    "start_time": "2024-04-14T21:22:11.059Z"
   },
   {
    "duration": 687,
    "start_time": "2024-04-14T21:22:11.087Z"
   },
   {
    "duration": 238,
    "start_time": "2024-04-14T21:22:11.776Z"
   },
   {
    "duration": 25,
    "start_time": "2024-04-14T21:22:12.015Z"
   },
   {
    "duration": 1146,
    "start_time": "2024-04-14T21:22:12.042Z"
   },
   {
    "duration": 16,
    "start_time": "2024-04-14T21:22:13.190Z"
   },
   {
    "duration": 8947,
    "start_time": "2024-04-14T21:22:13.208Z"
   },
   {
    "duration": 19,
    "start_time": "2024-04-14T21:22:22.157Z"
   },
   {
    "duration": 789,
    "start_time": "2024-04-14T21:22:22.178Z"
   },
   {
    "duration": 196,
    "start_time": "2024-04-14T21:22:22.968Z"
   },
   {
    "duration": 40,
    "start_time": "2024-04-14T21:22:23.166Z"
   },
   {
    "duration": 115,
    "start_time": "2024-04-14T21:22:23.207Z"
   },
   {
    "duration": 3752,
    "start_time": "2024-04-14T21:25:33.680Z"
   },
   {
    "duration": 60,
    "start_time": "2024-04-14T21:25:50.801Z"
   },
   {
    "duration": 2422,
    "start_time": "2024-04-14T21:26:10.095Z"
   },
   {
    "duration": 1153,
    "start_time": "2024-04-14T21:26:12.519Z"
   },
   {
    "duration": 7,
    "start_time": "2024-04-14T21:26:13.673Z"
   },
   {
    "duration": 957,
    "start_time": "2024-04-14T21:26:13.681Z"
   },
   {
    "duration": 3,
    "start_time": "2024-04-14T21:26:14.640Z"
   },
   {
    "duration": 190,
    "start_time": "2024-04-14T21:26:14.645Z"
   },
   {
    "duration": 157,
    "start_time": "2024-04-14T21:26:14.836Z"
   },
   {
    "duration": 109,
    "start_time": "2024-04-14T21:26:14.995Z"
   },
   {
    "duration": 119,
    "start_time": "2024-04-14T21:26:15.106Z"
   },
   {
    "duration": 47,
    "start_time": "2024-04-14T21:26:15.227Z"
   },
   {
    "duration": 145,
    "start_time": "2024-04-14T21:26:15.275Z"
   },
   {
    "duration": 15,
    "start_time": "2024-04-14T21:26:15.422Z"
   },
   {
    "duration": 13,
    "start_time": "2024-04-14T21:26:15.438Z"
   },
   {
    "duration": 1355,
    "start_time": "2024-04-14T21:26:15.455Z"
   },
   {
    "duration": 112,
    "start_time": "2024-04-14T21:26:16.811Z"
   },
   {
    "duration": 36,
    "start_time": "2024-04-14T21:26:16.925Z"
   },
   {
    "duration": 1199,
    "start_time": "2024-04-14T21:26:16.963Z"
   },
   {
    "duration": 28,
    "start_time": "2024-04-14T21:26:18.164Z"
   },
   {
    "duration": 707,
    "start_time": "2024-04-14T21:26:18.194Z"
   },
   {
    "duration": 273,
    "start_time": "2024-04-14T21:26:18.903Z"
   },
   {
    "duration": 26,
    "start_time": "2024-04-14T21:26:19.178Z"
   },
   {
    "duration": 1173,
    "start_time": "2024-04-14T21:26:19.206Z"
   },
   {
    "duration": 19,
    "start_time": "2024-04-14T21:26:20.381Z"
   },
   {
    "duration": 9468,
    "start_time": "2024-04-14T21:26:20.402Z"
   },
   {
    "duration": 23,
    "start_time": "2024-04-14T21:26:29.872Z"
   },
   {
    "duration": 864,
    "start_time": "2024-04-14T21:26:29.897Z"
   },
   {
    "duration": 207,
    "start_time": "2024-04-14T21:26:30.763Z"
   },
   {
    "duration": 38,
    "start_time": "2024-04-14T21:26:30.972Z"
   },
   {
    "duration": 130,
    "start_time": "2024-04-14T21:26:31.012Z"
   },
   {
    "duration": 18,
    "start_time": "2024-04-14T21:26:31.144Z"
   },
   {
    "duration": 6535,
    "start_time": "2024-04-14T21:26:31.165Z"
   },
   {
    "duration": 2,
    "start_time": "2024-04-14T21:30:23.745Z"
   },
   {
    "duration": 57,
    "start_time": "2024-04-15T13:08:18.997Z"
   },
   {
    "duration": 3520,
    "start_time": "2024-04-15T13:08:22.434Z"
   },
   {
    "duration": 1474,
    "start_time": "2024-04-15T13:08:25.956Z"
   },
   {
    "duration": 8,
    "start_time": "2024-04-15T13:08:27.432Z"
   },
   {
    "duration": 1314,
    "start_time": "2024-04-15T13:08:27.441Z"
   },
   {
    "duration": 3,
    "start_time": "2024-04-15T13:08:28.757Z"
   },
   {
    "duration": 195,
    "start_time": "2024-04-15T13:08:28.762Z"
   },
   {
    "duration": 155,
    "start_time": "2024-04-15T13:08:28.959Z"
   },
   {
    "duration": 102,
    "start_time": "2024-04-15T13:08:29.115Z"
   },
   {
    "duration": 104,
    "start_time": "2024-04-15T13:08:29.219Z"
   },
   {
    "duration": 49,
    "start_time": "2024-04-15T13:08:29.325Z"
   },
   {
    "duration": 96,
    "start_time": "2024-04-15T13:08:29.375Z"
   },
   {
    "duration": 37,
    "start_time": "2024-04-15T13:08:29.473Z"
   },
   {
    "duration": 16,
    "start_time": "2024-04-15T13:08:29.512Z"
   },
   {
    "duration": 1489,
    "start_time": "2024-04-15T13:08:29.531Z"
   },
   {
    "duration": 106,
    "start_time": "2024-04-15T13:08:31.021Z"
   },
   {
    "duration": 599,
    "start_time": "2024-04-15T13:08:31.129Z"
   },
   {
    "duration": 1425,
    "start_time": "2024-04-15T13:08:31.730Z"
   },
   {
    "duration": 36,
    "start_time": "2024-04-15T13:08:33.157Z"
   },
   {
    "duration": 750,
    "start_time": "2024-04-15T13:08:33.195Z"
   },
   {
    "duration": 274,
    "start_time": "2024-04-15T13:08:33.947Z"
   },
   {
    "duration": 25,
    "start_time": "2024-04-15T13:08:34.223Z"
   },
   {
    "duration": 1227,
    "start_time": "2024-04-15T13:08:34.249Z"
   },
   {
    "duration": 25,
    "start_time": "2024-04-15T13:08:35.477Z"
   },
   {
    "duration": 9187,
    "start_time": "2024-04-15T13:08:35.504Z"
   },
   {
    "duration": 21,
    "start_time": "2024-04-15T13:08:44.692Z"
   },
   {
    "duration": 803,
    "start_time": "2024-04-15T13:08:44.715Z"
   },
   {
    "duration": 209,
    "start_time": "2024-04-15T13:08:45.520Z"
   },
   {
    "duration": 40,
    "start_time": "2024-04-15T13:08:45.731Z"
   },
   {
    "duration": 119,
    "start_time": "2024-04-15T13:08:45.772Z"
   },
   {
    "duration": 2,
    "start_time": "2024-04-15T13:08:45.893Z"
   },
   {
    "duration": 6407,
    "start_time": "2024-04-15T13:08:45.897Z"
   },
   {
    "duration": 16,
    "start_time": "2024-04-15T13:08:52.306Z"
   },
   {
    "duration": 278,
    "start_time": "2024-04-15T13:17:15.603Z"
   },
   {
    "duration": 3,
    "start_time": "2024-04-15T13:21:55.800Z"
   },
   {
    "duration": 4,
    "start_time": "2024-04-15T13:21:56.819Z"
   },
   {
    "duration": 3,
    "start_time": "2024-04-15T13:21:57.419Z"
   },
   {
    "duration": 135,
    "start_time": "2024-04-15T13:22:08.089Z"
   },
   {
    "duration": 58,
    "start_time": "2024-04-15T13:23:36.611Z"
   },
   {
    "duration": 3,
    "start_time": "2024-04-15T13:34:54.684Z"
   },
   {
    "duration": 5091,
    "start_time": "2024-04-15T16:30:41.021Z"
   },
   {
    "duration": 33,
    "start_time": "2024-04-15T16:31:01.949Z"
   },
   {
    "duration": 11,
    "start_time": "2024-04-15T16:56:11.041Z"
   },
   {
    "duration": 3,
    "start_time": "2024-04-15T16:56:54.997Z"
   },
   {
    "duration": 83,
    "start_time": "2024-04-15T17:11:49.101Z"
   },
   {
    "duration": 3,
    "start_time": "2024-04-15T17:11:49.999Z"
   },
   {
    "duration": 27,
    "start_time": "2024-04-15T17:11:50.970Z"
   },
   {
    "duration": 4,
    "start_time": "2024-04-15T17:12:57.145Z"
   },
   {
    "duration": 11,
    "start_time": "2024-04-15T17:13:32.508Z"
   },
   {
    "duration": 3,
    "start_time": "2024-04-15T17:13:44.382Z"
   },
   {
    "duration": 7,
    "start_time": "2024-04-15T17:13:45.467Z"
   },
   {
    "duration": 9,
    "start_time": "2024-04-15T17:13:47.533Z"
   },
   {
    "duration": 69,
    "start_time": "2024-04-15T17:13:56.937Z"
   },
   {
    "duration": 2,
    "start_time": "2024-04-15T17:13:57.324Z"
   },
   {
    "duration": 4,
    "start_time": "2024-04-15T17:13:57.576Z"
   },
   {
    "duration": 1631,
    "start_time": "2024-04-15T17:13:58.225Z"
   },
   {
    "duration": 4,
    "start_time": "2024-04-15T17:14:07.750Z"
   },
   {
    "duration": 5,
    "start_time": "2024-04-15T17:14:08.068Z"
   },
   {
    "duration": 7054,
    "start_time": "2024-04-15T17:14:08.614Z"
   },
   {
    "duration": 91,
    "start_time": "2024-04-15T17:14:23.073Z"
   },
   {
    "duration": 11,
    "start_time": "2024-04-15T17:14:32.582Z"
   },
   {
    "duration": 12,
    "start_time": "2024-04-15T17:15:48.212Z"
   },
   {
    "duration": 4,
    "start_time": "2024-04-15T17:16:10.719Z"
   },
   {
    "duration": 4,
    "start_time": "2024-04-15T17:16:15.795Z"
   },
   {
    "duration": 12,
    "start_time": "2024-04-15T17:16:19.487Z"
   },
   {
    "duration": 417633,
    "start_time": "2024-04-15T17:16:26.910Z"
   },
   {
    "duration": 3,
    "start_time": "2024-04-15T17:31:58.152Z"
   },
   {
    "duration": 85,
    "start_time": "2024-04-15T17:36:08.878Z"
   },
   {
    "duration": 3,
    "start_time": "2024-04-15T17:36:09.303Z"
   },
   {
    "duration": 5,
    "start_time": "2024-04-15T17:36:10.438Z"
   },
   {
    "duration": 7188,
    "start_time": "2024-04-15T17:36:11.118Z"
   },
   {
    "duration": 5,
    "start_time": "2024-04-15T17:36:35.670Z"
   },
   {
    "duration": 7159,
    "start_time": "2024-04-15T17:36:36.128Z"
   },
   {
    "duration": 5,
    "start_time": "2024-04-15T17:41:03.462Z"
   },
   {
    "duration": 271860,
    "start_time": "2024-04-15T17:41:20.774Z"
   },
   {
    "duration": 0,
    "start_time": "2024-04-15T17:45:52.636Z"
   },
   {
    "duration": 0,
    "start_time": "2024-04-15T17:45:52.637Z"
   },
   {
    "duration": 0,
    "start_time": "2024-04-15T17:45:52.637Z"
   },
   {
    "duration": 5183,
    "start_time": "2024-04-15T17:45:58.577Z"
   },
   {
    "duration": 1602,
    "start_time": "2024-04-15T17:46:03.762Z"
   },
   {
    "duration": 56,
    "start_time": "2024-04-15T17:46:05.366Z"
   },
   {
    "duration": 3,
    "start_time": "2024-04-15T17:46:05.424Z"
   },
   {
    "duration": 1005,
    "start_time": "2024-04-15T17:46:05.429Z"
   },
   {
    "duration": 3,
    "start_time": "2024-04-15T17:46:06.436Z"
   },
   {
    "duration": 207,
    "start_time": "2024-04-15T17:46:06.440Z"
   },
   {
    "duration": 152,
    "start_time": "2024-04-15T17:46:06.649Z"
   },
   {
    "duration": 109,
    "start_time": "2024-04-15T17:46:06.803Z"
   },
   {
    "duration": 103,
    "start_time": "2024-04-15T17:46:06.914Z"
   },
   {
    "duration": 48,
    "start_time": "2024-04-15T17:46:07.020Z"
   },
   {
    "duration": 96,
    "start_time": "2024-04-15T17:46:07.070Z"
   },
   {
    "duration": 15,
    "start_time": "2024-04-15T17:46:07.168Z"
   },
   {
    "duration": 7,
    "start_time": "2024-04-15T17:46:07.187Z"
   },
   {
    "duration": 1419,
    "start_time": "2024-04-15T17:46:07.197Z"
   },
   {
    "duration": 123,
    "start_time": "2024-04-15T17:46:08.618Z"
   },
   {
    "duration": 28,
    "start_time": "2024-04-15T17:46:08.743Z"
   },
   {
    "duration": 1200,
    "start_time": "2024-04-15T17:46:08.773Z"
   },
   {
    "duration": 35,
    "start_time": "2024-04-15T17:46:09.975Z"
   },
   {
    "duration": 710,
    "start_time": "2024-04-15T17:46:10.012Z"
   },
   {
    "duration": 254,
    "start_time": "2024-04-15T17:46:10.723Z"
   },
   {
    "duration": 34,
    "start_time": "2024-04-15T17:46:10.978Z"
   },
   {
    "duration": 1250,
    "start_time": "2024-04-15T17:46:11.014Z"
   },
   {
    "duration": 27,
    "start_time": "2024-04-15T17:46:12.265Z"
   },
   {
    "duration": 9370,
    "start_time": "2024-04-15T17:46:12.294Z"
   },
   {
    "duration": 28,
    "start_time": "2024-04-15T17:46:21.666Z"
   },
   {
    "duration": 894,
    "start_time": "2024-04-15T17:46:21.697Z"
   },
   {
    "duration": 192,
    "start_time": "2024-04-15T17:46:22.593Z"
   },
   {
    "duration": 43,
    "start_time": "2024-04-15T17:46:22.786Z"
   },
   {
    "duration": 128,
    "start_time": "2024-04-15T17:46:22.831Z"
   },
   {
    "duration": 5,
    "start_time": "2024-04-15T17:46:22.961Z"
   },
   {
    "duration": 6391,
    "start_time": "2024-04-15T17:46:22.967Z"
   },
   {
    "duration": 17,
    "start_time": "2024-04-15T17:46:29.360Z"
   },
   {
    "duration": 79,
    "start_time": "2024-04-15T17:46:29.379Z"
   },
   {
    "duration": 2,
    "start_time": "2024-04-15T17:46:29.460Z"
   },
   {
    "duration": 12,
    "start_time": "2024-04-15T17:46:29.464Z"
   },
   {
    "duration": 125,
    "start_time": "2024-04-15T17:46:29.477Z"
   },
   {
    "duration": 0,
    "start_time": "2024-04-15T17:46:29.604Z"
   },
   {
    "duration": 0,
    "start_time": "2024-04-15T17:46:29.605Z"
   },
   {
    "duration": 6964,
    "start_time": "2024-04-15T17:46:38.658Z"
   },
   {
    "duration": 4,
    "start_time": "2024-04-15T17:46:51.932Z"
   },
   {
    "duration": 0,
    "start_time": "2024-04-15T17:59:13.132Z"
   },
   {
    "duration": 5256,
    "start_time": "2024-04-15T18:12:12.717Z"
   },
   {
    "duration": 1660,
    "start_time": "2024-04-15T18:12:17.976Z"
   },
   {
    "duration": 56,
    "start_time": "2024-04-15T18:12:19.638Z"
   },
   {
    "duration": 3,
    "start_time": "2024-04-15T18:12:19.695Z"
   },
   {
    "duration": 1083,
    "start_time": "2024-04-15T18:12:19.701Z"
   },
   {
    "duration": 6,
    "start_time": "2024-04-15T18:12:20.786Z"
   },
   {
    "duration": 220,
    "start_time": "2024-04-15T18:12:20.794Z"
   },
   {
    "duration": 191,
    "start_time": "2024-04-15T18:12:21.016Z"
   },
   {
    "duration": 109,
    "start_time": "2024-04-15T18:12:21.209Z"
   },
   {
    "duration": 108,
    "start_time": "2024-04-15T18:12:21.320Z"
   },
   {
    "duration": 48,
    "start_time": "2024-04-15T18:12:21.429Z"
   },
   {
    "duration": 110,
    "start_time": "2024-04-15T18:12:21.479Z"
   },
   {
    "duration": 10,
    "start_time": "2024-04-15T18:12:21.590Z"
   },
   {
    "duration": 37,
    "start_time": "2024-04-15T18:12:21.603Z"
   },
   {
    "duration": 1552,
    "start_time": "2024-04-15T18:12:21.642Z"
   },
   {
    "duration": 150,
    "start_time": "2024-04-15T18:12:23.196Z"
   },
   {
    "duration": 76,
    "start_time": "2024-04-15T18:12:23.348Z"
   },
   {
    "duration": 1308,
    "start_time": "2024-04-15T18:12:23.426Z"
   },
   {
    "duration": 30,
    "start_time": "2024-04-15T18:12:24.736Z"
   },
   {
    "duration": 852,
    "start_time": "2024-04-15T18:12:24.768Z"
   },
   {
    "duration": 264,
    "start_time": "2024-04-15T18:12:25.622Z"
   },
   {
    "duration": 26,
    "start_time": "2024-04-15T18:12:25.888Z"
   },
   {
    "duration": 1338,
    "start_time": "2024-04-15T18:12:25.916Z"
   },
   {
    "duration": 17,
    "start_time": "2024-04-15T18:12:27.256Z"
   },
   {
    "duration": 9463,
    "start_time": "2024-04-15T18:12:27.274Z"
   },
   {
    "duration": 20,
    "start_time": "2024-04-15T18:12:36.739Z"
   },
   {
    "duration": 811,
    "start_time": "2024-04-15T18:12:36.761Z"
   },
   {
    "duration": 201,
    "start_time": "2024-04-15T18:12:37.574Z"
   },
   {
    "duration": 25,
    "start_time": "2024-04-15T18:12:37.777Z"
   },
   {
    "duration": 145,
    "start_time": "2024-04-15T18:12:37.804Z"
   },
   {
    "duration": 3,
    "start_time": "2024-04-15T18:12:37.951Z"
   },
   {
    "duration": 6701,
    "start_time": "2024-04-15T18:12:37.955Z"
   },
   {
    "duration": 15,
    "start_time": "2024-04-15T18:12:44.657Z"
   },
   {
    "duration": 87,
    "start_time": "2024-04-15T18:12:44.674Z"
   },
   {
    "duration": 3,
    "start_time": "2024-04-15T18:12:44.763Z"
   },
   {
    "duration": 18,
    "start_time": "2024-04-15T18:12:44.767Z"
   },
   {
    "duration": 7655,
    "start_time": "2024-04-15T18:12:44.786Z"
   },
   {
    "duration": 4,
    "start_time": "2024-04-15T18:12:52.443Z"
   },
   {
    "duration": 147,
    "start_time": "2024-04-15T18:12:52.449Z"
   },
   {
    "duration": 0,
    "start_time": "2024-04-15T18:17:12.356Z"
   },
   {
    "duration": 0,
    "start_time": "2024-04-15T18:17:12.357Z"
   },
   {
    "duration": 5222,
    "start_time": "2024-04-15T18:17:14.971Z"
   },
   {
    "duration": 1614,
    "start_time": "2024-04-15T18:17:20.195Z"
   },
   {
    "duration": 51,
    "start_time": "2024-04-15T18:17:21.811Z"
   },
   {
    "duration": 3,
    "start_time": "2024-04-15T18:17:21.864Z"
   },
   {
    "duration": 976,
    "start_time": "2024-04-15T18:17:21.870Z"
   },
   {
    "duration": 3,
    "start_time": "2024-04-15T18:17:22.848Z"
   },
   {
    "duration": 225,
    "start_time": "2024-04-15T18:17:22.852Z"
   },
   {
    "duration": 162,
    "start_time": "2024-04-15T18:17:23.078Z"
   },
   {
    "duration": 106,
    "start_time": "2024-04-15T18:17:23.242Z"
   },
   {
    "duration": 134,
    "start_time": "2024-04-15T18:17:23.349Z"
   },
   {
    "duration": 45,
    "start_time": "2024-04-15T18:17:23.485Z"
   },
   {
    "duration": 128,
    "start_time": "2024-04-15T18:17:23.532Z"
   },
   {
    "duration": 12,
    "start_time": "2024-04-15T18:17:23.662Z"
   },
   {
    "duration": 23,
    "start_time": "2024-04-15T18:17:23.677Z"
   },
   {
    "duration": 1454,
    "start_time": "2024-04-15T18:17:23.702Z"
   },
   {
    "duration": 109,
    "start_time": "2024-04-15T18:17:25.158Z"
   },
   {
    "duration": 41,
    "start_time": "2024-04-15T18:17:25.269Z"
   },
   {
    "duration": 1235,
    "start_time": "2024-04-15T18:17:25.311Z"
   },
   {
    "duration": 28,
    "start_time": "2024-04-15T18:17:26.548Z"
   },
   {
    "duration": 695,
    "start_time": "2024-04-15T18:17:26.578Z"
   },
   {
    "duration": 252,
    "start_time": "2024-04-15T18:17:27.275Z"
   },
   {
    "duration": 27,
    "start_time": "2024-04-15T18:17:27.528Z"
   },
   {
    "duration": 1273,
    "start_time": "2024-04-15T18:17:27.556Z"
   },
   {
    "duration": 17,
    "start_time": "2024-04-15T18:17:28.831Z"
   },
   {
    "duration": 9348,
    "start_time": "2024-04-15T18:17:28.850Z"
   },
   {
    "duration": 21,
    "start_time": "2024-04-15T18:17:38.200Z"
   },
   {
    "duration": 794,
    "start_time": "2024-04-15T18:17:38.223Z"
   },
   {
    "duration": 221,
    "start_time": "2024-04-15T18:17:39.019Z"
   },
   {
    "duration": 19,
    "start_time": "2024-04-15T18:17:39.242Z"
   },
   {
    "duration": 140,
    "start_time": "2024-04-15T18:17:39.263Z"
   },
   {
    "duration": 3,
    "start_time": "2024-04-15T18:17:39.406Z"
   },
   {
    "duration": 6799,
    "start_time": "2024-04-15T18:17:39.411Z"
   },
   {
    "duration": 18,
    "start_time": "2024-04-15T18:17:46.212Z"
   },
   {
    "duration": 100,
    "start_time": "2024-04-15T18:17:46.232Z"
   },
   {
    "duration": 3,
    "start_time": "2024-04-15T18:17:46.333Z"
   },
   {
    "duration": 11,
    "start_time": "2024-04-15T18:17:46.338Z"
   },
   {
    "duration": 7694,
    "start_time": "2024-04-15T18:17:46.351Z"
   },
   {
    "duration": 4,
    "start_time": "2024-04-15T18:17:54.047Z"
   },
   {
    "duration": 0,
    "start_time": "2024-04-15T18:27:55.210Z"
   },
   {
    "duration": 0,
    "start_time": "2024-04-15T18:27:55.211Z"
   },
   {
    "duration": 5227,
    "start_time": "2024-04-15T18:27:57.766Z"
   },
   {
    "duration": 1527,
    "start_time": "2024-04-15T18:28:02.995Z"
   },
   {
    "duration": 49,
    "start_time": "2024-04-15T18:28:04.524Z"
   },
   {
    "duration": 3,
    "start_time": "2024-04-15T18:28:04.574Z"
   },
   {
    "duration": 923,
    "start_time": "2024-04-15T18:28:04.579Z"
   },
   {
    "duration": 3,
    "start_time": "2024-04-15T18:28:05.503Z"
   },
   {
    "duration": 190,
    "start_time": "2024-04-15T18:28:05.507Z"
   },
   {
    "duration": 149,
    "start_time": "2024-04-15T18:28:05.699Z"
   },
   {
    "duration": 105,
    "start_time": "2024-04-15T18:28:05.850Z"
   },
   {
    "duration": 102,
    "start_time": "2024-04-15T18:28:05.957Z"
   },
   {
    "duration": 54,
    "start_time": "2024-04-15T18:28:06.060Z"
   },
   {
    "duration": 89,
    "start_time": "2024-04-15T18:28:06.116Z"
   },
   {
    "duration": 29,
    "start_time": "2024-04-15T18:28:06.207Z"
   },
   {
    "duration": 17,
    "start_time": "2024-04-15T18:28:06.239Z"
   },
   {
    "duration": 1447,
    "start_time": "2024-04-15T18:28:06.258Z"
   },
   {
    "duration": 110,
    "start_time": "2024-04-15T18:28:07.706Z"
   },
   {
    "duration": 29,
    "start_time": "2024-04-15T18:28:07.817Z"
   },
   {
    "duration": 1218,
    "start_time": "2024-04-15T18:28:07.848Z"
   },
   {
    "duration": 37,
    "start_time": "2024-04-15T18:28:09.068Z"
   },
   {
    "duration": 731,
    "start_time": "2024-04-15T18:28:09.107Z"
   },
   {
    "duration": 314,
    "start_time": "2024-04-15T18:28:09.840Z"
   },
   {
    "duration": 36,
    "start_time": "2024-04-15T18:28:10.156Z"
   },
   {
    "duration": 1344,
    "start_time": "2024-04-15T18:28:10.194Z"
   },
   {
    "duration": 20,
    "start_time": "2024-04-15T18:28:11.540Z"
   },
   {
    "duration": 9272,
    "start_time": "2024-04-15T18:28:11.562Z"
   },
   {
    "duration": 20,
    "start_time": "2024-04-15T18:28:20.836Z"
   },
   {
    "duration": 816,
    "start_time": "2024-04-15T18:28:20.858Z"
   },
   {
    "duration": 198,
    "start_time": "2024-04-15T18:28:21.676Z"
   },
   {
    "duration": 23,
    "start_time": "2024-04-15T18:28:21.875Z"
   },
   {
    "duration": 141,
    "start_time": "2024-04-15T18:28:21.899Z"
   },
   {
    "duration": 3,
    "start_time": "2024-04-15T18:28:22.042Z"
   },
   {
    "duration": 6644,
    "start_time": "2024-04-15T18:28:22.047Z"
   },
   {
    "duration": 16,
    "start_time": "2024-04-15T18:28:28.692Z"
   },
   {
    "duration": 83,
    "start_time": "2024-04-15T18:28:28.709Z"
   },
   {
    "duration": 3,
    "start_time": "2024-04-15T18:28:28.793Z"
   },
   {
    "duration": 6,
    "start_time": "2024-04-15T18:28:28.798Z"
   },
   {
    "duration": 7349,
    "start_time": "2024-04-15T18:28:28.806Z"
   },
   {
    "duration": 4,
    "start_time": "2024-04-15T18:28:36.157Z"
   },
   {
    "duration": 446236,
    "start_time": "2024-04-15T18:28:36.163Z"
   },
   {
    "duration": 12,
    "start_time": "2024-04-15T18:37:25.778Z"
   },
   {
    "duration": 94,
    "start_time": "2024-04-15T18:37:42.309Z"
   },
   {
    "duration": 21,
    "start_time": "2024-04-15T18:37:48.332Z"
   },
   {
    "duration": 36,
    "start_time": "2024-04-15T18:37:58.030Z"
   },
   {
    "duration": 37,
    "start_time": "2024-04-15T18:38:07.595Z"
   },
   {
    "duration": 24,
    "start_time": "2024-04-15T18:38:09.631Z"
   },
   {
    "duration": 11,
    "start_time": "2024-04-15T18:39:13.041Z"
   },
   {
    "duration": 21,
    "start_time": "2024-04-15T18:39:13.612Z"
   },
   {
    "duration": 5134,
    "start_time": "2024-04-15T18:40:52.595Z"
   },
   {
    "duration": 1582,
    "start_time": "2024-04-15T18:40:57.732Z"
   },
   {
    "duration": 63,
    "start_time": "2024-04-15T18:40:59.316Z"
   },
   {
    "duration": 3,
    "start_time": "2024-04-15T18:40:59.380Z"
   },
   {
    "duration": 998,
    "start_time": "2024-04-15T18:40:59.391Z"
   },
   {
    "duration": 3,
    "start_time": "2024-04-15T18:41:00.391Z"
   },
   {
    "duration": 302,
    "start_time": "2024-04-15T18:41:00.396Z"
   },
   {
    "duration": 183,
    "start_time": "2024-04-15T18:41:00.701Z"
   },
   {
    "duration": 326,
    "start_time": "2024-04-15T18:41:00.886Z"
   },
   {
    "duration": 216,
    "start_time": "2024-04-15T18:41:01.214Z"
   },
   {
    "duration": 124,
    "start_time": "2024-04-15T18:41:01.432Z"
   },
   {
    "duration": 142,
    "start_time": "2024-04-15T18:41:01.557Z"
   },
   {
    "duration": 189,
    "start_time": "2024-04-15T18:41:01.700Z"
   },
   {
    "duration": 144,
    "start_time": "2024-04-15T18:41:01.892Z"
   },
   {
    "duration": 1521,
    "start_time": "2024-04-15T18:41:02.037Z"
   },
   {
    "duration": 138,
    "start_time": "2024-04-15T18:41:03.560Z"
   },
   {
    "duration": 19,
    "start_time": "2024-04-15T18:41:03.701Z"
   },
   {
    "duration": 38,
    "start_time": "2024-04-15T18:41:03.722Z"
   },
   {
    "duration": 1178,
    "start_time": "2024-04-15T18:41:03.762Z"
   },
   {
    "duration": 33,
    "start_time": "2024-04-15T18:41:04.941Z"
   },
   {
    "duration": 809,
    "start_time": "2024-04-15T18:41:04.976Z"
   },
   {
    "duration": 313,
    "start_time": "2024-04-15T18:41:05.787Z"
   },
   {
    "duration": 34,
    "start_time": "2024-04-15T18:41:06.102Z"
   },
   {
    "duration": 1284,
    "start_time": "2024-04-15T18:41:06.138Z"
   },
   {
    "duration": 18,
    "start_time": "2024-04-15T18:41:07.423Z"
   },
   {
    "duration": 10665,
    "start_time": "2024-04-15T18:41:07.442Z"
   },
   {
    "duration": 29,
    "start_time": "2024-04-15T18:41:18.108Z"
   },
   {
    "duration": 892,
    "start_time": "2024-04-15T18:41:18.139Z"
   },
   {
    "duration": 244,
    "start_time": "2024-04-15T18:41:19.033Z"
   },
   {
    "duration": 32,
    "start_time": "2024-04-15T18:41:19.280Z"
   },
   {
    "duration": 147,
    "start_time": "2024-04-15T18:41:19.314Z"
   },
   {
    "duration": 4,
    "start_time": "2024-04-15T18:41:19.463Z"
   },
   {
    "duration": 7496,
    "start_time": "2024-04-15T18:41:19.469Z"
   },
   {
    "duration": 25,
    "start_time": "2024-04-15T18:41:26.966Z"
   },
   {
    "duration": 75,
    "start_time": "2024-04-15T18:41:26.993Z"
   },
   {
    "duration": 3,
    "start_time": "2024-04-15T18:41:27.070Z"
   },
   {
    "duration": 18,
    "start_time": "2024-04-15T18:41:27.075Z"
   },
   {
    "duration": 8851,
    "start_time": "2024-04-15T18:41:27.095Z"
   },
   {
    "duration": 4,
    "start_time": "2024-04-15T18:41:35.948Z"
   },
   {
    "duration": 517048,
    "start_time": "2024-04-15T18:41:35.953Z"
   },
   {
    "duration": 118,
    "start_time": "2024-04-15T18:55:36.694Z"
   },
   {
    "duration": 4,
    "start_time": "2024-04-15T18:56:24.613Z"
   },
   {
    "duration": 4,
    "start_time": "2024-04-15T18:57:00.777Z"
   },
   {
    "duration": 4,
    "start_time": "2024-04-15T18:57:07.877Z"
   },
   {
    "duration": 3,
    "start_time": "2024-04-15T18:57:12.559Z"
   },
   {
    "duration": 4,
    "start_time": "2024-04-15T18:57:30.127Z"
   },
   {
    "duration": 539549,
    "start_time": "2024-04-15T18:57:37.353Z"
   },
   {
    "duration": 3,
    "start_time": "2024-04-15T19:08:43.151Z"
   },
   {
    "duration": 3,
    "start_time": "2024-04-15T19:08:43.589Z"
   },
   {
    "duration": 4,
    "start_time": "2024-04-15T19:08:43.949Z"
   },
   {
    "duration": 8787,
    "start_time": "2024-04-15T19:08:44.836Z"
   },
   {
    "duration": 4,
    "start_time": "2024-04-15T19:08:53.625Z"
   },
   {
    "duration": 188673,
    "start_time": "2024-04-15T19:08:53.631Z"
   },
   {
    "duration": 0,
    "start_time": "2024-04-15T19:12:02.306Z"
   },
   {
    "duration": 102,
    "start_time": "2024-04-15T19:12:04.661Z"
   },
   {
    "duration": 57,
    "start_time": "2024-04-15T19:12:43.306Z"
   },
   {
    "duration": 935,
    "start_time": "2024-04-15T19:12:52.422Z"
   },
   {
    "duration": 3,
    "start_time": "2024-04-15T19:12:53.359Z"
   },
   {
    "duration": 203,
    "start_time": "2024-04-15T19:12:53.364Z"
   },
   {
    "duration": 136,
    "start_time": "2024-04-15T19:12:55.128Z"
   },
   {
    "duration": 98,
    "start_time": "2024-04-15T19:12:57.257Z"
   },
   {
    "duration": 60,
    "start_time": "2024-04-15T19:12:57.928Z"
   },
   {
    "duration": 52,
    "start_time": "2024-04-15T19:12:58.674Z"
   },
   {
    "duration": 1465,
    "start_time": "2024-04-15T19:13:19.312Z"
   },
   {
    "duration": 54,
    "start_time": "2024-04-15T19:13:43.660Z"
   },
   {
    "duration": 5320,
    "start_time": "2024-04-15T19:13:49.794Z"
   },
   {
    "duration": 1460,
    "start_time": "2024-04-15T19:13:55.116Z"
   },
   {
    "duration": 50,
    "start_time": "2024-04-15T19:13:56.577Z"
   },
   {
    "duration": 2,
    "start_time": "2024-04-15T19:13:56.629Z"
   },
   {
    "duration": 974,
    "start_time": "2024-04-15T19:13:56.633Z"
   },
   {
    "duration": 3,
    "start_time": "2024-04-15T19:13:57.608Z"
   },
   {
    "duration": 199,
    "start_time": "2024-04-15T19:13:57.614Z"
   },
   {
    "duration": 155,
    "start_time": "2024-04-15T19:13:57.815Z"
   },
   {
    "duration": 122,
    "start_time": "2024-04-15T19:13:57.972Z"
   },
   {
    "duration": 55,
    "start_time": "2024-04-15T19:13:58.096Z"
   },
   {
    "duration": 66,
    "start_time": "2024-04-15T19:13:58.153Z"
   },
   {
    "duration": 112,
    "start_time": "2024-04-15T19:13:58.220Z"
   },
   {
    "duration": 2,
    "start_time": "2024-04-15T19:13:58.333Z"
   },
   {
    "duration": 6,
    "start_time": "2024-04-15T19:13:58.338Z"
   },
   {
    "duration": 1429,
    "start_time": "2024-04-15T19:13:58.345Z"
   },
   {
    "duration": 159,
    "start_time": "2024-04-15T19:13:59.776Z"
   },
   {
    "duration": 20,
    "start_time": "2024-04-15T19:13:59.936Z"
   },
   {
    "duration": 51,
    "start_time": "2024-04-15T19:13:59.958Z"
   },
   {
    "duration": 1232,
    "start_time": "2024-04-15T19:14:00.011Z"
   },
   {
    "duration": 34,
    "start_time": "2024-04-15T19:14:01.245Z"
   },
   {
    "duration": 851,
    "start_time": "2024-04-15T19:14:01.281Z"
   },
   {
    "duration": 276,
    "start_time": "2024-04-15T19:14:02.133Z"
   },
   {
    "duration": 34,
    "start_time": "2024-04-15T19:14:02.411Z"
   },
   {
    "duration": 1236,
    "start_time": "2024-04-15T19:14:02.447Z"
   },
   {
    "duration": 21,
    "start_time": "2024-04-15T19:14:03.685Z"
   },
   {
    "duration": 10747,
    "start_time": "2024-04-15T19:14:03.707Z"
   },
   {
    "duration": 24,
    "start_time": "2024-04-15T19:14:14.456Z"
   },
   {
    "duration": 828,
    "start_time": "2024-04-15T19:14:14.491Z"
   },
   {
    "duration": 220,
    "start_time": "2024-04-15T19:14:15.320Z"
   },
   {
    "duration": 21,
    "start_time": "2024-04-15T19:14:15.542Z"
   },
   {
    "duration": 143,
    "start_time": "2024-04-15T19:14:15.565Z"
   },
   {
    "duration": 3,
    "start_time": "2024-04-15T19:14:15.709Z"
   },
   {
    "duration": 7664,
    "start_time": "2024-04-15T19:14:15.713Z"
   },
   {
    "duration": 23,
    "start_time": "2024-04-15T19:14:23.379Z"
   },
   {
    "duration": 119,
    "start_time": "2024-04-15T19:14:23.404Z"
   },
   {
    "duration": 98,
    "start_time": "2024-04-15T19:14:23.525Z"
   },
   {
    "duration": 3,
    "start_time": "2024-04-15T19:14:23.625Z"
   },
   {
    "duration": 5,
    "start_time": "2024-04-15T19:14:23.629Z"
   },
   {
    "duration": 6,
    "start_time": "2024-04-15T19:14:23.635Z"
   },
   {
    "duration": 9296,
    "start_time": "2024-04-15T19:14:23.643Z"
   },
   {
    "duration": 4,
    "start_time": "2024-04-15T19:14:32.943Z"
   },
   {
    "duration": 518352,
    "start_time": "2024-04-15T19:14:32.948Z"
   },
   {
    "duration": 5,
    "start_time": "2024-04-15T19:33:02.611Z"
   },
   {
    "duration": 8714,
    "start_time": "2024-04-15T19:33:03.242Z"
   },
   {
    "duration": 3,
    "start_time": "2024-04-15T19:34:45.610Z"
   },
   {
    "duration": 33278,
    "start_time": "2024-04-15T19:34:48.610Z"
   },
   {
    "duration": 5080,
    "start_time": "2024-04-15T19:39:31.296Z"
   },
   {
    "duration": 1526,
    "start_time": "2024-04-15T19:39:36.378Z"
   },
   {
    "duration": 49,
    "start_time": "2024-04-15T19:39:37.906Z"
   },
   {
    "duration": 3,
    "start_time": "2024-04-15T19:39:37.957Z"
   },
   {
    "duration": 964,
    "start_time": "2024-04-15T19:39:37.961Z"
   },
   {
    "duration": 3,
    "start_time": "2024-04-15T19:39:38.927Z"
   },
   {
    "duration": 192,
    "start_time": "2024-04-15T19:39:38.931Z"
   },
   {
    "duration": 148,
    "start_time": "2024-04-15T19:39:39.125Z"
   },
   {
    "duration": 111,
    "start_time": "2024-04-15T19:39:39.275Z"
   },
   {
    "duration": 56,
    "start_time": "2024-04-15T19:39:39.393Z"
   },
   {
    "duration": 63,
    "start_time": "2024-04-15T19:39:39.450Z"
   },
   {
    "duration": 107,
    "start_time": "2024-04-15T19:39:39.515Z"
   },
   {
    "duration": 3,
    "start_time": "2024-04-15T19:39:39.623Z"
   },
   {
    "duration": 13,
    "start_time": "2024-04-15T19:39:39.627Z"
   },
   {
    "duration": 1457,
    "start_time": "2024-04-15T19:39:39.642Z"
   },
   {
    "duration": 144,
    "start_time": "2024-04-15T19:39:41.101Z"
   },
   {
    "duration": 16,
    "start_time": "2024-04-15T19:39:41.247Z"
   },
   {
    "duration": 52,
    "start_time": "2024-04-15T19:39:41.268Z"
   },
   {
    "duration": 1217,
    "start_time": "2024-04-15T19:39:41.323Z"
   },
   {
    "duration": 34,
    "start_time": "2024-04-15T19:39:42.541Z"
   },
   {
    "duration": 817,
    "start_time": "2024-04-15T19:39:42.576Z"
   },
   {
    "duration": 259,
    "start_time": "2024-04-15T19:39:43.395Z"
   },
   {
    "duration": 36,
    "start_time": "2024-04-15T19:39:43.656Z"
   },
   {
    "duration": 1214,
    "start_time": "2024-04-15T19:39:43.694Z"
   },
   {
    "duration": 17,
    "start_time": "2024-04-15T19:39:44.910Z"
   },
   {
    "duration": 10695,
    "start_time": "2024-04-15T19:39:44.928Z"
   },
   {
    "duration": 24,
    "start_time": "2024-04-15T19:39:55.624Z"
   },
   {
    "duration": 848,
    "start_time": "2024-04-15T19:39:55.653Z"
   },
   {
    "duration": 232,
    "start_time": "2024-04-15T19:39:56.503Z"
   },
   {
    "duration": 20,
    "start_time": "2024-04-15T19:39:56.737Z"
   },
   {
    "duration": 143,
    "start_time": "2024-04-15T19:39:56.759Z"
   },
   {
    "duration": 3,
    "start_time": "2024-04-15T19:39:56.903Z"
   },
   {
    "duration": 7317,
    "start_time": "2024-04-15T19:39:56.908Z"
   },
   {
    "duration": 17,
    "start_time": "2024-04-15T19:40:04.227Z"
   },
   {
    "duration": 119,
    "start_time": "2024-04-15T19:40:04.245Z"
   },
   {
    "duration": 102,
    "start_time": "2024-04-15T19:40:04.366Z"
   },
   {
    "duration": 2,
    "start_time": "2024-04-15T19:40:04.470Z"
   },
   {
    "duration": 17,
    "start_time": "2024-04-15T19:40:04.474Z"
   },
   {
    "duration": 5,
    "start_time": "2024-04-15T19:40:04.493Z"
   },
   {
    "duration": 8728,
    "start_time": "2024-04-15T19:40:04.499Z"
   },
   {
    "duration": 3,
    "start_time": "2024-04-15T19:40:13.229Z"
   },
   {
    "duration": 316868,
    "start_time": "2024-04-15T19:40:13.234Z"
   },
   {
    "duration": 119,
    "start_time": "2024-04-15T19:45:30.192Z"
   },
   {
    "duration": 3,
    "start_time": "2024-04-15T19:45:30.313Z"
   },
   {
    "duration": 65,
    "start_time": "2024-04-15T19:45:30.317Z"
   },
   {
    "duration": 49,
    "start_time": "2024-04-15T19:45:30.385Z"
   },
   {
    "duration": 9161,
    "start_time": "2024-04-15T19:45:30.436Z"
   },
   {
    "duration": 4,
    "start_time": "2024-04-15T19:45:39.598Z"
   },
   {
    "duration": 534998,
    "start_time": "2024-04-15T19:45:39.604Z"
   },
   {
    "duration": 151,
    "start_time": "2024-04-15T19:54:34.603Z"
   },
   {
    "duration": 2,
    "start_time": "2024-04-15T19:54:34.756Z"
   },
   {
    "duration": 5,
    "start_time": "2024-04-15T19:54:34.759Z"
   },
   {
    "duration": 4,
    "start_time": "2024-04-15T19:54:34.766Z"
   },
   {
    "duration": 9019,
    "start_time": "2024-04-15T19:54:34.772Z"
   },
   {
    "duration": 4,
    "start_time": "2024-04-15T19:54:43.793Z"
   },
   {
    "duration": 522439,
    "start_time": "2024-04-15T19:54:43.799Z"
   },
   {
    "duration": 6022,
    "start_time": "2024-04-16T06:06:21.341Z"
   },
   {
    "duration": 1497,
    "start_time": "2024-04-16T06:06:27.364Z"
   },
   {
    "duration": 37,
    "start_time": "2024-04-16T06:06:28.863Z"
   },
   {
    "duration": 20,
    "start_time": "2024-04-16T06:06:28.901Z"
   },
   {
    "duration": 996,
    "start_time": "2024-04-16T06:06:28.923Z"
   },
   {
    "duration": 2,
    "start_time": "2024-04-16T06:06:29.921Z"
   },
   {
    "duration": 123,
    "start_time": "2024-04-16T06:06:29.925Z"
   },
   {
    "duration": 99,
    "start_time": "2024-04-16T06:06:30.049Z"
   },
   {
    "duration": 126,
    "start_time": "2024-04-16T06:06:30.149Z"
   },
   {
    "duration": 142,
    "start_time": "2024-04-16T06:06:30.276Z"
   },
   {
    "duration": 73,
    "start_time": "2024-04-16T06:06:30.419Z"
   },
   {
    "duration": 143,
    "start_time": "2024-04-16T06:06:30.494Z"
   },
   {
    "duration": 117,
    "start_time": "2024-04-16T06:06:30.639Z"
   },
   {
    "duration": 39,
    "start_time": "2024-04-16T06:06:30.759Z"
   },
   {
    "duration": 1090,
    "start_time": "2024-04-16T06:06:30.799Z"
   },
   {
    "duration": 113,
    "start_time": "2024-04-16T06:06:31.890Z"
   },
   {
    "duration": 10,
    "start_time": "2024-04-16T06:06:32.005Z"
   },
   {
    "duration": 62,
    "start_time": "2024-04-16T06:06:32.016Z"
   },
   {
    "duration": 902,
    "start_time": "2024-04-16T06:06:32.079Z"
   },
   {
    "duration": 29,
    "start_time": "2024-04-16T06:06:32.984Z"
   },
   {
    "duration": 601,
    "start_time": "2024-04-16T06:06:33.014Z"
   },
   {
    "duration": 217,
    "start_time": "2024-04-16T06:06:33.617Z"
   },
   {
    "duration": 31,
    "start_time": "2024-04-16T06:06:33.836Z"
   },
   {
    "duration": 946,
    "start_time": "2024-04-16T06:06:33.869Z"
   },
   {
    "duration": 14,
    "start_time": "2024-04-16T06:06:34.817Z"
   },
   {
    "duration": 7519,
    "start_time": "2024-04-16T06:06:34.832Z"
   },
   {
    "duration": 23,
    "start_time": "2024-04-16T06:06:42.353Z"
   },
   {
    "duration": 708,
    "start_time": "2024-04-16T06:06:42.384Z"
   },
   {
    "duration": 160,
    "start_time": "2024-04-16T06:06:43.094Z"
   },
   {
    "duration": 15,
    "start_time": "2024-04-16T06:06:43.255Z"
   },
   {
    "duration": 93,
    "start_time": "2024-04-16T06:06:43.271Z"
   },
   {
    "duration": 2,
    "start_time": "2024-04-16T06:06:43.365Z"
   },
   {
    "duration": 5837,
    "start_time": "2024-04-16T06:06:43.368Z"
   },
   {
    "duration": 17,
    "start_time": "2024-04-16T06:06:49.207Z"
   },
   {
    "duration": 76,
    "start_time": "2024-04-16T06:06:49.225Z"
   },
   {
    "duration": 67,
    "start_time": "2024-04-16T06:06:49.302Z"
   },
   {
    "duration": 2,
    "start_time": "2024-04-16T06:06:49.370Z"
   },
   {
    "duration": 18,
    "start_time": "2024-04-16T06:06:49.374Z"
   },
   {
    "duration": 6,
    "start_time": "2024-04-16T06:06:49.393Z"
   },
   {
    "duration": 6359,
    "start_time": "2024-04-16T06:06:49.400Z"
   },
   {
    "duration": 3,
    "start_time": "2024-04-16T06:06:55.762Z"
   },
   {
    "duration": 223523,
    "start_time": "2024-04-16T06:06:55.766Z"
   },
   {
    "duration": 158,
    "start_time": "2024-04-16T06:10:39.291Z"
   },
   {
    "duration": 3,
    "start_time": "2024-04-16T06:10:39.450Z"
   },
   {
    "duration": 14,
    "start_time": "2024-04-16T06:10:39.454Z"
   },
   {
    "duration": 15,
    "start_time": "2024-04-16T06:10:39.469Z"
   },
   {
    "duration": 6996,
    "start_time": "2024-04-16T06:10:39.486Z"
   },
   {
    "duration": 3,
    "start_time": "2024-04-16T06:10:46.485Z"
   },
   {
    "duration": 457701,
    "start_time": "2024-04-16T06:10:46.490Z"
   },
   {
    "duration": 128,
    "start_time": "2024-04-16T06:18:24.199Z"
   },
   {
    "duration": 2,
    "start_time": "2024-04-16T06:18:24.328Z"
   },
   {
    "duration": 9,
    "start_time": "2024-04-16T06:18:24.332Z"
   },
   {
    "duration": 8,
    "start_time": "2024-04-16T06:18:24.342Z"
   },
   {
    "duration": 6390,
    "start_time": "2024-04-16T06:18:24.351Z"
   },
   {
    "duration": 3,
    "start_time": "2024-04-16T06:18:30.742Z"
   },
   {
    "duration": 400676,
    "start_time": "2024-04-16T06:18:30.746Z"
   },
   {
    "duration": 6036,
    "start_time": "2024-04-16T15:01:52.969Z"
   },
   {
    "duration": 1617,
    "start_time": "2024-04-16T15:01:59.007Z"
   },
   {
    "duration": 49,
    "start_time": "2024-04-16T15:02:00.625Z"
   },
   {
    "duration": 104,
    "start_time": "2024-04-16T15:02:00.676Z"
   },
   {
    "duration": 1299,
    "start_time": "2024-04-16T15:02:00.782Z"
   },
   {
    "duration": 4,
    "start_time": "2024-04-16T15:02:02.083Z"
   },
   {
    "duration": 209,
    "start_time": "2024-04-16T15:02:02.089Z"
   },
   {
    "duration": 152,
    "start_time": "2024-04-16T15:02:02.299Z"
   },
   {
    "duration": 99,
    "start_time": "2024-04-16T15:02:02.452Z"
   },
   {
    "duration": 68,
    "start_time": "2024-04-16T15:02:02.553Z"
   },
   {
    "duration": 58,
    "start_time": "2024-04-16T15:02:02.623Z"
   },
   {
    "duration": 100,
    "start_time": "2024-04-16T15:02:02.682Z"
   },
   {
    "duration": 2,
    "start_time": "2024-04-16T15:02:02.784Z"
   },
   {
    "duration": 20,
    "start_time": "2024-04-16T15:02:02.789Z"
   },
   {
    "duration": 1449,
    "start_time": "2024-04-16T15:02:02.810Z"
   },
   {
    "duration": 133,
    "start_time": "2024-04-16T15:02:04.261Z"
   },
   {
    "duration": 13,
    "start_time": "2024-04-16T15:02:04.396Z"
   },
   {
    "duration": 49,
    "start_time": "2024-04-16T15:02:04.411Z"
   },
   {
    "duration": 1121,
    "start_time": "2024-04-16T15:02:04.461Z"
   },
   {
    "duration": 31,
    "start_time": "2024-04-16T15:02:05.584Z"
   },
   {
    "duration": 813,
    "start_time": "2024-04-16T15:02:05.617Z"
   },
   {
    "duration": 263,
    "start_time": "2024-04-16T15:02:06.431Z"
   },
   {
    "duration": 31,
    "start_time": "2024-04-16T15:02:06.696Z"
   },
   {
    "duration": 1227,
    "start_time": "2024-04-16T15:02:06.729Z"
   },
   {
    "duration": 26,
    "start_time": "2024-04-16T15:02:07.957Z"
   },
   {
    "duration": 10670,
    "start_time": "2024-04-16T15:02:07.984Z"
   },
   {
    "duration": 35,
    "start_time": "2024-04-16T15:02:18.656Z"
   },
   {
    "duration": 844,
    "start_time": "2024-04-16T15:02:18.692Z"
   },
   {
    "duration": 217,
    "start_time": "2024-04-16T15:02:19.538Z"
   },
   {
    "duration": 24,
    "start_time": "2024-04-16T15:02:19.757Z"
   },
   {
    "duration": 123,
    "start_time": "2024-04-16T15:02:19.782Z"
   },
   {
    "duration": 3,
    "start_time": "2024-04-16T15:02:19.906Z"
   },
   {
    "duration": 7208,
    "start_time": "2024-04-16T15:02:19.910Z"
   },
   {
    "duration": 16,
    "start_time": "2024-04-16T15:02:27.120Z"
   },
   {
    "duration": 119,
    "start_time": "2024-04-16T15:02:27.138Z"
   },
   {
    "duration": 84,
    "start_time": "2024-04-16T15:02:27.259Z"
   },
   {
    "duration": 3,
    "start_time": "2024-04-16T15:02:27.344Z"
   },
   {
    "duration": 36,
    "start_time": "2024-04-16T15:02:27.349Z"
   },
   {
    "duration": 9,
    "start_time": "2024-04-16T15:02:27.387Z"
   },
   {
    "duration": 8741,
    "start_time": "2024-04-16T15:02:27.397Z"
   },
   {
    "duration": 3,
    "start_time": "2024-04-16T15:02:36.142Z"
   },
   {
    "duration": 288127,
    "start_time": "2024-04-16T15:02:36.147Z"
   },
   {
    "duration": 138,
    "start_time": "2024-04-16T15:07:24.275Z"
   },
   {
    "duration": 3,
    "start_time": "2024-04-16T15:07:24.414Z"
   },
   {
    "duration": 5,
    "start_time": "2024-04-16T15:07:24.419Z"
   },
   {
    "duration": 12,
    "start_time": "2024-04-16T15:07:24.426Z"
   },
   {
    "duration": 8702,
    "start_time": "2024-04-16T15:07:24.439Z"
   },
   {
    "duration": 3,
    "start_time": "2024-04-16T15:07:33.144Z"
   },
   {
    "duration": 180225,
    "start_time": "2024-04-16T15:07:33.149Z"
   },
   {
    "duration": 124,
    "start_time": "2024-04-16T15:10:33.376Z"
   },
   {
    "duration": 3,
    "start_time": "2024-04-16T15:10:33.502Z"
   },
   {
    "duration": 20,
    "start_time": "2024-04-16T15:10:33.507Z"
   },
   {
    "duration": 6,
    "start_time": "2024-04-16T15:10:33.529Z"
   },
   {
    "duration": 8765,
    "start_time": "2024-04-16T15:10:33.537Z"
   },
   {
    "duration": 3,
    "start_time": "2024-04-16T15:10:42.304Z"
   },
   {
    "duration": 150355,
    "start_time": "2024-04-16T15:10:42.309Z"
   },
   {
    "duration": 5187,
    "start_time": "2024-04-16T15:13:15.905Z"
   },
   {
    "duration": 1556,
    "start_time": "2024-04-16T15:13:21.094Z"
   },
   {
    "duration": 52,
    "start_time": "2024-04-16T15:13:22.652Z"
   },
   {
    "duration": 2,
    "start_time": "2024-04-16T15:13:22.706Z"
   },
   {
    "duration": 909,
    "start_time": "2024-04-16T15:13:22.710Z"
   },
   {
    "duration": 3,
    "start_time": "2024-04-16T15:13:23.621Z"
   },
   {
    "duration": 194,
    "start_time": "2024-04-16T15:13:23.625Z"
   },
   {
    "duration": 156,
    "start_time": "2024-04-16T15:13:23.821Z"
   },
   {
    "duration": 116,
    "start_time": "2024-04-16T15:13:23.979Z"
   },
   {
    "duration": 106,
    "start_time": "2024-04-16T15:13:24.097Z"
   },
   {
    "duration": 67,
    "start_time": "2024-04-16T15:13:24.206Z"
   },
   {
    "duration": 101,
    "start_time": "2024-04-16T15:13:24.274Z"
   },
   {
    "duration": 19,
    "start_time": "2024-04-16T15:13:24.377Z"
   },
   {
    "duration": 30,
    "start_time": "2024-04-16T15:13:24.399Z"
   },
   {
    "duration": 1441,
    "start_time": "2024-04-16T15:13:24.430Z"
   },
   {
    "duration": 139,
    "start_time": "2024-04-16T15:13:25.872Z"
   },
   {
    "duration": 20,
    "start_time": "2024-04-16T15:13:26.013Z"
   },
   {
    "duration": 59,
    "start_time": "2024-04-16T15:13:26.034Z"
   },
   {
    "duration": 1208,
    "start_time": "2024-04-16T15:13:26.095Z"
   },
   {
    "duration": 32,
    "start_time": "2024-04-16T15:13:27.305Z"
   },
   {
    "duration": 782,
    "start_time": "2024-04-16T15:13:27.338Z"
   },
   {
    "duration": 341,
    "start_time": "2024-04-16T15:13:28.122Z"
   },
   {
    "duration": 37,
    "start_time": "2024-04-16T15:13:28.465Z"
   },
   {
    "duration": 1252,
    "start_time": "2024-04-16T15:13:28.503Z"
   },
   {
    "duration": 18,
    "start_time": "2024-04-16T15:13:29.757Z"
   },
   {
    "duration": 11014,
    "start_time": "2024-04-16T15:13:29.777Z"
   },
   {
    "duration": 22,
    "start_time": "2024-04-16T15:13:40.793Z"
   },
   {
    "duration": 989,
    "start_time": "2024-04-16T15:13:40.816Z"
   },
   {
    "duration": 238,
    "start_time": "2024-04-16T15:13:41.806Z"
   },
   {
    "duration": 30,
    "start_time": "2024-04-16T15:13:42.046Z"
   },
   {
    "duration": 163,
    "start_time": "2024-04-16T15:13:42.078Z"
   },
   {
    "duration": 3,
    "start_time": "2024-04-16T15:13:42.243Z"
   },
   {
    "duration": 7298,
    "start_time": "2024-04-16T15:13:42.248Z"
   },
   {
    "duration": 16,
    "start_time": "2024-04-16T15:13:49.548Z"
   },
   {
    "duration": 116,
    "start_time": "2024-04-16T15:13:49.566Z"
   },
   {
    "duration": 77,
    "start_time": "2024-04-16T15:13:49.683Z"
   },
   {
    "duration": 11,
    "start_time": "2024-04-16T15:13:49.762Z"
   },
   {
    "duration": 14,
    "start_time": "2024-04-16T15:13:49.775Z"
   },
   {
    "duration": 7,
    "start_time": "2024-04-16T15:13:49.791Z"
   },
   {
    "duration": 8921,
    "start_time": "2024-04-16T15:13:49.799Z"
   },
   {
    "duration": 4,
    "start_time": "2024-04-16T15:13:58.725Z"
   },
   {
    "duration": 131,
    "start_time": "2024-04-16T15:13:58.731Z"
   },
   {
    "duration": 0,
    "start_time": "2024-04-16T15:13:58.864Z"
   },
   {
    "duration": 0,
    "start_time": "2024-04-16T15:13:58.873Z"
   },
   {
    "duration": 0,
    "start_time": "2024-04-16T15:13:58.875Z"
   },
   {
    "duration": 0,
    "start_time": "2024-04-16T15:13:58.876Z"
   },
   {
    "duration": 0,
    "start_time": "2024-04-16T15:13:58.877Z"
   },
   {
    "duration": 0,
    "start_time": "2024-04-16T15:13:58.878Z"
   },
   {
    "duration": 343411,
    "start_time": "2024-04-16T15:17:03.764Z"
   },
   {
    "duration": 33,
    "start_time": "2024-04-16T15:22:47.177Z"
   },
   {
    "duration": 62,
    "start_time": "2024-04-16T15:22:47.211Z"
   },
   {
    "duration": 383104,
    "start_time": "2024-04-16T15:22:47.275Z"
   },
   {
    "duration": 19,
    "start_time": "2024-04-16T15:29:10.381Z"
   },
   {
    "duration": 19,
    "start_time": "2024-04-16T15:29:10.401Z"
   },
   {
    "duration": 86481,
    "start_time": "2024-04-16T15:29:10.421Z"
   },
   {
    "duration": 0,
    "start_time": "2024-04-16T15:30:36.904Z"
   },
   {
    "duration": 5038,
    "start_time": "2024-04-16T15:30:39.676Z"
   },
   {
    "duration": 1457,
    "start_time": "2024-04-16T15:30:44.717Z"
   },
   {
    "duration": 120,
    "start_time": "2024-04-16T15:30:46.176Z"
   },
   {
    "duration": 0,
    "start_time": "2024-04-16T15:30:46.299Z"
   },
   {
    "duration": 0,
    "start_time": "2024-04-16T15:30:46.300Z"
   },
   {
    "duration": 1,
    "start_time": "2024-04-16T15:30:46.301Z"
   },
   {
    "duration": 0,
    "start_time": "2024-04-16T15:30:46.303Z"
   },
   {
    "duration": 0,
    "start_time": "2024-04-16T15:30:46.304Z"
   },
   {
    "duration": 0,
    "start_time": "2024-04-16T15:30:46.305Z"
   },
   {
    "duration": 0,
    "start_time": "2024-04-16T15:30:46.306Z"
   },
   {
    "duration": 0,
    "start_time": "2024-04-16T15:30:46.307Z"
   },
   {
    "duration": 0,
    "start_time": "2024-04-16T15:30:46.308Z"
   },
   {
    "duration": 0,
    "start_time": "2024-04-16T15:30:46.309Z"
   },
   {
    "duration": 0,
    "start_time": "2024-04-16T15:30:46.310Z"
   },
   {
    "duration": 0,
    "start_time": "2024-04-16T15:30:46.311Z"
   },
   {
    "duration": 0,
    "start_time": "2024-04-16T15:30:46.312Z"
   },
   {
    "duration": 0,
    "start_time": "2024-04-16T15:30:46.313Z"
   },
   {
    "duration": 0,
    "start_time": "2024-04-16T15:30:46.315Z"
   },
   {
    "duration": 0,
    "start_time": "2024-04-16T15:30:46.316Z"
   },
   {
    "duration": 0,
    "start_time": "2024-04-16T15:30:46.317Z"
   },
   {
    "duration": 0,
    "start_time": "2024-04-16T15:30:46.318Z"
   },
   {
    "duration": 0,
    "start_time": "2024-04-16T15:30:46.319Z"
   },
   {
    "duration": 0,
    "start_time": "2024-04-16T15:30:46.320Z"
   },
   {
    "duration": 0,
    "start_time": "2024-04-16T15:30:46.321Z"
   },
   {
    "duration": 0,
    "start_time": "2024-04-16T15:30:46.322Z"
   },
   {
    "duration": 0,
    "start_time": "2024-04-16T15:30:46.324Z"
   },
   {
    "duration": 0,
    "start_time": "2024-04-16T15:30:46.324Z"
   },
   {
    "duration": 0,
    "start_time": "2024-04-16T15:30:46.325Z"
   },
   {
    "duration": 0,
    "start_time": "2024-04-16T15:30:46.326Z"
   },
   {
    "duration": 0,
    "start_time": "2024-04-16T15:30:46.327Z"
   },
   {
    "duration": 0,
    "start_time": "2024-04-16T15:30:46.328Z"
   },
   {
    "duration": 0,
    "start_time": "2024-04-16T15:30:46.329Z"
   },
   {
    "duration": 0,
    "start_time": "2024-04-16T15:30:46.329Z"
   },
   {
    "duration": 0,
    "start_time": "2024-04-16T15:30:46.330Z"
   },
   {
    "duration": 0,
    "start_time": "2024-04-16T15:30:46.330Z"
   },
   {
    "duration": 0,
    "start_time": "2024-04-16T15:30:46.331Z"
   },
   {
    "duration": 0,
    "start_time": "2024-04-16T15:30:46.332Z"
   },
   {
    "duration": 0,
    "start_time": "2024-04-16T15:30:46.374Z"
   },
   {
    "duration": 0,
    "start_time": "2024-04-16T15:30:46.375Z"
   },
   {
    "duration": 0,
    "start_time": "2024-04-16T15:30:46.376Z"
   },
   {
    "duration": 0,
    "start_time": "2024-04-16T15:30:46.378Z"
   },
   {
    "duration": 0,
    "start_time": "2024-04-16T15:30:46.379Z"
   },
   {
    "duration": 0,
    "start_time": "2024-04-16T15:30:46.380Z"
   },
   {
    "duration": 0,
    "start_time": "2024-04-16T15:30:46.381Z"
   },
   {
    "duration": 0,
    "start_time": "2024-04-16T15:30:46.382Z"
   },
   {
    "duration": 0,
    "start_time": "2024-04-16T15:30:46.384Z"
   },
   {
    "duration": 0,
    "start_time": "2024-04-16T15:30:46.385Z"
   },
   {
    "duration": 0,
    "start_time": "2024-04-16T15:30:46.386Z"
   },
   {
    "duration": 0,
    "start_time": "2024-04-16T15:30:46.387Z"
   },
   {
    "duration": 9,
    "start_time": "2024-04-16T15:32:34.829Z"
   },
   {
    "duration": 11,
    "start_time": "2024-04-16T15:32:53.183Z"
   },
   {
    "duration": 42,
    "start_time": "2024-04-16T15:33:36.800Z"
   },
   {
    "duration": 24,
    "start_time": "2024-04-16T15:34:44.539Z"
   },
   {
    "duration": 5200,
    "start_time": "2024-04-16T15:37:53.206Z"
   },
   {
    "duration": 1522,
    "start_time": "2024-04-16T15:37:58.408Z"
   },
   {
    "duration": 63,
    "start_time": "2024-04-16T15:37:59.932Z"
   },
   {
    "duration": 2,
    "start_time": "2024-04-16T15:37:59.997Z"
   },
   {
    "duration": 991,
    "start_time": "2024-04-16T15:38:00.002Z"
   },
   {
    "duration": 3,
    "start_time": "2024-04-16T15:38:00.995Z"
   },
   {
    "duration": 377,
    "start_time": "2024-04-16T15:38:00.999Z"
   },
   {
    "duration": 166,
    "start_time": "2024-04-16T15:38:01.378Z"
   },
   {
    "duration": 115,
    "start_time": "2024-04-16T15:38:01.546Z"
   },
   {
    "duration": 164,
    "start_time": "2024-04-16T15:38:01.663Z"
   },
   {
    "duration": 78,
    "start_time": "2024-04-16T15:38:01.829Z"
   },
   {
    "duration": 123,
    "start_time": "2024-04-16T15:38:01.909Z"
   },
   {
    "duration": 13,
    "start_time": "2024-04-16T15:38:02.033Z"
   },
   {
    "duration": 45,
    "start_time": "2024-04-16T15:38:02.049Z"
   },
   {
    "duration": 1538,
    "start_time": "2024-04-16T15:38:02.096Z"
   },
   {
    "duration": 155,
    "start_time": "2024-04-16T15:38:03.636Z"
   },
   {
    "duration": 13,
    "start_time": "2024-04-16T15:38:03.793Z"
   },
   {
    "duration": 46,
    "start_time": "2024-04-16T15:38:03.808Z"
   },
   {
    "duration": 1144,
    "start_time": "2024-04-16T15:38:03.856Z"
   },
   {
    "duration": 35,
    "start_time": "2024-04-16T15:38:05.002Z"
   },
   {
    "duration": 790,
    "start_time": "2024-04-16T15:38:05.039Z"
   },
   {
    "duration": 365,
    "start_time": "2024-04-16T15:38:05.831Z"
   },
   {
    "duration": 30,
    "start_time": "2024-04-16T15:38:06.198Z"
   },
   {
    "duration": 1121,
    "start_time": "2024-04-16T15:38:06.230Z"
   },
   {
    "duration": 26,
    "start_time": "2024-04-16T15:38:07.353Z"
   },
   {
    "duration": 10816,
    "start_time": "2024-04-16T15:38:07.380Z"
   },
   {
    "duration": 21,
    "start_time": "2024-04-16T15:38:18.198Z"
   },
   {
    "duration": 964,
    "start_time": "2024-04-16T15:38:18.221Z"
   },
   {
    "duration": 220,
    "start_time": "2024-04-16T15:38:19.187Z"
   },
   {
    "duration": 20,
    "start_time": "2024-04-16T15:38:19.409Z"
   },
   {
    "duration": 130,
    "start_time": "2024-04-16T15:38:19.431Z"
   },
   {
    "duration": 11,
    "start_time": "2024-04-16T15:38:19.563Z"
   },
   {
    "duration": 7119,
    "start_time": "2024-04-16T15:38:19.575Z"
   },
   {
    "duration": 18,
    "start_time": "2024-04-16T15:38:26.695Z"
   },
   {
    "duration": 108,
    "start_time": "2024-04-16T15:38:26.715Z"
   },
   {
    "duration": 95,
    "start_time": "2024-04-16T15:38:26.824Z"
   },
   {
    "duration": 3,
    "start_time": "2024-04-16T15:38:26.921Z"
   },
   {
    "duration": 9,
    "start_time": "2024-04-16T15:38:26.925Z"
   },
   {
    "duration": 6,
    "start_time": "2024-04-16T15:38:26.935Z"
   },
   {
    "duration": 8892,
    "start_time": "2024-04-16T15:38:26.942Z"
   },
   {
    "duration": 3,
    "start_time": "2024-04-16T15:38:35.839Z"
   },
   {
    "duration": 289631,
    "start_time": "2024-04-16T15:38:35.843Z"
   },
   {
    "duration": 22,
    "start_time": "2024-04-16T15:43:25.476Z"
   },
   {
    "duration": 16,
    "start_time": "2024-04-16T15:43:25.499Z"
   },
   {
    "duration": 153266,
    "start_time": "2024-04-16T15:43:25.517Z"
   },
   {
    "duration": 96,
    "start_time": "2024-04-16T15:45:58.784Z"
   },
   {
    "duration": 0,
    "start_time": "2024-04-16T15:45:58.881Z"
   },
   {
    "duration": 0,
    "start_time": "2024-04-16T15:45:58.883Z"
   },
   {
    "duration": 0,
    "start_time": "2024-04-16T15:45:58.884Z"
   },
   {
    "duration": 1,
    "start_time": "2024-04-16T15:45:58.884Z"
   },
   {
    "duration": 0,
    "start_time": "2024-04-16T15:45:58.885Z"
   },
   {
    "duration": 0,
    "start_time": "2024-04-16T15:45:58.886Z"
   },
   {
    "duration": 0,
    "start_time": "2024-04-16T15:45:58.887Z"
   },
   {
    "duration": 0,
    "start_time": "2024-04-16T15:45:58.889Z"
   },
   {
    "duration": 21,
    "start_time": "2024-04-16T15:48:46.836Z"
   },
   {
    "duration": 3,
    "start_time": "2024-04-16T15:48:52.877Z"
   },
   {
    "duration": 520002,
    "start_time": "2024-04-16T15:48:53.506Z"
   },
   {
    "duration": 88,
    "start_time": "2024-04-16T15:57:33.510Z"
   },
   {
    "duration": 0,
    "start_time": "2024-04-16T15:57:33.600Z"
   },
   {
    "duration": 0,
    "start_time": "2024-04-16T15:57:33.601Z"
   },
   {
    "duration": 0,
    "start_time": "2024-04-16T15:57:33.603Z"
   },
   {
    "duration": 0,
    "start_time": "2024-04-16T15:57:33.604Z"
   },
   {
    "duration": 21,
    "start_time": "2024-04-16T15:59:01.037Z"
   },
   {
    "duration": 4,
    "start_time": "2024-04-16T15:59:05.346Z"
   },
   {
    "duration": 216,
    "start_time": "2024-04-16T15:59:09.226Z"
   },
   {
    "duration": 25,
    "start_time": "2024-04-16T16:04:53.566Z"
   },
   {
    "duration": 12,
    "start_time": "2024-04-16T16:04:54.162Z"
   },
   {
    "duration": 4,
    "start_time": "2024-04-16T16:05:17.588Z"
   },
   {
    "duration": 5214,
    "start_time": "2024-04-16T16:14:16.070Z"
   },
   {
    "duration": 1563,
    "start_time": "2024-04-16T16:14:21.286Z"
   },
   {
    "duration": 66,
    "start_time": "2024-04-16T16:14:22.851Z"
   },
   {
    "duration": 3,
    "start_time": "2024-04-16T16:14:22.918Z"
   },
   {
    "duration": 1223,
    "start_time": "2024-04-16T16:14:22.922Z"
   },
   {
    "duration": 3,
    "start_time": "2024-04-16T16:14:24.147Z"
   },
   {
    "duration": 186,
    "start_time": "2024-04-16T16:14:24.152Z"
   },
   {
    "duration": 153,
    "start_time": "2024-04-16T16:14:24.340Z"
   },
   {
    "duration": 106,
    "start_time": "2024-04-16T16:14:24.495Z"
   },
   {
    "duration": 74,
    "start_time": "2024-04-16T16:14:24.603Z"
   },
   {
    "duration": 54,
    "start_time": "2024-04-16T16:14:24.679Z"
   },
   {
    "duration": 107,
    "start_time": "2024-04-16T16:14:24.734Z"
   },
   {
    "duration": 4,
    "start_time": "2024-04-16T16:14:24.843Z"
   },
   {
    "duration": 5,
    "start_time": "2024-04-16T16:14:24.850Z"
   },
   {
    "duration": 1510,
    "start_time": "2024-04-16T16:14:24.856Z"
   },
   {
    "duration": 129,
    "start_time": "2024-04-16T16:14:26.372Z"
   },
   {
    "duration": 13,
    "start_time": "2024-04-16T16:14:26.503Z"
   },
   {
    "duration": 36,
    "start_time": "2024-04-16T16:14:26.518Z"
   },
   {
    "duration": 1103,
    "start_time": "2024-04-16T16:14:26.572Z"
   },
   {
    "duration": 33,
    "start_time": "2024-04-16T16:14:27.677Z"
   },
   {
    "duration": 798,
    "start_time": "2024-04-16T16:14:27.712Z"
   },
   {
    "duration": 364,
    "start_time": "2024-04-16T16:14:28.512Z"
   },
   {
    "duration": 35,
    "start_time": "2024-04-16T16:14:28.878Z"
   },
   {
    "duration": 1121,
    "start_time": "2024-04-16T16:14:28.915Z"
   },
   {
    "duration": 17,
    "start_time": "2024-04-16T16:14:30.038Z"
   },
   {
    "duration": 11050,
    "start_time": "2024-04-16T16:14:30.073Z"
   },
   {
    "duration": 24,
    "start_time": "2024-04-16T16:14:41.124Z"
   },
   {
    "duration": 954,
    "start_time": "2024-04-16T16:14:41.149Z"
   },
   {
    "duration": 255,
    "start_time": "2024-04-16T16:14:42.105Z"
   },
   {
    "duration": 24,
    "start_time": "2024-04-16T16:14:42.361Z"
   },
   {
    "duration": 129,
    "start_time": "2024-04-16T16:14:42.386Z"
   },
   {
    "duration": 3,
    "start_time": "2024-04-16T16:14:42.516Z"
   },
   {
    "duration": 7598,
    "start_time": "2024-04-16T16:14:42.520Z"
   },
   {
    "duration": 22,
    "start_time": "2024-04-16T16:14:50.120Z"
   },
   {
    "duration": 107,
    "start_time": "2024-04-16T16:14:50.144Z"
   },
   {
    "duration": 105,
    "start_time": "2024-04-16T16:14:50.253Z"
   },
   {
    "duration": 13,
    "start_time": "2024-04-16T16:14:50.360Z"
   },
   {
    "duration": 54,
    "start_time": "2024-04-16T16:14:50.374Z"
   },
   {
    "duration": 36,
    "start_time": "2024-04-16T16:14:50.430Z"
   },
   {
    "duration": 9012,
    "start_time": "2024-04-16T16:14:50.468Z"
   },
   {
    "duration": 3,
    "start_time": "2024-04-16T16:14:59.483Z"
   },
   {
    "duration": 339194,
    "start_time": "2024-04-16T16:14:59.488Z"
   },
   {
    "duration": 4,
    "start_time": "2024-04-16T16:20:38.774Z"
   },
   {
    "duration": 6,
    "start_time": "2024-04-16T16:20:38.780Z"
   },
   {
    "duration": 153189,
    "start_time": "2024-04-16T16:20:38.787Z"
   },
   {
    "duration": 4,
    "start_time": "2024-04-16T16:23:11.977Z"
   },
   {
    "duration": 19,
    "start_time": "2024-04-16T16:23:11.982Z"
   },
   {
    "duration": 511019,
    "start_time": "2024-04-16T16:23:12.002Z"
   },
   {
    "duration": 3,
    "start_time": "2024-04-16T16:31:43.022Z"
   },
   {
    "duration": 2612,
    "start_time": "2024-04-16T16:31:43.027Z"
   },
   {
    "duration": 4207,
    "start_time": "2024-04-16T16:52:54.258Z"
   },
   {
    "duration": 12,
    "start_time": "2024-04-16T16:53:06.234Z"
   },
   {
    "duration": 9,
    "start_time": "2024-04-16T16:53:19.012Z"
   },
   {
    "duration": 470,
    "start_time": "2024-04-16T16:53:23.911Z"
   },
   {
    "duration": 474,
    "start_time": "2024-04-16T16:53:47.189Z"
   },
   {
    "duration": 487,
    "start_time": "2024-04-16T16:54:35.222Z"
   },
   {
    "duration": 5159,
    "start_time": "2024-04-16T16:54:42.929Z"
   },
   {
    "duration": 1433,
    "start_time": "2024-04-16T16:54:48.090Z"
   },
   {
    "duration": 66,
    "start_time": "2024-04-16T16:54:49.525Z"
   },
   {
    "duration": 2,
    "start_time": "2024-04-16T16:54:49.593Z"
   },
   {
    "duration": 943,
    "start_time": "2024-04-16T16:54:49.598Z"
   },
   {
    "duration": 3,
    "start_time": "2024-04-16T16:54:50.543Z"
   },
   {
    "duration": 549,
    "start_time": "2024-04-16T16:54:50.548Z"
   },
   {
    "duration": 551,
    "start_time": "2024-04-16T16:54:51.099Z"
   },
   {
    "duration": 182,
    "start_time": "2024-04-16T16:54:51.652Z"
   },
   {
    "duration": 170,
    "start_time": "2024-04-16T16:54:51.836Z"
   },
   {
    "duration": 115,
    "start_time": "2024-04-16T16:54:52.009Z"
   },
   {
    "duration": 70,
    "start_time": "2024-04-16T16:54:52.126Z"
   },
   {
    "duration": 54,
    "start_time": "2024-04-16T16:54:52.198Z"
   },
   {
    "duration": 18,
    "start_time": "2024-04-16T16:54:52.255Z"
   },
   {
    "duration": 25,
    "start_time": "2024-04-16T16:54:52.275Z"
   },
   {
    "duration": 139,
    "start_time": "2024-04-16T16:54:52.302Z"
   },
   {
    "duration": 13,
    "start_time": "2024-04-16T16:54:52.443Z"
   },
   {
    "duration": 1606,
    "start_time": "2024-04-16T16:54:52.457Z"
   },
   {
    "duration": 40,
    "start_time": "2024-04-16T16:54:54.065Z"
   },
   {
    "duration": 1100,
    "start_time": "2024-04-16T16:54:54.107Z"
   },
   {
    "duration": 30,
    "start_time": "2024-04-16T16:54:55.209Z"
   },
   {
    "duration": 763,
    "start_time": "2024-04-16T16:54:55.240Z"
   },
   {
    "duration": 370,
    "start_time": "2024-04-16T16:54:56.005Z"
   },
   {
    "duration": 22,
    "start_time": "2024-04-16T16:54:56.377Z"
   },
   {
    "duration": 1093,
    "start_time": "2024-04-16T16:54:56.400Z"
   },
   {
    "duration": 18,
    "start_time": "2024-04-16T16:54:57.495Z"
   },
   {
    "duration": 10809,
    "start_time": "2024-04-16T16:54:57.515Z"
   },
   {
    "duration": 22,
    "start_time": "2024-04-16T16:55:08.326Z"
   },
   {
    "duration": 963,
    "start_time": "2024-04-16T16:55:08.350Z"
   },
   {
    "duration": 228,
    "start_time": "2024-04-16T16:55:09.314Z"
   },
   {
    "duration": 21,
    "start_time": "2024-04-16T16:55:09.544Z"
   },
   {
    "duration": 129,
    "start_time": "2024-04-16T16:55:09.574Z"
   },
   {
    "duration": 4,
    "start_time": "2024-04-16T16:55:09.705Z"
   },
   {
    "duration": 7196,
    "start_time": "2024-04-16T16:55:09.710Z"
   },
   {
    "duration": 18,
    "start_time": "2024-04-16T16:55:16.907Z"
   },
   {
    "duration": 131,
    "start_time": "2024-04-16T16:55:16.926Z"
   },
   {
    "duration": 94,
    "start_time": "2024-04-16T16:55:17.059Z"
   },
   {
    "duration": 3,
    "start_time": "2024-04-16T16:55:17.154Z"
   },
   {
    "duration": 5,
    "start_time": "2024-04-16T16:55:17.159Z"
   },
   {
    "duration": 9,
    "start_time": "2024-04-16T16:55:17.173Z"
   },
   {
    "duration": 8888,
    "start_time": "2024-04-16T16:55:17.186Z"
   },
   {
    "duration": 3,
    "start_time": "2024-04-16T16:55:26.075Z"
   },
   {
    "duration": 305103,
    "start_time": "2024-04-16T16:55:26.079Z"
   },
   {
    "duration": 3,
    "start_time": "2024-04-16T17:00:31.274Z"
   },
   {
    "duration": 62,
    "start_time": "2024-04-16T17:00:31.278Z"
   },
   {
    "duration": 74297,
    "start_time": "2024-04-16T17:00:31.341Z"
   },
   {
    "duration": 0,
    "start_time": "2024-04-16T17:01:45.640Z"
   },
   {
    "duration": 0,
    "start_time": "2024-04-16T17:01:45.641Z"
   },
   {
    "duration": 0,
    "start_time": "2024-04-16T17:01:45.642Z"
   },
   {
    "duration": 0,
    "start_time": "2024-04-16T17:01:45.643Z"
   },
   {
    "duration": 0,
    "start_time": "2024-04-16T17:01:45.644Z"
   },
   {
    "duration": 0,
    "start_time": "2024-04-16T17:01:45.645Z"
   },
   {
    "duration": 4,
    "start_time": "2024-04-16T17:02:03.075Z"
   },
   {
    "duration": 5200,
    "start_time": "2024-04-16T17:02:37.453Z"
   },
   {
    "duration": 1531,
    "start_time": "2024-04-16T17:02:42.655Z"
   },
   {
    "duration": 62,
    "start_time": "2024-04-16T17:02:44.188Z"
   },
   {
    "duration": 3,
    "start_time": "2024-04-16T17:02:44.252Z"
   },
   {
    "duration": 917,
    "start_time": "2024-04-16T17:02:44.256Z"
   },
   {
    "duration": 3,
    "start_time": "2024-04-16T17:02:45.175Z"
   },
   {
    "duration": 551,
    "start_time": "2024-04-16T17:02:45.179Z"
   },
   {
    "duration": 576,
    "start_time": "2024-04-16T17:02:45.731Z"
   },
   {
    "duration": 186,
    "start_time": "2024-04-16T17:02:46.309Z"
   },
   {
    "duration": 157,
    "start_time": "2024-04-16T17:02:46.497Z"
   },
   {
    "duration": 106,
    "start_time": "2024-04-16T17:02:46.656Z"
   },
   {
    "duration": 68,
    "start_time": "2024-04-16T17:02:46.763Z"
   },
   {
    "duration": 56,
    "start_time": "2024-04-16T17:02:46.832Z"
   },
   {
    "duration": 2,
    "start_time": "2024-04-16T17:02:46.890Z"
   },
   {
    "duration": 4,
    "start_time": "2024-04-16T17:02:46.894Z"
   },
   {
    "duration": 194,
    "start_time": "2024-04-16T17:02:46.899Z"
   },
   {
    "duration": 16,
    "start_time": "2024-04-16T17:02:47.095Z"
   },
   {
    "duration": 1508,
    "start_time": "2024-04-16T17:02:47.113Z"
   },
   {
    "duration": 32,
    "start_time": "2024-04-16T17:02:48.623Z"
   },
   {
    "duration": 1091,
    "start_time": "2024-04-16T17:02:48.657Z"
   },
   {
    "duration": 38,
    "start_time": "2024-04-16T17:02:49.750Z"
   },
   {
    "duration": 798,
    "start_time": "2024-04-16T17:02:49.790Z"
   },
   {
    "duration": 366,
    "start_time": "2024-04-16T17:02:50.590Z"
   },
   {
    "duration": 27,
    "start_time": "2024-04-16T17:02:50.958Z"
   },
   {
    "duration": 1132,
    "start_time": "2024-04-16T17:02:50.987Z"
   },
   {
    "duration": 18,
    "start_time": "2024-04-16T17:02:52.121Z"
   },
   {
    "duration": 10895,
    "start_time": "2024-04-16T17:02:52.140Z"
   },
   {
    "duration": 36,
    "start_time": "2024-04-16T17:03:03.039Z"
   },
   {
    "duration": 992,
    "start_time": "2024-04-16T17:03:03.077Z"
   },
   {
    "duration": 267,
    "start_time": "2024-04-16T17:03:04.072Z"
   },
   {
    "duration": 19,
    "start_time": "2024-04-16T17:03:04.341Z"
   },
   {
    "duration": 136,
    "start_time": "2024-04-16T17:03:04.361Z"
   },
   {
    "duration": 2,
    "start_time": "2024-04-16T17:03:04.499Z"
   },
   {
    "duration": 7311,
    "start_time": "2024-04-16T17:03:04.503Z"
   },
   {
    "duration": 17,
    "start_time": "2024-04-16T17:03:11.815Z"
   },
   {
    "duration": 103,
    "start_time": "2024-04-16T17:03:11.834Z"
   },
   {
    "duration": 76,
    "start_time": "2024-04-16T17:03:11.939Z"
   },
   {
    "duration": 3,
    "start_time": "2024-04-16T17:03:12.017Z"
   },
   {
    "duration": 15,
    "start_time": "2024-04-16T17:03:12.022Z"
   },
   {
    "duration": 11,
    "start_time": "2024-04-16T17:03:12.039Z"
   },
   {
    "duration": 8853,
    "start_time": "2024-04-16T17:03:12.052Z"
   },
   {
    "duration": 3,
    "start_time": "2024-04-16T17:03:20.906Z"
   },
   {
    "duration": 383464,
    "start_time": "2024-04-16T17:03:20.911Z"
   },
   {
    "duration": 4,
    "start_time": "2024-04-16T17:09:44.377Z"
   },
   {
    "duration": 12,
    "start_time": "2024-04-16T17:09:44.383Z"
   },
   {
    "duration": 200877,
    "start_time": "2024-04-16T17:09:44.397Z"
   },
   {
    "duration": 3,
    "start_time": "2024-04-16T17:13:05.276Z"
   },
   {
    "duration": 18,
    "start_time": "2024-04-16T17:13:05.281Z"
   },
   {
    "duration": 696187,
    "start_time": "2024-04-16T17:13:05.300Z"
   },
   {
    "duration": 4,
    "start_time": "2024-04-16T17:24:41.488Z"
   },
   {
    "duration": 2625,
    "start_time": "2024-04-16T17:24:41.493Z"
   },
   {
    "duration": 82,
    "start_time": "2024-04-16T17:24:44.119Z"
   },
   {
    "duration": 39,
    "start_time": "2024-04-17T16:31:12.594Z"
   },
   {
    "duration": 5,
    "start_time": "2024-04-17T16:32:00.400Z"
   },
   {
    "duration": 5,
    "start_time": "2024-04-17T16:32:11.568Z"
   },
   {
    "duration": 1142,
    "start_time": "2024-04-17T16:32:18.501Z"
   },
   {
    "duration": 7,
    "start_time": "2024-04-17T16:32:23.797Z"
   },
   {
    "duration": 7,
    "start_time": "2024-04-17T16:32:25.969Z"
   },
   {
    "duration": 6315,
    "start_time": "2024-04-17T16:32:33.430Z"
   },
   {
    "duration": 286,
    "start_time": "2024-04-17T16:32:40.115Z"
   },
   {
    "duration": 5,
    "start_time": "2024-04-17T16:32:45.766Z"
   },
   {
    "duration": 4,
    "start_time": "2024-04-17T16:33:59.597Z"
   },
   {
    "duration": 3,
    "start_time": "2024-04-17T16:34:34.927Z"
   },
   {
    "duration": 157,
    "start_time": "2024-04-17T16:41:12.509Z"
   },
   {
    "duration": 6,
    "start_time": "2024-04-17T19:22:36.161Z"
   },
   {
    "duration": 4768,
    "start_time": "2024-04-17T19:22:39.702Z"
   },
   {
    "duration": 3,
    "start_time": "2024-04-17T19:22:44.712Z"
   },
   {
    "duration": 55,
    "start_time": "2024-04-17T19:22:45.519Z"
   },
   {
    "duration": 2,
    "start_time": "2024-04-17T19:22:47.265Z"
   },
   {
    "duration": 946,
    "start_time": "2024-04-17T19:22:48.669Z"
   },
   {
    "duration": 3,
    "start_time": "2024-04-17T19:22:49.616Z"
   },
   {
    "duration": 352,
    "start_time": "2024-04-17T19:22:50.435Z"
   },
   {
    "duration": 401,
    "start_time": "2024-04-17T19:22:51.684Z"
   },
   {
    "duration": 126,
    "start_time": "2024-04-17T19:22:52.565Z"
   },
   {
    "duration": 104,
    "start_time": "2024-04-17T19:22:54.126Z"
   },
   {
    "duration": 61,
    "start_time": "2024-04-17T19:22:56.487Z"
   },
   {
    "duration": 36,
    "start_time": "2024-04-17T19:26:21.148Z"
   },
   {
    "duration": 35,
    "start_time": "2024-04-17T19:26:22.843Z"
   },
   {
    "duration": 2,
    "start_time": "2024-04-17T19:26:25.251Z"
   },
   {
    "duration": 3,
    "start_time": "2024-04-17T19:26:25.926Z"
   },
   {
    "duration": 98,
    "start_time": "2024-04-17T19:26:26.857Z"
   },
   {
    "duration": 9,
    "start_time": "2024-04-17T19:26:30.122Z"
   },
   {
    "duration": 1081,
    "start_time": "2024-04-17T19:26:32.146Z"
   },
   {
    "duration": 32,
    "start_time": "2024-04-17T19:26:37.037Z"
   },
   {
    "duration": 784,
    "start_time": "2024-04-17T19:26:37.920Z"
   },
   {
    "duration": 27,
    "start_time": "2024-04-17T19:26:44.713Z"
   },
   {
    "duration": 1420,
    "start_time": "2024-04-17T19:26:46.914Z"
   },
   {
    "duration": 631,
    "start_time": "2024-04-17T19:27:46.899Z"
   },
   {
    "duration": 2,
    "start_time": "2024-04-17T19:27:47.531Z"
   },
   {
    "duration": 298,
    "start_time": "2024-04-17T19:27:47.664Z"
   },
   {
    "duration": 331,
    "start_time": "2024-04-17T19:27:48.669Z"
   },
   {
    "duration": 109,
    "start_time": "2024-04-17T19:27:49.378Z"
   },
   {
    "duration": 11,
    "start_time": "2024-04-17T19:27:53.305Z"
   },
   {
    "duration": 714,
    "start_time": "2024-04-17T19:28:23.927Z"
   },
   {
    "duration": 11,
    "start_time": "2024-04-17T19:30:38.565Z"
   },
   {
    "duration": 3,
    "start_time": "2024-04-17T19:31:00.489Z"
   },
   {
    "duration": 1466,
    "start_time": "2024-04-17T19:31:08.115Z"
   },
   {
    "duration": 19,
    "start_time": "2024-04-17T19:31:18.252Z"
   },
   {
    "duration": 20,
    "start_time": "2024-04-17T19:31:40.347Z"
   },
   {
    "duration": 22,
    "start_time": "2024-04-17T19:31:53.854Z"
   },
   {
    "duration": 25,
    "start_time": "2024-04-17T19:32:26.346Z"
   },
   {
    "duration": 26,
    "start_time": "2024-04-17T19:32:33.173Z"
   },
   {
    "duration": 26,
    "start_time": "2024-04-17T19:32:45.036Z"
   },
   {
    "duration": 134,
    "start_time": "2024-04-17T19:33:01.870Z"
   },
   {
    "duration": 108,
    "start_time": "2024-04-17T19:33:21.046Z"
   },
   {
    "duration": 108,
    "start_time": "2024-04-17T19:33:50.471Z"
   },
   {
    "duration": 88,
    "start_time": "2024-04-17T19:34:37.833Z"
   },
   {
    "duration": 21,
    "start_time": "2024-04-17T19:34:42.674Z"
   },
   {
    "duration": 20,
    "start_time": "2024-04-17T19:35:05.309Z"
   },
   {
    "duration": 19,
    "start_time": "2024-04-17T19:35:09.505Z"
   },
   {
    "duration": 99,
    "start_time": "2024-04-17T19:36:54.272Z"
   },
   {
    "duration": 36,
    "start_time": "2024-04-17T19:36:58.782Z"
   },
   {
    "duration": 72,
    "start_time": "2024-04-17T19:39:11.288Z"
   },
   {
    "duration": 78,
    "start_time": "2024-04-17T19:39:31.024Z"
   },
   {
    "duration": 46,
    "start_time": "2024-04-17T19:43:48.975Z"
   },
   {
    "duration": 41,
    "start_time": "2024-04-17T19:44:25.732Z"
   },
   {
    "duration": 616,
    "start_time": "2024-04-17T19:44:46.359Z"
   },
   {
    "duration": 2,
    "start_time": "2024-04-17T19:44:46.977Z"
   },
   {
    "duration": 320,
    "start_time": "2024-04-17T19:44:47.694Z"
   },
   {
    "duration": 323,
    "start_time": "2024-04-17T19:44:48.571Z"
   },
   {
    "duration": 110,
    "start_time": "2024-04-17T19:44:49.388Z"
   },
   {
    "duration": 324,
    "start_time": "2024-04-17T19:44:55.298Z"
   },
   {
    "duration": 116,
    "start_time": "2024-04-17T19:44:56.191Z"
   },
   {
    "duration": 80,
    "start_time": "2024-04-17T19:45:01.082Z"
   },
   {
    "duration": 91,
    "start_time": "2024-04-17T19:45:13.619Z"
   },
   {
    "duration": 50,
    "start_time": "2024-04-17T19:45:18.251Z"
   },
   {
    "duration": 138,
    "start_time": "2024-04-17T19:45:22.493Z"
   },
   {
    "duration": 3,
    "start_time": "2024-04-17T19:45:49.431Z"
   },
   {
    "duration": 40,
    "start_time": "2024-04-17T19:45:55.330Z"
   },
   {
    "duration": 107,
    "start_time": "2024-04-17T19:45:57.820Z"
   },
   {
    "duration": 60,
    "start_time": "2024-04-17T19:46:03.369Z"
   },
   {
    "duration": 38,
    "start_time": "2024-04-17T19:46:06.864Z"
   },
   {
    "duration": 38,
    "start_time": "2024-04-17T19:46:07.127Z"
   },
   {
    "duration": 2,
    "start_time": "2024-04-17T19:46:07.971Z"
   },
   {
    "duration": 3,
    "start_time": "2024-04-17T19:46:08.434Z"
   },
   {
    "duration": 93,
    "start_time": "2024-04-17T19:46:08.729Z"
   },
   {
    "duration": 9,
    "start_time": "2024-04-17T19:46:09.754Z"
   },
   {
    "duration": 1042,
    "start_time": "2024-04-17T19:46:42.181Z"
   },
   {
    "duration": 21,
    "start_time": "2024-04-17T19:46:43.580Z"
   },
   {
    "duration": 889,
    "start_time": "2024-04-17T19:46:44.204Z"
   },
   {
    "duration": 21,
    "start_time": "2024-04-17T19:46:52.993Z"
   },
   {
    "duration": 98,
    "start_time": "2024-04-17T19:49:12.764Z"
   },
   {
    "duration": 58,
    "start_time": "2024-04-17T19:49:13.643Z"
   },
   {
    "duration": 34,
    "start_time": "2024-04-17T19:49:18.781Z"
   },
   {
    "duration": 35,
    "start_time": "2024-04-17T19:49:19.497Z"
   },
   {
    "duration": 2,
    "start_time": "2024-04-17T19:49:21.891Z"
   },
   {
    "duration": 3,
    "start_time": "2024-04-17T19:49:22.420Z"
   },
   {
    "duration": 102,
    "start_time": "2024-04-17T19:49:24.275Z"
   },
   {
    "duration": 112,
    "start_time": "2024-04-17T19:49:40.632Z"
   },
   {
    "duration": 8,
    "start_time": "2024-04-17T19:49:41.844Z"
   },
   {
    "duration": 3,
    "start_time": "2024-04-17T19:49:43.112Z"
   },
   {
    "duration": 969,
    "start_time": "2024-04-17T19:49:43.789Z"
   },
   {
    "duration": 20,
    "start_time": "2024-04-17T19:49:45.501Z"
   },
   {
    "duration": 866,
    "start_time": "2024-04-17T19:49:47.587Z"
   },
   {
    "duration": 20,
    "start_time": "2024-04-17T19:49:53.041Z"
   },
   {
    "duration": 561,
    "start_time": "2024-04-17T19:49:56.284Z"
   },
   {
    "duration": 192,
    "start_time": "2024-04-17T19:49:57.024Z"
   },
   {
    "duration": 23,
    "start_time": "2024-04-17T19:50:00.068Z"
   },
   {
    "duration": 906,
    "start_time": "2024-04-17T19:50:01.062Z"
   },
   {
    "duration": 13,
    "start_time": "2024-04-17T19:50:06.519Z"
   },
   {
    "duration": 6905,
    "start_time": "2024-04-17T19:50:10.131Z"
   },
   {
    "duration": 20,
    "start_time": "2024-04-17T19:50:17.038Z"
   },
   {
    "duration": 603,
    "start_time": "2024-04-17T19:50:59.734Z"
   },
   {
    "duration": 126,
    "start_time": "2024-04-17T19:51:04.313Z"
   },
   {
    "duration": 13,
    "start_time": "2024-04-17T19:51:05.055Z"
   },
   {
    "duration": 72,
    "start_time": "2024-04-17T19:51:07.934Z"
   },
   {
    "duration": 2,
    "start_time": "2024-04-17T19:51:11.473Z"
   },
   {
    "duration": 5515,
    "start_time": "2024-04-17T19:51:12.394Z"
   },
   {
    "duration": 15,
    "start_time": "2024-04-17T19:51:23.547Z"
   },
   {
    "duration": 124,
    "start_time": "2024-04-17T19:54:50.831Z"
   },
   {
    "duration": 46,
    "start_time": "2024-04-17T19:55:57.005Z"
   },
   {
    "duration": 2,
    "start_time": "2024-04-17T19:55:58.857Z"
   },
   {
    "duration": 2,
    "start_time": "2024-04-17T19:56:00.131Z"
   },
   {
    "duration": 104,
    "start_time": "2024-04-17T19:56:09.897Z"
   },
   {
    "duration": 52,
    "start_time": "2024-04-17T19:56:14.750Z"
   },
   {
    "duration": 2,
    "start_time": "2024-04-17T19:56:15.666Z"
   },
   {
    "duration": 3,
    "start_time": "2024-04-17T19:56:18.190Z"
   },
   {
    "duration": 4,
    "start_time": "2024-04-17T19:56:20.520Z"
   },
   {
    "duration": 5000,
    "start_time": "2024-04-17T19:56:23.738Z"
   },
   {
    "duration": 53,
    "start_time": "2024-04-17T20:00:48.078Z"
   },
   {
    "duration": 3,
    "start_time": "2024-04-17T20:00:48.406Z"
   },
   {
    "duration": 2,
    "start_time": "2024-04-17T20:00:49.335Z"
   },
   {
    "duration": 4,
    "start_time": "2024-04-17T20:00:50.002Z"
   },
   {
    "duration": 5044,
    "start_time": "2024-04-17T20:00:51.576Z"
   },
   {
    "duration": 3,
    "start_time": "2024-04-17T20:00:58.584Z"
   },
   {
    "duration": 3,
    "start_time": "2024-04-17T20:01:01.194Z"
   },
   {
    "duration": 231198,
    "start_time": "2024-04-17T20:01:18.295Z"
   },
   {
    "duration": 92,
    "start_time": "2024-04-17T20:05:09.494Z"
   },
   {
    "duration": 24,
    "start_time": "2024-04-17T20:05:09.587Z"
   },
   {
    "duration": 79,
    "start_time": "2024-04-17T20:06:46.300Z"
   },
   {
    "duration": 2,
    "start_time": "2024-04-17T20:07:23.847Z"
   },
   {
    "duration": 7,
    "start_time": "2024-04-17T20:07:24.764Z"
   },
   {
    "duration": 3,
    "start_time": "2024-04-17T20:08:08.745Z"
   },
   {
    "duration": 7,
    "start_time": "2024-04-17T20:08:13.853Z"
   },
   {
    "duration": 67,
    "start_time": "2024-04-17T20:08:18.106Z"
   },
   {
    "duration": 1085,
    "start_time": "2024-04-17T20:08:18.571Z"
   },
   {
    "duration": 2,
    "start_time": "2024-04-17T20:08:24.769Z"
   },
   {
    "duration": 9,
    "start_time": "2024-04-17T20:08:25.675Z"
   },
   {
    "duration": 2,
    "start_time": "2024-04-17T20:08:46.049Z"
   },
   {
    "duration": 107094,
    "start_time": "2024-04-17T20:08:49.502Z"
   },
   {
    "duration": 4,
    "start_time": "2024-04-17T20:10:36.687Z"
   },
   {
    "duration": 2,
    "start_time": "2024-04-17T20:10:58.492Z"
   },
   {
    "duration": 3,
    "start_time": "2024-04-17T20:11:04.810Z"
   },
   {
    "duration": 3,
    "start_time": "2024-04-17T20:11:05.819Z"
   },
   {
    "duration": 185936,
    "start_time": "2024-04-17T20:11:07.718Z"
   },
   {
    "duration": 3,
    "start_time": "2024-04-17T20:14:13.655Z"
   },
   {
    "duration": 3,
    "start_time": "2024-04-17T20:15:35.596Z"
   },
   {
    "duration": 2,
    "start_time": "2024-04-17T20:15:36.736Z"
   },
   {
    "duration": 232613,
    "start_time": "2024-04-17T20:15:37.453Z"
   },
   {
    "duration": 0,
    "start_time": "2024-04-17T20:19:30.068Z"
   },
   {
    "duration": 4684,
    "start_time": "2024-04-17T20:19:33.340Z"
   },
   {
    "duration": 1185,
    "start_time": "2024-04-17T20:19:38.026Z"
   },
   {
    "duration": 49,
    "start_time": "2024-04-17T20:19:39.212Z"
   },
   {
    "duration": 2,
    "start_time": "2024-04-17T20:19:39.263Z"
   },
   {
    "duration": 671,
    "start_time": "2024-04-17T20:19:39.266Z"
   },
   {
    "duration": 2,
    "start_time": "2024-04-17T20:19:39.939Z"
   },
   {
    "duration": 356,
    "start_time": "2024-04-17T20:19:39.942Z"
   },
   {
    "duration": 377,
    "start_time": "2024-04-17T20:19:40.299Z"
   },
   {
    "duration": 135,
    "start_time": "2024-04-17T20:19:40.678Z"
   },
   {
    "duration": 184,
    "start_time": "2024-04-17T20:19:40.814Z"
   },
   {
    "duration": 61,
    "start_time": "2024-04-17T20:19:40.999Z"
   },
   {
    "duration": 94,
    "start_time": "2024-04-17T20:19:41.061Z"
   },
   {
    "duration": 68,
    "start_time": "2024-04-17T20:19:41.156Z"
   },
   {
    "duration": 35,
    "start_time": "2024-04-17T20:19:41.226Z"
   },
   {
    "duration": 46,
    "start_time": "2024-04-17T20:19:41.262Z"
   },
   {
    "duration": 3,
    "start_time": "2024-04-17T20:19:41.309Z"
   },
   {
    "duration": 103,
    "start_time": "2024-04-17T20:19:41.313Z"
   },
   {
    "duration": 9,
    "start_time": "2024-04-17T20:19:41.417Z"
   },
   {
    "duration": 8,
    "start_time": "2024-04-17T20:19:41.427Z"
   },
   {
    "duration": 1055,
    "start_time": "2024-04-17T20:19:41.436Z"
   },
   {
    "duration": 29,
    "start_time": "2024-04-17T20:19:42.493Z"
   },
   {
    "duration": 856,
    "start_time": "2024-04-17T20:19:42.523Z"
   },
   {
    "duration": 26,
    "start_time": "2024-04-17T20:19:43.383Z"
   },
   {
    "duration": 556,
    "start_time": "2024-04-17T20:19:43.410Z"
   },
   {
    "duration": 280,
    "start_time": "2024-04-17T20:19:43.967Z"
   },
   {
    "duration": 25,
    "start_time": "2024-04-17T20:19:44.248Z"
   },
   {
    "duration": 808,
    "start_time": "2024-04-17T20:19:44.274Z"
   },
   {
    "duration": 13,
    "start_time": "2024-04-17T20:19:45.084Z"
   },
   {
    "duration": 7039,
    "start_time": "2024-04-17T20:19:45.098Z"
   },
   {
    "duration": 21,
    "start_time": "2024-04-17T20:19:52.138Z"
   },
   {
    "duration": 741,
    "start_time": "2024-04-17T20:19:52.161Z"
   },
   {
    "duration": 154,
    "start_time": "2024-04-17T20:19:52.903Z"
   },
   {
    "duration": 25,
    "start_time": "2024-04-17T20:19:53.059Z"
   },
   {
    "duration": 119,
    "start_time": "2024-04-17T20:19:53.085Z"
   },
   {
    "duration": 2,
    "start_time": "2024-04-17T20:19:53.205Z"
   },
   {
    "duration": 5313,
    "start_time": "2024-04-17T20:19:53.208Z"
   },
   {
    "duration": 18,
    "start_time": "2024-04-17T20:19:58.523Z"
   },
   {
    "duration": 64,
    "start_time": "2024-04-17T20:19:58.542Z"
   },
   {
    "duration": 138,
    "start_time": "2024-04-17T20:19:58.608Z"
   },
   {
    "duration": 53,
    "start_time": "2024-04-17T20:19:58.748Z"
   },
   {
    "duration": 2,
    "start_time": "2024-04-17T20:19:58.804Z"
   },
   {
    "duration": 4,
    "start_time": "2024-04-17T20:19:58.808Z"
   },
   {
    "duration": 12,
    "start_time": "2024-04-17T20:19:58.813Z"
   },
   {
    "duration": 5009,
    "start_time": "2024-04-17T20:19:58.826Z"
   },
   {
    "duration": 2,
    "start_time": "2024-04-17T20:20:03.837Z"
   },
   {
    "duration": 9,
    "start_time": "2024-04-17T20:20:03.840Z"
   },
   {
    "duration": 214737,
    "start_time": "2024-04-17T20:20:03.851Z"
   },
   {
    "duration": 95,
    "start_time": "2024-04-17T20:23:38.590Z"
   },
   {
    "duration": 190,
    "start_time": "2024-04-17T20:23:38.686Z"
   },
   {
    "duration": 0,
    "start_time": "2024-04-17T20:23:38.877Z"
   },
   {
    "duration": 0,
    "start_time": "2024-04-17T20:23:38.878Z"
   },
   {
    "duration": 0,
    "start_time": "2024-04-17T20:23:38.879Z"
   },
   {
    "duration": 0,
    "start_time": "2024-04-17T20:23:38.884Z"
   },
   {
    "duration": 0,
    "start_time": "2024-04-17T20:23:38.885Z"
   },
   {
    "duration": 0,
    "start_time": "2024-04-17T20:23:38.885Z"
   },
   {
    "duration": 0,
    "start_time": "2024-04-17T20:23:38.886Z"
   },
   {
    "duration": 0,
    "start_time": "2024-04-17T20:23:38.887Z"
   },
   {
    "duration": 0,
    "start_time": "2024-04-17T20:23:38.888Z"
   },
   {
    "duration": 0,
    "start_time": "2024-04-17T20:23:38.888Z"
   },
   {
    "duration": 66,
    "start_time": "2024-04-17T20:24:56.092Z"
   },
   {
    "duration": 1102,
    "start_time": "2024-04-17T20:25:01.045Z"
   },
   {
    "duration": 3,
    "start_time": "2024-04-17T20:25:05.197Z"
   },
   {
    "duration": 2,
    "start_time": "2024-04-17T20:25:07.688Z"
   },
   {
    "duration": 106372,
    "start_time": "2024-04-17T20:25:08.918Z"
   },
   {
    "duration": 9,
    "start_time": "2024-04-17T20:26:55.292Z"
   },
   {
    "duration": 83,
    "start_time": "2024-04-17T20:26:55.302Z"
   },
   {
    "duration": 4,
    "start_time": "2024-04-17T20:26:55.387Z"
   },
   {
    "duration": 150002,
    "start_time": "2024-04-17T20:26:55.392Z"
   },
   {
    "duration": 0,
    "start_time": "2024-04-17T20:29:25.396Z"
   },
   {
    "duration": 3,
    "start_time": "2024-04-17T20:29:34.688Z"
   },
   {
    "duration": 2,
    "start_time": "2024-04-17T20:29:35.227Z"
   },
   {
    "duration": 74135,
    "start_time": "2024-04-17T20:29:35.889Z"
   },
   {
    "duration": 2,
    "start_time": "2024-04-17T20:30:50.026Z"
   },
   {
    "duration": 1234,
    "start_time": "2024-04-17T20:33:28.326Z"
   },
   {
    "duration": 560,
    "start_time": "2024-04-17T20:45:48.638Z"
   },
   {
    "duration": 8,
    "start_time": "2024-04-17T20:46:03.659Z"
   },
   {
    "duration": 8,
    "start_time": "2024-04-17T20:46:11.401Z"
   },
   {
    "duration": 3,
    "start_time": "2024-04-17T20:47:43.625Z"
   },
   {
    "duration": 586,
    "start_time": "2024-04-17T20:50:28.410Z"
   },
   {
    "duration": 719,
    "start_time": "2024-04-17T20:51:15.436Z"
   },
   {
    "duration": 717,
    "start_time": "2024-04-17T20:51:27.673Z"
   },
   {
    "duration": 608,
    "start_time": "2024-04-17T20:52:12.578Z"
   },
   {
    "duration": 4669,
    "start_time": "2024-04-17T20:56:09.043Z"
   },
   {
    "duration": 1196,
    "start_time": "2024-04-17T20:56:13.714Z"
   },
   {
    "duration": 52,
    "start_time": "2024-04-17T20:56:14.911Z"
   },
   {
    "duration": 2,
    "start_time": "2024-04-17T20:56:14.965Z"
   },
   {
    "duration": 697,
    "start_time": "2024-04-17T20:56:14.968Z"
   },
   {
    "duration": 2,
    "start_time": "2024-04-17T20:56:15.666Z"
   },
   {
    "duration": 350,
    "start_time": "2024-04-17T20:56:15.670Z"
   },
   {
    "duration": 415,
    "start_time": "2024-04-17T20:56:16.021Z"
   },
   {
    "duration": 111,
    "start_time": "2024-04-17T20:56:16.437Z"
   },
   {
    "duration": 193,
    "start_time": "2024-04-17T20:56:16.549Z"
   },
   {
    "duration": 67,
    "start_time": "2024-04-17T20:56:16.744Z"
   },
   {
    "duration": 98,
    "start_time": "2024-04-17T20:56:16.812Z"
   },
   {
    "duration": 61,
    "start_time": "2024-04-17T20:56:16.911Z"
   },
   {
    "duration": 38,
    "start_time": "2024-04-17T20:56:16.983Z"
   },
   {
    "duration": 35,
    "start_time": "2024-04-17T20:56:17.023Z"
   },
   {
    "duration": 9,
    "start_time": "2024-04-17T20:56:17.059Z"
   },
   {
    "duration": 104,
    "start_time": "2024-04-17T20:56:17.069Z"
   },
   {
    "duration": 16,
    "start_time": "2024-04-17T20:56:17.175Z"
   },
   {
    "duration": 10,
    "start_time": "2024-04-17T20:56:17.192Z"
   },
   {
    "duration": 1062,
    "start_time": "2024-04-17T20:56:17.203Z"
   },
   {
    "duration": 36,
    "start_time": "2024-04-17T20:56:18.266Z"
   },
   {
    "duration": 816,
    "start_time": "2024-04-17T20:56:18.304Z"
   },
   {
    "duration": 26,
    "start_time": "2024-04-17T20:56:19.122Z"
   },
   {
    "duration": 572,
    "start_time": "2024-04-17T20:56:19.150Z"
   },
   {
    "duration": 265,
    "start_time": "2024-04-17T20:56:19.723Z"
   },
   {
    "duration": 26,
    "start_time": "2024-04-17T20:56:19.989Z"
   },
   {
    "duration": 819,
    "start_time": "2024-04-17T20:56:20.016Z"
   },
   {
    "duration": 13,
    "start_time": "2024-04-17T20:56:20.836Z"
   },
   {
    "duration": 7179,
    "start_time": "2024-04-17T20:56:20.850Z"
   },
   {
    "duration": 19,
    "start_time": "2024-04-17T20:56:28.030Z"
   },
   {
    "duration": 699,
    "start_time": "2024-04-17T20:56:28.050Z"
   },
   {
    "duration": 139,
    "start_time": "2024-04-17T20:56:28.750Z"
   },
   {
    "duration": 13,
    "start_time": "2024-04-17T20:56:28.890Z"
   },
   {
    "duration": 87,
    "start_time": "2024-04-17T20:56:28.905Z"
   },
   {
    "duration": 2,
    "start_time": "2024-04-17T20:56:28.994Z"
   },
   {
    "duration": 5348,
    "start_time": "2024-04-17T20:56:28.997Z"
   },
   {
    "duration": 14,
    "start_time": "2024-04-17T20:56:34.347Z"
   },
   {
    "duration": 63,
    "start_time": "2024-04-17T20:56:34.363Z"
   },
   {
    "duration": 127,
    "start_time": "2024-04-17T20:56:34.427Z"
   },
   {
    "duration": 43,
    "start_time": "2024-04-17T20:56:34.555Z"
   },
   {
    "duration": 2,
    "start_time": "2024-04-17T20:56:34.601Z"
   },
   {
    "duration": 4,
    "start_time": "2024-04-17T20:56:34.604Z"
   },
   {
    "duration": 8,
    "start_time": "2024-04-17T20:56:34.609Z"
   },
   {
    "duration": 4866,
    "start_time": "2024-04-17T20:56:34.619Z"
   },
   {
    "duration": 2,
    "start_time": "2024-04-17T20:56:39.486Z"
   },
   {
    "duration": 5,
    "start_time": "2024-04-17T20:56:39.489Z"
   },
   {
    "duration": 211998,
    "start_time": "2024-04-17T20:56:39.495Z"
   },
   {
    "duration": 3,
    "start_time": "2024-04-17T21:00:11.585Z"
   },
   {
    "duration": 109,
    "start_time": "2024-04-17T21:00:11.589Z"
   },
   {
    "duration": 1071,
    "start_time": "2024-04-17T21:00:11.699Z"
   },
   {
    "duration": 3,
    "start_time": "2024-04-17T21:00:12.771Z"
   },
   {
    "duration": 9,
    "start_time": "2024-04-17T21:00:12.776Z"
   },
   {
    "duration": 105704,
    "start_time": "2024-04-17T21:00:12.786Z"
   },
   {
    "duration": 3,
    "start_time": "2024-04-17T21:01:58.492Z"
   },
   {
    "duration": 3,
    "start_time": "2024-04-17T21:01:58.496Z"
   },
   {
    "duration": 85,
    "start_time": "2024-04-17T21:01:58.500Z"
   },
   {
    "duration": 72924,
    "start_time": "2024-04-17T21:01:58.586Z"
   },
   {
    "duration": 4,
    "start_time": "2024-04-17T21:03:11.511Z"
   },
   {
    "duration": 1172,
    "start_time": "2024-04-17T21:03:11.516Z"
   },
   {
    "duration": 599,
    "start_time": "2024-04-17T21:03:12.689Z"
   }
  ],
  "kernelspec": {
   "display_name": "Python 3 (ipykernel)",
   "language": "python",
   "name": "python3"
  },
  "language_info": {
   "codemirror_mode": {
    "name": "ipython",
    "version": 3
   },
   "file_extension": ".py",
   "mimetype": "text/x-python",
   "name": "python",
   "nbconvert_exporter": "python",
   "pygments_lexer": "ipython3",
   "version": "3.11.5"
  },
  "toc": {
   "base_numbering": 1,
   "nav_menu": {},
   "number_sections": true,
   "sideBar": true,
   "skip_h1_title": true,
   "title_cell": "Table of Contents",
   "title_sidebar": "Contents",
   "toc_cell": false,
   "toc_position": {},
   "toc_section_display": true,
   "toc_window_display": false
  }
 },
 "nbformat": 4,
 "nbformat_minor": 2
}
